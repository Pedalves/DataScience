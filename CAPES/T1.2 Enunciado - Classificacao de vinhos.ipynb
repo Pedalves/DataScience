{
 "cells": [
  {
   "cell_type": "code",
   "execution_count": 1,
   "metadata": {},
   "outputs": [
    {
     "name": "stdout",
     "output_type": "stream",
     "text": [
      "Requirement already satisfied: tensorflow in /home/pedalv/miniconda3/envs/jupyter/lib/python3.6/site-packages (1.4.1)\n",
      "Requirement already satisfied: enum34>=1.1.6 in /home/pedalv/miniconda3/envs/jupyter/lib/python3.6/site-packages (from tensorflow) (1.1.6)\n",
      "Requirement already satisfied: tensorflow-tensorboard<0.5.0,>=0.4.0rc1 in /home/pedalv/miniconda3/envs/jupyter/lib/python3.6/site-packages (from tensorflow) (0.4.0)\n",
      "  Ignoring futures: markers 'python_version < \"3.2\"' don't match your environment\n",
      "  Ignoring wheel: markers 'python_version < \"3\"' don't match your environment\n",
      "Requirement already satisfied: six>=1.10.0 in /home/pedalv/miniconda3/envs/jupyter/lib/python3.6/site-packages (from tensorflow) (1.11.0)\n",
      "Requirement already satisfied: wheel>=0.26 in /home/pedalv/miniconda3/envs/jupyter/lib/python3.6/site-packages (from tensorflow) (0.30.0)\n",
      "Requirement already satisfied: protobuf>=3.3.0 in /home/pedalv/miniconda3/envs/jupyter/lib/python3.6/site-packages (from tensorflow) (3.5.1)\n",
      "Requirement already satisfied: numpy>=1.12.1 in /home/pedalv/miniconda3/envs/jupyter/lib/python3.6/site-packages (from tensorflow) (1.14.0)\n",
      "Requirement already satisfied: werkzeug>=0.11.10 in /home/pedalv/miniconda3/envs/jupyter/lib/python3.6/site-packages (from tensorflow-tensorboard<0.5.0,>=0.4.0rc1->tensorflow) (0.14.1)\n",
      "Requirement already satisfied: html5lib==0.9999999 in /home/pedalv/miniconda3/envs/jupyter/lib/python3.6/site-packages (from tensorflow-tensorboard<0.5.0,>=0.4.0rc1->tensorflow) (0.9999999)\n",
      "Requirement already satisfied: markdown>=2.6.8 in /home/pedalv/miniconda3/envs/jupyter/lib/python3.6/site-packages (from tensorflow-tensorboard<0.5.0,>=0.4.0rc1->tensorflow) (2.6.11)\n",
      "Requirement already satisfied: bleach==1.5.0 in /home/pedalv/miniconda3/envs/jupyter/lib/python3.6/site-packages (from tensorflow-tensorboard<0.5.0,>=0.4.0rc1->tensorflow) (1.5.0)\n",
      "Requirement already satisfied: setuptools in /home/pedalv/miniconda3/envs/jupyter/lib/python3.6/site-packages (from protobuf>=3.3.0->tensorflow) (38.4.0)\n",
      "\u001b[33mYou are using pip version 10.0.0, however version 10.0.1 is available.\n",
      "You should consider upgrading via the 'pip install --upgrade pip' command.\u001b[0m\n"
     ]
    }
   ],
   "source": [
    "!pip install tensorflow"
   ]
  },
  {
   "cell_type": "markdown",
   "metadata": {},
   "source": [
    "O objetivo deste trabalho é comparar diversos métodos de classificação para a base de dados de qualidade de vinhos disponível em https://archive.ics.uci.edu/ml/machine-learning-databases/wine-quality/winequality-red.csv.\n",
    "\n",
    "Vocês devem encontrar um bom modelo preditivo, variando:\n",
    "* o número e conjunto de features (atributos) utilizados\n",
    "* o método utilizado\n",
    "* a configuração do algoritmo correspondente (e.g.: número k para nearest neighbors, profundidade para árvore de decisão)\n",
    "\n",
    "Vocês devem listar algumas métricas de qualidade, tais como: precision, recall, accuracy e f1_score, e utilizar accuracy como base para a avaliação final, considerando a accuracy média de 10 iterações para cada configuração.\n",
    "\n",
    "Para assegurar que eu obterei os mesmos resultados de vocês, vocês devem estabelecer a semente para a geração dos números aleatórios (utilizados para separar os conjuntos de treinamento e teste, por exemplo), utilizando os seguintes comandos no início do seu código (podem utilizar uma outra semente):\n",
    "```\n",
    "import random\n",
    "random.seed(1001001)\n",
    "```"
   ]
  },
  {
   "cell_type": "code",
   "execution_count": 28,
   "metadata": {},
   "outputs": [],
   "source": [
    "# Rafael Augusto Gaseta França - 1421436\n",
    "# Pedro Ferreira Alves Pinto - 1320981\n",
    "\n",
    "import pandas as pd\n",
    "import matplotlib.pyplot as plt\n",
    "import numpy as np\n",
    "import tensorflow as tf\n",
    "\n",
    "%matplotlib inline"
   ]
  },
  {
   "cell_type": "code",
   "execution_count": 29,
   "metadata": {},
   "outputs": [
    {
     "data": {
      "text/html": [
       "<div>\n",
       "<style scoped>\n",
       "    .dataframe tbody tr th:only-of-type {\n",
       "        vertical-align: middle;\n",
       "    }\n",
       "\n",
       "    .dataframe tbody tr th {\n",
       "        vertical-align: top;\n",
       "    }\n",
       "\n",
       "    .dataframe thead th {\n",
       "        text-align: right;\n",
       "    }\n",
       "</style>\n",
       "<table border=\"1\" class=\"dataframe\">\n",
       "  <thead>\n",
       "    <tr style=\"text-align: right;\">\n",
       "      <th></th>\n",
       "      <th>fixed acidity</th>\n",
       "      <th>volatile acidity</th>\n",
       "      <th>citric acid</th>\n",
       "      <th>residual sugar</th>\n",
       "      <th>chlorides</th>\n",
       "      <th>free sulfur dioxide</th>\n",
       "      <th>total sulfur dioxide</th>\n",
       "      <th>density</th>\n",
       "      <th>pH</th>\n",
       "      <th>sulphates</th>\n",
       "      <th>alcohol</th>\n",
       "      <th>quality</th>\n",
       "    </tr>\n",
       "  </thead>\n",
       "  <tbody>\n",
       "    <tr>\n",
       "      <th>0</th>\n",
       "      <td>7.4</td>\n",
       "      <td>0.70</td>\n",
       "      <td>0.00</td>\n",
       "      <td>1.9</td>\n",
       "      <td>0.076</td>\n",
       "      <td>11.0</td>\n",
       "      <td>34.0</td>\n",
       "      <td>0.9978</td>\n",
       "      <td>3.51</td>\n",
       "      <td>0.56</td>\n",
       "      <td>9.4</td>\n",
       "      <td>5</td>\n",
       "    </tr>\n",
       "    <tr>\n",
       "      <th>1</th>\n",
       "      <td>7.8</td>\n",
       "      <td>0.88</td>\n",
       "      <td>0.00</td>\n",
       "      <td>2.6</td>\n",
       "      <td>0.098</td>\n",
       "      <td>25.0</td>\n",
       "      <td>67.0</td>\n",
       "      <td>0.9968</td>\n",
       "      <td>3.20</td>\n",
       "      <td>0.68</td>\n",
       "      <td>9.8</td>\n",
       "      <td>5</td>\n",
       "    </tr>\n",
       "    <tr>\n",
       "      <th>2</th>\n",
       "      <td>7.8</td>\n",
       "      <td>0.76</td>\n",
       "      <td>0.04</td>\n",
       "      <td>2.3</td>\n",
       "      <td>0.092</td>\n",
       "      <td>15.0</td>\n",
       "      <td>54.0</td>\n",
       "      <td>0.9970</td>\n",
       "      <td>3.26</td>\n",
       "      <td>0.65</td>\n",
       "      <td>9.8</td>\n",
       "      <td>5</td>\n",
       "    </tr>\n",
       "    <tr>\n",
       "      <th>3</th>\n",
       "      <td>11.2</td>\n",
       "      <td>0.28</td>\n",
       "      <td>0.56</td>\n",
       "      <td>1.9</td>\n",
       "      <td>0.075</td>\n",
       "      <td>17.0</td>\n",
       "      <td>60.0</td>\n",
       "      <td>0.9980</td>\n",
       "      <td>3.16</td>\n",
       "      <td>0.58</td>\n",
       "      <td>9.8</td>\n",
       "      <td>6</td>\n",
       "    </tr>\n",
       "    <tr>\n",
       "      <th>4</th>\n",
       "      <td>7.4</td>\n",
       "      <td>0.70</td>\n",
       "      <td>0.00</td>\n",
       "      <td>1.9</td>\n",
       "      <td>0.076</td>\n",
       "      <td>11.0</td>\n",
       "      <td>34.0</td>\n",
       "      <td>0.9978</td>\n",
       "      <td>3.51</td>\n",
       "      <td>0.56</td>\n",
       "      <td>9.4</td>\n",
       "      <td>5</td>\n",
       "    </tr>\n",
       "  </tbody>\n",
       "</table>\n",
       "</div>"
      ],
      "text/plain": [
       "   fixed acidity  volatile acidity  citric acid  residual sugar  chlorides  \\\n",
       "0            7.4              0.70         0.00             1.9      0.076   \n",
       "1            7.8              0.88         0.00             2.6      0.098   \n",
       "2            7.8              0.76         0.04             2.3      0.092   \n",
       "3           11.2              0.28         0.56             1.9      0.075   \n",
       "4            7.4              0.70         0.00             1.9      0.076   \n",
       "\n",
       "   free sulfur dioxide  total sulfur dioxide  density    pH  sulphates  \\\n",
       "0                 11.0                  34.0   0.9978  3.51       0.56   \n",
       "1                 25.0                  67.0   0.9968  3.20       0.68   \n",
       "2                 15.0                  54.0   0.9970  3.26       0.65   \n",
       "3                 17.0                  60.0   0.9980  3.16       0.58   \n",
       "4                 11.0                  34.0   0.9978  3.51       0.56   \n",
       "\n",
       "   alcohol  quality  \n",
       "0      9.4        5  \n",
       "1      9.8        5  \n",
       "2      9.8        5  \n",
       "3      9.8        6  \n",
       "4      9.4        5  "
      ]
     },
     "execution_count": 29,
     "metadata": {},
     "output_type": "execute_result"
    }
   ],
   "source": [
    "df = pd.read_csv('https://archive.ics.uci.edu/ml/machine-learning-databases/wine-quality/winequality-red.csv' ,sep=';')\n",
    "\n",
    "df.head()"
   ]
  },
  {
   "cell_type": "code",
   "execution_count": 30,
   "metadata": {},
   "outputs": [
    {
     "data": {
      "text/plain": [
       "count    1599.000000\n",
       "mean        5.636023\n",
       "std         0.807569\n",
       "min         3.000000\n",
       "25%         5.000000\n",
       "50%         6.000000\n",
       "75%         6.000000\n",
       "max         8.000000\n",
       "Name: quality, dtype: float64"
      ]
     },
     "execution_count": 30,
     "metadata": {},
     "output_type": "execute_result"
    }
   ],
   "source": [
    "df.quality.describe()"
   ]
  },
  {
   "cell_type": "code",
   "execution_count": 31,
   "metadata": {},
   "outputs": [
    {
     "data": {
      "text/plain": [
       "array([5, 6, 7, 4, 8, 3])"
      ]
     },
     "execution_count": 31,
     "metadata": {},
     "output_type": "execute_result"
    }
   ],
   "source": [
    "df.quality.unique()"
   ]
  },
  {
   "cell_type": "code",
   "execution_count": 32,
   "metadata": {},
   "outputs": [],
   "source": [
    "X = df.iloc[:, :-1].values\n",
    "Y = df.iloc[:,-1].values\n",
    "\n",
    "import random\n",
    "random.seed(1001001)\n",
    "\n",
    "from sklearn.preprocessing import normalize\n",
    "\n",
    "X = normalize(X)\n",
    "\n",
    "from sklearn.model_selection import train_test_split\n",
    "X_train, X_test, Y_train, Y_test = train_test_split(X, Y, test_size = 0.2, random_state = 0)"
   ]
  },
  {
   "cell_type": "markdown",
   "metadata": {},
   "source": [
    "### Linear Regression"
   ]
  },
  {
   "cell_type": "code",
   "execution_count": 33,
   "metadata": {},
   "outputs": [
    {
     "data": {
      "text/plain": [
       "LinearRegression(copy_X=True, fit_intercept=True, n_jobs=1, normalize=False)"
      ]
     },
     "execution_count": 33,
     "metadata": {},
     "output_type": "execute_result"
    }
   ],
   "source": [
    "from sklearn.linear_model import LinearRegression\n",
    "\n",
    "regressor = LinearRegression()\n",
    "regressor.fit(X_train, Y_train)"
   ]
  },
  {
   "cell_type": "code",
   "execution_count": 34,
   "metadata": {},
   "outputs": [],
   "source": [
    "y_pred = regressor.predict(X_test)\n",
    "\n",
    "y_round = []\n",
    "for y in y_pred:\n",
    "    y_round.append(int(round(y)))"
   ]
  },
  {
   "cell_type": "code",
   "execution_count": 35,
   "metadata": {},
   "outputs": [
    {
     "data": {
      "text/plain": [
       "0.63125"
      ]
     },
     "execution_count": 35,
     "metadata": {},
     "output_type": "execute_result"
    }
   ],
   "source": [
    "np.mean(Y_test == y_round)"
   ]
  },
  {
   "cell_type": "markdown",
   "metadata": {},
   "source": [
    "### SVM"
   ]
  },
  {
   "cell_type": "code",
   "execution_count": 36,
   "metadata": {},
   "outputs": [
    {
     "name": "stdout",
     "output_type": "stream",
     "text": [
      "C=1 -> 0.534375\n",
      "C=3 -> 0.55\n",
      "C=5 -> 0.55625\n",
      "C=7 -> 0.553125\n",
      "C=9 -> 0.565625\n",
      "C=11 -> 0.56875\n",
      "C=13 -> 0.58125\n",
      "C=15 -> 0.58125\n",
      "C=17 -> 0.5875\n",
      "C=19 -> 0.59375\n",
      "C=21 -> 0.6\n",
      "C=23 -> 0.6\n",
      "C=25 -> 0.609375\n",
      "C=27 -> 0.6125\n",
      "C=29 -> 0.6125\n",
      "C=31 -> 0.60625\n",
      "C=33 -> 0.60625\n",
      "C=35 -> 0.60625\n",
      "C=37 -> 0.60625\n",
      "C=39 -> 0.60625\n",
      "C=41 -> 0.60625\n",
      "C=43 -> 0.609375\n",
      "C=45 -> 0.609375\n",
      "C=47 -> 0.615625\n",
      "C=49 -> 0.615625\n"
     ]
    }
   ],
   "source": [
    "from sklearn.svm import SVC\n",
    "\n",
    "for i in range(1, 50, 2):\n",
    "    svm = SVC(C = i, kernel = 'linear')\n",
    "    svm.fit(X_train, Y_train)\n",
    "    print('C={} -> {}'.format(i, svm.score(X_test, Y_test)))"
   ]
  },
  {
   "cell_type": "code",
   "execution_count": 37,
   "metadata": {},
   "outputs": [
    {
     "name": "stdout",
     "output_type": "stream",
     "text": [
      "0.615625\n"
     ]
    }
   ],
   "source": [
    "# aparentemente quanto maior o C maior o resultado\n",
    "\n",
    "svm = SVC(C = 100, kernel = 'linear')\n",
    "svm.fit(X_train, Y_train)\n",
    "print(svm.score(X_test, Y_test))\n",
    "# entretanto aparenta chegar a um limite"
   ]
  },
  {
   "cell_type": "markdown",
   "metadata": {},
   "source": [
    "### K-NN"
   ]
  },
  {
   "cell_type": "code",
   "execution_count": 38,
   "metadata": {},
   "outputs": [
    {
     "name": "stdout",
     "output_type": "stream",
     "text": [
      "n_neighbors=1 -> 0.603125\n",
      "n_neighbors=3 -> 0.521875\n",
      "n_neighbors=5 -> 0.475\n",
      "n_neighbors=7 -> 0.478125\n",
      "n_neighbors=9 -> 0.503125\n",
      "n_neighbors=11 -> 0.49375\n",
      "n_neighbors=13 -> 0.503125\n",
      "n_neighbors=15 -> 0.503125\n",
      "n_neighbors=17 -> 0.509375\n",
      "n_neighbors=19 -> 0.521875\n",
      "n_neighbors=21 -> 0.525\n",
      "n_neighbors=23 -> 0.509375\n",
      "n_neighbors=25 -> 0.528125\n",
      "n_neighbors=27 -> 0.534375\n",
      "n_neighbors=29 -> 0.51875\n",
      "n_neighbors=31 -> 0.53125\n",
      "n_neighbors=33 -> 0.534375\n",
      "n_neighbors=35 -> 0.53125\n",
      "n_neighbors=37 -> 0.528125\n",
      "n_neighbors=39 -> 0.5375\n",
      "n_neighbors=41 -> 0.55\n",
      "n_neighbors=43 -> 0.540625\n",
      "n_neighbors=45 -> 0.528125\n",
      "n_neighbors=47 -> 0.54375\n",
      "n_neighbors=49 -> 0.534375\n"
     ]
    }
   ],
   "source": [
    "from sklearn.neighbors import KNeighborsClassifier\n",
    "\n",
    "for i in range(1, 50, 2):\n",
    "    knn = KNeighborsClassifier(n_neighbors = i).fit(X_train, Y_train)\n",
    "    print('n_neighbors={} -> {}'.format(i, knn.score(X_test, Y_test)))"
   ]
  },
  {
   "cell_type": "markdown",
   "metadata": {},
   "source": [
    "### Multi Layer Perceptron"
   ]
  },
  {
   "cell_type": "code",
   "execution_count": 39,
   "metadata": {},
   "outputs": [
    {
     "name": "stdout",
     "output_type": "stream",
     "text": [
      "hidden_layer_sizes=(1, 1) -> 0.63125\n",
      "hidden_layer_sizes=(1, 2) -> 0.640625\n",
      "hidden_layer_sizes=(1, 3) -> 0.421875\n",
      "hidden_layer_sizes=(1, 4) -> 0.65\n",
      "hidden_layer_sizes=(2, 1) -> 0.63125\n",
      "hidden_layer_sizes=(2, 2) -> 0.634375\n",
      "hidden_layer_sizes=(2, 3) -> 0.609375\n",
      "hidden_layer_sizes=(2, 4) -> 0.621875\n",
      "hidden_layer_sizes=(3, 1) -> 0.421875\n",
      "hidden_layer_sizes=(3, 2) -> 0.65\n",
      "hidden_layer_sizes=(3, 3) -> 0.421875\n",
      "hidden_layer_sizes=(3, 4) -> 0.61875\n",
      "hidden_layer_sizes=(4, 1) -> 0.625\n",
      "hidden_layer_sizes=(4, 2) -> 0.634375\n",
      "hidden_layer_sizes=(4, 3) -> 0.625\n",
      "hidden_layer_sizes=(4, 4) -> 0.6125\n"
     ]
    }
   ],
   "source": [
    "from sklearn.neural_network import MLPClassifier\n",
    "\n",
    "for i in range(1,5):\n",
    "    for j in range(1,5):\n",
    "        clf = MLPClassifier(solver='lbfgs', alpha=1e-5, hidden_layer_sizes=(i, j), random_state=60)\n",
    "        clf.fit(X_train, Y_train)   \n",
    "        print('hidden_layer_sizes={} -> {}'.format((i, j), clf.score(X_test, Y_test)))"
   ]
  },
  {
   "cell_type": "markdown",
   "metadata": {},
   "source": [
    "OS resultados foram bem similares, tirando o caso de (1,3) e (3,3)"
   ]
  },
  {
   "cell_type": "markdown",
   "metadata": {},
   "source": [
    "### Decision Tree"
   ]
  },
  {
   "cell_type": "code",
   "execution_count": 40,
   "metadata": {},
   "outputs": [
    {
     "data": {
      "text/plain": [
       "0.603125"
      ]
     },
     "execution_count": 40,
     "metadata": {},
     "output_type": "execute_result"
    }
   ],
   "source": [
    "from sklearn.tree import DecisionTreeClassifier\n",
    "\n",
    "\n",
    "dt = DecisionTreeClassifier()\n",
    "dt.fit(X_train, Y_train)\n",
    "dt.score(X_test, Y_test)"
   ]
  },
  {
   "cell_type": "markdown",
   "metadata": {},
   "source": [
    "### Neural Network"
   ]
  },
  {
   "cell_type": "code",
   "execution_count": 41,
   "metadata": {},
   "outputs": [],
   "source": [
    "D = X.shape[1] # input dim\n",
    "M = 11 # hidden size\n",
    "K = 6 # number classes"
   ]
  },
  {
   "cell_type": "code",
   "execution_count": 42,
   "metadata": {},
   "outputs": [],
   "source": [
    "T = np.zeros((Y.size, K))\n",
    "for i in range(Y.size):\n",
    "    T[i, Y[i]-3] = 1\n",
    "\n",
    "T_train = np.zeros((Y_train.size, K))\n",
    "for i in range(Y_train.size):\n",
    "    T_train[i, Y_train[i]-3] = 1\n",
    "    \n",
    "T_test = np.zeros((Y_test.size, K))\n",
    "for i in range(Y_test.size):\n",
    "    T_test[i, Y_test[i]-3] = 1"
   ]
  },
  {
   "cell_type": "code",
   "execution_count": 43,
   "metadata": {},
   "outputs": [],
   "source": [
    "def init_weights(shape):\n",
    "    return tf.Variable(tf.random_normal(shape, stddev=0.1))\n",
    "\n",
    "W1 = init_weights([D, M])\n",
    "b1 = init_weights([M])\n",
    "\n",
    "W2 = init_weights([M, M])\n",
    "b2 = init_weights([M])\n",
    "\n",
    "W3 = init_weights([M, M])\n",
    "b3 = init_weights([M])\n",
    "\n",
    "Wf = init_weights([M, K])\n",
    "bf = init_weights([K])"
   ]
  },
  {
   "cell_type": "code",
   "execution_count": 44,
   "metadata": {},
   "outputs": [],
   "source": [
    "tfX = tf.placeholder(tf.float32, [None, D])\n",
    "tfY = tf.placeholder(tf.float32, [None, K])\n",
    "\n",
    "# MultiLayer Perceptron\n",
    "def forward():\n",
    "    Z = tf.nn.sigmoid(tf.matmul(tfX, W1) + b1)\n",
    "    Z2 = tf.nn.sigmoid(tf.matmul(Z, W2) + b2)\n",
    "    Z3 = tf.nn.sigmoid(tf.matmul(Z2, W3) + b3)\n",
    "    \n",
    "    return tf.matmul(Z3, Wf) + bf\n",
    "\n",
    "py_x = forward()\n",
    "\n",
    "# Treinado com Softmax para um output multiclasse\n",
    "cost = tf.reduce_mean(tf.nn.softmax_cross_entropy_with_logits(labels=tfY, logits=py_x))"
   ]
  },
  {
   "cell_type": "code",
   "execution_count": 45,
   "metadata": {},
   "outputs": [],
   "source": [
    "train_op = tf.train.AdamOptimizer().minimize(cost)\n",
    "predict_op = tf.argmax(py_x, 1)"
   ]
  },
  {
   "cell_type": "code",
   "execution_count": 25,
   "metadata": {},
   "outputs": [
    {
     "name": "stderr",
     "output_type": "stream",
     "text": [
      "acc train: 0.49335418295543393; acc test: 0.528125:  22%|██▏       | 3274/15000 [00:09<00:35, 327.51it/s]/home/pedalv/miniconda3/envs/jupyter/lib/python3.6/site-packages/tqdm/_monitor.py:89: TqdmSynchronisationWarning: Set changed size during iteration (see https://github.com/tqdm/tqdm/issues/481)\n",
      "  TqdmSynchronisationWarning)\n",
      "acc train: 0.6411258795934324; acc test: 0.64375: 100%|██████████| 15000/15000 [00:45<00:00, 326.56it/s] \n"
     ]
    }
   ],
   "source": [
    "sess = tf.Session()\n",
    "init = tf.global_variables_initializer()\n",
    "sess.run(init)\n",
    "\n",
    "from tqdm import tqdm\n",
    "pbar= tqdm(range(15000))\n",
    "\n",
    "for i in pbar:\n",
    "    sess.run(train_op, feed_dict={tfX: X_train, tfY: T_train})\n",
    "    pred_train = sess.run(predict_op, feed_dict={tfX: X_train, tfY: T_train})\n",
    "    pred_test = sess.run(predict_op, feed_dict={tfX: X_test, tfY: T_test})\n",
    "    \n",
    "    if i%1000 == 0:\n",
    "        pbar.set_description(\"acc train: {}; acc test: {}\".format(np.mean(Y_train-3 == pred_train), \n",
    "                                                                  np.mean(Y_test-3 == pred_test)))"
   ]
  },
  {
   "cell_type": "markdown",
   "metadata": {},
   "source": [
    "O rsultado do mlp feito com o TensowFlow apresenta resultados similares ao do SKLearn, o que faz refletir a real necessidade de se desenvolver um algoritimo \"basico\" no lugar de usar um ja desenvolvido "
   ]
  }
 ],
 "metadata": {
  "kernelspec": {
   "display_name": "Python 3",
   "language": "python",
   "name": "python3"
  },
  "language_info": {
   "codemirror_mode": {
    "name": "ipython",
    "version": 3
   },
   "file_extension": ".py",
   "mimetype": "text/x-python",
   "name": "python",
   "nbconvert_exporter": "python",
   "pygments_lexer": "ipython3",
   "version": "3.6.4"
  }
 },
 "nbformat": 4,
 "nbformat_minor": 2
}
