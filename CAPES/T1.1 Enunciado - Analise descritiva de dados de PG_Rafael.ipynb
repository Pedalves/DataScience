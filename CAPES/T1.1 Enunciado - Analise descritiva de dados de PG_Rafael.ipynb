{
 "cells": [
  {
   "cell_type": "markdown",
   "metadata": {},
   "source": [
    "Os arquivos compactados no arquivo dados_CAPES_2018-04-06.zip trazem dados sobre os programas de pós-graduação em Informática de algumas instituições em 2017. Tratam-se de dados públicos, obtidos da plataforma Sucupira da CAPES (https://sucupira.capes.gov.br/sucupira/). \n",
    "\n",
    "O objetivo do trabalho T1.1 é fazer uma análise descritiva e responder algumas perguntas sobre os dados. Sempre que possível, as respostas devem ser dadas numérica e visualmente."
   ]
  },
  {
   "cell_type": "code",
   "execution_count": 1,
   "metadata": {},
   "outputs": [],
   "source": [
    "import pandas as pd\n",
    "import matplotlib.pyplot as plt\n",
    "import numpy as np\n",
    "\n",
    "%matplotlib inline"
   ]
  },
  {
   "cell_type": "code",
   "execution_count": 2,
   "metadata": {},
   "outputs": [],
   "source": [
    "discentes_df = pd.read_csv('discentes.csv')\n",
    "docentes_df = pd.read_csv('docentes.csv')\n",
    "producao_df = pd.read_csv('producao.csv')\n",
    "trabalhos_df = pd.read_csv('trabalhos.csv')\n",
    "\n",
    "qualis_df = pd.read_excel('Qualis CC 2013-2016.xlsx')"
   ]
  },
  {
   "cell_type": "markdown",
   "metadata": {},
   "source": [
    "## Docentes\n",
    "1) Quantos professores (docentes) havia em cada programa em 2017, em cada quadro (permanente, colaborador, visitante)?"
   ]
  },
  {
   "cell_type": "code",
   "execution_count": 3,
   "metadata": {},
   "outputs": [
    {
     "data": {
      "text/html": [
       "<div>\n",
       "<style scoped>\n",
       "    .dataframe tbody tr th:only-of-type {\n",
       "        vertical-align: middle;\n",
       "    }\n",
       "\n",
       "    .dataframe tbody tr th {\n",
       "        vertical-align: top;\n",
       "    }\n",
       "\n",
       "    .dataframe thead th {\n",
       "        text-align: right;\n",
       "    }\n",
       "</style>\n",
       "<table border=\"1\" class=\"dataframe\">\n",
       "  <thead>\n",
       "    <tr style=\"text-align: right;\">\n",
       "      <th></th>\n",
       "      <th>categoria</th>\n",
       "      <th>ies</th>\n",
       "      <th>nome</th>\n",
       "      <th>prof_id</th>\n",
       "    </tr>\n",
       "  </thead>\n",
       "  <tbody>\n",
       "    <tr>\n",
       "      <th>0</th>\n",
       "      <td>PERMANENTE</td>\n",
       "      <td>PONTIFÍCIA UNIVERSIDADE CATÓLICA DO RIO DE JAN...</td>\n",
       "      <td>ALBERTO BARBOSA RAPOSO</td>\n",
       "      <td>45079</td>\n",
       "    </tr>\n",
       "    <tr>\n",
       "      <th>1</th>\n",
       "      <td>PERMANENTE</td>\n",
       "      <td>PONTIFÍCIA UNIVERSIDADE CATÓLICA DO RIO DE JAN...</td>\n",
       "      <td>ALESSANDRO FABRICIO GARCIA</td>\n",
       "      <td>45076</td>\n",
       "    </tr>\n",
       "    <tr>\n",
       "      <th>2</th>\n",
       "      <td>COLABORADOR</td>\n",
       "      <td>PONTIFÍCIA UNIVERSIDADE CATÓLICA DO RIO DE JAN...</td>\n",
       "      <td>ANTONIO LUZ FURTADO</td>\n",
       "      <td>45077</td>\n",
       "    </tr>\n",
       "    <tr>\n",
       "      <th>3</th>\n",
       "      <td>PERMANENTE</td>\n",
       "      <td>PONTIFÍCIA UNIVERSIDADE CATÓLICA DO RIO DE JAN...</td>\n",
       "      <td>ARNDT VON STAA</td>\n",
       "      <td>45074</td>\n",
       "    </tr>\n",
       "    <tr>\n",
       "      <th>4</th>\n",
       "      <td>PERMANENTE</td>\n",
       "      <td>PONTIFÍCIA UNIVERSIDADE CATÓLICA DO RIO DE JAN...</td>\n",
       "      <td>BRUNO FEIJO</td>\n",
       "      <td>45093</td>\n",
       "    </tr>\n",
       "  </tbody>\n",
       "</table>\n",
       "</div>"
      ],
      "text/plain": [
       "     categoria                                                ies  \\\n",
       "0   PERMANENTE  PONTIFÍCIA UNIVERSIDADE CATÓLICA DO RIO DE JAN...   \n",
       "1   PERMANENTE  PONTIFÍCIA UNIVERSIDADE CATÓLICA DO RIO DE JAN...   \n",
       "2  COLABORADOR  PONTIFÍCIA UNIVERSIDADE CATÓLICA DO RIO DE JAN...   \n",
       "3   PERMANENTE  PONTIFÍCIA UNIVERSIDADE CATÓLICA DO RIO DE JAN...   \n",
       "4   PERMANENTE  PONTIFÍCIA UNIVERSIDADE CATÓLICA DO RIO DE JAN...   \n",
       "\n",
       "                         nome  prof_id  \n",
       "0      ALBERTO BARBOSA RAPOSO    45079  \n",
       "1  ALESSANDRO FABRICIO GARCIA    45076  \n",
       "2         ANTONIO LUZ FURTADO    45077  \n",
       "3              ARNDT VON STAA    45074  \n",
       "4                 BRUNO FEIJO    45093  "
      ]
     },
     "execution_count": 3,
     "metadata": {},
     "output_type": "execute_result"
    }
   ],
   "source": [
    "docentes_df.head()"
   ]
  },
  {
   "cell_type": "code",
   "execution_count": 4,
   "metadata": {},
   "outputs": [
    {
     "data": {
      "text/plain": [
       "PERMANENTE     431\n",
       "COLABORADOR     56\n",
       "Name: categoria, dtype: int64"
      ]
     },
     "execution_count": 4,
     "metadata": {},
     "output_type": "execute_result"
    }
   ],
   "source": [
    "docentes_df.categoria.value_counts()"
   ]
  },
  {
   "cell_type": "code",
   "execution_count": 5,
   "metadata": {},
   "outputs": [
    {
     "data": {
      "image/png": "[encoded data removed]",
      "text/plain": [
       "<matplotlib.figure.Figure at 0x1e95d3f1b00>"
      ]
     },
     "metadata": {},
     "output_type": "display_data"
    }
   ],
   "source": [
    "plot = docentes_df.categoria.value_counts().plot(kind='bar')\n",
    "\n",
    "for idx, value in enumerate(list(docentes_df.categoria.value_counts())): \n",
    "    plot.annotate(value,(idx, value), xytext=(0, 0), textcoords='offset points')\n"
   ]
  },
  {
   "cell_type": "raw",
   "metadata": {},
   "source": [
    "discentes_prof_df = discentes_df[['orientador', 'programa']] \n",
    "discentes_prof_df = discentes_prof_df.groupby(['orientador', 'programa']).size().to_frame().reset_index()\n",
    "\n",
    "\n",
    "discentes_prof_df.head()"
   ]
  },
  {
   "cell_type": "raw",
   "metadata": {},
   "source": [
    "discentes_prof_df.orientador.describe()"
   ]
  },
  {
   "cell_type": "markdown",
   "metadata": {},
   "source": [
    "## Discentes\n",
    "2) Quantos alunos (discentes) de Mestrado/Doutorado havia em cada programa em 2017?"
   ]
  },
  {
   "cell_type": "code",
   "execution_count": 6,
   "metadata": {},
   "outputs": [
    {
     "data": {
      "text/html": [
       "<div>\n",
       "<style scoped>\n",
       "    .dataframe tbody tr th:only-of-type {\n",
       "        vertical-align: middle;\n",
       "    }\n",
       "\n",
       "    .dataframe tbody tr th {\n",
       "        vertical-align: top;\n",
       "    }\n",
       "\n",
       "    .dataframe thead th {\n",
       "        text-align: right;\n",
       "    }\n",
       "</style>\n",
       "<table border=\"1\" class=\"dataframe\">\n",
       "  <thead>\n",
       "    <tr style=\"text-align: right;\">\n",
       "      <th></th>\n",
       "      <th>abrev</th>\n",
       "      <th>curso</th>\n",
       "      <th>data_matricula</th>\n",
       "      <th>deficiencia</th>\n",
       "      <th>discente_id</th>\n",
       "      <th>ies</th>\n",
       "      <th>nacionalidade</th>\n",
       "      <th>nivel</th>\n",
       "      <th>nome</th>\n",
       "      <th>orientador</th>\n",
       "      <th>orientadores</th>\n",
       "      <th>programa</th>\n",
       "      <th>raca</th>\n",
       "      <th>sexo</th>\n",
       "      <th>situacao</th>\n",
       "    </tr>\n",
       "  </thead>\n",
       "  <tbody>\n",
       "    <tr>\n",
       "      <th>0</th>\n",
       "      <td>LEON, A. C. (Principal)</td>\n",
       "      <td>INFORMÁTICA</td>\n",
       "      <td>03/08/2015</td>\n",
       "      <td>Não</td>\n",
       "      <td>889714</td>\n",
       "      <td>PONTIFÍCIA UNIVERSIDADE CATÓLICA DO RIO DE JAN...</td>\n",
       "      <td>Cuba</td>\n",
       "      <td>Mestrado</td>\n",
       "      <td>ADRIAN CONCEPCION LEON</td>\n",
       "      <td>MARKUS ENDLER</td>\n",
       "      <td>[{'nome': 'MARKUS ENDLER', 'categoria': 'Docen...</td>\n",
       "      <td>INFORMÁTICA(31005012004P9)</td>\n",
       "      <td>Não declarado</td>\n",
       "      <td>Masculino</td>\n",
       "      <td>MATRICULADO</td>\n",
       "    </tr>\n",
       "    <tr>\n",
       "      <th>1</th>\n",
       "      <td>HERNANDEZ, A. G. (Principal)</td>\n",
       "      <td>INFORMÁTICA</td>\n",
       "      <td>02/03/2015</td>\n",
       "      <td>Não</td>\n",
       "      <td>838354</td>\n",
       "      <td>PONTIFÍCIA UNIVERSIDADE CATÓLICA DO RIO DE JAN...</td>\n",
       "      <td>Brasil</td>\n",
       "      <td>Mestrado</td>\n",
       "      <td>ADRIEL GARCIA HERNANDEZ</td>\n",
       "      <td>RUY LUIZ MILIDIU</td>\n",
       "      <td>[{'nome': 'RUY LUIZ MILIDIU', 'categoria': 'Do...</td>\n",
       "      <td>INFORMÁTICA(31005012004P9)</td>\n",
       "      <td>Não declarado</td>\n",
       "      <td>Masculino</td>\n",
       "      <td>TITULADO</td>\n",
       "    </tr>\n",
       "    <tr>\n",
       "      <th>2</th>\n",
       "      <td>FUENTES, A. D. (Principal)</td>\n",
       "      <td>INFORMÁTICA</td>\n",
       "      <td>15/04/2016</td>\n",
       "      <td>Não</td>\n",
       "      <td>948329</td>\n",
       "      <td>PONTIFÍCIA UNIVERSIDADE CATÓLICA DO RIO DE JAN...</td>\n",
       "      <td>Brasil</td>\n",
       "      <td>Doutorado</td>\n",
       "      <td>ALAIN DOMINGUEZ FUENTES</td>\n",
       "      <td>SERGIO LIFSCHITZ</td>\n",
       "      <td>[{'nome': 'SERGIO LIFSCHITZ', 'categoria': 'Do...</td>\n",
       "      <td>INFORMÁTICA(31005012004P9)</td>\n",
       "      <td>Não declarado</td>\n",
       "      <td>Masculino</td>\n",
       "      <td>MATRICULADO</td>\n",
       "    </tr>\n",
       "    <tr>\n",
       "      <th>3</th>\n",
       "      <td>GUEDES, A. L. V. (Principal) GUEDES, ALAN LIVI...</td>\n",
       "      <td>INFORMÁTICA</td>\n",
       "      <td>12/03/2013</td>\n",
       "      <td>Não</td>\n",
       "      <td>565354</td>\n",
       "      <td>PONTIFÍCIA UNIVERSIDADE CATÓLICA DO RIO DE JAN...</td>\n",
       "      <td>Brasil</td>\n",
       "      <td>Doutorado</td>\n",
       "      <td>ALAN LIVIO VASCONCELOS GUEDES</td>\n",
       "      <td>SIMONE DINIZ JUNQUEIRA BARBOSA</td>\n",
       "      <td>[{'nome': 'SIMONE DINIZ JUNQUEIRA BARBOSA', 'c...</td>\n",
       "      <td>INFORMÁTICA(31005012004P9)</td>\n",
       "      <td>Não declarado</td>\n",
       "      <td>Masculino</td>\n",
       "      <td>TITULADO</td>\n",
       "    </tr>\n",
       "    <tr>\n",
       "      <th>4</th>\n",
       "      <td>MENES, A. M. (Principal)</td>\n",
       "      <td>INFORMÁTICA</td>\n",
       "      <td>01/08/2014</td>\n",
       "      <td>Não</td>\n",
       "      <td>784513</td>\n",
       "      <td>PONTIFÍCIA UNIVERSIDADE CATÓLICA DO RIO DE JAN...</td>\n",
       "      <td>Brasil</td>\n",
       "      <td>Mestrado</td>\n",
       "      <td>ALEJANDRO MUSTELIER MENES</td>\n",
       "      <td>SERGIO LIFSCHITZ</td>\n",
       "      <td>[{'nome': 'SERGIO LIFSCHITZ', 'categoria': 'Do...</td>\n",
       "      <td>INFORMÁTICA(31005012004P9)</td>\n",
       "      <td>Não declarado</td>\n",
       "      <td>Masculino</td>\n",
       "      <td>TITULADO</td>\n",
       "    </tr>\n",
       "  </tbody>\n",
       "</table>\n",
       "</div>"
      ],
      "text/plain": [
       "                                               abrev        curso  \\\n",
       "0                            LEON, A. C. (Principal)  INFORMÁTICA   \n",
       "1                       HERNANDEZ, A. G. (Principal)  INFORMÁTICA   \n",
       "2                         FUENTES, A. D. (Principal)  INFORMÁTICA   \n",
       "3  GUEDES, A. L. V. (Principal) GUEDES, ALAN LIVI...  INFORMÁTICA   \n",
       "4                           MENES, A. M. (Principal)  INFORMÁTICA   \n",
       "\n",
       "  data_matricula deficiencia  discente_id  \\\n",
       "0     03/08/2015         Não       889714   \n",
       "1     02/03/2015         Não       838354   \n",
       "2     15/04/2016         Não       948329   \n",
       "3     12/03/2013         Não       565354   \n",
       "4     01/08/2014         Não       784513   \n",
       "\n",
       "                                                 ies nacionalidade      nivel  \\\n",
       "0  PONTIFÍCIA UNIVERSIDADE CATÓLICA DO RIO DE JAN...          Cuba   Mestrado   \n",
       "1  PONTIFÍCIA UNIVERSIDADE CATÓLICA DO RIO DE JAN...        Brasil   Mestrado   \n",
       "2  PONTIFÍCIA UNIVERSIDADE CATÓLICA DO RIO DE JAN...        Brasil  Doutorado   \n",
       "3  PONTIFÍCIA UNIVERSIDADE CATÓLICA DO RIO DE JAN...        Brasil  Doutorado   \n",
       "4  PONTIFÍCIA UNIVERSIDADE CATÓLICA DO RIO DE JAN...        Brasil   Mestrado   \n",
       "\n",
       "                            nome                      orientador  \\\n",
       "0         ADRIAN CONCEPCION LEON                   MARKUS ENDLER   \n",
       "1        ADRIEL GARCIA HERNANDEZ                RUY LUIZ MILIDIU   \n",
       "2        ALAIN DOMINGUEZ FUENTES                SERGIO LIFSCHITZ   \n",
       "3  ALAN LIVIO VASCONCELOS GUEDES  SIMONE DINIZ JUNQUEIRA BARBOSA   \n",
       "4      ALEJANDRO MUSTELIER MENES                SERGIO LIFSCHITZ   \n",
       "\n",
       "                                        orientadores  \\\n",
       "0  [{'nome': 'MARKUS ENDLER', 'categoria': 'Docen...   \n",
       "1  [{'nome': 'RUY LUIZ MILIDIU', 'categoria': 'Do...   \n",
       "2  [{'nome': 'SERGIO LIFSCHITZ', 'categoria': 'Do...   \n",
       "3  [{'nome': 'SIMONE DINIZ JUNQUEIRA BARBOSA', 'c...   \n",
       "4  [{'nome': 'SERGIO LIFSCHITZ', 'categoria': 'Do...   \n",
       "\n",
       "                     programa           raca       sexo     situacao  \n",
       "0  INFORMÁTICA(31005012004P9)  Não declarado  Masculino  MATRICULADO  \n",
       "1  INFORMÁTICA(31005012004P9)  Não declarado  Masculino     TITULADO  \n",
       "2  INFORMÁTICA(31005012004P9)  Não declarado  Masculino  MATRICULADO  \n",
       "3  INFORMÁTICA(31005012004P9)  Não declarado  Masculino     TITULADO  \n",
       "4  INFORMÁTICA(31005012004P9)  Não declarado  Masculino     TITULADO  "
      ]
     },
     "execution_count": 6,
     "metadata": {},
     "output_type": "execute_result"
    }
   ],
   "source": [
    "discentes_df.head()"
   ]
  },
  {
   "cell_type": "code",
   "execution_count": 7,
   "metadata": {},
   "outputs": [
    {
     "data": {
      "text/plain": [
       "array(['Mestrado', 'Doutorado', 'Graduação'], dtype=object)"
      ]
     },
     "execution_count": 7,
     "metadata": {},
     "output_type": "execute_result"
    }
   ],
   "source": [
    "discentes_df.nivel.unique()"
   ]
  },
  {
   "cell_type": "code",
   "execution_count": 8,
   "metadata": {},
   "outputs": [
    {
     "data": {
      "text/plain": [
       "Mestrado     1820\n",
       "Doutorado    1666\n",
       "Name: nivel, dtype: int64"
      ]
     },
     "execution_count": 8,
     "metadata": {},
     "output_type": "execute_result"
    }
   ],
   "source": [
    "discentes_pos_df = discentes_df[discentes_df.nivel.isin([\"Mestrado\", \"Doutorado\"])]\n",
    "discentes_pos_df = discentes_pos_df[[\"nivel\", \"programa\"]]\n",
    "discentes_pos_df.nivel.value_counts()"
   ]
  },
  {
   "cell_type": "code",
   "execution_count": 9,
   "metadata": {},
   "outputs": [
    {
     "data": {
      "text/plain": [
       "array(['INFORMÁTICA(31005012004P9)',\n",
       "       'CIÊNCIA DA COMPUTAÇÃO(42005019016P8)',\n",
       "       'COMPUTAÇÃO(31003010046P4)',\n",
       "       'CIÊNCIAS DA COMPUTAÇÃO(32001010004P6)',\n",
       "       'CIÊNCIAS DA COMPUTAÇÃO(25001019004P6)',\n",
       "       'COMPUTAÇÃO(42001013004P4)', 'INFORMÁTICA(31001017110P8)',\n",
       "       'CIÊNCIA DA COMPUTAÇÃO(33003017005P8)',\n",
       "       'CIÊNCIA DA COMPUTAÇÃO(33002010176P0)',\n",
       "       'CIÊNCIAS DA COMPUTAÇÃO E MATEMÁTICA COMPUTACIONAL(33002045004P1)'],\n",
       "      dtype=object)"
      ]
     },
     "execution_count": 9,
     "metadata": {},
     "output_type": "execute_result"
    }
   ],
   "source": [
    "discentes_pos_df.programa.unique()"
   ]
  },
  {
   "cell_type": "markdown",
   "metadata": {},
   "source": [
    "### Mestrado"
   ]
  },
  {
   "cell_type": "code",
   "execution_count": 10,
   "metadata": {},
   "outputs": [
    {
     "data": {
      "text/plain": [
       "CIÊNCIAS DA COMPUTAÇÃO(25001019004P6)                               337\n",
       "CIÊNCIAS DA COMPUTAÇÃO(32001010004P6)                               270\n",
       "COMPUTAÇÃO(42001013004P4)                                           194\n",
       "CIÊNCIA DA COMPUTAÇÃO(33003017005P8)                                183\n",
       "CIÊNCIAS DA COMPUTAÇÃO E MATEMÁTICA COMPUTACIONAL(33002045004P1)    173\n",
       "COMPUTAÇÃO(31003010046P4)                                           168\n",
       "CIÊNCIA DA COMPUTAÇÃO(42005019016P8)                                137\n",
       "CIÊNCIA DA COMPUTAÇÃO(33002010176P0)                                133\n",
       "INFORMÁTICA(31005012004P9)                                          115\n",
       "INFORMÁTICA(31001017110P8)                                          110\n",
       "Name: programa, dtype: int64"
      ]
     },
     "execution_count": 10,
     "metadata": {},
     "output_type": "execute_result"
    }
   ],
   "source": [
    "discentes_pos_df[discentes_pos_df.nivel=='Mestrado'].programa.value_counts()"
   ]
  },
  {
   "cell_type": "markdown",
   "metadata": {},
   "source": [
    "### Doutorado"
   ]
  },
  {
   "cell_type": "code",
   "execution_count": 11,
   "metadata": {
    "scrolled": true
   },
   "outputs": [
    {
     "data": {
      "text/plain": [
       "CIÊNCIAS DA COMPUTAÇÃO(25001019004P6)                               379\n",
       "CIÊNCIAS DA COMPUTAÇÃO E MATEMÁTICA COMPUTACIONAL(33002045004P1)    319\n",
       "CIÊNCIAS DA COMPUTAÇÃO(32001010004P6)                               193\n",
       "CIÊNCIA DA COMPUTAÇÃO(33003017005P8)                                169\n",
       "COMPUTAÇÃO(42001013004P4)                                           125\n",
       "COMPUTAÇÃO(31003010046P4)                                           114\n",
       "CIÊNCIA DA COMPUTAÇÃO(33002010176P0)                                111\n",
       "INFORMÁTICA(31005012004P9)                                          102\n",
       "CIÊNCIA DA COMPUTAÇÃO(42005019016P8)                                 91\n",
       "INFORMÁTICA(31001017110P8)                                           63\n",
       "Name: programa, dtype: int64"
      ]
     },
     "execution_count": 11,
     "metadata": {},
     "output_type": "execute_result"
    }
   ],
   "source": [
    "discentes_pos_df[discentes_pos_df.nivel=='Doutorado'].programa.value_counts()"
   ]
  },
  {
   "cell_type": "markdown",
   "metadata": {},
   "source": [
    "### Plot"
   ]
  },
  {
   "cell_type": "code",
   "execution_count": 12,
   "metadata": {},
   "outputs": [
    {
     "data": {
      "image/png": "[encoded data removed]",
      "text/plain": [
       "<matplotlib.figure.Figure at 0x1e95d1f3208>"
      ]
     },
     "metadata": {},
     "output_type": "display_data"
    }
   ],
   "source": [
    "fig, ax = plt.subplots()\n",
    "\n",
    "width = 0.35\n",
    "\n",
    "ind = np.arange(len(discentes_pos_df.programa.value_counts().keys()))\n",
    "\n",
    "plt1 = ax.barh(ind-width/2, discentes_pos_df[discentes_pos_df.nivel=='Mestrado'].programa.value_counts(), width)\n",
    "\n",
    "for i in ind: \n",
    "    ax.annotate(value,(i, discentes_pos_df[discentes_pos_df.nivel=='Mestrado'].programa.value_counts()[i]), \n",
    "                xytext=(0, 0), textcoords='offset points')\n",
    "\n",
    "\n",
    "plt2 = ax.barh(ind+width/2, \n",
    "              discentes_pos_df[discentes_pos_df.nivel=='Doutorado'].programa.value_counts(), width)\n",
    "\n",
    "ax.set_yticks(ind)\n",
    "ax.set_yticklabels(discentes_pos_df.programa.value_counts().keys())\n",
    "\n",
    "plt.legend([plt1[0], plt2[0]], ['Mestrado', 'Doutorado'])\n",
    "\n",
    "plt.show()"
   ]
  },
  {
   "cell_type": "markdown",
   "metadata": {},
   "source": [
    "## Discentes x Docentes\n",
    "3) Qual foi a taxa de alunos de Mestrado/Doutorado por professor do quadro permanente em cada programa em 2017?\n"
   ]
  },
  {
   "cell_type": "code",
   "execution_count": 13,
   "metadata": {},
   "outputs": [],
   "source": [
    "discentes_pos_df = discentes_df[discentes_df.nivel.isin([\"Mestrado\", \"Doutorado\"])]"
   ]
  },
  {
   "cell_type": "code",
   "execution_count": 14,
   "metadata": {},
   "outputs": [
    {
     "name": "stdout",
     "output_type": "stream",
     "text": [
      "Total de 3436 alunos\n",
      "Total de 431 professores do qudro permanente\n",
      "Taxa de alunos de Mestrado/Doutorado por professor do quadro permanente 7.972157772621809\n"
     ]
    }
   ],
   "source": [
    "alunos = set(discentes_pos_df.discente_id)\n",
    "professores = set(docentes_df[docentes_df.categoria=='PERMANENTE'].prof_id)\n",
    "\n",
    "print('Total de {} alunos'.format(len(alunos)))\n",
    "print('Total de {} professores do qudro permanente'.format(len(professores)))\n",
    "print('Taxa de alunos de Mestrado/Doutorado por professor do quadro permanente {}'.format(len(alunos)/len(professores)))"
   ]
  },
  {
   "cell_type": "code",
   "execution_count": 15,
   "metadata": {},
   "outputs": [
    {
     "data": {
      "text/html": [
       "<div>\n",
       "<style scoped>\n",
       "    .dataframe tbody tr th:only-of-type {\n",
       "        vertical-align: middle;\n",
       "    }\n",
       "\n",
       "    .dataframe tbody tr th {\n",
       "        vertical-align: top;\n",
       "    }\n",
       "\n",
       "    .dataframe thead th {\n",
       "        text-align: right;\n",
       "    }\n",
       "</style>\n",
       "<table border=\"1\" class=\"dataframe\">\n",
       "  <thead>\n",
       "    <tr style=\"text-align: right;\">\n",
       "      <th></th>\n",
       "      <th>categoria</th>\n",
       "      <th>ies</th>\n",
       "      <th>nome</th>\n",
       "      <th>prof_id</th>\n",
       "    </tr>\n",
       "  </thead>\n",
       "  <tbody>\n",
       "    <tr>\n",
       "      <th>0</th>\n",
       "      <td>PERMANENTE</td>\n",
       "      <td>PONTIFÍCIA UNIVERSIDADE CATÓLICA DO RIO DE JAN...</td>\n",
       "      <td>ALBERTO BARBOSA RAPOSO</td>\n",
       "      <td>45079</td>\n",
       "    </tr>\n",
       "    <tr>\n",
       "      <th>1</th>\n",
       "      <td>PERMANENTE</td>\n",
       "      <td>PONTIFÍCIA UNIVERSIDADE CATÓLICA DO RIO DE JAN...</td>\n",
       "      <td>ALESSANDRO FABRICIO GARCIA</td>\n",
       "      <td>45076</td>\n",
       "    </tr>\n",
       "    <tr>\n",
       "      <th>2</th>\n",
       "      <td>COLABORADOR</td>\n",
       "      <td>PONTIFÍCIA UNIVERSIDADE CATÓLICA DO RIO DE JAN...</td>\n",
       "      <td>ANTONIO LUZ FURTADO</td>\n",
       "      <td>45077</td>\n",
       "    </tr>\n",
       "    <tr>\n",
       "      <th>3</th>\n",
       "      <td>PERMANENTE</td>\n",
       "      <td>PONTIFÍCIA UNIVERSIDADE CATÓLICA DO RIO DE JAN...</td>\n",
       "      <td>ARNDT VON STAA</td>\n",
       "      <td>45074</td>\n",
       "    </tr>\n",
       "    <tr>\n",
       "      <th>4</th>\n",
       "      <td>PERMANENTE</td>\n",
       "      <td>PONTIFÍCIA UNIVERSIDADE CATÓLICA DO RIO DE JAN...</td>\n",
       "      <td>BRUNO FEIJO</td>\n",
       "      <td>45093</td>\n",
       "    </tr>\n",
       "  </tbody>\n",
       "</table>\n",
       "</div>"
      ],
      "text/plain": [
       "     categoria                                                ies  \\\n",
       "0   PERMANENTE  PONTIFÍCIA UNIVERSIDADE CATÓLICA DO RIO DE JAN...   \n",
       "1   PERMANENTE  PONTIFÍCIA UNIVERSIDADE CATÓLICA DO RIO DE JAN...   \n",
       "2  COLABORADOR  PONTIFÍCIA UNIVERSIDADE CATÓLICA DO RIO DE JAN...   \n",
       "3   PERMANENTE  PONTIFÍCIA UNIVERSIDADE CATÓLICA DO RIO DE JAN...   \n",
       "4   PERMANENTE  PONTIFÍCIA UNIVERSIDADE CATÓLICA DO RIO DE JAN...   \n",
       "\n",
       "                         nome  prof_id  \n",
       "0      ALBERTO BARBOSA RAPOSO    45079  \n",
       "1  ALESSANDRO FABRICIO GARCIA    45076  \n",
       "2         ANTONIO LUZ FURTADO    45077  \n",
       "3              ARNDT VON STAA    45074  \n",
       "4                 BRUNO FEIJO    45093  "
      ]
     },
     "execution_count": 15,
     "metadata": {},
     "output_type": "execute_result"
    }
   ],
   "source": [
    "docentes_df.head()"
   ]
  },
  {
   "cell_type": "markdown",
   "metadata": {},
   "source": [
    "4) Qual foi a distribuição de alunos de Mestrado/Doutorado pelos professores de cada programa em 2017?"
   ]
  },
  {
   "cell_type": "code",
   "execution_count": 16,
   "metadata": {},
   "outputs": [
    {
     "data": {
      "text/html": [
       "<div>\n",
       "<style scoped>\n",
       "    .dataframe tbody tr th:only-of-type {\n",
       "        vertical-align: middle;\n",
       "    }\n",
       "\n",
       "    .dataframe tbody tr th {\n",
       "        vertical-align: top;\n",
       "    }\n",
       "\n",
       "    .dataframe thead th {\n",
       "        text-align: right;\n",
       "    }\n",
       "</style>\n",
       "<table border=\"1\" class=\"dataframe\">\n",
       "  <thead>\n",
       "    <tr style=\"text-align: right;\">\n",
       "      <th></th>\n",
       "      <th>nome</th>\n",
       "      <th>nivel</th>\n",
       "      <th>programa</th>\n",
       "    </tr>\n",
       "  </thead>\n",
       "  <tbody>\n",
       "    <tr>\n",
       "      <th>0</th>\n",
       "      <td>ALBERTO BARBOSA RAPOSO</td>\n",
       "      <td>Mestrado</td>\n",
       "      <td>INFORMÁTICA(31005012004P9)</td>\n",
       "    </tr>\n",
       "    <tr>\n",
       "      <th>1</th>\n",
       "      <td>ALBERTO BARBOSA RAPOSO</td>\n",
       "      <td>Doutorado</td>\n",
       "      <td>INFORMÁTICA(31005012004P9)</td>\n",
       "    </tr>\n",
       "    <tr>\n",
       "      <th>2</th>\n",
       "      <td>ALBERTO BARBOSA RAPOSO</td>\n",
       "      <td>Mestrado</td>\n",
       "      <td>INFORMÁTICA(31005012004P9)</td>\n",
       "    </tr>\n",
       "    <tr>\n",
       "      <th>3</th>\n",
       "      <td>ALBERTO BARBOSA RAPOSO</td>\n",
       "      <td>Mestrado</td>\n",
       "      <td>INFORMÁTICA(31005012004P9)</td>\n",
       "    </tr>\n",
       "    <tr>\n",
       "      <th>4</th>\n",
       "      <td>ALBERTO BARBOSA RAPOSO</td>\n",
       "      <td>Doutorado</td>\n",
       "      <td>INFORMÁTICA(31005012004P9)</td>\n",
       "    </tr>\n",
       "  </tbody>\n",
       "</table>\n",
       "</div>"
      ],
      "text/plain": [
       "                     nome      nivel                    programa\n",
       "0  ALBERTO BARBOSA RAPOSO   Mestrado  INFORMÁTICA(31005012004P9)\n",
       "1  ALBERTO BARBOSA RAPOSO  Doutorado  INFORMÁTICA(31005012004P9)\n",
       "2  ALBERTO BARBOSA RAPOSO   Mestrado  INFORMÁTICA(31005012004P9)\n",
       "3  ALBERTO BARBOSA RAPOSO   Mestrado  INFORMÁTICA(31005012004P9)\n",
       "4  ALBERTO BARBOSA RAPOSO  Doutorado  INFORMÁTICA(31005012004P9)"
      ]
     },
     "execution_count": 16,
     "metadata": {},
     "output_type": "execute_result"
    }
   ],
   "source": [
    "discentes_pos_df = discentes_df[discentes_df.nivel.isin([\"Mestrado\", \"Doutorado\"])]\n",
    "discentes_pos_df = discentes_pos_df[[\"nivel\", \"programa\",\"orientador\"]]\n",
    "\n",
    "docentes_pos_df = docentes_df[[\"nome\"]]\n",
    "\n",
    "docentes_alunos_df = pd.merge( docentes_pos_df , discentes_pos_df , left_on='nome' , right_on='orientador' )\n",
    "docentes_alunos_df = docentes_alunos_df[[\"nome\", \"nivel\",\"programa\"]]\n",
    "docentes_alunos_df.head()"
   ]
  },
  {
   "cell_type": "code",
   "execution_count": 133,
   "metadata": {},
   "outputs": [
    {
     "data": {
      "text/html": [
       "<div>\n",
       "<style scoped>\n",
       "    .dataframe tbody tr th:only-of-type {\n",
       "        vertical-align: middle;\n",
       "    }\n",
       "\n",
       "    .dataframe tbody tr th {\n",
       "        vertical-align: top;\n",
       "    }\n",
       "\n",
       "    .dataframe thead th {\n",
       "        text-align: right;\n",
       "    }\n",
       "</style>\n",
       "<table border=\"1\" class=\"dataframe\">\n",
       "  <thead>\n",
       "    <tr style=\"text-align: right;\">\n",
       "      <th></th>\n",
       "      <th>professor</th>\n",
       "      <th>nivel</th>\n",
       "      <th>alunos</th>\n",
       "    </tr>\n",
       "  </thead>\n",
       "  <tbody>\n",
       "    <tr>\n",
       "      <th>0</th>\n",
       "      <td>ABEL GUILHERMINO DA SILVA FILHO</td>\n",
       "      <td>Doutorado</td>\n",
       "      <td>9</td>\n",
       "    </tr>\n",
       "    <tr>\n",
       "      <th>1</th>\n",
       "      <td>ABEL GUILHERMINO DA SILVA FILHO</td>\n",
       "      <td>Mestrado</td>\n",
       "      <td>4</td>\n",
       "    </tr>\n",
       "    <tr>\n",
       "      <th>2</th>\n",
       "      <td>ADENILSO DA SILVA SIMAO</td>\n",
       "      <td>Doutorado</td>\n",
       "      <td>7</td>\n",
       "    </tr>\n",
       "    <tr>\n",
       "      <th>3</th>\n",
       "      <td>ADRIANA SANTAROSA VIVACQUA</td>\n",
       "      <td>Doutorado</td>\n",
       "      <td>1</td>\n",
       "    </tr>\n",
       "    <tr>\n",
       "      <th>4</th>\n",
       "      <td>ADRIANA SANTAROSA VIVACQUA</td>\n",
       "      <td>Mestrado</td>\n",
       "      <td>7</td>\n",
       "    </tr>\n",
       "  </tbody>\n",
       "</table>\n",
       "</div>"
      ],
      "text/plain": [
       "                         professor      nivel  alunos\n",
       "0  ABEL GUILHERMINO DA SILVA FILHO  Doutorado       9\n",
       "1  ABEL GUILHERMINO DA SILVA FILHO   Mestrado       4\n",
       "2          ADENILSO DA SILVA SIMAO  Doutorado       7\n",
       "3       ADRIANA SANTAROSA VIVACQUA  Doutorado       1\n",
       "4       ADRIANA SANTAROSA VIVACQUA   Mestrado       7"
      ]
     },
     "execution_count": 133,
     "metadata": {},
     "output_type": "execute_result"
    }
   ],
   "source": [
    "# Agrupando e contabilizando alunos por professor por nivel\n",
    "docentes_alunos_grouped_df = docentes_alunos_df.groupby(['nome','nivel'],).count().reset_index()\n",
    "docentes_alunos_grouped_df.columns = ['professor','nivel','alunos']\n",
    "\n",
    "docentes_alunos_grouped_df.head()"
   ]
  },
  {
   "cell_type": "code",
   "execution_count": 134,
   "metadata": {},
   "outputs": [],
   "source": [
    "# Transformando linhas do \"nivel\" em colunas de \"nivel\" ( oposto de melt )\n",
    "docentes_alunos_table = docentes_alunos_grouped_df.pivot_table(\n",
    "            index=['professor'], \n",
    "            columns=['nivel'],\n",
    "            values='alunos',\n",
    "            aggfunc=np.sum).fillna(0)\n"
   ]
  },
  {
   "cell_type": "code",
   "execution_count": 135,
   "metadata": {},
   "outputs": [],
   "source": [
    "# Readicionando os professores sem alunos ( foram perdidos no merge )\n",
    "set_docentes_totais = set(docentes_df.nome)\n",
    "set_docentes_comalunos = set(docentes_alunos_df.nome)\n",
    "set_docentes_semalunos = set_docentes_totais - set_docentes_comalunos\n",
    "\n",
    "docentes_semalunos_df = pd.DataFrame( index = list(set_docentes_semalunos) )\n",
    "docentes_semalunos_df.index.name = 'professor'\n",
    "\n",
    "docentes_alunos_table = docentes_alunos_table.append( docentes_semalunos_df ).fillna(0)"
   ]
  },
  {
   "cell_type": "code",
   "execution_count": 136,
   "metadata": {},
   "outputs": [
    {
     "data": {
      "text/html": [
       "<div>\n",
       "<style scoped>\n",
       "    .dataframe tbody tr th:only-of-type {\n",
       "        vertical-align: middle;\n",
       "    }\n",
       "\n",
       "    .dataframe tbody tr th {\n",
       "        vertical-align: top;\n",
       "    }\n",
       "\n",
       "    .dataframe thead th {\n",
       "        text-align: right;\n",
       "    }\n",
       "</style>\n",
       "<table border=\"1\" class=\"dataframe\">\n",
       "  <thead>\n",
       "    <tr style=\"text-align: right;\">\n",
       "      <th></th>\n",
       "      <th>Doutorado</th>\n",
       "      <th>Mestrado</th>\n",
       "      <th>Total</th>\n",
       "    </tr>\n",
       "    <tr>\n",
       "      <th>professor</th>\n",
       "      <th></th>\n",
       "      <th></th>\n",
       "      <th></th>\n",
       "    </tr>\n",
       "  </thead>\n",
       "  <tbody>\n",
       "    <tr>\n",
       "      <th>ABEL GUILHERMINO DA SILVA FILHO</th>\n",
       "      <td>9</td>\n",
       "      <td>4</td>\n",
       "      <td>13</td>\n",
       "    </tr>\n",
       "    <tr>\n",
       "      <th>ADENILSO DA SILVA SIMAO</th>\n",
       "      <td>7</td>\n",
       "      <td>0</td>\n",
       "      <td>7</td>\n",
       "    </tr>\n",
       "    <tr>\n",
       "      <th>ADRIANA SANTAROSA VIVACQUA</th>\n",
       "      <td>1</td>\n",
       "      <td>7</td>\n",
       "      <td>8</td>\n",
       "    </tr>\n",
       "    <tr>\n",
       "      <th>ADRIANO ALONSO VELOSO</th>\n",
       "      <td>6</td>\n",
       "      <td>7</td>\n",
       "      <td>13</td>\n",
       "    </tr>\n",
       "    <tr>\n",
       "      <th>ADRIANO AUGUSTO DE MORAES SARMENTO</th>\n",
       "      <td>0</td>\n",
       "      <td>2</td>\n",
       "      <td>2</td>\n",
       "    </tr>\n",
       "  </tbody>\n",
       "</table>\n",
       "</div>"
      ],
      "text/plain": [
       "                                    Doutorado  Mestrado  Total\n",
       "professor                                                     \n",
       "ABEL GUILHERMINO DA SILVA FILHO             9         4     13\n",
       "ADENILSO DA SILVA SIMAO                     7         0      7\n",
       "ADRIANA SANTAROSA VIVACQUA                  1         7      8\n",
       "ADRIANO ALONSO VELOSO                       6         7     13\n",
       "ADRIANO AUGUSTO DE MORAES SARMENTO          0         2      2"
      ]
     },
     "execution_count": 136,
     "metadata": {},
     "output_type": "execute_result"
    }
   ],
   "source": [
    "# Ajustando valores numericos e adicionando coluna \"TOTAL\"\n",
    "docentes_alunos_table.Doutorado = docentes_alunos_table.Doutorado.astype(int)\n",
    "docentes_alunos_table.Mestrado = docentes_alunos_table.Mestrado.astype(int)\n",
    "\n",
    "docentes_alunos_table['Total'] = docentes_alunos_table['Doutorado'] + docentes_alunos_table['Mestrado']\n",
    "\n",
    "docentes_alunos_table.head()"
   ]
  },
  {
   "cell_type": "code",
   "execution_count": 137,
   "metadata": {},
   "outputs": [
    {
     "data": {
      "text/html": [
       "<div>\n",
       "<style scoped>\n",
       "    .dataframe tbody tr th:only-of-type {\n",
       "        vertical-align: middle;\n",
       "    }\n",
       "\n",
       "    .dataframe tbody tr th {\n",
       "        vertical-align: top;\n",
       "    }\n",
       "\n",
       "    .dataframe thead th {\n",
       "        text-align: right;\n",
       "    }\n",
       "</style>\n",
       "<table border=\"1\" class=\"dataframe\">\n",
       "  <thead>\n",
       "    <tr style=\"text-align: right;\">\n",
       "      <th></th>\n",
       "      <th>Doutorado</th>\n",
       "      <th>Mestrado</th>\n",
       "      <th>Total</th>\n",
       "    </tr>\n",
       "  </thead>\n",
       "  <tbody>\n",
       "    <tr>\n",
       "      <th>count</th>\n",
       "      <td>487.000000</td>\n",
       "      <td>487.000000</td>\n",
       "      <td>487.000000</td>\n",
       "    </tr>\n",
       "    <tr>\n",
       "      <th>mean</th>\n",
       "      <td>3.332649</td>\n",
       "      <td>3.443532</td>\n",
       "      <td>6.776181</td>\n",
       "    </tr>\n",
       "    <tr>\n",
       "      <th>std</th>\n",
       "      <td>2.900302</td>\n",
       "      <td>2.691320</td>\n",
       "      <td>4.372709</td>\n",
       "    </tr>\n",
       "    <tr>\n",
       "      <th>min</th>\n",
       "      <td>0.000000</td>\n",
       "      <td>0.000000</td>\n",
       "      <td>0.000000</td>\n",
       "    </tr>\n",
       "    <tr>\n",
       "      <th>25%</th>\n",
       "      <td>1.000000</td>\n",
       "      <td>1.000000</td>\n",
       "      <td>3.000000</td>\n",
       "    </tr>\n",
       "    <tr>\n",
       "      <th>50%</th>\n",
       "      <td>3.000000</td>\n",
       "      <td>3.000000</td>\n",
       "      <td>7.000000</td>\n",
       "    </tr>\n",
       "    <tr>\n",
       "      <th>75%</th>\n",
       "      <td>5.000000</td>\n",
       "      <td>5.000000</td>\n",
       "      <td>10.000000</td>\n",
       "    </tr>\n",
       "    <tr>\n",
       "      <th>max</th>\n",
       "      <td>16.000000</td>\n",
       "      <td>16.000000</td>\n",
       "      <td>23.000000</td>\n",
       "    </tr>\n",
       "  </tbody>\n",
       "</table>\n",
       "</div>"
      ],
      "text/plain": [
       "        Doutorado    Mestrado       Total\n",
       "count  487.000000  487.000000  487.000000\n",
       "mean     3.332649    3.443532    6.776181\n",
       "std      2.900302    2.691320    4.372709\n",
       "min      0.000000    0.000000    0.000000\n",
       "25%      1.000000    1.000000    3.000000\n",
       "50%      3.000000    3.000000    7.000000\n",
       "75%      5.000000    5.000000   10.000000\n",
       "max     16.000000   16.000000   23.000000"
      ]
     },
     "execution_count": 137,
     "metadata": {},
     "output_type": "execute_result"
    }
   ],
   "source": [
    "# Sumário \n",
    "docentes_alunos_table.describe()"
   ]
  },
  {
   "cell_type": "code",
   "execution_count": 138,
   "metadata": {},
   "outputs": [
    {
     "data": {
      "text/html": [
       "<div>\n",
       "<style scoped>\n",
       "    .dataframe tbody tr th:only-of-type {\n",
       "        vertical-align: middle;\n",
       "    }\n",
       "\n",
       "    .dataframe tbody tr th {\n",
       "        vertical-align: top;\n",
       "    }\n",
       "\n",
       "    .dataframe thead th {\n",
       "        text-align: right;\n",
       "    }\n",
       "</style>\n",
       "<table border=\"1\" class=\"dataframe\">\n",
       "  <thead>\n",
       "    <tr style=\"text-align: right;\">\n",
       "      <th></th>\n",
       "      <th>professor</th>\n",
       "    </tr>\n",
       "    <tr>\n",
       "      <th>Total</th>\n",
       "      <th></th>\n",
       "    </tr>\n",
       "  </thead>\n",
       "  <tbody>\n",
       "    <tr>\n",
       "      <th>0</th>\n",
       "      <td>29</td>\n",
       "    </tr>\n",
       "    <tr>\n",
       "      <th>1</th>\n",
       "      <td>27</td>\n",
       "    </tr>\n",
       "    <tr>\n",
       "      <th>2</th>\n",
       "      <td>46</td>\n",
       "    </tr>\n",
       "    <tr>\n",
       "      <th>3</th>\n",
       "      <td>26</td>\n",
       "    </tr>\n",
       "    <tr>\n",
       "      <th>4</th>\n",
       "      <td>38</td>\n",
       "    </tr>\n",
       "    <tr>\n",
       "      <th>5</th>\n",
       "      <td>42</td>\n",
       "    </tr>\n",
       "    <tr>\n",
       "      <th>6</th>\n",
       "      <td>27</td>\n",
       "    </tr>\n",
       "    <tr>\n",
       "      <th>7</th>\n",
       "      <td>43</td>\n",
       "    </tr>\n",
       "    <tr>\n",
       "      <th>8</th>\n",
       "      <td>39</td>\n",
       "    </tr>\n",
       "    <tr>\n",
       "      <th>9</th>\n",
       "      <td>44</td>\n",
       "    </tr>\n",
       "    <tr>\n",
       "      <th>10</th>\n",
       "      <td>31</td>\n",
       "    </tr>\n",
       "    <tr>\n",
       "      <th>11</th>\n",
       "      <td>27</td>\n",
       "    </tr>\n",
       "    <tr>\n",
       "      <th>12</th>\n",
       "      <td>19</td>\n",
       "    </tr>\n",
       "    <tr>\n",
       "      <th>13</th>\n",
       "      <td>19</td>\n",
       "    </tr>\n",
       "    <tr>\n",
       "      <th>14</th>\n",
       "      <td>9</td>\n",
       "    </tr>\n",
       "    <tr>\n",
       "      <th>15</th>\n",
       "      <td>6</td>\n",
       "    </tr>\n",
       "    <tr>\n",
       "      <th>16</th>\n",
       "      <td>3</td>\n",
       "    </tr>\n",
       "    <tr>\n",
       "      <th>17</th>\n",
       "      <td>4</td>\n",
       "    </tr>\n",
       "    <tr>\n",
       "      <th>18</th>\n",
       "      <td>2</td>\n",
       "    </tr>\n",
       "    <tr>\n",
       "      <th>19</th>\n",
       "      <td>3</td>\n",
       "    </tr>\n",
       "    <tr>\n",
       "      <th>20</th>\n",
       "      <td>2</td>\n",
       "    </tr>\n",
       "    <tr>\n",
       "      <th>23</th>\n",
       "      <td>1</td>\n",
       "    </tr>\n",
       "  </tbody>\n",
       "</table>\n",
       "</div>"
      ],
      "text/plain": [
       "       professor\n",
       "Total           \n",
       "0             29\n",
       "1             27\n",
       "2             46\n",
       "3             26\n",
       "4             38\n",
       "5             42\n",
       "6             27\n",
       "7             43\n",
       "8             39\n",
       "9             44\n",
       "10            31\n",
       "11            27\n",
       "12            19\n",
       "13            19\n",
       "14             9\n",
       "15             6\n",
       "16             3\n",
       "17             4\n",
       "18             2\n",
       "19             3\n",
       "20             2\n",
       "23             1"
      ]
     },
     "execution_count": 138,
     "metadata": {},
     "output_type": "execute_result"
    }
   ],
   "source": [
    "# TODO: Reprenta graficamente\n",
    "# Ideia: Eixo X: Quantidade de alunos, Eixo Y: Quantidade de Professores\n",
    "\n",
    "qtd_professores_por_alunos = docentes_alunos_table['Total'].reset_index()\n",
    "qtd_professores_por_alunos = qtd_professores_por_alunos.groupby('Total').count()\n",
    "\n",
    "qtd_professores_por_alunos"
   ]
  },
  {
   "cell_type": "code",
   "execution_count": 185,
   "metadata": {},
   "outputs": [
    {
     "data": {
      "image/png": "[encoded data removed]",
      "text/plain": [
       "<matplotlib.figure.Figure at 0x1e962bc26d8>"
      ]
     },
     "metadata": {},
     "output_type": "display_data"
    }
   ],
   "source": [
    "fig, ax = plt.subplots()\n",
    "\n",
    "\n",
    "plt.barh( qtd_professores_por_alunos.index , qtd_professores_por_alunos.professor  )\n",
    "plt.yticks( qtd_professores_por_alunos.index , qtd_professores_por_alunos.index )\n",
    "\n",
    "for i, v in enumerate(qtd_professores_por_alunos.index ):\n",
    "    ax.text( qtd_professores_por_alunos.iloc[i]['professor'] + 0.5 ,\n",
    "            v, \n",
    "            str(qtd_professores_por_alunos.iloc[i]['professor']), \n",
    "            color='red', \n",
    "            fontweight='regular',\n",
    "            va='center')\n",
    "\n",
    "plt.title( \"Distribuição de Alunos por Professor\")\n",
    "\n",
    "plt.xlabel(\"Qtd Professores\")\n",
    "plt.ylabel(\"Qtd Alunos\")\n",
    "\n",
    "fig.set_size_inches(12, 7)\n",
    "\n",
    "plt.show()"
   ]
  },
  {
   "cell_type": "markdown",
   "metadata": {},
   "source": [
    "## Trabalhos de Conclusão\n",
    "5) Quantos alunos de Mestrado/Doutorado defenderam suas dissertações/teses em 2017 (arquivo trabalhos.csv)?\n",
    "\n",
    "6) Como os trabalhos de Mestrado/Doutorado defendidos em 2017 foram distribuídos pelas áreas de pesquisa dos programas?\n",
    "\n",
    "7) Como as defesas de Mestrado/Doutorado foram distribuídas ao longo do ano de 2017?"
   ]
  },
  {
   "cell_type": "code",
   "execution_count": null,
   "metadata": {},
   "outputs": [],
   "source": []
  },
  {
   "cell_type": "markdown",
   "metadata": {},
   "source": [
    "## Discentes x Trabalhos de Conclusão\n",
    "8) Qual fração de alunos de Mestrado/Doutorado (do total em cada programa) defendeu em 2017?"
   ]
  },
  {
   "cell_type": "code",
   "execution_count": null,
   "metadata": {},
   "outputs": [],
   "source": []
  },
  {
   "cell_type": "markdown",
   "metadata": {},
   "source": [
    "## Produção\n",
    "9) Quantos artigos de periódico/trabalhos em anais foram publicados por cada programa em 2017?\n",
    "\n",
    "10) Qual é a taxa de artigos de periódico/trabalhos em anais por número de docentes permanentes de cada programa em 2017?\n",
    "\n",
    "11) Qual fração de artigos de periódico/trabalhos em anais publicados em 2017 teve a coautoria de discentes?\n",
    "\n",
    "12) Qual fração de artigos de periódico/trabalhos em anais publicados em 2017 teve a coautoria de participantes externos?"
   ]
  },
  {
   "cell_type": "code",
   "execution_count": null,
   "metadata": {},
   "outputs": [],
   "source": []
  },
  {
   "cell_type": "markdown",
   "metadata": {},
   "source": [
    "## Produção x Qualis\n",
    "13) Qual é a distribuição de artigos de periódico publicados em 2017, por estrato do Qualis?\n",
    "\n",
    "14) Considerando os pesos dos artigos de cada estrato do índice restrito ({'A1': 1, 'A2': 0.85, 'B1': 0.70}), qual o índice restrito relativo de cada programa, considerando apenas os artigos em periódicos, e dividido pelo número de docentes permanentes (ordenado do maior para o menor)?\n",
    "\n",
    "15) Considerando os pesos dos artigos de cada estrato do índice geral ({'A1': 1, 'A2': 0.85, 'B1': 0.70, 'B2': 0.50, 'B3': 0.20, 'B4': 0.10, 'B5': 0.05, 'C': 0.0}), qual o índice geral relativo de cada programa, considerando apenas os artigos em periódicos, e dividido pelo número de docentes permanentes (ordenado do maior para o menor)?"
   ]
  },
  {
   "cell_type": "code",
   "execution_count": null,
   "metadata": {},
   "outputs": [],
   "source": []
  }
 ],
 "metadata": {
  "kernelspec": {
   "display_name": "Python 3",
   "language": "python",
   "name": "python3"
  },
  "language_info": {
   "codemirror_mode": {
    "name": "ipython",
    "version": 3
   },
   "file_extension": ".py",
   "mimetype": "text/x-python",
   "name": "python",
   "nbconvert_exporter": "python",
   "pygments_lexer": "ipython3",
   "version": "3.6.4"
  }
 },
 "nbformat": 4,
 "nbformat_minor": 2
}
