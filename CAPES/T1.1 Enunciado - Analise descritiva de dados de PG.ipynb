{
 "cells": [
  {
   "cell_type": "markdown",
   "metadata": {},
   "source": [
    "Os arquivos compactados no arquivo dados_CAPES_2018-04-06.zip trazem dados sobre os programas de pós-graduação em Informática de algumas instituições em 2017. Tratam-se de dados públicos, obtidos da plataforma Sucupira da CAPES (https://sucupira.capes.gov.br/sucupira/). \n",
    "\n",
    "O objetivo do trabalho T1.1 é fazer uma análise descritiva e responder algumas perguntas sobre os dados. Sempre que possível, as respostas devem ser dadas numérica e visualmente."
   ]
  },
  {
   "cell_type": "code",
   "execution_count": 1,
   "metadata": {},
   "outputs": [],
   "source": [
    "import pandas as pd\n",
    "import matplotlib.pyplot as plt\n",
    "import numpy as np\n",
    "\n",
    "%matplotlib inline"
   ]
  },
  {
   "cell_type": "code",
   "execution_count": 2,
   "metadata": {},
   "outputs": [],
   "source": [
    "discentes_df = pd.read_csv('discentes.csv')\n",
    "docentes_df = pd.read_csv('docentes.csv')\n",
    "producao_df = pd.read_csv('producao.csv')\n",
    "trabalhos_df = pd.read_csv('trabalhos.csv')\n",
    "\n",
    "qualis_df = pd.read_excel('Qualis CC 2013-2016.xlsx')"
   ]
  },
  {
   "cell_type": "markdown",
   "metadata": {},
   "source": [
    "## Docentes\n",
    "1) Quantos professores (docentes) havia em cada programa em 2017, em cada quadro (permanente, colaborador, visitante)?"
   ]
  },
  {
   "cell_type": "code",
   "execution_count": 3,
   "metadata": {},
   "outputs": [
    {
     "data": {
      "text/html": [
       "<div>\n",
       "<style scoped>\n",
       "    .dataframe tbody tr th:only-of-type {\n",
       "        vertical-align: middle;\n",
       "    }\n",
       "\n",
       "    .dataframe tbody tr th {\n",
       "        vertical-align: top;\n",
       "    }\n",
       "\n",
       "    .dataframe thead th {\n",
       "        text-align: right;\n",
       "    }\n",
       "</style>\n",
       "<table border=\"1\" class=\"dataframe\">\n",
       "  <thead>\n",
       "    <tr style=\"text-align: right;\">\n",
       "      <th></th>\n",
       "      <th>categoria</th>\n",
       "      <th>ies</th>\n",
       "      <th>nome</th>\n",
       "      <th>prof_id</th>\n",
       "    </tr>\n",
       "  </thead>\n",
       "  <tbody>\n",
       "    <tr>\n",
       "      <th>0</th>\n",
       "      <td>PERMANENTE</td>\n",
       "      <td>PONTIFÍCIA UNIVERSIDADE CATÓLICA DO RIO DE JAN...</td>\n",
       "      <td>ALBERTO BARBOSA RAPOSO</td>\n",
       "      <td>45079</td>\n",
       "    </tr>\n",
       "    <tr>\n",
       "      <th>1</th>\n",
       "      <td>PERMANENTE</td>\n",
       "      <td>PONTIFÍCIA UNIVERSIDADE CATÓLICA DO RIO DE JAN...</td>\n",
       "      <td>ALESSANDRO FABRICIO GARCIA</td>\n",
       "      <td>45076</td>\n",
       "    </tr>\n",
       "    <tr>\n",
       "      <th>2</th>\n",
       "      <td>COLABORADOR</td>\n",
       "      <td>PONTIFÍCIA UNIVERSIDADE CATÓLICA DO RIO DE JAN...</td>\n",
       "      <td>ANTONIO LUZ FURTADO</td>\n",
       "      <td>45077</td>\n",
       "    </tr>\n",
       "    <tr>\n",
       "      <th>3</th>\n",
       "      <td>PERMANENTE</td>\n",
       "      <td>PONTIFÍCIA UNIVERSIDADE CATÓLICA DO RIO DE JAN...</td>\n",
       "      <td>ARNDT VON STAA</td>\n",
       "      <td>45074</td>\n",
       "    </tr>\n",
       "    <tr>\n",
       "      <th>4</th>\n",
       "      <td>PERMANENTE</td>\n",
       "      <td>PONTIFÍCIA UNIVERSIDADE CATÓLICA DO RIO DE JAN...</td>\n",
       "      <td>BRUNO FEIJO</td>\n",
       "      <td>45093</td>\n",
       "    </tr>\n",
       "  </tbody>\n",
       "</table>\n",
       "</div>"
      ],
      "text/plain": [
       "     categoria                                                ies  \\\n",
       "0   PERMANENTE  PONTIFÍCIA UNIVERSIDADE CATÓLICA DO RIO DE JAN...   \n",
       "1   PERMANENTE  PONTIFÍCIA UNIVERSIDADE CATÓLICA DO RIO DE JAN...   \n",
       "2  COLABORADOR  PONTIFÍCIA UNIVERSIDADE CATÓLICA DO RIO DE JAN...   \n",
       "3   PERMANENTE  PONTIFÍCIA UNIVERSIDADE CATÓLICA DO RIO DE JAN...   \n",
       "4   PERMANENTE  PONTIFÍCIA UNIVERSIDADE CATÓLICA DO RIO DE JAN...   \n",
       "\n",
       "                         nome  prof_id  \n",
       "0      ALBERTO BARBOSA RAPOSO    45079  \n",
       "1  ALESSANDRO FABRICIO GARCIA    45076  \n",
       "2         ANTONIO LUZ FURTADO    45077  \n",
       "3              ARNDT VON STAA    45074  \n",
       "4                 BRUNO FEIJO    45093  "
      ]
     },
     "execution_count": 3,
     "metadata": {},
     "output_type": "execute_result"
    }
   ],
   "source": [
    "docentes_df.head()"
   ]
  },
  {
   "cell_type": "code",
   "execution_count": 4,
   "metadata": {},
   "outputs": [
    {
     "data": {
      "text/plain": [
       "PERMANENTE     431\n",
       "COLABORADOR     56\n",
       "Name: categoria, dtype: int64"
      ]
     },
     "execution_count": 4,
     "metadata": {},
     "output_type": "execute_result"
    }
   ],
   "source": [
    "docentes_df.categoria.value_counts()"
   ]
  },
  {
   "cell_type": "code",
   "execution_count": 5,
   "metadata": {},
   "outputs": [
    {
     "data": {
      "image/png": "[encoded data removed]",
      "text/plain": [
       "<matplotlib.figure.Figure at 0x7f9f037816a0>"
      ]
     },
     "metadata": {},
     "output_type": "display_data"
    }
   ],
   "source": [
    "plot = docentes_df.categoria.value_counts().plot(kind='bar')\n",
    "\n",
    "for idx, value in enumerate(list(docentes_df.categoria.value_counts())): \n",
    "    plot.annotate(value,(idx, value), xytext=(0, 0), textcoords='offset points')\n"
   ]
  },
  {
   "cell_type": "code",
   "execution_count": 16,
   "metadata": {},
   "outputs": [
    {
     "data": {
      "text/html": [
       "<div>\n",
       "<style scoped>\n",
       "    .dataframe tbody tr th:only-of-type {\n",
       "        vertical-align: middle;\n",
       "    }\n",
       "\n",
       "    .dataframe tbody tr th {\n",
       "        vertical-align: top;\n",
       "    }\n",
       "\n",
       "    .dataframe thead th {\n",
       "        text-align: right;\n",
       "    }\n",
       "</style>\n",
       "<table border=\"1\" class=\"dataframe\">\n",
       "  <thead>\n",
       "    <tr style=\"text-align: right;\">\n",
       "      <th></th>\n",
       "      <th>orientador</th>\n",
       "      <th>programa</th>\n",
       "    </tr>\n",
       "  </thead>\n",
       "  <tbody>\n",
       "    <tr>\n",
       "      <th>0</th>\n",
       "      <td>ABEL GUILHERMINO DA SILVA FILHO</td>\n",
       "      <td>CIÊNCIAS DA COMPUTAÇÃO(25001019004P6)</td>\n",
       "    </tr>\n",
       "    <tr>\n",
       "      <th>1</th>\n",
       "      <td>ADENILSO DA SILVA SIMAO</td>\n",
       "      <td>CIÊNCIAS DA COMPUTAÇÃO E MATEMÁTICA COMPUTACIO...</td>\n",
       "    </tr>\n",
       "    <tr>\n",
       "      <th>2</th>\n",
       "      <td>ADRIANA SANTAROSA VIVACQUA</td>\n",
       "      <td>INFORMÁTICA(31001017110P8)</td>\n",
       "    </tr>\n",
       "    <tr>\n",
       "      <th>3</th>\n",
       "      <td>ADRIANO ALONSO VELOSO</td>\n",
       "      <td>CIÊNCIAS DA COMPUTAÇÃO(32001010004P6)</td>\n",
       "    </tr>\n",
       "    <tr>\n",
       "      <th>4</th>\n",
       "      <td>ADRIANO AUGUSTO DE MORAES SARMENTO</td>\n",
       "      <td>CIÊNCIAS DA COMPUTAÇÃO(25001019004P6)</td>\n",
       "    </tr>\n",
       "  </tbody>\n",
       "</table>\n",
       "</div>"
      ],
      "text/plain": [
       "                           orientador  \\\n",
       "0     ABEL GUILHERMINO DA SILVA FILHO   \n",
       "1             ADENILSO DA SILVA SIMAO   \n",
       "2          ADRIANA SANTAROSA VIVACQUA   \n",
       "3               ADRIANO ALONSO VELOSO   \n",
       "4  ADRIANO AUGUSTO DE MORAES SARMENTO   \n",
       "\n",
       "                                            programa  \n",
       "0              CIÊNCIAS DA COMPUTAÇÃO(25001019004P6)  \n",
       "1  CIÊNCIAS DA COMPUTAÇÃO E MATEMÁTICA COMPUTACIO...  \n",
       "2                         INFORMÁTICA(31001017110P8)  \n",
       "3              CIÊNCIAS DA COMPUTAÇÃO(32001010004P6)  \n",
       "4              CIÊNCIAS DA COMPUTAÇÃO(25001019004P6)  "
      ]
     },
     "execution_count": 16,
     "metadata": {},
     "output_type": "execute_result"
    }
   ],
   "source": [
    "discentes_prof_df = discentes_df[['orientador', 'programa']] \n",
    "discentes_prof_df = discentes_prof_df.groupby(['orientador', 'programa']).size().to_frame().reset_index()\n",
    "discentes_prof_df = discentes_prof_df[['orientador', 'programa']]\n",
    "\n",
    "discentes_prof_df.head()"
   ]
  },
  {
   "cell_type": "code",
   "execution_count": 17,
   "metadata": {},
   "outputs": [
    {
     "data": {
      "text/plain": [
       "count                458\n",
       "unique               458\n",
       "top       ELIANE MARTINS\n",
       "freq                   1\n",
       "Name: orientador, dtype: object"
      ]
     },
     "execution_count": 17,
     "metadata": {},
     "output_type": "execute_result"
    }
   ],
   "source": [
    "discentes_prof_df.orientador.describe()"
   ]
  },
  {
   "cell_type": "code",
   "execution_count": 35,
   "metadata": {},
   "outputs": [
    {
     "data": {
      "text/html": [
       "<div>\n",
       "<style scoped>\n",
       "    .dataframe tbody tr th:only-of-type {\n",
       "        vertical-align: middle;\n",
       "    }\n",
       "\n",
       "    .dataframe tbody tr th {\n",
       "        vertical-align: top;\n",
       "    }\n",
       "\n",
       "    .dataframe thead th {\n",
       "        text-align: right;\n",
       "    }\n",
       "</style>\n",
       "<table border=\"1\" class=\"dataframe\">\n",
       "  <thead>\n",
       "    <tr style=\"text-align: right;\">\n",
       "      <th></th>\n",
       "      <th>categoria</th>\n",
       "      <th>ies</th>\n",
       "      <th>nome</th>\n",
       "      <th>prof_id</th>\n",
       "    </tr>\n",
       "  </thead>\n",
       "  <tbody>\n",
       "    <tr>\n",
       "      <th>4</th>\n",
       "      <td>PERMANENTE</td>\n",
       "      <td>PONTIFÍCIA UNIVERSIDADE CATÓLICA DO RIO DE JAN...</td>\n",
       "      <td>BRUNO FEIJO</td>\n",
       "      <td>45093</td>\n",
       "    </tr>\n",
       "    <tr>\n",
       "      <th>35</th>\n",
       "      <td>COLABORADOR</td>\n",
       "      <td>PONTIFÍCIA UNIVERSIDADE CATÓLICA DO RIO GRANDE...</td>\n",
       "      <td>JORGE LUIS NICOLAS AUDY</td>\n",
       "      <td>86202</td>\n",
       "    </tr>\n",
       "    <tr>\n",
       "      <th>50</th>\n",
       "      <td>PERMANENTE</td>\n",
       "      <td>UNIVERSIDADE FEDERAL FLUMINENSE</td>\n",
       "      <td>ALINE MARINS PAES</td>\n",
       "      <td>152411</td>\n",
       "    </tr>\n",
       "    <tr>\n",
       "      <th>55</th>\n",
       "      <td>PERMANENTE</td>\n",
       "      <td>UNIVERSIDADE FEDERAL FLUMINENSE</td>\n",
       "      <td>BRUNO LOPES VIEIRA</td>\n",
       "      <td>152538</td>\n",
       "    </tr>\n",
       "    <tr>\n",
       "      <th>101</th>\n",
       "      <td>COLABORADOR</td>\n",
       "      <td>UNIVERSIDADE FEDERAL DE MINAS GERAIS</td>\n",
       "      <td>CRISTIANO ARBEX VALLE</td>\n",
       "      <td>172391</td>\n",
       "    </tr>\n",
       "    <tr>\n",
       "      <th>127</th>\n",
       "      <td>COLABORADOR</td>\n",
       "      <td>UNIVERSIDADE FEDERAL DE MINAS GERAIS</td>\n",
       "      <td>NEWTON JOSE VIEIRA</td>\n",
       "      <td>49000</td>\n",
       "    </tr>\n",
       "    <tr>\n",
       "      <th>167</th>\n",
       "      <td>COLABORADOR</td>\n",
       "      <td>UNIVERSIDADE FEDERAL DE PERNAMBUCO</td>\n",
       "      <td>EDSON COSTA DE BARROS CARVALHO FILHO</td>\n",
       "      <td>31315</td>\n",
       "    </tr>\n",
       "    <tr>\n",
       "      <th>179</th>\n",
       "      <td>PERMANENTE</td>\n",
       "      <td>UNIVERSIDADE FEDERAL DE PERNAMBUCO</td>\n",
       "      <td>GUSTAVO HENRIQUE PORTO DE CARVALHO</td>\n",
       "      <td>169215</td>\n",
       "    </tr>\n",
       "    <tr>\n",
       "      <th>207</th>\n",
       "      <td>PERMANENTE</td>\n",
       "      <td>UNIVERSIDADE FEDERAL DE PERNAMBUCO</td>\n",
       "      <td>PEDRO MACHADO MANHAES DE CASTRO</td>\n",
       "      <td>111945</td>\n",
       "    </tr>\n",
       "    <tr>\n",
       "      <th>236</th>\n",
       "      <td>PERMANENTE</td>\n",
       "      <td>UNIVERSIDADE FEDERAL DO RIO GRANDE DO SUL</td>\n",
       "      <td>ANDRE GRAHL PEREIRA</td>\n",
       "      <td>166203</td>\n",
       "    </tr>\n",
       "    <tr>\n",
       "      <th>248</th>\n",
       "      <td>PERMANENTE</td>\n",
       "      <td>UNIVERSIDADE FEDERAL DO RIO GRANDE DO SUL</td>\n",
       "      <td>EDUARDO SIMOES LOPES GASTAL</td>\n",
       "      <td>170372</td>\n",
       "    </tr>\n",
       "    <tr>\n",
       "      <th>261</th>\n",
       "      <td>PERMANENTE</td>\n",
       "      <td>UNIVERSIDADE FEDERAL DO RIO GRANDE DO SUL</td>\n",
       "      <td>LIANE MARGARIDA ROCKENBACH TAROUCO</td>\n",
       "      <td>82093</td>\n",
       "    </tr>\n",
       "    <tr>\n",
       "      <th>268</th>\n",
       "      <td>PERMANENTE</td>\n",
       "      <td>UNIVERSIDADE FEDERAL DO RIO GRANDE DO SUL</td>\n",
       "      <td>LUCIO MAURO DUARTE</td>\n",
       "      <td>159222</td>\n",
       "    </tr>\n",
       "    <tr>\n",
       "      <th>289</th>\n",
       "      <td>PERMANENTE</td>\n",
       "      <td>UNIVERSIDADE FEDERAL DO RIO GRANDE DO SUL</td>\n",
       "      <td>WEVERTON LUIS DA COSTA CORDEIRO</td>\n",
       "      <td>166200</td>\n",
       "    </tr>\n",
       "    <tr>\n",
       "      <th>291</th>\n",
       "      <td>PERMANENTE</td>\n",
       "      <td>UNIVERSIDADE FEDERAL DO RIO DE JANEIRO</td>\n",
       "      <td>ANTONIO JUAREZ SYLVIO MENEZES DE ALENCAR</td>\n",
       "      <td>103961</td>\n",
       "    </tr>\n",
       "    <tr>\n",
       "      <th>299</th>\n",
       "      <td>PERMANENTE</td>\n",
       "      <td>UNIVERSIDADE FEDERAL DO RIO DE JANEIRO</td>\n",
       "      <td>FABIO MASCARENHAS DE QUEIROZ</td>\n",
       "      <td>165542</td>\n",
       "    </tr>\n",
       "    <tr>\n",
       "      <th>308</th>\n",
       "      <td>PERMANENTE</td>\n",
       "      <td>UNIVERSIDADE FEDERAL DO RIO DE JANEIRO</td>\n",
       "      <td>LILIAN MARKENZON</td>\n",
       "      <td>41252</td>\n",
       "    </tr>\n",
       "    <tr>\n",
       "      <th>325</th>\n",
       "      <td>PERMANENTE</td>\n",
       "      <td>UNIVERSIDADE ESTADUAL DE CAMPINAS</td>\n",
       "      <td>ARNALDO VIEIRA MOURA</td>\n",
       "      <td>64125</td>\n",
       "    </tr>\n",
       "    <tr>\n",
       "      <th>346</th>\n",
       "      <td>PERMANENTE</td>\n",
       "      <td>UNIVERSIDADE ESTADUAL DE CAMPINAS</td>\n",
       "      <td>JOAO MEIDANIS</td>\n",
       "      <td>64141</td>\n",
       "    </tr>\n",
       "    <tr>\n",
       "      <th>349</th>\n",
       "      <td>COLABORADOR</td>\n",
       "      <td>UNIVERSIDADE ESTADUAL DE CAMPINAS</td>\n",
       "      <td>JULIO CESAR DOS REIS</td>\n",
       "      <td>156632</td>\n",
       "    </tr>\n",
       "    <tr>\n",
       "      <th>353</th>\n",
       "      <td>COLABORADOR</td>\n",
       "      <td>UNIVERSIDADE ESTADUAL DE CAMPINAS</td>\n",
       "      <td>LEONARDO MONTECCHI</td>\n",
       "      <td>156591</td>\n",
       "    </tr>\n",
       "    <tr>\n",
       "      <th>361</th>\n",
       "      <td>COLABORADOR</td>\n",
       "      <td>UNIVERSIDADE ESTADUAL DE CAMPINAS</td>\n",
       "      <td>PAULO CESAR CENTODUCATTE</td>\n",
       "      <td>64152</td>\n",
       "    </tr>\n",
       "    <tr>\n",
       "      <th>378</th>\n",
       "      <td>COLABORADOR</td>\n",
       "      <td>UNIVERSIDADE DE SÃO PAULO</td>\n",
       "      <td>ANATOLI IAMBARTSEV</td>\n",
       "      <td>109975</td>\n",
       "    </tr>\n",
       "    <tr>\n",
       "      <th>380</th>\n",
       "      <td>COLABORADOR</td>\n",
       "      <td>UNIVERSIDADE DE SÃO PAULO</td>\n",
       "      <td>ARNALDO MANDEL</td>\n",
       "      <td>60735</td>\n",
       "    </tr>\n",
       "    <tr>\n",
       "      <th>384</th>\n",
       "      <td>COLABORADOR</td>\n",
       "      <td>UNIVERSIDADE DE SÃO PAULO</td>\n",
       "      <td>DANIEL DE ANGELIS CORDEIRO</td>\n",
       "      <td>105593</td>\n",
       "    </tr>\n",
       "    <tr>\n",
       "      <th>398</th>\n",
       "      <td>COLABORADOR</td>\n",
       "      <td>UNIVERSIDADE DE SÃO PAULO</td>\n",
       "      <td>LEONIDAS DE OLIVEIRA BRANDAO</td>\n",
       "      <td>60764</td>\n",
       "    </tr>\n",
       "    <tr>\n",
       "      <th>404</th>\n",
       "      <td>COLABORADOR</td>\n",
       "      <td>UNIVERSIDADE DE SÃO PAULO</td>\n",
       "      <td>MARCO DIMAS GUBITOSO</td>\n",
       "      <td>60746</td>\n",
       "    </tr>\n",
       "    <tr>\n",
       "      <th>412</th>\n",
       "      <td>COLABORADOR</td>\n",
       "      <td>UNIVERSIDADE DE SÃO PAULO</td>\n",
       "      <td>SIANG WUN SONG</td>\n",
       "      <td>60750</td>\n",
       "    </tr>\n",
       "    <tr>\n",
       "      <th>422</th>\n",
       "      <td>COLABORADOR</td>\n",
       "      <td>UNIVERSIDADE DE SÃO PAULO ( SÃO CARLOS )</td>\n",
       "      <td>ALYSSON MACHADO COSTA</td>\n",
       "      <td>63213</td>\n",
       "    </tr>\n",
       "  </tbody>\n",
       "</table>\n",
       "</div>"
      ],
      "text/plain": [
       "       categoria                                                ies  \\\n",
       "4     PERMANENTE  PONTIFÍCIA UNIVERSIDADE CATÓLICA DO RIO DE JAN...   \n",
       "35   COLABORADOR  PONTIFÍCIA UNIVERSIDADE CATÓLICA DO RIO GRANDE...   \n",
       "50    PERMANENTE                    UNIVERSIDADE FEDERAL FLUMINENSE   \n",
       "55    PERMANENTE                    UNIVERSIDADE FEDERAL FLUMINENSE   \n",
       "101  COLABORADOR               UNIVERSIDADE FEDERAL DE MINAS GERAIS   \n",
       "127  COLABORADOR               UNIVERSIDADE FEDERAL DE MINAS GERAIS   \n",
       "167  COLABORADOR                 UNIVERSIDADE FEDERAL DE PERNAMBUCO   \n",
       "179   PERMANENTE                 UNIVERSIDADE FEDERAL DE PERNAMBUCO   \n",
       "207   PERMANENTE                 UNIVERSIDADE FEDERAL DE PERNAMBUCO   \n",
       "236   PERMANENTE          UNIVERSIDADE FEDERAL DO RIO GRANDE DO SUL   \n",
       "248   PERMANENTE          UNIVERSIDADE FEDERAL DO RIO GRANDE DO SUL   \n",
       "261   PERMANENTE          UNIVERSIDADE FEDERAL DO RIO GRANDE DO SUL   \n",
       "268   PERMANENTE          UNIVERSIDADE FEDERAL DO RIO GRANDE DO SUL   \n",
       "289   PERMANENTE          UNIVERSIDADE FEDERAL DO RIO GRANDE DO SUL   \n",
       "291   PERMANENTE             UNIVERSIDADE FEDERAL DO RIO DE JANEIRO   \n",
       "299   PERMANENTE             UNIVERSIDADE FEDERAL DO RIO DE JANEIRO   \n",
       "308   PERMANENTE             UNIVERSIDADE FEDERAL DO RIO DE JANEIRO   \n",
       "325   PERMANENTE                  UNIVERSIDADE ESTADUAL DE CAMPINAS   \n",
       "346   PERMANENTE                  UNIVERSIDADE ESTADUAL DE CAMPINAS   \n",
       "349  COLABORADOR                  UNIVERSIDADE ESTADUAL DE CAMPINAS   \n",
       "353  COLABORADOR                  UNIVERSIDADE ESTADUAL DE CAMPINAS   \n",
       "361  COLABORADOR                  UNIVERSIDADE ESTADUAL DE CAMPINAS   \n",
       "378  COLABORADOR                          UNIVERSIDADE DE SÃO PAULO   \n",
       "380  COLABORADOR                          UNIVERSIDADE DE SÃO PAULO   \n",
       "384  COLABORADOR                          UNIVERSIDADE DE SÃO PAULO   \n",
       "398  COLABORADOR                          UNIVERSIDADE DE SÃO PAULO   \n",
       "404  COLABORADOR                          UNIVERSIDADE DE SÃO PAULO   \n",
       "412  COLABORADOR                          UNIVERSIDADE DE SÃO PAULO   \n",
       "422  COLABORADOR           UNIVERSIDADE DE SÃO PAULO ( SÃO CARLOS )   \n",
       "\n",
       "                                         nome  prof_id  \n",
       "4                                 BRUNO FEIJO    45093  \n",
       "35                    JORGE LUIS NICOLAS AUDY    86202  \n",
       "50                          ALINE MARINS PAES   152411  \n",
       "55                         BRUNO LOPES VIEIRA   152538  \n",
       "101                     CRISTIANO ARBEX VALLE   172391  \n",
       "127                        NEWTON JOSE VIEIRA    49000  \n",
       "167      EDSON COSTA DE BARROS CARVALHO FILHO    31315  \n",
       "179        GUSTAVO HENRIQUE PORTO DE CARVALHO   169215  \n",
       "207           PEDRO MACHADO MANHAES DE CASTRO   111945  \n",
       "236                       ANDRE GRAHL PEREIRA   166203  \n",
       "248               EDUARDO SIMOES LOPES GASTAL   170372  \n",
       "261        LIANE MARGARIDA ROCKENBACH TAROUCO    82093  \n",
       "268                        LUCIO MAURO DUARTE   159222  \n",
       "289           WEVERTON LUIS DA COSTA CORDEIRO   166200  \n",
       "291  ANTONIO JUAREZ SYLVIO MENEZES DE ALENCAR   103961  \n",
       "299              FABIO MASCARENHAS DE QUEIROZ   165542  \n",
       "308                          LILIAN MARKENZON    41252  \n",
       "325                      ARNALDO VIEIRA MOURA    64125  \n",
       "346                             JOAO MEIDANIS    64141  \n",
       "349                      JULIO CESAR DOS REIS   156632  \n",
       "353                        LEONARDO MONTECCHI   156591  \n",
       "361                  PAULO CESAR CENTODUCATTE    64152  \n",
       "378                        ANATOLI IAMBARTSEV   109975  \n",
       "380                            ARNALDO MANDEL    60735  \n",
       "384                DANIEL DE ANGELIS CORDEIRO   105593  \n",
       "398              LEONIDAS DE OLIVEIRA BRANDAO    60764  \n",
       "404                      MARCO DIMAS GUBITOSO    60746  \n",
       "412                            SIANG WUN SONG    60750  \n",
       "422                     ALYSSON MACHADO COSTA    63213  "
      ]
     },
     "execution_count": 35,
     "metadata": {},
     "output_type": "execute_result"
    }
   ],
   "source": [
    "# Professores que nao possuem alunos\n",
    "docentes_df[~docentes_df.nome.isin(discentes_df.orientador.unique())]"
   ]
  },
  {
   "cell_type": "code",
   "execution_count": 23,
   "metadata": {},
   "outputs": [],
   "source": [
    "docentes_prof_categ_df = docentes_df[['categoria', 'nome']]"
   ]
  },
  {
   "cell_type": "code",
   "execution_count": 24,
   "metadata": {},
   "outputs": [
    {
     "data": {
      "text/html": [
       "<div>\n",
       "<style scoped>\n",
       "    .dataframe tbody tr th:only-of-type {\n",
       "        vertical-align: middle;\n",
       "    }\n",
       "\n",
       "    .dataframe tbody tr th {\n",
       "        vertical-align: top;\n",
       "    }\n",
       "\n",
       "    .dataframe thead th {\n",
       "        text-align: right;\n",
       "    }\n",
       "</style>\n",
       "<table border=\"1\" class=\"dataframe\">\n",
       "  <thead>\n",
       "    <tr style=\"text-align: right;\">\n",
       "      <th></th>\n",
       "      <th>categoria</th>\n",
       "      <th>nome</th>\n",
       "    </tr>\n",
       "  </thead>\n",
       "  <tbody>\n",
       "    <tr>\n",
       "      <th>0</th>\n",
       "      <td>PERMANENTE</td>\n",
       "      <td>ALBERTO BARBOSA RAPOSO</td>\n",
       "    </tr>\n",
       "    <tr>\n",
       "      <th>1</th>\n",
       "      <td>PERMANENTE</td>\n",
       "      <td>ALESSANDRO FABRICIO GARCIA</td>\n",
       "    </tr>\n",
       "    <tr>\n",
       "      <th>2</th>\n",
       "      <td>COLABORADOR</td>\n",
       "      <td>ANTONIO LUZ FURTADO</td>\n",
       "    </tr>\n",
       "    <tr>\n",
       "      <th>3</th>\n",
       "      <td>PERMANENTE</td>\n",
       "      <td>ARNDT VON STAA</td>\n",
       "    </tr>\n",
       "    <tr>\n",
       "      <th>4</th>\n",
       "      <td>PERMANENTE</td>\n",
       "      <td>BRUNO FEIJO</td>\n",
       "    </tr>\n",
       "  </tbody>\n",
       "</table>\n",
       "</div>"
      ],
      "text/plain": [
       "     categoria                        nome\n",
       "0   PERMANENTE      ALBERTO BARBOSA RAPOSO\n",
       "1   PERMANENTE  ALESSANDRO FABRICIO GARCIA\n",
       "2  COLABORADOR         ANTONIO LUZ FURTADO\n",
       "3   PERMANENTE              ARNDT VON STAA\n",
       "4   PERMANENTE                 BRUNO FEIJO"
      ]
     },
     "execution_count": 24,
     "metadata": {},
     "output_type": "execute_result"
    }
   ],
   "source": [
    "docentes_prof_categ_df.head()"
   ]
  },
  {
   "cell_type": "code",
   "execution_count": 37,
   "metadata": {},
   "outputs": [
    {
     "data": {
      "text/html": [
       "<div>\n",
       "<style scoped>\n",
       "    .dataframe tbody tr th:only-of-type {\n",
       "        vertical-align: middle;\n",
       "    }\n",
       "\n",
       "    .dataframe tbody tr th {\n",
       "        vertical-align: top;\n",
       "    }\n",
       "\n",
       "    .dataframe thead th {\n",
       "        text-align: right;\n",
       "    }\n",
       "</style>\n",
       "<table border=\"1\" class=\"dataframe\">\n",
       "  <thead>\n",
       "    <tr style=\"text-align: right;\">\n",
       "      <th></th>\n",
       "      <th>categoria</th>\n",
       "      <th>nome</th>\n",
       "      <th>programa</th>\n",
       "    </tr>\n",
       "  </thead>\n",
       "  <tbody>\n",
       "    <tr>\n",
       "      <th>0</th>\n",
       "      <td>PERMANENTE</td>\n",
       "      <td>ALBERTO BARBOSA RAPOSO</td>\n",
       "      <td>INFORMÁTICA(31005012004P9)</td>\n",
       "    </tr>\n",
       "    <tr>\n",
       "      <th>1</th>\n",
       "      <td>PERMANENTE</td>\n",
       "      <td>ALESSANDRO FABRICIO GARCIA</td>\n",
       "      <td>INFORMÁTICA(31005012004P9)</td>\n",
       "    </tr>\n",
       "    <tr>\n",
       "      <th>2</th>\n",
       "      <td>COLABORADOR</td>\n",
       "      <td>ANTONIO LUZ FURTADO</td>\n",
       "      <td>INFORMÁTICA(31005012004P9)</td>\n",
       "    </tr>\n",
       "    <tr>\n",
       "      <th>3</th>\n",
       "      <td>PERMANENTE</td>\n",
       "      <td>ARNDT VON STAA</td>\n",
       "      <td>INFORMÁTICA(31005012004P9)</td>\n",
       "    </tr>\n",
       "    <tr>\n",
       "      <th>4</th>\n",
       "      <td>PERMANENTE</td>\n",
       "      <td>CARLOS JOSE PEREIRA DE LUCENA</td>\n",
       "      <td>INFORMÁTICA(31005012004P9)</td>\n",
       "    </tr>\n",
       "  </tbody>\n",
       "</table>\n",
       "</div>"
      ],
      "text/plain": [
       "     categoria                           nome                    programa\n",
       "0   PERMANENTE         ALBERTO BARBOSA RAPOSO  INFORMÁTICA(31005012004P9)\n",
       "1   PERMANENTE     ALESSANDRO FABRICIO GARCIA  INFORMÁTICA(31005012004P9)\n",
       "2  COLABORADOR            ANTONIO LUZ FURTADO  INFORMÁTICA(31005012004P9)\n",
       "3   PERMANENTE                 ARNDT VON STAA  INFORMÁTICA(31005012004P9)\n",
       "4   PERMANENTE  CARLOS JOSE PEREIRA DE LUCENA  INFORMÁTICA(31005012004P9)"
      ]
     },
     "execution_count": 37,
     "metadata": {},
     "output_type": "execute_result"
    }
   ],
   "source": [
    "discentes_categ_df = pd.merge(docentes_prof_categ_df, discentes_prof_df, left_on='nome', right_on='orientador')\n",
    "discentes_categ_df = discentes_categ_df[['categoria', 'nome', 'programa']]\n",
    "discentes_categ_df.head()"
   ]
  },
  {
   "cell_type": "code",
   "execution_count": 57,
   "metadata": {},
   "outputs": [
    {
     "data": {
      "text/plain": [
       "CIÊNCIA DA COMPUTAÇÃO(33002010176P0)                                34\n",
       "CIÊNCIA DA COMPUTAÇÃO(33003017005P8)                                41\n",
       "CIÊNCIA DA COMPUTAÇÃO(42005019016P8)                                23\n",
       "CIÊNCIAS DA COMPUTAÇÃO E MATEMÁTICA COMPUTACIONAL(33002045004P1)    63\n",
       "CIÊNCIAS DA COMPUTAÇÃO(25001019004P6)                               68\n",
       "CIÊNCIAS DA COMPUTAÇÃO(32001010004P6)                               47\n",
       "COMPUTAÇÃO(31003010046P4)                                           39\n",
       "COMPUTAÇÃO(42001013004P4)                                           52\n",
       "INFORMÁTICA(31001017110P8)                                          26\n",
       "INFORMÁTICA(31005012004P9)                                          23\n",
       "Name: programa, dtype: int64"
      ]
     },
     "execution_count": 57,
     "metadata": {},
     "output_type": "execute_result"
    }
   ],
   "source": [
    "permanentes = discentes_categ_df[discentes_categ_df.categoria=='PERMANENTE'].programa.value_counts().sort_index()\n",
    "permanentes"
   ]
  },
  {
   "cell_type": "code",
   "execution_count": 60,
   "metadata": {},
   "outputs": [
    {
     "data": {
      "text/plain": [
       "CIÊNCIA DA COMPUTAÇÃO(33002010176P0)                                 4\n",
       "CIÊNCIA DA COMPUTAÇÃO(33003017005P8)                                 6\n",
       "CIÊNCIA DA COMPUTAÇÃO(42005019016P8)                                 0\n",
       "CIÊNCIAS DA COMPUTAÇÃO E MATEMÁTICA COMPUTACIONAL(33002045004P1)     6\n",
       "CIÊNCIAS DA COMPUTAÇÃO(25001019004P6)                               14\n",
       "CIÊNCIAS DA COMPUTAÇÃO(32001010004P6)                                5\n",
       "COMPUTAÇÃO(31003010046P4)                                            1\n",
       "COMPUTAÇÃO(42001013004P4)                                            3\n",
       "INFORMÁTICA(31001017110P8)                                           2\n",
       "INFORMÁTICA(31005012004P9)                                           1\n",
       "Name: programa, dtype: int64"
      ]
     },
     "execution_count": 60,
     "metadata": {},
     "output_type": "execute_result"
    }
   ],
   "source": [
    "colaboradores = discentes_categ_df[discentes_categ_df.categoria=='COLABORADOR'].programa.value_counts().sort_index()\n",
    "# ja que nao temos colaboradores em CIÊNCIA DA COMPUTAÇÃO(42005019016P8), adicionamos esta key com value 0\n",
    "colaboradores['CIÊNCIA DA COMPUTAÇÃO(42005019016P8)'] = 0\n",
    "colaboradores = colaboradores.sort_index()\n",
    "colaboradores"
   ]
  },
  {
   "cell_type": "code",
   "execution_count": 61,
   "metadata": {},
   "outputs": [
    {
     "data": {
      "image/png": "[encoded data removed]",
      "text/plain": [
       "<matplotlib.figure.Figure at 0x7f9ef9a8e940>"
      ]
     },
     "metadata": {},
     "output_type": "display_data"
    }
   ],
   "source": [
    "fig, ax = plt.subplots()\n",
    "\n",
    "width = 0.35\n",
    "\n",
    "ind = np.arange(len(discentes_categ_df.programa.value_counts().sort_index().keys()))\n",
    "\n",
    "plt1 = ax.barh(ind-width/2, colaboradores, width)\n",
    "\n",
    "plt2 = ax.barh(ind+width/2, permanentes, width)\n",
    "\n",
    "ax.set_yticks(ind)\n",
    "ax.set_yticklabels(discentes_categ_df.programa.value_counts().sort_index().keys())\n",
    "\n",
    "plt.legend([plt1[0], plt2[0]], ['COLABORADOR', 'PERMANENTE'])\n",
    "\n",
    "plt.show()"
   ]
  },
  {
   "cell_type": "markdown",
   "metadata": {},
   "source": [
    "## Discentes\n",
    "2) Quantos alunos (discentes) de Mestrado/Doutorado havia em cada programa em 2017?"
   ]
  },
  {
   "cell_type": "code",
   "execution_count": 8,
   "metadata": {},
   "outputs": [
    {
     "data": {
      "text/html": [
       "<div>\n",
       "<style scoped>\n",
       "    .dataframe tbody tr th:only-of-type {\n",
       "        vertical-align: middle;\n",
       "    }\n",
       "\n",
       "    .dataframe tbody tr th {\n",
       "        vertical-align: top;\n",
       "    }\n",
       "\n",
       "    .dataframe thead th {\n",
       "        text-align: right;\n",
       "    }\n",
       "</style>\n",
       "<table border=\"1\" class=\"dataframe\">\n",
       "  <thead>\n",
       "    <tr style=\"text-align: right;\">\n",
       "      <th></th>\n",
       "      <th>abrev</th>\n",
       "      <th>curso</th>\n",
       "      <th>data_matricula</th>\n",
       "      <th>deficiencia</th>\n",
       "      <th>discente_id</th>\n",
       "      <th>ies</th>\n",
       "      <th>nacionalidade</th>\n",
       "      <th>nivel</th>\n",
       "      <th>nome</th>\n",
       "      <th>orientador</th>\n",
       "      <th>orientadores</th>\n",
       "      <th>programa</th>\n",
       "      <th>raca</th>\n",
       "      <th>sexo</th>\n",
       "      <th>situacao</th>\n",
       "    </tr>\n",
       "  </thead>\n",
       "  <tbody>\n",
       "    <tr>\n",
       "      <th>0</th>\n",
       "      <td>LEON, A. C. (Principal)</td>\n",
       "      <td>INFORMÁTICA</td>\n",
       "      <td>03/08/2015</td>\n",
       "      <td>Não</td>\n",
       "      <td>889714</td>\n",
       "      <td>PONTIFÍCIA UNIVERSIDADE CATÓLICA DO RIO DE JAN...</td>\n",
       "      <td>Cuba</td>\n",
       "      <td>Mestrado</td>\n",
       "      <td>ADRIAN CONCEPCION LEON</td>\n",
       "      <td>MARKUS ENDLER</td>\n",
       "      <td>[{'nome': 'MARKUS ENDLER', 'categoria': 'Docen...</td>\n",
       "      <td>INFORMÁTICA(31005012004P9)</td>\n",
       "      <td>Não declarado</td>\n",
       "      <td>Masculino</td>\n",
       "      <td>MATRICULADO</td>\n",
       "    </tr>\n",
       "    <tr>\n",
       "      <th>1</th>\n",
       "      <td>HERNANDEZ, A. G. (Principal)</td>\n",
       "      <td>INFORMÁTICA</td>\n",
       "      <td>02/03/2015</td>\n",
       "      <td>Não</td>\n",
       "      <td>838354</td>\n",
       "      <td>PONTIFÍCIA UNIVERSIDADE CATÓLICA DO RIO DE JAN...</td>\n",
       "      <td>Brasil</td>\n",
       "      <td>Mestrado</td>\n",
       "      <td>ADRIEL GARCIA HERNANDEZ</td>\n",
       "      <td>RUY LUIZ MILIDIU</td>\n",
       "      <td>[{'nome': 'RUY LUIZ MILIDIU', 'categoria': 'Do...</td>\n",
       "      <td>INFORMÁTICA(31005012004P9)</td>\n",
       "      <td>Não declarado</td>\n",
       "      <td>Masculino</td>\n",
       "      <td>TITULADO</td>\n",
       "    </tr>\n",
       "    <tr>\n",
       "      <th>2</th>\n",
       "      <td>FUENTES, A. D. (Principal)</td>\n",
       "      <td>INFORMÁTICA</td>\n",
       "      <td>15/04/2016</td>\n",
       "      <td>Não</td>\n",
       "      <td>948329</td>\n",
       "      <td>PONTIFÍCIA UNIVERSIDADE CATÓLICA DO RIO DE JAN...</td>\n",
       "      <td>Brasil</td>\n",
       "      <td>Doutorado</td>\n",
       "      <td>ALAIN DOMINGUEZ FUENTES</td>\n",
       "      <td>SERGIO LIFSCHITZ</td>\n",
       "      <td>[{'nome': 'SERGIO LIFSCHITZ', 'categoria': 'Do...</td>\n",
       "      <td>INFORMÁTICA(31005012004P9)</td>\n",
       "      <td>Não declarado</td>\n",
       "      <td>Masculino</td>\n",
       "      <td>MATRICULADO</td>\n",
       "    </tr>\n",
       "    <tr>\n",
       "      <th>3</th>\n",
       "      <td>GUEDES, A. L. V. (Principal) GUEDES, ALAN LIVI...</td>\n",
       "      <td>INFORMÁTICA</td>\n",
       "      <td>12/03/2013</td>\n",
       "      <td>Não</td>\n",
       "      <td>565354</td>\n",
       "      <td>PONTIFÍCIA UNIVERSIDADE CATÓLICA DO RIO DE JAN...</td>\n",
       "      <td>Brasil</td>\n",
       "      <td>Doutorado</td>\n",
       "      <td>ALAN LIVIO VASCONCELOS GUEDES</td>\n",
       "      <td>SIMONE DINIZ JUNQUEIRA BARBOSA</td>\n",
       "      <td>[{'nome': 'SIMONE DINIZ JUNQUEIRA BARBOSA', 'c...</td>\n",
       "      <td>INFORMÁTICA(31005012004P9)</td>\n",
       "      <td>Não declarado</td>\n",
       "      <td>Masculino</td>\n",
       "      <td>TITULADO</td>\n",
       "    </tr>\n",
       "    <tr>\n",
       "      <th>4</th>\n",
       "      <td>MENES, A. M. (Principal)</td>\n",
       "      <td>INFORMÁTICA</td>\n",
       "      <td>01/08/2014</td>\n",
       "      <td>Não</td>\n",
       "      <td>784513</td>\n",
       "      <td>PONTIFÍCIA UNIVERSIDADE CATÓLICA DO RIO DE JAN...</td>\n",
       "      <td>Brasil</td>\n",
       "      <td>Mestrado</td>\n",
       "      <td>ALEJANDRO MUSTELIER MENES</td>\n",
       "      <td>SERGIO LIFSCHITZ</td>\n",
       "      <td>[{'nome': 'SERGIO LIFSCHITZ', 'categoria': 'Do...</td>\n",
       "      <td>INFORMÁTICA(31005012004P9)</td>\n",
       "      <td>Não declarado</td>\n",
       "      <td>Masculino</td>\n",
       "      <td>TITULADO</td>\n",
       "    </tr>\n",
       "  </tbody>\n",
       "</table>\n",
       "</div>"
      ],
      "text/plain": [
       "                                               abrev        curso  \\\n",
       "0                            LEON, A. C. (Principal)  INFORMÁTICA   \n",
       "1                       HERNANDEZ, A. G. (Principal)  INFORMÁTICA   \n",
       "2                         FUENTES, A. D. (Principal)  INFORMÁTICA   \n",
       "3  GUEDES, A. L. V. (Principal) GUEDES, ALAN LIVI...  INFORMÁTICA   \n",
       "4                           MENES, A. M. (Principal)  INFORMÁTICA   \n",
       "\n",
       "  data_matricula deficiencia  discente_id  \\\n",
       "0     03/08/2015         Não       889714   \n",
       "1     02/03/2015         Não       838354   \n",
       "2     15/04/2016         Não       948329   \n",
       "3     12/03/2013         Não       565354   \n",
       "4     01/08/2014         Não       784513   \n",
       "\n",
       "                                                 ies nacionalidade      nivel  \\\n",
       "0  PONTIFÍCIA UNIVERSIDADE CATÓLICA DO RIO DE JAN...          Cuba   Mestrado   \n",
       "1  PONTIFÍCIA UNIVERSIDADE CATÓLICA DO RIO DE JAN...        Brasil   Mestrado   \n",
       "2  PONTIFÍCIA UNIVERSIDADE CATÓLICA DO RIO DE JAN...        Brasil  Doutorado   \n",
       "3  PONTIFÍCIA UNIVERSIDADE CATÓLICA DO RIO DE JAN...        Brasil  Doutorado   \n",
       "4  PONTIFÍCIA UNIVERSIDADE CATÓLICA DO RIO DE JAN...        Brasil   Mestrado   \n",
       "\n",
       "                            nome                      orientador  \\\n",
       "0         ADRIAN CONCEPCION LEON                   MARKUS ENDLER   \n",
       "1        ADRIEL GARCIA HERNANDEZ                RUY LUIZ MILIDIU   \n",
       "2        ALAIN DOMINGUEZ FUENTES                SERGIO LIFSCHITZ   \n",
       "3  ALAN LIVIO VASCONCELOS GUEDES  SIMONE DINIZ JUNQUEIRA BARBOSA   \n",
       "4      ALEJANDRO MUSTELIER MENES                SERGIO LIFSCHITZ   \n",
       "\n",
       "                                        orientadores  \\\n",
       "0  [{'nome': 'MARKUS ENDLER', 'categoria': 'Docen...   \n",
       "1  [{'nome': 'RUY LUIZ MILIDIU', 'categoria': 'Do...   \n",
       "2  [{'nome': 'SERGIO LIFSCHITZ', 'categoria': 'Do...   \n",
       "3  [{'nome': 'SIMONE DINIZ JUNQUEIRA BARBOSA', 'c...   \n",
       "4  [{'nome': 'SERGIO LIFSCHITZ', 'categoria': 'Do...   \n",
       "\n",
       "                     programa           raca       sexo     situacao  \n",
       "0  INFORMÁTICA(31005012004P9)  Não declarado  Masculino  MATRICULADO  \n",
       "1  INFORMÁTICA(31005012004P9)  Não declarado  Masculino     TITULADO  \n",
       "2  INFORMÁTICA(31005012004P9)  Não declarado  Masculino  MATRICULADO  \n",
       "3  INFORMÁTICA(31005012004P9)  Não declarado  Masculino     TITULADO  \n",
       "4  INFORMÁTICA(31005012004P9)  Não declarado  Masculino     TITULADO  "
      ]
     },
     "execution_count": 8,
     "metadata": {},
     "output_type": "execute_result"
    }
   ],
   "source": [
    "discentes_df.head()"
   ]
  },
  {
   "cell_type": "code",
   "execution_count": 9,
   "metadata": {},
   "outputs": [
    {
     "data": {
      "text/plain": [
       "array(['Mestrado', 'Doutorado', 'Graduação'], dtype=object)"
      ]
     },
     "execution_count": 9,
     "metadata": {},
     "output_type": "execute_result"
    }
   ],
   "source": [
    "discentes_df.nivel.unique()"
   ]
  },
  {
   "cell_type": "code",
   "execution_count": 10,
   "metadata": {},
   "outputs": [
    {
     "data": {
      "text/plain": [
       "Mestrado     1820\n",
       "Doutorado    1666\n",
       "Name: nivel, dtype: int64"
      ]
     },
     "execution_count": 10,
     "metadata": {},
     "output_type": "execute_result"
    }
   ],
   "source": [
    "discentes_pos_df = discentes_df[discentes_df.nivel.isin([\"Mestrado\", \"Doutorado\"])]\n",
    "discentes_pos_df = discentes_pos_df[[\"nivel\", \"programa\"]]\n",
    "discentes_pos_df.nivel.value_counts()"
   ]
  },
  {
   "cell_type": "code",
   "execution_count": 11,
   "metadata": {},
   "outputs": [
    {
     "data": {
      "text/plain": [
       "array(['INFORMÁTICA(31005012004P9)',\n",
       "       'CIÊNCIA DA COMPUTAÇÃO(42005019016P8)',\n",
       "       'COMPUTAÇÃO(31003010046P4)',\n",
       "       'CIÊNCIAS DA COMPUTAÇÃO(32001010004P6)',\n",
       "       'CIÊNCIAS DA COMPUTAÇÃO(25001019004P6)',\n",
       "       'COMPUTAÇÃO(42001013004P4)', 'INFORMÁTICA(31001017110P8)',\n",
       "       'CIÊNCIA DA COMPUTAÇÃO(33003017005P8)',\n",
       "       'CIÊNCIA DA COMPUTAÇÃO(33002010176P0)',\n",
       "       'CIÊNCIAS DA COMPUTAÇÃO E MATEMÁTICA COMPUTACIONAL(33002045004P1)'],\n",
       "      dtype=object)"
      ]
     },
     "execution_count": 11,
     "metadata": {},
     "output_type": "execute_result"
    }
   ],
   "source": [
    "discentes_pos_df.programa.unique()"
   ]
  },
  {
   "cell_type": "markdown",
   "metadata": {},
   "source": [
    "### Mestrado"
   ]
  },
  {
   "cell_type": "code",
   "execution_count": 54,
   "metadata": {},
   "outputs": [
    {
     "data": {
      "text/plain": [
       "CIÊNCIA DA COMPUTAÇÃO(33002010176P0)                                133\n",
       "CIÊNCIA DA COMPUTAÇÃO(33003017005P8)                                183\n",
       "CIÊNCIA DA COMPUTAÇÃO(42005019016P8)                                137\n",
       "CIÊNCIAS DA COMPUTAÇÃO E MATEMÁTICA COMPUTACIONAL(33002045004P1)    173\n",
       "CIÊNCIAS DA COMPUTAÇÃO(25001019004P6)                               337\n",
       "CIÊNCIAS DA COMPUTAÇÃO(32001010004P6)                               270\n",
       "COMPUTAÇÃO(31003010046P4)                                           168\n",
       "COMPUTAÇÃO(42001013004P4)                                           194\n",
       "INFORMÁTICA(31001017110P8)                                          110\n",
       "INFORMÁTICA(31005012004P9)                                          115\n",
       "Name: programa, dtype: int64"
      ]
     },
     "execution_count": 54,
     "metadata": {},
     "output_type": "execute_result"
    }
   ],
   "source": [
    "mestrado = discentes_pos_df[discentes_pos_df.nivel=='Mestrado'].programa.value_counts().sort_index()\n",
    "mestrado"
   ]
  },
  {
   "cell_type": "markdown",
   "metadata": {},
   "source": [
    "### Doutorado"
   ]
  },
  {
   "cell_type": "code",
   "execution_count": 52,
   "metadata": {
    "scrolled": true
   },
   "outputs": [
    {
     "data": {
      "text/plain": [
       "CIÊNCIA DA COMPUTAÇÃO(33002010176P0)                                111\n",
       "CIÊNCIA DA COMPUTAÇÃO(33003017005P8)                                169\n",
       "CIÊNCIA DA COMPUTAÇÃO(42005019016P8)                                 91\n",
       "CIÊNCIAS DA COMPUTAÇÃO E MATEMÁTICA COMPUTACIONAL(33002045004P1)    319\n",
       "CIÊNCIAS DA COMPUTAÇÃO(25001019004P6)                               379\n",
       "CIÊNCIAS DA COMPUTAÇÃO(32001010004P6)                               193\n",
       "COMPUTAÇÃO(31003010046P4)                                           114\n",
       "COMPUTAÇÃO(42001013004P4)                                           125\n",
       "INFORMÁTICA(31001017110P8)                                           63\n",
       "INFORMÁTICA(31005012004P9)                                          102\n",
       "Name: programa, dtype: int64"
      ]
     },
     "execution_count": 52,
     "metadata": {},
     "output_type": "execute_result"
    }
   ],
   "source": [
    "doutorado = discentes_pos_df[discentes_pos_df.nivel=='Doutorado'].programa.value_counts().sort_index()\n",
    "doutorado"
   ]
  },
  {
   "cell_type": "markdown",
   "metadata": {},
   "source": [
    "### Plot"
   ]
  },
  {
   "cell_type": "code",
   "execution_count": 56,
   "metadata": {},
   "outputs": [
    {
     "data": {
      "image/png": "[encoded data removed]",
      "text/plain": [
       "<matplotlib.figure.Figure at 0x7f9ef99d8908>"
      ]
     },
     "metadata": {},
     "output_type": "display_data"
    }
   ],
   "source": [
    "fig, ax = plt.subplots()\n",
    "\n",
    "width = 0.35\n",
    "\n",
    "ind = np.arange(len(discentes_pos_df.programa.value_counts().sort_index().keys()))\n",
    "\n",
    "plt1 = ax.barh(ind-width/2, mestrado, width)\n",
    "\n",
    "# for i in ind: \n",
    "#     ax.annotate(value,(i, discentes_pos_df[discentes_pos_df.nivel=='Mestrado'].programa.value_counts()[i]), \n",
    "#                 xytext=(0, 0), textcoords='offset points')\n",
    "\n",
    "\n",
    "plt2 = ax.barh(ind+width/2, doutorado, width)\n",
    "\n",
    "ax.set_yticks(ind)\n",
    "ax.set_yticklabels(discentes_pos_df.programa.value_counts().sort_index().keys())\n",
    "\n",
    "plt.legend([plt1[0], plt2[0]], ['Mestrado', 'Doutorado'])\n",
    "\n",
    "plt.show()"
   ]
  },
  {
   "cell_type": "markdown",
   "metadata": {},
   "source": [
    "## Discentes x Docentes\n",
    "3) Qual foi a taxa de alunos de Mestrado/Doutorado por professor do quadro permanente em cada programa em 2017?\n"
   ]
  },
  {
   "cell_type": "code",
   "execution_count": 17,
   "metadata": {},
   "outputs": [],
   "source": [
    "discentes_pos_df = discentes_df[discentes_df.nivel.isin([\"Mestrado\", \"Doutorado\"])]"
   ]
  },
  {
   "cell_type": "code",
   "execution_count": 32,
   "metadata": {},
   "outputs": [
    {
     "name": "stdout",
     "output_type": "stream",
     "text": [
      "Total de 3438 alunos\n",
      "Total de 440 professores do qudro permanente\n",
      "Taxa de alunos de Mestrado/Doutorado por professor do quadro permanente 7.8136363636363635\n"
     ]
    }
   ],
   "source": [
    "alunos = set(discentes_pos_df.discente_id)\n",
    "professores = set(docentes_df[docentes_df.categoria=='PERMANENTE'].prof_id)\n",
    "\n",
    "print('Total de {} alunos'.format(len(alunos)))\n",
    "print('Total de {} professores do qudro permanente'.format(len(professores)))\n",
    "print('Taxa de alunos de Mestrado/Doutorado por professor do quadro permanente {}'.format(len(alunos)/len(professores)))"
   ]
  },
  {
   "cell_type": "code",
   "execution_count": 38,
   "metadata": {},
   "outputs": [
    {
     "data": {
      "text/html": [
       "<div>\n",
       "<style scoped>\n",
       "    .dataframe tbody tr th:only-of-type {\n",
       "        vertical-align: middle;\n",
       "    }\n",
       "\n",
       "    .dataframe tbody tr th {\n",
       "        vertical-align: top;\n",
       "    }\n",
       "\n",
       "    .dataframe thead th {\n",
       "        text-align: right;\n",
       "    }\n",
       "</style>\n",
       "<table border=\"1\" class=\"dataframe\">\n",
       "  <thead>\n",
       "    <tr style=\"text-align: right;\">\n",
       "      <th></th>\n",
       "      <th>categoria</th>\n",
       "      <th>ies</th>\n",
       "      <th>nome</th>\n",
       "      <th>prof_id</th>\n",
       "    </tr>\n",
       "  </thead>\n",
       "  <tbody>\n",
       "    <tr>\n",
       "      <th>0</th>\n",
       "      <td>PERMANENTE</td>\n",
       "      <td>PONTIFÍCIA UNIVERSIDADE CATÓLICA DO RIO DE JAN...</td>\n",
       "      <td>ALBERTO BARBOSA RAPOSO</td>\n",
       "      <td>45079</td>\n",
       "    </tr>\n",
       "    <tr>\n",
       "      <th>1</th>\n",
       "      <td>PERMANENTE</td>\n",
       "      <td>PONTIFÍCIA UNIVERSIDADE CATÓLICA DO RIO DE JAN...</td>\n",
       "      <td>ALESSANDRO FABRICIO GARCIA</td>\n",
       "      <td>45076</td>\n",
       "    </tr>\n",
       "    <tr>\n",
       "      <th>2</th>\n",
       "      <td>COLABORADOR</td>\n",
       "      <td>PONTIFÍCIA UNIVERSIDADE CATÓLICA DO RIO DE JAN...</td>\n",
       "      <td>ANTONIO LUZ FURTADO</td>\n",
       "      <td>45077</td>\n",
       "    </tr>\n",
       "    <tr>\n",
       "      <th>3</th>\n",
       "      <td>PERMANENTE</td>\n",
       "      <td>PONTIFÍCIA UNIVERSIDADE CATÓLICA DO RIO DE JAN...</td>\n",
       "      <td>ARNDT VON STAA</td>\n",
       "      <td>45074</td>\n",
       "    </tr>\n",
       "    <tr>\n",
       "      <th>4</th>\n",
       "      <td>PERMANENTE</td>\n",
       "      <td>PONTIFÍCIA UNIVERSIDADE CATÓLICA DO RIO DE JAN...</td>\n",
       "      <td>BRUNO FEIJO</td>\n",
       "      <td>45093</td>\n",
       "    </tr>\n",
       "  </tbody>\n",
       "</table>\n",
       "</div>"
      ],
      "text/plain": [
       "     categoria                                                ies  \\\n",
       "0   PERMANENTE  PONTIFÍCIA UNIVERSIDADE CATÓLICA DO RIO DE JAN...   \n",
       "1   PERMANENTE  PONTIFÍCIA UNIVERSIDADE CATÓLICA DO RIO DE JAN...   \n",
       "2  COLABORADOR  PONTIFÍCIA UNIVERSIDADE CATÓLICA DO RIO DE JAN...   \n",
       "3   PERMANENTE  PONTIFÍCIA UNIVERSIDADE CATÓLICA DO RIO DE JAN...   \n",
       "4   PERMANENTE  PONTIFÍCIA UNIVERSIDADE CATÓLICA DO RIO DE JAN...   \n",
       "\n",
       "                         nome  prof_id  \n",
       "0      ALBERTO BARBOSA RAPOSO    45079  \n",
       "1  ALESSANDRO FABRICIO GARCIA    45076  \n",
       "2         ANTONIO LUZ FURTADO    45077  \n",
       "3              ARNDT VON STAA    45074  \n",
       "4                 BRUNO FEIJO    45093  "
      ]
     },
     "execution_count": 38,
     "metadata": {},
     "output_type": "execute_result"
    }
   ],
   "source": [
    "docentes_df.head()"
   ]
  },
  {
   "cell_type": "markdown",
   "metadata": {},
   "source": [
    "4) Qual foi a distribuição de alunos de Mestrado/Doutorado pelos professores de cada programa em 2017?"
   ]
  },
  {
   "cell_type": "code",
   "execution_count": null,
   "metadata": {},
   "outputs": [],
   "source": []
  },
  {
   "cell_type": "markdown",
   "metadata": {},
   "source": [
    "## Trabalhos de Conclusão\n",
    "5) Quantos alunos de Mestrado/Doutorado defenderam suas dissertações/teses em 2017 (arquivo trabalhos.csv)?\n",
    "\n",
    "6) Como os trabalhos de Mestrado/Doutorado defendidos em 2017 foram distribuídos pelas áreas de pesquisa dos programas?\n",
    "\n",
    "7) Como as defesas de Mestrado/Doutorado foram distribuídas ao longo do ano de 2017?"
   ]
  },
  {
   "cell_type": "code",
   "execution_count": null,
   "metadata": {},
   "outputs": [],
   "source": []
  },
  {
   "cell_type": "markdown",
   "metadata": {},
   "source": [
    "## Discentes x Trabalhos de Conclusão\n",
    "8) Qual fração de alunos de Mestrado/Doutorado (do total em cada programa) defendeu em 2017?"
   ]
  },
  {
   "cell_type": "code",
   "execution_count": null,
   "metadata": {},
   "outputs": [],
   "source": []
  },
  {
   "cell_type": "markdown",
   "metadata": {},
   "source": [
    "## Produção\n",
    "9) Quantos artigos de periódico/trabalhos em anais foram publicados por cada programa em 2017?\n",
    "\n",
    "10) Qual é a taxa de artigos de periódico/trabalhos em anais por número de docentes permanentes de cada programa em 2017?\n",
    "\n",
    "11) Qual fração de artigos de periódico/trabalhos em anais publicados em 2017 teve a coautoria de discentes?\n",
    "\n",
    "12) Qual fração de artigos de periódico/trabalhos em anais publicados em 2017 teve a coautoria de participantes externos?"
   ]
  },
  {
   "cell_type": "code",
   "execution_count": null,
   "metadata": {},
   "outputs": [],
   "source": []
  },
  {
   "cell_type": "markdown",
   "metadata": {},
   "source": [
    "## Produção x Qualis\n",
    "13) Qual é a distribuição de artigos de periódico publicados em 2017, por estrato do Qualis?\n",
    "\n",
    "14) Considerando os pesos dos artigos de cada estrato do índice restrito ({'A1': 1, 'A2': 0.85, 'B1': 0.70}), qual o índice restrito relativo de cada programa, considerando apenas os artigos em periódicos, e dividido pelo número de docentes permanentes (ordenado do maior para o menor)?\n",
    "\n",
    "15) Considerando os pesos dos artigos de cada estrato do índice geral ({'A1': 1, 'A2': 0.85, 'B1': 0.70, 'B2': 0.50, 'B3': 0.20, 'B4': 0.10, 'B5': 0.05, 'C': 0.0}), qual o índice geral relativo de cada programa, considerando apenas os artigos em periódicos, e dividido pelo número de docentes permanentes (ordenado do maior para o menor)?"
   ]
  },
  {
   "cell_type": "code",
   "execution_count": null,
   "metadata": {},
   "outputs": [],
   "source": []
  }
 ],
 "metadata": {
  "kernelspec": {
   "display_name": "Python 3",
   "language": "python",
   "name": "python3"
  },
  "language_info": {
   "codemirror_mode": {
    "name": "ipython",
    "version": 3
   },
   "file_extension": ".py",
   "mimetype": "text/x-python",
   "name": "python",
   "nbconvert_exporter": "python",
   "pygments_lexer": "ipython3",
   "version": "3.6.4"
  }
 },
 "nbformat": 4,
 "nbformat_minor": 2
}
