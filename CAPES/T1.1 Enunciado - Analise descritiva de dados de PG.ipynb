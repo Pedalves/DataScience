{
 "cells": [
  {
   "cell_type": "markdown",
   "metadata": {},
   "source": [
    "Os arquivos compactados no arquivo dados_CAPES_2018-04-06.zip trazem dados sobre os programas de pós-graduação em Informática de algumas instituições em 2017. Tratam-se de dados públicos, obtidos da plataforma Sucupira da CAPES (https://sucupira.capes.gov.br/sucupira/). \n",
    "\n",
    "O objetivo do trabalho T1.1 é fazer uma análise descritiva e responder algumas perguntas sobre os dados. Sempre que possível, as respostas devem ser dadas numérica e visualmente."
   ]
  },
  {
   "cell_type": "code",
   "execution_count": 1,
   "metadata": {},
   "outputs": [],
   "source": [
    "import pandas as pd\n",
    "import matplotlib.pyplot as plt\n",
    "\n",
    "%matplotlib inline"
   ]
  },
  {
   "cell_type": "code",
   "execution_count": 2,
   "metadata": {},
   "outputs": [],
   "source": [
    "discentes_df = pd.read_csv('discentes.csv')\n",
    "docentes_df = pd.read_csv('docentes.csv')\n",
    "producao_df = pd.read_csv('producao.csv')\n",
    "trabalhos_df = pd.read_csv('trabalhos.csv')\n",
    "\n",
    "qualis_df = pd.read_excel('Qualis CC 2013-2016.xlsx')"
   ]
  },
  {
   "cell_type": "markdown",
   "metadata": {},
   "source": [
    "## Docentes\n",
    "1) Quantos professores (docentes) havia em cada programa em 2017, em cada quadro (permanente, colaborador, visitante)?"
   ]
  },
  {
   "cell_type": "code",
   "execution_count": 3,
   "metadata": {},
   "outputs": [
    {
     "data": {
      "text/html": [
       "<div>\n",
       "<style scoped>\n",
       "    .dataframe tbody tr th:only-of-type {\n",
       "        vertical-align: middle;\n",
       "    }\n",
       "\n",
       "    .dataframe tbody tr th {\n",
       "        vertical-align: top;\n",
       "    }\n",
       "\n",
       "    .dataframe thead th {\n",
       "        text-align: right;\n",
       "    }\n",
       "</style>\n",
       "<table border=\"1\" class=\"dataframe\">\n",
       "  <thead>\n",
       "    <tr style=\"text-align: right;\">\n",
       "      <th></th>\n",
       "      <th>categoria</th>\n",
       "      <th>ies</th>\n",
       "      <th>nome</th>\n",
       "      <th>prof_id</th>\n",
       "    </tr>\n",
       "  </thead>\n",
       "  <tbody>\n",
       "    <tr>\n",
       "      <th>0</th>\n",
       "      <td>PERMANENTE</td>\n",
       "      <td>PONTIFÍCIA UNIVERSIDADE CATÓLICA DO RIO DE JAN...</td>\n",
       "      <td>ALBERTO BARBOSA RAPOSO</td>\n",
       "      <td>45079</td>\n",
       "    </tr>\n",
       "    <tr>\n",
       "      <th>1</th>\n",
       "      <td>PERMANENTE</td>\n",
       "      <td>PONTIFÍCIA UNIVERSIDADE CATÓLICA DO RIO DE JAN...</td>\n",
       "      <td>ALESSANDRO FABRICIO GARCIA</td>\n",
       "      <td>45076</td>\n",
       "    </tr>\n",
       "    <tr>\n",
       "      <th>2</th>\n",
       "      <td>COLABORADOR</td>\n",
       "      <td>PONTIFÍCIA UNIVERSIDADE CATÓLICA DO RIO DE JAN...</td>\n",
       "      <td>ANTONIO LUZ FURTADO</td>\n",
       "      <td>45077</td>\n",
       "    </tr>\n",
       "    <tr>\n",
       "      <th>3</th>\n",
       "      <td>PERMANENTE</td>\n",
       "      <td>PONTIFÍCIA UNIVERSIDADE CATÓLICA DO RIO DE JAN...</td>\n",
       "      <td>ARNDT VON STAA</td>\n",
       "      <td>45074</td>\n",
       "    </tr>\n",
       "    <tr>\n",
       "      <th>4</th>\n",
       "      <td>PERMANENTE</td>\n",
       "      <td>PONTIFÍCIA UNIVERSIDADE CATÓLICA DO RIO DE JAN...</td>\n",
       "      <td>BRUNO FEIJO</td>\n",
       "      <td>45093</td>\n",
       "    </tr>\n",
       "  </tbody>\n",
       "</table>\n",
       "</div>"
      ],
      "text/plain": [
       "     categoria                                                ies  \\\n",
       "0   PERMANENTE  PONTIFÍCIA UNIVERSIDADE CATÓLICA DO RIO DE JAN...   \n",
       "1   PERMANENTE  PONTIFÍCIA UNIVERSIDADE CATÓLICA DO RIO DE JAN...   \n",
       "2  COLABORADOR  PONTIFÍCIA UNIVERSIDADE CATÓLICA DO RIO DE JAN...   \n",
       "3   PERMANENTE  PONTIFÍCIA UNIVERSIDADE CATÓLICA DO RIO DE JAN...   \n",
       "4   PERMANENTE  PONTIFÍCIA UNIVERSIDADE CATÓLICA DO RIO DE JAN...   \n",
       "\n",
       "                         nome  prof_id  \n",
       "0      ALBERTO BARBOSA RAPOSO    45079  \n",
       "1  ALESSANDRO FABRICIO GARCIA    45076  \n",
       "2         ANTONIO LUZ FURTADO    45077  \n",
       "3              ARNDT VON STAA    45074  \n",
       "4                 BRUNO FEIJO    45093  "
      ]
     },
     "execution_count": 3,
     "metadata": {},
     "output_type": "execute_result"
    }
   ],
   "source": [
    "docentes_df.head()"
   ]
  },
  {
   "cell_type": "code",
   "execution_count": 4,
   "metadata": {},
   "outputs": [
    {
     "data": {
      "text/plain": [
       "PERMANENTE     440\n",
       "COLABORADOR     49\n",
       "Name: categoria, dtype: int64"
      ]
     },
     "execution_count": 4,
     "metadata": {},
     "output_type": "execute_result"
    }
   ],
   "source": [
    "docentes_df.categoria.value_counts()"
   ]
  },
  {
   "cell_type": "code",
   "execution_count": 5,
   "metadata": {},
   "outputs": [
    {
     "data": {
      "image/png": "[encoded data removed]",
      "text/plain": [
       "<matplotlib.figure.Figure at 0x7fb749974748>"
      ]
     },
     "metadata": {},
     "output_type": "display_data"
    }
   ],
   "source": [
    "plot = docentes_df.categoria.value_counts().plot(kind='bar')\n",
    "\n",
    "for idx, value in enumerate(list(docentes_df.categoria.value_counts())): \n",
    "    plot.annotate(value,(idx, value), xytext=(0, 0), textcoords='offset points')\n"
   ]
  },
  {
   "cell_type": "markdown",
   "metadata": {},
   "source": [
    "## Discentes\n",
    "2) Quantos alunos (discentes) de Mestrado/Doutorado havia em cada programa em 2017?"
   ]
  },
  {
   "cell_type": "code",
   "execution_count": 6,
   "metadata": {},
   "outputs": [
    {
     "data": {
      "text/html": [
       "<div>\n",
       "<style scoped>\n",
       "    .dataframe tbody tr th:only-of-type {\n",
       "        vertical-align: middle;\n",
       "    }\n",
       "\n",
       "    .dataframe tbody tr th {\n",
       "        vertical-align: top;\n",
       "    }\n",
       "\n",
       "    .dataframe thead th {\n",
       "        text-align: right;\n",
       "    }\n",
       "</style>\n",
       "<table border=\"1\" class=\"dataframe\">\n",
       "  <thead>\n",
       "    <tr style=\"text-align: right;\">\n",
       "      <th></th>\n",
       "      <th>abrev</th>\n",
       "      <th>curso</th>\n",
       "      <th>data_matricula</th>\n",
       "      <th>deficiencia</th>\n",
       "      <th>discente_id</th>\n",
       "      <th>ies</th>\n",
       "      <th>nacionalidade</th>\n",
       "      <th>nivel</th>\n",
       "      <th>nome</th>\n",
       "      <th>orientador</th>\n",
       "      <th>orientadores</th>\n",
       "      <th>programa</th>\n",
       "      <th>raca</th>\n",
       "      <th>sexo</th>\n",
       "      <th>situacao</th>\n",
       "    </tr>\n",
       "  </thead>\n",
       "  <tbody>\n",
       "    <tr>\n",
       "      <th>0</th>\n",
       "      <td>LEON, A. C. (Principal)</td>\n",
       "      <td>INFORMÁTICA</td>\n",
       "      <td>03/08/2015</td>\n",
       "      <td>Não</td>\n",
       "      <td>889714</td>\n",
       "      <td>PONTIFÍCIA UNIVERSIDADE CATÓLICA DO RIO DE JAN...</td>\n",
       "      <td>Cuba</td>\n",
       "      <td>Mestrado</td>\n",
       "      <td>ADRIAN CONCEPCION LEON</td>\n",
       "      <td>NaN</td>\n",
       "      <td>[]</td>\n",
       "      <td>INFORMÁTICA(31005012004P9)</td>\n",
       "      <td>Não declarado</td>\n",
       "      <td>Masculino</td>\n",
       "      <td>MATRICULADO</td>\n",
       "    </tr>\n",
       "    <tr>\n",
       "      <th>1</th>\n",
       "      <td>HERNANDEZ, A. G. (Principal)</td>\n",
       "      <td>INFORMÁTICA</td>\n",
       "      <td>02/03/2015</td>\n",
       "      <td>Não</td>\n",
       "      <td>838354</td>\n",
       "      <td>PONTIFÍCIA UNIVERSIDADE CATÓLICA DO RIO DE JAN...</td>\n",
       "      <td>Brasil</td>\n",
       "      <td>Mestrado</td>\n",
       "      <td>ADRIEL GARCIA HERNANDEZ</td>\n",
       "      <td>RUY LUIZ MILIDIU</td>\n",
       "      <td>[{'nome': 'RUY LUIZ MILIDIU', 'categoria': 'Do...</td>\n",
       "      <td>INFORMÁTICA(31005012004P9)</td>\n",
       "      <td>Não declarado</td>\n",
       "      <td>Masculino</td>\n",
       "      <td>TITULADO</td>\n",
       "    </tr>\n",
       "    <tr>\n",
       "      <th>2</th>\n",
       "      <td>FUENTES, A. D. (Principal)</td>\n",
       "      <td>INFORMÁTICA</td>\n",
       "      <td>15/04/2016</td>\n",
       "      <td>Não</td>\n",
       "      <td>948329</td>\n",
       "      <td>PONTIFÍCIA UNIVERSIDADE CATÓLICA DO RIO DE JAN...</td>\n",
       "      <td>Brasil</td>\n",
       "      <td>Doutorado</td>\n",
       "      <td>ALAIN DOMINGUEZ FUENTES</td>\n",
       "      <td>SERGIO LIFSCHITZ</td>\n",
       "      <td>[{'nome': 'SERGIO LIFSCHITZ', 'categoria': 'Do...</td>\n",
       "      <td>INFORMÁTICA(31005012004P9)</td>\n",
       "      <td>Não declarado</td>\n",
       "      <td>Masculino</td>\n",
       "      <td>MATRICULADO</td>\n",
       "    </tr>\n",
       "    <tr>\n",
       "      <th>3</th>\n",
       "      <td>NaN</td>\n",
       "      <td>NaN</td>\n",
       "      <td>NaN</td>\n",
       "      <td>NaN</td>\n",
       "      <td>565354</td>\n",
       "      <td>NaN</td>\n",
       "      <td>NaN</td>\n",
       "      <td>NaN</td>\n",
       "      <td>NaN</td>\n",
       "      <td>NaN</td>\n",
       "      <td>NaN</td>\n",
       "      <td>NaN</td>\n",
       "      <td>NaN</td>\n",
       "      <td>NaN</td>\n",
       "      <td>NaN</td>\n",
       "    </tr>\n",
       "    <tr>\n",
       "      <th>4</th>\n",
       "      <td>MENES, A. M. (Principal)</td>\n",
       "      <td>INFORMÁTICA</td>\n",
       "      <td>01/08/2014</td>\n",
       "      <td>Não</td>\n",
       "      <td>784513</td>\n",
       "      <td>PONTIFÍCIA UNIVERSIDADE CATÓLICA DO RIO DE JAN...</td>\n",
       "      <td>Brasil</td>\n",
       "      <td>Mestrado</td>\n",
       "      <td>ALEJANDRO MUSTELIER MENES</td>\n",
       "      <td>ROBERTO IERUSALIMSCHY</td>\n",
       "      <td>[{'nome': 'ROBERTO IERUSALIMSCHY', 'categoria'...</td>\n",
       "      <td>INFORMÁTICA(31005012004P9)</td>\n",
       "      <td>Não declarado</td>\n",
       "      <td>Masculino</td>\n",
       "      <td>MATRICULADO</td>\n",
       "    </tr>\n",
       "  </tbody>\n",
       "</table>\n",
       "</div>"
      ],
      "text/plain": [
       "                          abrev        curso data_matricula deficiencia  \\\n",
       "0       LEON, A. C. (Principal)  INFORMÁTICA     03/08/2015         Não   \n",
       "1  HERNANDEZ, A. G. (Principal)  INFORMÁTICA     02/03/2015         Não   \n",
       "2    FUENTES, A. D. (Principal)  INFORMÁTICA     15/04/2016         Não   \n",
       "3                           NaN          NaN            NaN         NaN   \n",
       "4      MENES, A. M. (Principal)  INFORMÁTICA     01/08/2014         Não   \n",
       "\n",
       "   discente_id                                                ies  \\\n",
       "0       889714  PONTIFÍCIA UNIVERSIDADE CATÓLICA DO RIO DE JAN...   \n",
       "1       838354  PONTIFÍCIA UNIVERSIDADE CATÓLICA DO RIO DE JAN...   \n",
       "2       948329  PONTIFÍCIA UNIVERSIDADE CATÓLICA DO RIO DE JAN...   \n",
       "3       565354                                                NaN   \n",
       "4       784513  PONTIFÍCIA UNIVERSIDADE CATÓLICA DO RIO DE JAN...   \n",
       "\n",
       "  nacionalidade      nivel                       nome             orientador  \\\n",
       "0          Cuba   Mestrado     ADRIAN CONCEPCION LEON                    NaN   \n",
       "1        Brasil   Mestrado    ADRIEL GARCIA HERNANDEZ       RUY LUIZ MILIDIU   \n",
       "2        Brasil  Doutorado    ALAIN DOMINGUEZ FUENTES       SERGIO LIFSCHITZ   \n",
       "3           NaN        NaN                        NaN                    NaN   \n",
       "4        Brasil   Mestrado  ALEJANDRO MUSTELIER MENES  ROBERTO IERUSALIMSCHY   \n",
       "\n",
       "                                        orientadores  \\\n",
       "0                                                 []   \n",
       "1  [{'nome': 'RUY LUIZ MILIDIU', 'categoria': 'Do...   \n",
       "2  [{'nome': 'SERGIO LIFSCHITZ', 'categoria': 'Do...   \n",
       "3                                                NaN   \n",
       "4  [{'nome': 'ROBERTO IERUSALIMSCHY', 'categoria'...   \n",
       "\n",
       "                     programa           raca       sexo     situacao  \n",
       "0  INFORMÁTICA(31005012004P9)  Não declarado  Masculino  MATRICULADO  \n",
       "1  INFORMÁTICA(31005012004P9)  Não declarado  Masculino     TITULADO  \n",
       "2  INFORMÁTICA(31005012004P9)  Não declarado  Masculino  MATRICULADO  \n",
       "3                         NaN            NaN        NaN          NaN  \n",
       "4  INFORMÁTICA(31005012004P9)  Não declarado  Masculino  MATRICULADO  "
      ]
     },
     "execution_count": 6,
     "metadata": {},
     "output_type": "execute_result"
    }
   ],
   "source": [
    "discentes_df.head()"
   ]
  },
  {
   "cell_type": "code",
   "execution_count": 7,
   "metadata": {},
   "outputs": [
    {
     "data": {
      "text/plain": [
       "array(['Mestrado', 'Doutorado', nan, 'Graduação'], dtype=object)"
      ]
     },
     "execution_count": 7,
     "metadata": {},
     "output_type": "execute_result"
    }
   ],
   "source": [
    "discentes_df.nivel.unique()"
   ]
  },
  {
   "cell_type": "code",
   "execution_count": 8,
   "metadata": {},
   "outputs": [
    {
     "data": {
      "text/plain": [
       "Mestrado     1797\n",
       "Doutorado    1641\n",
       "Name: nivel, dtype: int64"
      ]
     },
     "execution_count": 8,
     "metadata": {},
     "output_type": "execute_result"
    }
   ],
   "source": [
    "discentes_pos_df = discentes_df[discentes_df.nivel.isin([\"Mestrado\", \"Doutorado\"])]\n",
    "discentes_pos_df = discentes_pos_df[[\"nivel\", \"programa\"]]\n",
    "discentes_pos_df.nivel.value_counts()"
   ]
  },
  {
   "cell_type": "code",
   "execution_count": 9,
   "metadata": {},
   "outputs": [
    {
     "data": {
      "text/plain": [
       "array(['INFORMÁTICA(31005012004P9)',\n",
       "       'CIÊNCIA DA COMPUTAÇÃO(42005019016P8)',\n",
       "       'COMPUTAÇÃO(31003010046P4)',\n",
       "       'CIÊNCIAS DA COMPUTAÇÃO(32001010004P6)',\n",
       "       'CIÊNCIAS DA COMPUTAÇÃO(25001019004P6)',\n",
       "       'COMPUTAÇÃO(42001013004P4)', 'INFORMÁTICA(31001017110P8)',\n",
       "       'CIÊNCIA DA COMPUTAÇÃO(33003017005P8)',\n",
       "       'CIÊNCIA DA COMPUTAÇÃO(33002010176P0)',\n",
       "       'CIÊNCIAS DA COMPUTAÇÃO E MATEMÁTICA COMPUTACIONAL(33002045004P1)'],\n",
       "      dtype=object)"
      ]
     },
     "execution_count": 9,
     "metadata": {},
     "output_type": "execute_result"
    }
   ],
   "source": [
    "discentes_pos_df.programa.unique()"
   ]
  },
  {
   "cell_type": "markdown",
   "metadata": {},
   "source": [
    "### Mestrado/Doutorado"
   ]
  },
  {
   "cell_type": "code",
   "execution_count": 13,
   "metadata": {},
   "outputs": [
    {
     "data": {
      "text/plain": [
       "CIÊNCIAS DA COMPUTAÇÃO(25001019004P6)                               716\n",
       "CIÊNCIAS DA COMPUTAÇÃO E MATEMÁTICA COMPUTACIONAL(33002045004P1)    491\n",
       "CIÊNCIAS DA COMPUTAÇÃO(32001010004P6)                               415\n",
       "CIÊNCIA DA COMPUTAÇÃO(33003017005P8)                                356\n",
       "COMPUTAÇÃO(42001013004P4)                                           319\n",
       "COMPUTAÇÃO(31003010046P4)                                           282\n",
       "CIÊNCIA DA COMPUTAÇÃO(33002010176P0)                                244\n",
       "CIÊNCIA DA COMPUTAÇÃO(42005019016P8)                                228\n",
       "INFORMÁTICA(31005012004P9)                                          214\n",
       "INFORMÁTICA(31001017110P8)                                          173\n",
       "Name: programa, dtype: int64"
      ]
     },
     "execution_count": 13,
     "metadata": {},
     "output_type": "execute_result"
    }
   ],
   "source": [
    "discentes_pos_df.programa.value_counts()"
   ]
  },
  {
   "cell_type": "code",
   "execution_count": 10,
   "metadata": {},
   "outputs": [
    {
     "data": {
      "image/png": "[encoded data removed]",
      "text/plain": [
       "<matplotlib.figure.Figure at 0x7fb749974b38>"
      ]
     },
     "metadata": {},
     "output_type": "display_data"
    }
   ],
   "source": [
    "plot = discentes_pos_df.programa.value_counts().plot(kind='bar', title=\"Mestrado/Doutorado\")\n",
    "\n",
    "for idx, value in enumerate(list(discentes_pos_df.programa.value_counts())): \n",
    "    plot.annotate(value,(idx, value), xytext=(0, 0), textcoords='offset points')"
   ]
  },
  {
   "cell_type": "markdown",
   "metadata": {},
   "source": [
    "### Mestrado"
   ]
  },
  {
   "cell_type": "code",
   "execution_count": 15,
   "metadata": {},
   "outputs": [
    {
     "data": {
      "text/plain": [
       "CIÊNCIAS DA COMPUTAÇÃO(25001019004P6)                               337\n",
       "CIÊNCIAS DA COMPUTAÇÃO(32001010004P6)                               242\n",
       "COMPUTAÇÃO(42001013004P4)                                           194\n",
       "CIÊNCIA DA COMPUTAÇÃO(33003017005P8)                                186\n",
       "CIÊNCIAS DA COMPUTAÇÃO E MATEMÁTICA COMPUTACIONAL(33002045004P1)    173\n",
       "COMPUTAÇÃO(31003010046P4)                                           168\n",
       "CIÊNCIA DA COMPUTAÇÃO(42005019016P8)                                137\n",
       "CIÊNCIA DA COMPUTAÇÃO(33002010176P0)                                133\n",
       "INFORMÁTICA(31005012004P9)                                          117\n",
       "INFORMÁTICA(31001017110P8)                                          110\n",
       "Name: programa, dtype: int64"
      ]
     },
     "execution_count": 15,
     "metadata": {},
     "output_type": "execute_result"
    }
   ],
   "source": [
    "discentes_pos_df[discentes_pos_df.nivel=='Mestrado'].programa.value_counts()"
   ]
  },
  {
   "cell_type": "code",
   "execution_count": 11,
   "metadata": {},
   "outputs": [
    {
     "data": {
      "image/png": "[encoded data removed]",
      "text/plain": [
       "<matplotlib.figure.Figure at 0x7fb749342cc0>"
      ]
     },
     "metadata": {},
     "output_type": "display_data"
    }
   ],
   "source": [
    "plot = discentes_pos_df[discentes_pos_df.nivel=='Mestrado'].programa.value_counts().plot(\n",
    "    kind='bar', title=\"Mestrado\")\n",
    "\n",
    "for idx, value in enumerate(list(discentes_pos_df[discentes_pos_df.nivel=='Mestrado'].programa.value_counts())): \n",
    "    plot.annotate(value,(idx, value), xytext=(0, 0), textcoords='offset points')"
   ]
  },
  {
   "cell_type": "markdown",
   "metadata": {},
   "source": [
    "### Doutorado"
   ]
  },
  {
   "cell_type": "code",
   "execution_count": 16,
   "metadata": {},
   "outputs": [
    {
     "data": {
      "text/plain": [
       "CIÊNCIAS DA COMPUTAÇÃO(25001019004P6)                               379\n",
       "CIÊNCIAS DA COMPUTAÇÃO E MATEMÁTICA COMPUTACIONAL(33002045004P1)    318\n",
       "CIÊNCIAS DA COMPUTAÇÃO(32001010004P6)                               173\n",
       "CIÊNCIA DA COMPUTAÇÃO(33003017005P8)                                170\n",
       "COMPUTAÇÃO(42001013004P4)                                           125\n",
       "COMPUTAÇÃO(31003010046P4)                                           114\n",
       "CIÊNCIA DA COMPUTAÇÃO(33002010176P0)                                111\n",
       "INFORMÁTICA(31005012004P9)                                           97\n",
       "CIÊNCIA DA COMPUTAÇÃO(42005019016P8)                                 91\n",
       "INFORMÁTICA(31001017110P8)                                           63\n",
       "Name: programa, dtype: int64"
      ]
     },
     "execution_count": 16,
     "metadata": {},
     "output_type": "execute_result"
    }
   ],
   "source": [
    "discentes_pos_df[discentes_pos_df.nivel=='Doutorado'].programa.value_counts()"
   ]
  },
  {
   "cell_type": "code",
   "execution_count": 12,
   "metadata": {},
   "outputs": [
    {
     "data": {
      "image/png": "[encoded data removed]",
      "text/plain": [
       "<matplotlib.figure.Figure at 0x7fb749326400>"
      ]
     },
     "metadata": {},
     "output_type": "display_data"
    }
   ],
   "source": [
    "plot = discentes_pos_df[discentes_pos_df.nivel=='Doutorado'].programa.value_counts().plot(\n",
    "    kind='bar', title=\"Doutorado\")\n",
    "\n",
    "for idx, value in enumerate(list(discentes_pos_df[discentes_pos_df.nivel=='Doutorado'].programa.value_counts())): \n",
    "    plot.annotate(value,(idx, value), xytext=(0, 0), textcoords='offset points')"
   ]
  },
  {
   "cell_type": "markdown",
   "metadata": {},
   "source": [
    "## Discentes x Docentes\n",
    "3) Qual foi a taxa de alunos de Mestrado/Doutorado por professor do quadro permanente em cada programa em 2017?\n",
    "\n",
    "4) Qual foi a distribuição de alunos de Mestrado/Doutorado pelos professores de cada programa em 2017?"
   ]
  },
  {
   "cell_type": "code",
   "execution_count": null,
   "metadata": {},
   "outputs": [],
   "source": []
  },
  {
   "cell_type": "markdown",
   "metadata": {},
   "source": [
    "## Trabalhos de Conclusão\n",
    "5) Quantos alunos de Mestrado/Doutorado defenderam suas dissertações/teses em 2017 (arquivo trabalhos.csv)?\n",
    "\n",
    "6) Como os trabalhos de Mestrado/Doutorado defendidos em 2017 foram distribuídos pelas áreas de pesquisa dos programas?\n",
    "\n",
    "7) Como as defesas de Mestrado/Doutorado foram distribuídas ao longo do ano de 2017?"
   ]
  },
  {
   "cell_type": "code",
   "execution_count": null,
   "metadata": {},
   "outputs": [],
   "source": []
  },
  {
   "cell_type": "markdown",
   "metadata": {},
   "source": [
    "## Discentes x Trabalhos de Conclusão\n",
    "8) Qual fração de alunos de Mestrado/Doutorado (do total em cada programa) defendeu em 2017?"
   ]
  },
  {
   "cell_type": "code",
   "execution_count": null,
   "metadata": {},
   "outputs": [],
   "source": []
  },
  {
   "cell_type": "markdown",
   "metadata": {},
   "source": [
    "## Produção\n",
    "9) Quantos artigos de periódico/trabalhos em anais foram publicados por cada programa em 2017?\n",
    "\n",
    "10) Qual é a taxa de artigos de periódico/trabalhos em anais por número de docentes permanentes de cada programa em 2017?\n",
    "\n",
    "11) Qual fração de artigos de periódico/trabalhos em anais publicados em 2017 teve a coautoria de discentes?\n",
    "\n",
    "12) Qual fração de artigos de periódico/trabalhos em anais publicados em 2017 teve a coautoria de participantes externos?"
   ]
  },
  {
   "cell_type": "code",
   "execution_count": null,
   "metadata": {},
   "outputs": [],
   "source": []
  },
  {
   "cell_type": "markdown",
   "metadata": {},
   "source": [
    "## Produção x Qualis\n",
    "13) Qual é a distribuição de artigos de periódico publicados em 2017, por estrato do Qualis?\n",
    "\n",
    "14) Considerando os pesos dos artigos de cada estrato do índice restrito ({'A1': 1, 'A2': 0.85, 'B1': 0.70}), qual o índice restrito relativo de cada programa, considerando apenas os artigos em periódicos, e dividido pelo número de docentes permanentes (ordenado do maior para o menor)?\n",
    "\n",
    "15) Considerando os pesos dos artigos de cada estrato do índice geral ({'A1': 1, 'A2': 0.85, 'B1': 0.70, 'B2': 0.50, 'B3': 0.20, 'B4': 0.10, 'B5': 0.05, 'C': 0.0}), qual o índice geral relativo de cada programa, considerando apenas os artigos em periódicos, e dividido pelo número de docentes permanentes (ordenado do maior para o menor)?"
   ]
  },
  {
   "cell_type": "code",
   "execution_count": null,
   "metadata": {},
   "outputs": [],
   "source": []
  }
 ],
 "metadata": {
  "kernelspec": {
   "display_name": "Python 3",
   "language": "python",
   "name": "python3"
  },
  "language_info": {
   "codemirror_mode": {
    "name": "ipython",
    "version": 3
   },
   "file_extension": ".py",
   "mimetype": "text/x-python",
   "name": "python",
   "nbconvert_exporter": "python",
   "pygments_lexer": "ipython3",
   "version": "3.6.4"
  }
 },
 "nbformat": 4,
 "nbformat_minor": 2
}
