{
 "cells": [
  {
   "cell_type": "markdown",
   "metadata": {},
   "source": [
    "Os arquivos compactados no arquivo dados_CAPES_2018-04-06.zip trazem dados sobre os programas de pós-graduação em Informática de algumas instituições em 2017. Tratam-se de dados públicos, obtidos da plataforma Sucupira da CAPES (https://sucupira.capes.gov.br/sucupira/). \n",
    "\n",
    "O objetivo do trabalho T1.1 é fazer uma análise descritiva e responder algumas perguntas sobre os dados. Sempre que possível, as respostas devem ser dadas numérica e visualmente."
   ]
  },
  {
   "cell_type": "code",
   "execution_count": 1,
   "metadata": {},
   "outputs": [],
   "source": [
    "import pandas as pd\n",
    "import matplotlib.pyplot as plt\n",
    "import numpy as np\n",
    "import seaborn as sns\n",
    "\n",
    "%matplotlib inline"
   ]
  },
  {
   "cell_type": "code",
   "execution_count": 2,
   "metadata": {},
   "outputs": [],
   "source": [
    "discentes_df = pd.read_csv('discentes.csv').drop_duplicates()\n",
    "docentes_df = pd.read_csv('docentes.csv').drop_duplicates()\n",
    "producao_df = pd.read_csv('producao.csv').drop_duplicates()\n",
    "trabalhos_df = pd.read_csv('trabalhos.csv').drop_duplicates()\n",
    "\n",
    "qualis_df = pd.read_excel('Qualis CC 2013-2016.xlsx').drop_duplicates()"
   ]
  },
  {
   "cell_type": "code",
   "execution_count": 3,
   "metadata": {},
   "outputs": [
    {
     "data": {
      "text/plain": [
       "array(['PONTIFÍCIA UNIVERSIDADE CATÓLICA DO RIO DE JANEIRO',\n",
       "       'PONTIFÍCIA UNIVERSIDADE CATÓLICA DO RIO GRANDE DO SUL',\n",
       "       'UNIVERSIDADE FEDERAL FLUMINENSE',\n",
       "       'UNIVERSIDADE FEDERAL DE MINAS GERAIS',\n",
       "       'UNIVERSIDADE FEDERAL DE PERNAMBUCO',\n",
       "       'UNIVERSIDADE FEDERAL DO RIO GRANDE DO SUL',\n",
       "       'UNIVERSIDADE FEDERAL DO RIO DE JANEIRO',\n",
       "       'UNIVERSIDADE ESTADUAL DE CAMPINAS',\n",
       "       'UNICAMP_CIENCIA_DA_COMPUTACAO_33003017005P8_7_2017_1.html',\n",
       "       'UNICAMP_CIENCIA_DA_COMPUTACAO_33003017005P8_7_2017_2.html',\n",
       "       'UNIVERSIDADE DE SÃO PAULO',\n",
       "       'USP_SC_CIENCIAS_DA_COMPUTACAO_E_MATEMATICA_COMPUTACIONAL_33002045004P1_7_2017_1.html',\n",
       "       'UNIVERSIDADE DE SÃO PAULO ( SÃO CARLOS )',\n",
       "       'USP_SC_CIENCIAS_DA_COMPUTACAO_E_MATEMATICA_COMPUTACIONAL_33002045004P1_7_2017_2.html'],\n",
       "      dtype=object)"
      ]
     },
     "execution_count": 3,
     "metadata": {},
     "output_type": "execute_result"
    }
   ],
   "source": [
    "trabalhos_df.ies.unique()"
   ]
  },
  {
   "cell_type": "code",
   "execution_count": 4,
   "metadata": {},
   "outputs": [],
   "source": [
    "# Função para adicionar siglas aos dataframes\n",
    "ies_to_short = {\n",
    "    \"PONTIFÍCIA UNIVERSIDADE CATÓLICA DO RIO DE JANEIRO\": \"PUC-Rio\",\n",
    "    'PONTIFÍCIA UNIVERSIDADE CATÓLICA DO RIO DE JANEIRO (PUC-RIO)': \"PUC-Rio\",\n",
    "    \n",
    "    \"PONTIFÍCIA UNIVERSIDADE CATÓLICA DO RIO GRANDE DO SUL\": \"PUC/RS\",\n",
    "    'PONTIFÍCIA UNIVERSIDADE CATÓLICA DO RIO GRANDE DO SUL (PUC/RS)': \"PUC/RS\",\n",
    "    \n",
    "    \"UNIVERSIDADE FEDERAL FLUMINENSE\": \"UFF\",\n",
    "    'UNIVERSIDADE FEDERAL FLUMINENSE (UFF)':\"UFF\",\n",
    "    \n",
    "    \"UNIVERSIDADE FEDERAL DE MINAS GERAIS\": \"UFMG\",\n",
    "    'UNIVERSIDADE FEDERAL DE MINAS GERAIS (UFMG)': \"UFMG\",\n",
    "    \n",
    "    \"UNIVERSIDADE FEDERAL DE PERNAMBUCO\": \"UFPE\",\n",
    "    'UNIVERSIDADE FEDERAL DE PERNAMBUCO (UFPE)': \"UFPE\",\n",
    "    \n",
    "    \"UNIVERSIDADE FEDERAL DO RIO GRANDE DO SUL\": \"UFRGS\",\n",
    "    'UNIVERSIDADE FEDERAL DO RIO GRANDE DO SUL (UFRGS)': \"UFRGS\",\n",
    "    \n",
    "    \"UNIVERSIDADE FEDERAL DO RIO DE JANEIRO\": \"UFRJ\",\n",
    "    'UNIVERSIDADE FEDERAL DO RIO DE JANEIRO (UFRJ)': \"UFRJ\",\n",
    "    \n",
    "    \"UNIVERSIDADE ESTADUAL DE CAMPINAS\": \"Unicamp\",\n",
    "    'UNIVERSIDADE ESTADUAL DE CAMPINAS (UNICAMP)': \"Unicamp\",\n",
    "    'UNICAMP_CIENCIA_DA_COMPUTACAO_33003017005P8_7_2017_1.html': \"Unicamp\",\n",
    "    'UNICAMP_CIENCIA_DA_COMPUTACAO_33003017005P8_7_2017_2.html': \"Unicamp\",\n",
    "    \n",
    "    \"UNIVERSIDADE DE SÃO PAULO\": \"USP\",\n",
    "    'UNIVERSIDADE DE SÃO PAULO (USP)': \"USP\",\n",
    "    \n",
    "    \"UNIVERSIDADE DE SÃO PAULO ( SÃO CARLOS )\": \"USP/SC\",\n",
    "    'UNIVERSIDADE DE SÃO PAULO ( SÃO CARLOS ) (USP/SC)': \"USP/SC\",\n",
    "    'USP_SC_CIENCIAS_DA_COMPUTACAO_E_MATEMATICA_COMPUTACIONAL_33002045004P1_7_2017_1.html': \"USP/SC\",\n",
    "    'USP_SC_CIENCIAS_DA_COMPUTACAO_E_MATEMATICA_COMPUTACIONAL_33002045004P1_7_2017_2.html': \"USP/SC\"\n",
    "}\n",
    "\n",
    "def addIesShort ( dataFrame , iesColName = 'ies' , shortColName = 'ies_sigla'):\n",
    "    dataFrame[shortColName] = dataFrame[iesColName]\n",
    "    dataFrame.replace( {shortColName: ies_to_short } , inplace=True ) "
   ]
  },
  {
   "cell_type": "code",
   "execution_count": 5,
   "metadata": {},
   "outputs": [],
   "source": [
    "# Adicionando sigla das instituições\n",
    "addIesShort( discentes_df )\n",
    "addIesShort( docentes_df )\n",
    "addIesShort( producao_df )\n",
    "addIesShort( trabalhos_df )"
   ]
  },
  {
   "cell_type": "code",
   "execution_count": 6,
   "metadata": {},
   "outputs": [
    {
     "data": {
      "text/plain": [
       "array(['PUC-Rio', 'PUC/RS', 'UFF', 'UFMG', 'UFPE', 'UFRGS', 'UFRJ',\n",
       "       'Unicamp', 'USP', 'USP/SC'], dtype=object)"
      ]
     },
     "execution_count": 6,
     "metadata": {},
     "output_type": "execute_result"
    }
   ],
   "source": [
    "discentes_df.ies_sigla.unique()"
   ]
  },
  {
   "cell_type": "code",
   "execution_count": 7,
   "metadata": {},
   "outputs": [
    {
     "data": {
      "text/plain": [
       "array(['PUC-Rio', 'PUC/RS', 'UFF', 'UFMG', 'UFPE', 'UFRGS', 'UFRJ',\n",
       "       'Unicamp', 'USP', 'USP/SC'], dtype=object)"
      ]
     },
     "execution_count": 7,
     "metadata": {},
     "output_type": "execute_result"
    }
   ],
   "source": [
    "docentes_df.ies_sigla.unique()"
   ]
  },
  {
   "cell_type": "code",
   "execution_count": 8,
   "metadata": {},
   "outputs": [
    {
     "data": {
      "text/plain": [
       "array(['PUC-Rio', 'PUC/RS', 'UFF', 'UFMG', 'UFPE', 'UFRGS', 'UFRJ',\n",
       "       'Unicamp', 'USP', 'USP/SC'], dtype=object)"
      ]
     },
     "execution_count": 8,
     "metadata": {},
     "output_type": "execute_result"
    }
   ],
   "source": [
    "docentes_df.ies_sigla.unique()"
   ]
  },
  {
   "cell_type": "code",
   "execution_count": 9,
   "metadata": {},
   "outputs": [
    {
     "data": {
      "text/plain": [
       "array(['PUC-Rio', 'PUC/RS', 'UFF', 'UFMG', 'UFPE', 'UFRGS', 'UFRJ',\n",
       "       'Unicamp', 'USP', 'USP/SC'], dtype=object)"
      ]
     },
     "execution_count": 9,
     "metadata": {},
     "output_type": "execute_result"
    }
   ],
   "source": [
    "docentes_df.ies_sigla.unique()"
   ]
  },
  {
   "cell_type": "markdown",
   "metadata": {},
   "source": [
    "## Docentes\n",
    "1) Quantos professores (docentes) havia em cada programa em 2017, em cada quadro (permanente, colaborador, visitante)?"
   ]
  },
  {
   "cell_type": "code",
   "execution_count": 10,
   "metadata": {},
   "outputs": [
    {
     "data": {
      "text/html": [
       "<div>\n",
       "<style scoped>\n",
       "    .dataframe tbody tr th:only-of-type {\n",
       "        vertical-align: middle;\n",
       "    }\n",
       "\n",
       "    .dataframe tbody tr th {\n",
       "        vertical-align: top;\n",
       "    }\n",
       "\n",
       "    .dataframe thead th {\n",
       "        text-align: right;\n",
       "    }\n",
       "</style>\n",
       "<table border=\"1\" class=\"dataframe\">\n",
       "  <thead>\n",
       "    <tr style=\"text-align: right;\">\n",
       "      <th></th>\n",
       "      <th>categoria</th>\n",
       "      <th>ies</th>\n",
       "      <th>nome</th>\n",
       "      <th>prof_id</th>\n",
       "      <th>ies_sigla</th>\n",
       "    </tr>\n",
       "  </thead>\n",
       "  <tbody>\n",
       "    <tr>\n",
       "      <th>0</th>\n",
       "      <td>PERMANENTE</td>\n",
       "      <td>PONTIFÍCIA UNIVERSIDADE CATÓLICA DO RIO DE JAN...</td>\n",
       "      <td>ALBERTO BARBOSA RAPOSO</td>\n",
       "      <td>45079</td>\n",
       "      <td>PUC-Rio</td>\n",
       "    </tr>\n",
       "    <tr>\n",
       "      <th>1</th>\n",
       "      <td>PERMANENTE</td>\n",
       "      <td>PONTIFÍCIA UNIVERSIDADE CATÓLICA DO RIO DE JAN...</td>\n",
       "      <td>ALESSANDRO FABRICIO GARCIA</td>\n",
       "      <td>45076</td>\n",
       "      <td>PUC-Rio</td>\n",
       "    </tr>\n",
       "    <tr>\n",
       "      <th>2</th>\n",
       "      <td>COLABORADOR</td>\n",
       "      <td>PONTIFÍCIA UNIVERSIDADE CATÓLICA DO RIO DE JAN...</td>\n",
       "      <td>ANTONIO LUZ FURTADO</td>\n",
       "      <td>45077</td>\n",
       "      <td>PUC-Rio</td>\n",
       "    </tr>\n",
       "    <tr>\n",
       "      <th>3</th>\n",
       "      <td>PERMANENTE</td>\n",
       "      <td>PONTIFÍCIA UNIVERSIDADE CATÓLICA DO RIO DE JAN...</td>\n",
       "      <td>ARNDT VON STAA</td>\n",
       "      <td>45074</td>\n",
       "      <td>PUC-Rio</td>\n",
       "    </tr>\n",
       "    <tr>\n",
       "      <th>4</th>\n",
       "      <td>PERMANENTE</td>\n",
       "      <td>PONTIFÍCIA UNIVERSIDADE CATÓLICA DO RIO DE JAN...</td>\n",
       "      <td>BRUNO FEIJO</td>\n",
       "      <td>45093</td>\n",
       "      <td>PUC-Rio</td>\n",
       "    </tr>\n",
       "  </tbody>\n",
       "</table>\n",
       "</div>"
      ],
      "text/plain": [
       "     categoria                                                ies  \\\n",
       "0   PERMANENTE  PONTIFÍCIA UNIVERSIDADE CATÓLICA DO RIO DE JAN...   \n",
       "1   PERMANENTE  PONTIFÍCIA UNIVERSIDADE CATÓLICA DO RIO DE JAN...   \n",
       "2  COLABORADOR  PONTIFÍCIA UNIVERSIDADE CATÓLICA DO RIO DE JAN...   \n",
       "3   PERMANENTE  PONTIFÍCIA UNIVERSIDADE CATÓLICA DO RIO DE JAN...   \n",
       "4   PERMANENTE  PONTIFÍCIA UNIVERSIDADE CATÓLICA DO RIO DE JAN...   \n",
       "\n",
       "                         nome  prof_id ies_sigla  \n",
       "0      ALBERTO BARBOSA RAPOSO    45079   PUC-Rio  \n",
       "1  ALESSANDRO FABRICIO GARCIA    45076   PUC-Rio  \n",
       "2         ANTONIO LUZ FURTADO    45077   PUC-Rio  \n",
       "3              ARNDT VON STAA    45074   PUC-Rio  \n",
       "4                 BRUNO FEIJO    45093   PUC-Rio  "
      ]
     },
     "execution_count": 10,
     "metadata": {},
     "output_type": "execute_result"
    }
   ],
   "source": [
    "docentes_df.head()"
   ]
  },
  {
   "cell_type": "code",
   "execution_count": 11,
   "metadata": {},
   "outputs": [
    {
     "data": {
      "text/plain": [
       "PERMANENTE     431\n",
       "COLABORADOR     56\n",
       "Name: categoria, dtype: int64"
      ]
     },
     "execution_count": 11,
     "metadata": {},
     "output_type": "execute_result"
    }
   ],
   "source": [
    "docentes_df.categoria.value_counts()"
   ]
  },
  {
   "cell_type": "code",
   "execution_count": 12,
   "metadata": {},
   "outputs": [
    {
     "data": {
      "image/png": "[encoded data removed]",
      "text/plain": [
       "<matplotlib.figure.Figure at 0x212d16f5588>"
      ]
     },
     "metadata": {},
     "output_type": "display_data"
    }
   ],
   "source": [
    "plot = docentes_df.categoria.value_counts().plot(kind='bar')\n",
    "\n",
    "for idx, value in enumerate(list(docentes_df.categoria.value_counts())): \n",
    "    plot.annotate(value,(idx, value), xytext=(-8, 0), textcoords='offset points')\n"
   ]
  },
  {
   "cell_type": "code",
   "execution_count": 13,
   "metadata": {},
   "outputs": [],
   "source": [
    "discentes_prof_df = discentes_df[['orientador', 'ies_sigla']] \n",
    "discentes_prof_df = discentes_prof_df.groupby(['orientador', 'ies_sigla']).size().to_frame().reset_index()\n",
    "discentes_prof_df = discentes_prof_df[['orientador', 'ies_sigla']]"
   ]
  },
  {
   "cell_type": "code",
   "execution_count": 14,
   "metadata": {},
   "outputs": [
    {
     "data": {
      "text/plain": [
       "count                                   458\n",
       "unique                                  458\n",
       "top       EDUARDO ANTONIO GUIMARAES TAVARES\n",
       "freq                                      1\n",
       "Name: orientador, dtype: object"
      ]
     },
     "execution_count": 14,
     "metadata": {},
     "output_type": "execute_result"
    }
   ],
   "source": [
    "discentes_prof_df.orientador.describe()"
   ]
  },
  {
   "cell_type": "code",
   "execution_count": 15,
   "metadata": {},
   "outputs": [
    {
     "data": {
      "text/html": [
       "<div>\n",
       "<style scoped>\n",
       "    .dataframe tbody tr th:only-of-type {\n",
       "        vertical-align: middle;\n",
       "    }\n",
       "\n",
       "    .dataframe tbody tr th {\n",
       "        vertical-align: top;\n",
       "    }\n",
       "\n",
       "    .dataframe thead th {\n",
       "        text-align: right;\n",
       "    }\n",
       "</style>\n",
       "<table border=\"1\" class=\"dataframe\">\n",
       "  <thead>\n",
       "    <tr style=\"text-align: right;\">\n",
       "      <th></th>\n",
       "      <th>categoria</th>\n",
       "      <th>ies</th>\n",
       "      <th>nome</th>\n",
       "      <th>prof_id</th>\n",
       "      <th>ies_sigla</th>\n",
       "    </tr>\n",
       "  </thead>\n",
       "  <tbody>\n",
       "    <tr>\n",
       "      <th>4</th>\n",
       "      <td>PERMANENTE</td>\n",
       "      <td>PONTIFÍCIA UNIVERSIDADE CATÓLICA DO RIO DE JAN...</td>\n",
       "      <td>BRUNO FEIJO</td>\n",
       "      <td>45093</td>\n",
       "      <td>PUC-Rio</td>\n",
       "    </tr>\n",
       "    <tr>\n",
       "      <th>35</th>\n",
       "      <td>COLABORADOR</td>\n",
       "      <td>PONTIFÍCIA UNIVERSIDADE CATÓLICA DO RIO GRANDE...</td>\n",
       "      <td>JORGE LUIS NICOLAS AUDY</td>\n",
       "      <td>86202</td>\n",
       "      <td>PUC/RS</td>\n",
       "    </tr>\n",
       "    <tr>\n",
       "      <th>50</th>\n",
       "      <td>PERMANENTE</td>\n",
       "      <td>UNIVERSIDADE FEDERAL FLUMINENSE</td>\n",
       "      <td>ALINE MARINS PAES</td>\n",
       "      <td>152411</td>\n",
       "      <td>UFF</td>\n",
       "    </tr>\n",
       "    <tr>\n",
       "      <th>55</th>\n",
       "      <td>PERMANENTE</td>\n",
       "      <td>UNIVERSIDADE FEDERAL FLUMINENSE</td>\n",
       "      <td>BRUNO LOPES VIEIRA</td>\n",
       "      <td>152538</td>\n",
       "      <td>UFF</td>\n",
       "    </tr>\n",
       "    <tr>\n",
       "      <th>101</th>\n",
       "      <td>COLABORADOR</td>\n",
       "      <td>UNIVERSIDADE FEDERAL DE MINAS GERAIS</td>\n",
       "      <td>CRISTIANO ARBEX VALLE</td>\n",
       "      <td>172391</td>\n",
       "      <td>UFMG</td>\n",
       "    </tr>\n",
       "    <tr>\n",
       "      <th>127</th>\n",
       "      <td>COLABORADOR</td>\n",
       "      <td>UNIVERSIDADE FEDERAL DE MINAS GERAIS</td>\n",
       "      <td>NEWTON JOSE VIEIRA</td>\n",
       "      <td>49000</td>\n",
       "      <td>UFMG</td>\n",
       "    </tr>\n",
       "    <tr>\n",
       "      <th>167</th>\n",
       "      <td>COLABORADOR</td>\n",
       "      <td>UNIVERSIDADE FEDERAL DE PERNAMBUCO</td>\n",
       "      <td>EDSON COSTA DE BARROS CARVALHO FILHO</td>\n",
       "      <td>31315</td>\n",
       "      <td>UFPE</td>\n",
       "    </tr>\n",
       "    <tr>\n",
       "      <th>179</th>\n",
       "      <td>PERMANENTE</td>\n",
       "      <td>UNIVERSIDADE FEDERAL DE PERNAMBUCO</td>\n",
       "      <td>GUSTAVO HENRIQUE PORTO DE CARVALHO</td>\n",
       "      <td>169215</td>\n",
       "      <td>UFPE</td>\n",
       "    </tr>\n",
       "    <tr>\n",
       "      <th>207</th>\n",
       "      <td>PERMANENTE</td>\n",
       "      <td>UNIVERSIDADE FEDERAL DE PERNAMBUCO</td>\n",
       "      <td>PEDRO MACHADO MANHAES DE CASTRO</td>\n",
       "      <td>111945</td>\n",
       "      <td>UFPE</td>\n",
       "    </tr>\n",
       "    <tr>\n",
       "      <th>236</th>\n",
       "      <td>PERMANENTE</td>\n",
       "      <td>UNIVERSIDADE FEDERAL DO RIO GRANDE DO SUL</td>\n",
       "      <td>ANDRE GRAHL PEREIRA</td>\n",
       "      <td>166203</td>\n",
       "      <td>UFRGS</td>\n",
       "    </tr>\n",
       "    <tr>\n",
       "      <th>248</th>\n",
       "      <td>PERMANENTE</td>\n",
       "      <td>UNIVERSIDADE FEDERAL DO RIO GRANDE DO SUL</td>\n",
       "      <td>EDUARDO SIMOES LOPES GASTAL</td>\n",
       "      <td>170372</td>\n",
       "      <td>UFRGS</td>\n",
       "    </tr>\n",
       "    <tr>\n",
       "      <th>261</th>\n",
       "      <td>PERMANENTE</td>\n",
       "      <td>UNIVERSIDADE FEDERAL DO RIO GRANDE DO SUL</td>\n",
       "      <td>LIANE MARGARIDA ROCKENBACH TAROUCO</td>\n",
       "      <td>82093</td>\n",
       "      <td>UFRGS</td>\n",
       "    </tr>\n",
       "    <tr>\n",
       "      <th>268</th>\n",
       "      <td>PERMANENTE</td>\n",
       "      <td>UNIVERSIDADE FEDERAL DO RIO GRANDE DO SUL</td>\n",
       "      <td>LUCIO MAURO DUARTE</td>\n",
       "      <td>159222</td>\n",
       "      <td>UFRGS</td>\n",
       "    </tr>\n",
       "    <tr>\n",
       "      <th>289</th>\n",
       "      <td>PERMANENTE</td>\n",
       "      <td>UNIVERSIDADE FEDERAL DO RIO GRANDE DO SUL</td>\n",
       "      <td>WEVERTON LUIS DA COSTA CORDEIRO</td>\n",
       "      <td>166200</td>\n",
       "      <td>UFRGS</td>\n",
       "    </tr>\n",
       "    <tr>\n",
       "      <th>291</th>\n",
       "      <td>PERMANENTE</td>\n",
       "      <td>UNIVERSIDADE FEDERAL DO RIO DE JANEIRO</td>\n",
       "      <td>ANTONIO JUAREZ SYLVIO MENEZES DE ALENCAR</td>\n",
       "      <td>103961</td>\n",
       "      <td>UFRJ</td>\n",
       "    </tr>\n",
       "    <tr>\n",
       "      <th>299</th>\n",
       "      <td>PERMANENTE</td>\n",
       "      <td>UNIVERSIDADE FEDERAL DO RIO DE JANEIRO</td>\n",
       "      <td>FABIO MASCARENHAS DE QUEIROZ</td>\n",
       "      <td>165542</td>\n",
       "      <td>UFRJ</td>\n",
       "    </tr>\n",
       "    <tr>\n",
       "      <th>308</th>\n",
       "      <td>PERMANENTE</td>\n",
       "      <td>UNIVERSIDADE FEDERAL DO RIO DE JANEIRO</td>\n",
       "      <td>LILIAN MARKENZON</td>\n",
       "      <td>41252</td>\n",
       "      <td>UFRJ</td>\n",
       "    </tr>\n",
       "    <tr>\n",
       "      <th>325</th>\n",
       "      <td>PERMANENTE</td>\n",
       "      <td>UNIVERSIDADE ESTADUAL DE CAMPINAS</td>\n",
       "      <td>ARNALDO VIEIRA MOURA</td>\n",
       "      <td>64125</td>\n",
       "      <td>Unicamp</td>\n",
       "    </tr>\n",
       "    <tr>\n",
       "      <th>346</th>\n",
       "      <td>PERMANENTE</td>\n",
       "      <td>UNIVERSIDADE ESTADUAL DE CAMPINAS</td>\n",
       "      <td>JOAO MEIDANIS</td>\n",
       "      <td>64141</td>\n",
       "      <td>Unicamp</td>\n",
       "    </tr>\n",
       "    <tr>\n",
       "      <th>349</th>\n",
       "      <td>COLABORADOR</td>\n",
       "      <td>UNIVERSIDADE ESTADUAL DE CAMPINAS</td>\n",
       "      <td>JULIO CESAR DOS REIS</td>\n",
       "      <td>156632</td>\n",
       "      <td>Unicamp</td>\n",
       "    </tr>\n",
       "    <tr>\n",
       "      <th>353</th>\n",
       "      <td>COLABORADOR</td>\n",
       "      <td>UNIVERSIDADE ESTADUAL DE CAMPINAS</td>\n",
       "      <td>LEONARDO MONTECCHI</td>\n",
       "      <td>156591</td>\n",
       "      <td>Unicamp</td>\n",
       "    </tr>\n",
       "    <tr>\n",
       "      <th>361</th>\n",
       "      <td>COLABORADOR</td>\n",
       "      <td>UNIVERSIDADE ESTADUAL DE CAMPINAS</td>\n",
       "      <td>PAULO CESAR CENTODUCATTE</td>\n",
       "      <td>64152</td>\n",
       "      <td>Unicamp</td>\n",
       "    </tr>\n",
       "    <tr>\n",
       "      <th>378</th>\n",
       "      <td>COLABORADOR</td>\n",
       "      <td>UNIVERSIDADE DE SÃO PAULO</td>\n",
       "      <td>ANATOLI IAMBARTSEV</td>\n",
       "      <td>109975</td>\n",
       "      <td>USP</td>\n",
       "    </tr>\n",
       "    <tr>\n",
       "      <th>380</th>\n",
       "      <td>COLABORADOR</td>\n",
       "      <td>UNIVERSIDADE DE SÃO PAULO</td>\n",
       "      <td>ARNALDO MANDEL</td>\n",
       "      <td>60735</td>\n",
       "      <td>USP</td>\n",
       "    </tr>\n",
       "    <tr>\n",
       "      <th>384</th>\n",
       "      <td>COLABORADOR</td>\n",
       "      <td>UNIVERSIDADE DE SÃO PAULO</td>\n",
       "      <td>DANIEL DE ANGELIS CORDEIRO</td>\n",
       "      <td>105593</td>\n",
       "      <td>USP</td>\n",
       "    </tr>\n",
       "    <tr>\n",
       "      <th>398</th>\n",
       "      <td>COLABORADOR</td>\n",
       "      <td>UNIVERSIDADE DE SÃO PAULO</td>\n",
       "      <td>LEONIDAS DE OLIVEIRA BRANDAO</td>\n",
       "      <td>60764</td>\n",
       "      <td>USP</td>\n",
       "    </tr>\n",
       "    <tr>\n",
       "      <th>404</th>\n",
       "      <td>COLABORADOR</td>\n",
       "      <td>UNIVERSIDADE DE SÃO PAULO</td>\n",
       "      <td>MARCO DIMAS GUBITOSO</td>\n",
       "      <td>60746</td>\n",
       "      <td>USP</td>\n",
       "    </tr>\n",
       "    <tr>\n",
       "      <th>412</th>\n",
       "      <td>COLABORADOR</td>\n",
       "      <td>UNIVERSIDADE DE SÃO PAULO</td>\n",
       "      <td>SIANG WUN SONG</td>\n",
       "      <td>60750</td>\n",
       "      <td>USP</td>\n",
       "    </tr>\n",
       "    <tr>\n",
       "      <th>422</th>\n",
       "      <td>COLABORADOR</td>\n",
       "      <td>UNIVERSIDADE DE SÃO PAULO ( SÃO CARLOS )</td>\n",
       "      <td>ALYSSON MACHADO COSTA</td>\n",
       "      <td>63213</td>\n",
       "      <td>USP/SC</td>\n",
       "    </tr>\n",
       "  </tbody>\n",
       "</table>\n",
       "</div>"
      ],
      "text/plain": [
       "       categoria                                                ies  \\\n",
       "4     PERMANENTE  PONTIFÍCIA UNIVERSIDADE CATÓLICA DO RIO DE JAN...   \n",
       "35   COLABORADOR  PONTIFÍCIA UNIVERSIDADE CATÓLICA DO RIO GRANDE...   \n",
       "50    PERMANENTE                    UNIVERSIDADE FEDERAL FLUMINENSE   \n",
       "55    PERMANENTE                    UNIVERSIDADE FEDERAL FLUMINENSE   \n",
       "101  COLABORADOR               UNIVERSIDADE FEDERAL DE MINAS GERAIS   \n",
       "127  COLABORADOR               UNIVERSIDADE FEDERAL DE MINAS GERAIS   \n",
       "167  COLABORADOR                 UNIVERSIDADE FEDERAL DE PERNAMBUCO   \n",
       "179   PERMANENTE                 UNIVERSIDADE FEDERAL DE PERNAMBUCO   \n",
       "207   PERMANENTE                 UNIVERSIDADE FEDERAL DE PERNAMBUCO   \n",
       "236   PERMANENTE          UNIVERSIDADE FEDERAL DO RIO GRANDE DO SUL   \n",
       "248   PERMANENTE          UNIVERSIDADE FEDERAL DO RIO GRANDE DO SUL   \n",
       "261   PERMANENTE          UNIVERSIDADE FEDERAL DO RIO GRANDE DO SUL   \n",
       "268   PERMANENTE          UNIVERSIDADE FEDERAL DO RIO GRANDE DO SUL   \n",
       "289   PERMANENTE          UNIVERSIDADE FEDERAL DO RIO GRANDE DO SUL   \n",
       "291   PERMANENTE             UNIVERSIDADE FEDERAL DO RIO DE JANEIRO   \n",
       "299   PERMANENTE             UNIVERSIDADE FEDERAL DO RIO DE JANEIRO   \n",
       "308   PERMANENTE             UNIVERSIDADE FEDERAL DO RIO DE JANEIRO   \n",
       "325   PERMANENTE                  UNIVERSIDADE ESTADUAL DE CAMPINAS   \n",
       "346   PERMANENTE                  UNIVERSIDADE ESTADUAL DE CAMPINAS   \n",
       "349  COLABORADOR                  UNIVERSIDADE ESTADUAL DE CAMPINAS   \n",
       "353  COLABORADOR                  UNIVERSIDADE ESTADUAL DE CAMPINAS   \n",
       "361  COLABORADOR                  UNIVERSIDADE ESTADUAL DE CAMPINAS   \n",
       "378  COLABORADOR                          UNIVERSIDADE DE SÃO PAULO   \n",
       "380  COLABORADOR                          UNIVERSIDADE DE SÃO PAULO   \n",
       "384  COLABORADOR                          UNIVERSIDADE DE SÃO PAULO   \n",
       "398  COLABORADOR                          UNIVERSIDADE DE SÃO PAULO   \n",
       "404  COLABORADOR                          UNIVERSIDADE DE SÃO PAULO   \n",
       "412  COLABORADOR                          UNIVERSIDADE DE SÃO PAULO   \n",
       "422  COLABORADOR           UNIVERSIDADE DE SÃO PAULO ( SÃO CARLOS )   \n",
       "\n",
       "                                         nome  prof_id ies_sigla  \n",
       "4                                 BRUNO FEIJO    45093   PUC-Rio  \n",
       "35                    JORGE LUIS NICOLAS AUDY    86202    PUC/RS  \n",
       "50                          ALINE MARINS PAES   152411       UFF  \n",
       "55                         BRUNO LOPES VIEIRA   152538       UFF  \n",
       "101                     CRISTIANO ARBEX VALLE   172391      UFMG  \n",
       "127                        NEWTON JOSE VIEIRA    49000      UFMG  \n",
       "167      EDSON COSTA DE BARROS CARVALHO FILHO    31315      UFPE  \n",
       "179        GUSTAVO HENRIQUE PORTO DE CARVALHO   169215      UFPE  \n",
       "207           PEDRO MACHADO MANHAES DE CASTRO   111945      UFPE  \n",
       "236                       ANDRE GRAHL PEREIRA   166203     UFRGS  \n",
       "248               EDUARDO SIMOES LOPES GASTAL   170372     UFRGS  \n",
       "261        LIANE MARGARIDA ROCKENBACH TAROUCO    82093     UFRGS  \n",
       "268                        LUCIO MAURO DUARTE   159222     UFRGS  \n",
       "289           WEVERTON LUIS DA COSTA CORDEIRO   166200     UFRGS  \n",
       "291  ANTONIO JUAREZ SYLVIO MENEZES DE ALENCAR   103961      UFRJ  \n",
       "299              FABIO MASCARENHAS DE QUEIROZ   165542      UFRJ  \n",
       "308                          LILIAN MARKENZON    41252      UFRJ  \n",
       "325                      ARNALDO VIEIRA MOURA    64125   Unicamp  \n",
       "346                             JOAO MEIDANIS    64141   Unicamp  \n",
       "349                      JULIO CESAR DOS REIS   156632   Unicamp  \n",
       "353                        LEONARDO MONTECCHI   156591   Unicamp  \n",
       "361                  PAULO CESAR CENTODUCATTE    64152   Unicamp  \n",
       "378                        ANATOLI IAMBARTSEV   109975       USP  \n",
       "380                            ARNALDO MANDEL    60735       USP  \n",
       "384                DANIEL DE ANGELIS CORDEIRO   105593       USP  \n",
       "398              LEONIDAS DE OLIVEIRA BRANDAO    60764       USP  \n",
       "404                      MARCO DIMAS GUBITOSO    60746       USP  \n",
       "412                            SIANG WUN SONG    60750       USP  \n",
       "422                     ALYSSON MACHADO COSTA    63213    USP/SC  "
      ]
     },
     "execution_count": 15,
     "metadata": {},
     "output_type": "execute_result"
    }
   ],
   "source": [
    "# Professores que nao possuem alunos cadastrados\n",
    "docentes_df[~docentes_df.nome.isin(discentes_df.orientador.unique())]"
   ]
  },
  {
   "cell_type": "code",
   "execution_count": 16,
   "metadata": {},
   "outputs": [],
   "source": [
    "docentes_prof_categ_df = docentes_df[['categoria', 'nome']]"
   ]
  },
  {
   "cell_type": "code",
   "execution_count": 17,
   "metadata": {},
   "outputs": [
    {
     "data": {
      "text/html": [
       "<div>\n",
       "<style scoped>\n",
       "    .dataframe tbody tr th:only-of-type {\n",
       "        vertical-align: middle;\n",
       "    }\n",
       "\n",
       "    .dataframe tbody tr th {\n",
       "        vertical-align: top;\n",
       "    }\n",
       "\n",
       "    .dataframe thead th {\n",
       "        text-align: right;\n",
       "    }\n",
       "</style>\n",
       "<table border=\"1\" class=\"dataframe\">\n",
       "  <thead>\n",
       "    <tr style=\"text-align: right;\">\n",
       "      <th></th>\n",
       "      <th>categoria</th>\n",
       "      <th>nome</th>\n",
       "    </tr>\n",
       "  </thead>\n",
       "  <tbody>\n",
       "    <tr>\n",
       "      <th>0</th>\n",
       "      <td>PERMANENTE</td>\n",
       "      <td>ALBERTO BARBOSA RAPOSO</td>\n",
       "    </tr>\n",
       "    <tr>\n",
       "      <th>1</th>\n",
       "      <td>PERMANENTE</td>\n",
       "      <td>ALESSANDRO FABRICIO GARCIA</td>\n",
       "    </tr>\n",
       "    <tr>\n",
       "      <th>2</th>\n",
       "      <td>COLABORADOR</td>\n",
       "      <td>ANTONIO LUZ FURTADO</td>\n",
       "    </tr>\n",
       "    <tr>\n",
       "      <th>3</th>\n",
       "      <td>PERMANENTE</td>\n",
       "      <td>ARNDT VON STAA</td>\n",
       "    </tr>\n",
       "    <tr>\n",
       "      <th>4</th>\n",
       "      <td>PERMANENTE</td>\n",
       "      <td>BRUNO FEIJO</td>\n",
       "    </tr>\n",
       "  </tbody>\n",
       "</table>\n",
       "</div>"
      ],
      "text/plain": [
       "     categoria                        nome\n",
       "0   PERMANENTE      ALBERTO BARBOSA RAPOSO\n",
       "1   PERMANENTE  ALESSANDRO FABRICIO GARCIA\n",
       "2  COLABORADOR         ANTONIO LUZ FURTADO\n",
       "3   PERMANENTE              ARNDT VON STAA\n",
       "4   PERMANENTE                 BRUNO FEIJO"
      ]
     },
     "execution_count": 17,
     "metadata": {},
     "output_type": "execute_result"
    }
   ],
   "source": [
    "docentes_prof_categ_df.head()"
   ]
  },
  {
   "cell_type": "code",
   "execution_count": 18,
   "metadata": {},
   "outputs": [
    {
     "data": {
      "text/html": [
       "<div>\n",
       "<style scoped>\n",
       "    .dataframe tbody tr th:only-of-type {\n",
       "        vertical-align: middle;\n",
       "    }\n",
       "\n",
       "    .dataframe tbody tr th {\n",
       "        vertical-align: top;\n",
       "    }\n",
       "\n",
       "    .dataframe thead th {\n",
       "        text-align: right;\n",
       "    }\n",
       "</style>\n",
       "<table border=\"1\" class=\"dataframe\">\n",
       "  <thead>\n",
       "    <tr style=\"text-align: right;\">\n",
       "      <th></th>\n",
       "      <th>categoria</th>\n",
       "      <th>nome</th>\n",
       "      <th>ies_sigla</th>\n",
       "    </tr>\n",
       "  </thead>\n",
       "  <tbody>\n",
       "    <tr>\n",
       "      <th>0</th>\n",
       "      <td>PERMANENTE</td>\n",
       "      <td>ALBERTO BARBOSA RAPOSO</td>\n",
       "      <td>PUC-Rio</td>\n",
       "    </tr>\n",
       "    <tr>\n",
       "      <th>1</th>\n",
       "      <td>PERMANENTE</td>\n",
       "      <td>ALESSANDRO FABRICIO GARCIA</td>\n",
       "      <td>PUC-Rio</td>\n",
       "    </tr>\n",
       "    <tr>\n",
       "      <th>2</th>\n",
       "      <td>COLABORADOR</td>\n",
       "      <td>ANTONIO LUZ FURTADO</td>\n",
       "      <td>PUC-Rio</td>\n",
       "    </tr>\n",
       "    <tr>\n",
       "      <th>3</th>\n",
       "      <td>PERMANENTE</td>\n",
       "      <td>ARNDT VON STAA</td>\n",
       "      <td>PUC-Rio</td>\n",
       "    </tr>\n",
       "    <tr>\n",
       "      <th>4</th>\n",
       "      <td>PERMANENTE</td>\n",
       "      <td>CARLOS JOSE PEREIRA DE LUCENA</td>\n",
       "      <td>PUC-Rio</td>\n",
       "    </tr>\n",
       "  </tbody>\n",
       "</table>\n",
       "</div>"
      ],
      "text/plain": [
       "     categoria                           nome ies_sigla\n",
       "0   PERMANENTE         ALBERTO BARBOSA RAPOSO   PUC-Rio\n",
       "1   PERMANENTE     ALESSANDRO FABRICIO GARCIA   PUC-Rio\n",
       "2  COLABORADOR            ANTONIO LUZ FURTADO   PUC-Rio\n",
       "3   PERMANENTE                 ARNDT VON STAA   PUC-Rio\n",
       "4   PERMANENTE  CARLOS JOSE PEREIRA DE LUCENA   PUC-Rio"
      ]
     },
     "execution_count": 18,
     "metadata": {},
     "output_type": "execute_result"
    }
   ],
   "source": [
    "discentes_categ_df = pd.merge(docentes_prof_categ_df, discentes_prof_df, left_on='nome', right_on='orientador')\n",
    "discentes_categ_df = discentes_categ_df[['categoria', 'nome', 'ies_sigla']]\n",
    "discentes_categ_df.head()"
   ]
  },
  {
   "cell_type": "code",
   "execution_count": 19,
   "metadata": {},
   "outputs": [
    {
     "data": {
      "text/plain": [
       "PUC-Rio    23\n",
       "PUC/RS     23\n",
       "UFF        39\n",
       "UFMG       47\n",
       "UFPE       68\n",
       "UFRGS      52\n",
       "UFRJ       26\n",
       "USP        34\n",
       "USP/SC     63\n",
       "Unicamp    41\n",
       "Name: ies_sigla, dtype: int64"
      ]
     },
     "execution_count": 19,
     "metadata": {},
     "output_type": "execute_result"
    }
   ],
   "source": [
    "profs_permanentes = discentes_categ_df[discentes_categ_df.categoria=='PERMANENTE'].ies_sigla.value_counts().sort_index()\n",
    "profs_permanentes"
   ]
  },
  {
   "cell_type": "code",
   "execution_count": 20,
   "metadata": {},
   "outputs": [
    {
     "data": {
      "text/plain": [
       "PUC-Rio     1\n",
       "UFF         1\n",
       "UFMG        5\n",
       "UFPE       14\n",
       "UFRGS       3\n",
       "UFRJ        2\n",
       "USP         4\n",
       "USP/SC      6\n",
       "Unicamp     6\n",
       "Name: ies_sigla, dtype: int64"
      ]
     },
     "execution_count": 20,
     "metadata": {},
     "output_type": "execute_result"
    }
   ],
   "source": [
    "profs_colaboradores = discentes_categ_df[discentes_categ_df.categoria=='COLABORADOR'].ies_sigla.value_counts().sort_index()\n",
    "profs_colaboradores"
   ]
  },
  {
   "cell_type": "code",
   "execution_count": 21,
   "metadata": {},
   "outputs": [
    {
     "data": {
      "text/plain": [
       "PUC-Rio     1\n",
       "PUC/RS      0\n",
       "UFF         1\n",
       "UFMG        5\n",
       "UFPE       14\n",
       "UFRGS       3\n",
       "UFRJ        2\n",
       "USP         4\n",
       "USP/SC      6\n",
       "Unicamp     6\n",
       "Name: ies_sigla, dtype: int64"
      ]
     },
     "execution_count": 21,
     "metadata": {},
     "output_type": "execute_result"
    }
   ],
   "source": [
    "# Adiciona valor 0 para categorias que nao possuem colaboradores\n",
    "for ies_s in set( profs_permanentes.keys() ).difference(set(profs_colaboradores.keys()) ):\n",
    "   profs_colaboradores[ies_s] = 0 \n",
    "\n",
    "profs_colaboradores = profs_colaboradores.sort_index()\n",
    "profs_colaboradores"
   ]
  },
  {
   "cell_type": "code",
   "execution_count": 22,
   "metadata": {},
   "outputs": [
    {
     "data": {
      "image/png": "[encoded data removed]",
      "text/plain": [
       "<matplotlib.figure.Figure at 0x212d1456eb8>"
      ]
     },
     "metadata": {},
     "output_type": "display_data"
    }
   ],
   "source": [
    "fig, ax = plt.subplots()\n",
    "\n",
    "width = 0.35\n",
    "\n",
    "ind = np.arange(len(discentes_categ_df.ies_sigla.value_counts().sort_index().keys()))\n",
    "\n",
    "plt1 = ax.barh(ind-width/2, profs_colaboradores, width)\n",
    "\n",
    "plt2 = ax.barh(ind+width/2, profs_permanentes, width)\n",
    "\n",
    "# Etiquetas COLABORADOR\n",
    "for i, v in enumerate(profs_colaboradores):\n",
    "    ax.text( v + 0.5 ,\n",
    "            i - 0.2, \n",
    "            v, \n",
    "            color='blue', \n",
    "            fontweight='regular',\n",
    "            va='center')\n",
    "\n",
    "# Etiquetas PERMANENTE\n",
    "for i, v in enumerate(profs_permanentes):\n",
    "    ax.text( v + 0.5 ,\n",
    "            i + 0.2, \n",
    "            v, \n",
    "            color='brown', \n",
    "            fontweight='regular',\n",
    "            va='center')\n",
    "\n",
    "ax.set_yticks(ind)\n",
    "ax.set_yticklabels(discentes_categ_df.ies_sigla.value_counts().sort_index().keys())\n",
    "\n",
    "plt.legend([plt1[0], plt2[0]], ['COLABORADOR', 'PERMANENTE'])\n",
    "\n",
    "plt.show()"
   ]
  },
  {
   "cell_type": "markdown",
   "metadata": {},
   "source": [
    "## Discentes\n",
    "2) Quantos alunos (discentes) de Mestrado/Doutorado havia em cada programa em 2017?"
   ]
  },
  {
   "cell_type": "code",
   "execution_count": 23,
   "metadata": {},
   "outputs": [
    {
     "data": {
      "text/html": [
       "<div>\n",
       "<style scoped>\n",
       "    .dataframe tbody tr th:only-of-type {\n",
       "        vertical-align: middle;\n",
       "    }\n",
       "\n",
       "    .dataframe tbody tr th {\n",
       "        vertical-align: top;\n",
       "    }\n",
       "\n",
       "    .dataframe thead th {\n",
       "        text-align: right;\n",
       "    }\n",
       "</style>\n",
       "<table border=\"1\" class=\"dataframe\">\n",
       "  <thead>\n",
       "    <tr style=\"text-align: right;\">\n",
       "      <th></th>\n",
       "      <th>abrev</th>\n",
       "      <th>curso</th>\n",
       "      <th>data_matricula</th>\n",
       "      <th>deficiencia</th>\n",
       "      <th>discente_id</th>\n",
       "      <th>ies</th>\n",
       "      <th>nacionalidade</th>\n",
       "      <th>nivel</th>\n",
       "      <th>nome</th>\n",
       "      <th>orientador</th>\n",
       "      <th>orientadores</th>\n",
       "      <th>programa</th>\n",
       "      <th>raca</th>\n",
       "      <th>sexo</th>\n",
       "      <th>situacao</th>\n",
       "      <th>ies_sigla</th>\n",
       "    </tr>\n",
       "  </thead>\n",
       "  <tbody>\n",
       "    <tr>\n",
       "      <th>0</th>\n",
       "      <td>LEON, A. C. (Principal)</td>\n",
       "      <td>INFORMÁTICA</td>\n",
       "      <td>03/08/2015</td>\n",
       "      <td>Não</td>\n",
       "      <td>889714</td>\n",
       "      <td>PONTIFÍCIA UNIVERSIDADE CATÓLICA DO RIO DE JAN...</td>\n",
       "      <td>Cuba</td>\n",
       "      <td>Mestrado</td>\n",
       "      <td>ADRIAN CONCEPCION LEON</td>\n",
       "      <td>MARKUS ENDLER</td>\n",
       "      <td>[{'nome': 'MARKUS ENDLER', 'categoria': 'Docen...</td>\n",
       "      <td>INFORMÁTICA(31005012004P9)</td>\n",
       "      <td>Não declarado</td>\n",
       "      <td>Masculino</td>\n",
       "      <td>MATRICULADO</td>\n",
       "      <td>PUC-Rio</td>\n",
       "    </tr>\n",
       "    <tr>\n",
       "      <th>1</th>\n",
       "      <td>HERNANDEZ, A. G. (Principal)</td>\n",
       "      <td>INFORMÁTICA</td>\n",
       "      <td>02/03/2015</td>\n",
       "      <td>Não</td>\n",
       "      <td>838354</td>\n",
       "      <td>PONTIFÍCIA UNIVERSIDADE CATÓLICA DO RIO DE JAN...</td>\n",
       "      <td>Brasil</td>\n",
       "      <td>Mestrado</td>\n",
       "      <td>ADRIEL GARCIA HERNANDEZ</td>\n",
       "      <td>RUY LUIZ MILIDIU</td>\n",
       "      <td>[{'nome': 'RUY LUIZ MILIDIU', 'categoria': 'Do...</td>\n",
       "      <td>INFORMÁTICA(31005012004P9)</td>\n",
       "      <td>Não declarado</td>\n",
       "      <td>Masculino</td>\n",
       "      <td>TITULADO</td>\n",
       "      <td>PUC-Rio</td>\n",
       "    </tr>\n",
       "    <tr>\n",
       "      <th>2</th>\n",
       "      <td>FUENTES, A. D. (Principal)</td>\n",
       "      <td>INFORMÁTICA</td>\n",
       "      <td>15/04/2016</td>\n",
       "      <td>Não</td>\n",
       "      <td>948329</td>\n",
       "      <td>PONTIFÍCIA UNIVERSIDADE CATÓLICA DO RIO DE JAN...</td>\n",
       "      <td>Brasil</td>\n",
       "      <td>Doutorado</td>\n",
       "      <td>ALAIN DOMINGUEZ FUENTES</td>\n",
       "      <td>SERGIO LIFSCHITZ</td>\n",
       "      <td>[{'nome': 'SERGIO LIFSCHITZ', 'categoria': 'Do...</td>\n",
       "      <td>INFORMÁTICA(31005012004P9)</td>\n",
       "      <td>Não declarado</td>\n",
       "      <td>Masculino</td>\n",
       "      <td>MATRICULADO</td>\n",
       "      <td>PUC-Rio</td>\n",
       "    </tr>\n",
       "    <tr>\n",
       "      <th>3</th>\n",
       "      <td>GUEDES, A. L. V. (Principal) GUEDES, ALAN LIVI...</td>\n",
       "      <td>INFORMÁTICA</td>\n",
       "      <td>12/03/2013</td>\n",
       "      <td>Não</td>\n",
       "      <td>565354</td>\n",
       "      <td>PONTIFÍCIA UNIVERSIDADE CATÓLICA DO RIO DE JAN...</td>\n",
       "      <td>Brasil</td>\n",
       "      <td>Doutorado</td>\n",
       "      <td>ALAN LIVIO VASCONCELOS GUEDES</td>\n",
       "      <td>SIMONE DINIZ JUNQUEIRA BARBOSA</td>\n",
       "      <td>[{'nome': 'SIMONE DINIZ JUNQUEIRA BARBOSA', 'c...</td>\n",
       "      <td>INFORMÁTICA(31005012004P9)</td>\n",
       "      <td>Não declarado</td>\n",
       "      <td>Masculino</td>\n",
       "      <td>TITULADO</td>\n",
       "      <td>PUC-Rio</td>\n",
       "    </tr>\n",
       "    <tr>\n",
       "      <th>4</th>\n",
       "      <td>MENES, A. M. (Principal)</td>\n",
       "      <td>INFORMÁTICA</td>\n",
       "      <td>01/08/2014</td>\n",
       "      <td>Não</td>\n",
       "      <td>784513</td>\n",
       "      <td>PONTIFÍCIA UNIVERSIDADE CATÓLICA DO RIO DE JAN...</td>\n",
       "      <td>Brasil</td>\n",
       "      <td>Mestrado</td>\n",
       "      <td>ALEJANDRO MUSTELIER MENES</td>\n",
       "      <td>SERGIO LIFSCHITZ</td>\n",
       "      <td>[{'nome': 'SERGIO LIFSCHITZ', 'categoria': 'Do...</td>\n",
       "      <td>INFORMÁTICA(31005012004P9)</td>\n",
       "      <td>Não declarado</td>\n",
       "      <td>Masculino</td>\n",
       "      <td>TITULADO</td>\n",
       "      <td>PUC-Rio</td>\n",
       "    </tr>\n",
       "  </tbody>\n",
       "</table>\n",
       "</div>"
      ],
      "text/plain": [
       "                                               abrev        curso  \\\n",
       "0                            LEON, A. C. (Principal)  INFORMÁTICA   \n",
       "1                       HERNANDEZ, A. G. (Principal)  INFORMÁTICA   \n",
       "2                         FUENTES, A. D. (Principal)  INFORMÁTICA   \n",
       "3  GUEDES, A. L. V. (Principal) GUEDES, ALAN LIVI...  INFORMÁTICA   \n",
       "4                           MENES, A. M. (Principal)  INFORMÁTICA   \n",
       "\n",
       "  data_matricula deficiencia  discente_id  \\\n",
       "0     03/08/2015         Não       889714   \n",
       "1     02/03/2015         Não       838354   \n",
       "2     15/04/2016         Não       948329   \n",
       "3     12/03/2013         Não       565354   \n",
       "4     01/08/2014         Não       784513   \n",
       "\n",
       "                                                 ies nacionalidade      nivel  \\\n",
       "0  PONTIFÍCIA UNIVERSIDADE CATÓLICA DO RIO DE JAN...          Cuba   Mestrado   \n",
       "1  PONTIFÍCIA UNIVERSIDADE CATÓLICA DO RIO DE JAN...        Brasil   Mestrado   \n",
       "2  PONTIFÍCIA UNIVERSIDADE CATÓLICA DO RIO DE JAN...        Brasil  Doutorado   \n",
       "3  PONTIFÍCIA UNIVERSIDADE CATÓLICA DO RIO DE JAN...        Brasil  Doutorado   \n",
       "4  PONTIFÍCIA UNIVERSIDADE CATÓLICA DO RIO DE JAN...        Brasil   Mestrado   \n",
       "\n",
       "                            nome                      orientador  \\\n",
       "0         ADRIAN CONCEPCION LEON                   MARKUS ENDLER   \n",
       "1        ADRIEL GARCIA HERNANDEZ                RUY LUIZ MILIDIU   \n",
       "2        ALAIN DOMINGUEZ FUENTES                SERGIO LIFSCHITZ   \n",
       "3  ALAN LIVIO VASCONCELOS GUEDES  SIMONE DINIZ JUNQUEIRA BARBOSA   \n",
       "4      ALEJANDRO MUSTELIER MENES                SERGIO LIFSCHITZ   \n",
       "\n",
       "                                        orientadores  \\\n",
       "0  [{'nome': 'MARKUS ENDLER', 'categoria': 'Docen...   \n",
       "1  [{'nome': 'RUY LUIZ MILIDIU', 'categoria': 'Do...   \n",
       "2  [{'nome': 'SERGIO LIFSCHITZ', 'categoria': 'Do...   \n",
       "3  [{'nome': 'SIMONE DINIZ JUNQUEIRA BARBOSA', 'c...   \n",
       "4  [{'nome': 'SERGIO LIFSCHITZ', 'categoria': 'Do...   \n",
       "\n",
       "                     programa           raca       sexo     situacao ies_sigla  \n",
       "0  INFORMÁTICA(31005012004P9)  Não declarado  Masculino  MATRICULADO   PUC-Rio  \n",
       "1  INFORMÁTICA(31005012004P9)  Não declarado  Masculino     TITULADO   PUC-Rio  \n",
       "2  INFORMÁTICA(31005012004P9)  Não declarado  Masculino  MATRICULADO   PUC-Rio  \n",
       "3  INFORMÁTICA(31005012004P9)  Não declarado  Masculino     TITULADO   PUC-Rio  \n",
       "4  INFORMÁTICA(31005012004P9)  Não declarado  Masculino     TITULADO   PUC-Rio  "
      ]
     },
     "execution_count": 23,
     "metadata": {},
     "output_type": "execute_result"
    }
   ],
   "source": [
    "discentes_df.head()"
   ]
  },
  {
   "cell_type": "code",
   "execution_count": 24,
   "metadata": {},
   "outputs": [
    {
     "data": {
      "text/plain": [
       "array(['Mestrado', 'Doutorado', 'Graduação'], dtype=object)"
      ]
     },
     "execution_count": 24,
     "metadata": {},
     "output_type": "execute_result"
    }
   ],
   "source": [
    "discentes_df.nivel.unique()"
   ]
  },
  {
   "cell_type": "code",
   "execution_count": 25,
   "metadata": {},
   "outputs": [
    {
     "data": {
      "text/plain": [
       "Mestrado     1789\n",
       "Doutorado    1647\n",
       "Name: nivel, dtype: int64"
      ]
     },
     "execution_count": 25,
     "metadata": {},
     "output_type": "execute_result"
    }
   ],
   "source": [
    "discentes_pos_df = discentes_df[discentes_df.nivel.isin([\"Mestrado\", \"Doutorado\"])]\n",
    "discentes_pos_df = discentes_pos_df[[\"nivel\", \"ies_sigla\"]]\n",
    "discentes_pos_df.nivel.value_counts()"
   ]
  },
  {
   "cell_type": "code",
   "execution_count": 26,
   "metadata": {},
   "outputs": [
    {
     "data": {
      "text/plain": [
       "array(['PUC-Rio', 'PUC/RS', 'UFF', 'UFMG', 'UFPE', 'UFRGS', 'UFRJ',\n",
       "       'Unicamp', 'USP', 'USP/SC'], dtype=object)"
      ]
     },
     "execution_count": 26,
     "metadata": {},
     "output_type": "execute_result"
    }
   ],
   "source": [
    "discentes_pos_df.ies_sigla.unique()"
   ]
  },
  {
   "cell_type": "code",
   "execution_count": 27,
   "metadata": {},
   "outputs": [
    {
     "data": {
      "text/plain": [
       "PUC-Rio    115\n",
       "PUC/RS     137\n",
       "UFF        168\n",
       "UFMG       239\n",
       "UFPE       337\n",
       "UFRGS      194\n",
       "UFRJ       110\n",
       "USP        133\n",
       "USP/SC     173\n",
       "Unicamp    183\n",
       "Name: ies_sigla, dtype: int64"
      ]
     },
     "execution_count": 27,
     "metadata": {},
     "output_type": "execute_result"
    }
   ],
   "source": [
    "# Mestrado\n",
    "alunos_mestrado = discentes_pos_df[discentes_pos_df.nivel=='Mestrado'].ies_sigla.value_counts().sort_index()\n",
    "alunos_mestrado"
   ]
  },
  {
   "cell_type": "code",
   "execution_count": 28,
   "metadata": {
    "scrolled": true
   },
   "outputs": [
    {
     "data": {
      "text/plain": [
       "PUC-Rio    102\n",
       "PUC/RS      91\n",
       "UFF        114\n",
       "UFMG       174\n",
       "UFPE       379\n",
       "UFRGS      125\n",
       "UFRJ        63\n",
       "USP        111\n",
       "USP/SC     319\n",
       "Unicamp    169\n",
       "Name: ies_sigla, dtype: int64"
      ]
     },
     "execution_count": 28,
     "metadata": {},
     "output_type": "execute_result"
    }
   ],
   "source": [
    "# Doutorado\n",
    "alunos_doutorado = discentes_pos_df[discentes_pos_df.nivel=='Doutorado'].ies_sigla.value_counts().sort_index()\n",
    "alunos_doutorado"
   ]
  },
  {
   "cell_type": "code",
   "execution_count": 29,
   "metadata": {},
   "outputs": [
    {
     "data": {
      "image/png": "[encoded data removed]",
      "text/plain": [
       "<matplotlib.figure.Figure at 0x212d1456e48>"
      ]
     },
     "metadata": {},
     "output_type": "display_data"
    }
   ],
   "source": [
    "fig, ax = plt.subplots()\n",
    "\n",
    "width = 0.35\n",
    "\n",
    "ind = np.arange(len(discentes_pos_df.ies_sigla.value_counts().sort_index().keys()))\n",
    "\n",
    "plt1 = ax.barh(ind-width/2, alunos_mestrado, width)\n",
    "\n",
    "plt2 = ax.barh(ind+width/2, alunos_doutorado, width)\n",
    "\n",
    "# Etiquetas Mestrado\n",
    "for i, v in enumerate(alunos_mestrado):\n",
    "    ax.text( v + 0.5 ,\n",
    "            i - 0.2, \n",
    "            v, \n",
    "            color='blue', \n",
    "            fontweight='regular',\n",
    "            va='center')\n",
    "\n",
    "# Etiquetas Doutorado\n",
    "for i, v in enumerate(alunos_doutorado):\n",
    "    ax.text( v + 0.5 ,\n",
    "            i + 0.2, \n",
    "            v, \n",
    "            color='brown', \n",
    "            fontweight='regular',\n",
    "            va='center')\n",
    "\n",
    "ax.set_yticks(ind)\n",
    "ax.set_yticklabels(discentes_pos_df.ies_sigla.value_counts().sort_index().keys())\n",
    "\n",
    "plt.legend([plt1[0], plt2[0]], ['Mestrado', 'Doutorado'])\n",
    "\n",
    "plt.show()"
   ]
  },
  {
   "cell_type": "markdown",
   "metadata": {},
   "source": [
    "## Discentes x Docentes\n",
    "3) Qual foi a taxa de alunos de Mestrado/Doutorado por professor do quadro permanente em cada programa em 2017?\n"
   ]
  },
  {
   "cell_type": "code",
   "execution_count": 30,
   "metadata": {},
   "outputs": [
    {
     "data": {
      "text/html": [
       "<div>\n",
       "<style scoped>\n",
       "    .dataframe tbody tr th:only-of-type {\n",
       "        vertical-align: middle;\n",
       "    }\n",
       "\n",
       "    .dataframe tbody tr th {\n",
       "        vertical-align: top;\n",
       "    }\n",
       "\n",
       "    .dataframe thead th {\n",
       "        text-align: right;\n",
       "    }\n",
       "</style>\n",
       "<table border=\"1\" class=\"dataframe\">\n",
       "  <thead>\n",
       "    <tr style=\"text-align: right;\">\n",
       "      <th></th>\n",
       "      <th>Taxa Doutorado</th>\n",
       "      <th>Taxa Mestrado</th>\n",
       "    </tr>\n",
       "    <tr>\n",
       "      <th>Categoria</th>\n",
       "      <th></th>\n",
       "      <th></th>\n",
       "    </tr>\n",
       "  </thead>\n",
       "  <tbody>\n",
       "    <tr>\n",
       "      <th>PUC-Rio</th>\n",
       "      <td>4.434783</td>\n",
       "      <td>5.000000</td>\n",
       "    </tr>\n",
       "    <tr>\n",
       "      <th>PUC/RS</th>\n",
       "      <td>3.956522</td>\n",
       "      <td>5.956522</td>\n",
       "    </tr>\n",
       "    <tr>\n",
       "      <th>UFF</th>\n",
       "      <td>2.923077</td>\n",
       "      <td>4.307692</td>\n",
       "    </tr>\n",
       "    <tr>\n",
       "      <th>UFMG</th>\n",
       "      <td>3.702128</td>\n",
       "      <td>5.085106</td>\n",
       "    </tr>\n",
       "    <tr>\n",
       "      <th>UFPE</th>\n",
       "      <td>5.573529</td>\n",
       "      <td>4.955882</td>\n",
       "    </tr>\n",
       "    <tr>\n",
       "      <th>UFRGS</th>\n",
       "      <td>2.403846</td>\n",
       "      <td>3.730769</td>\n",
       "    </tr>\n",
       "    <tr>\n",
       "      <th>UFRJ</th>\n",
       "      <td>2.423077</td>\n",
       "      <td>4.230769</td>\n",
       "    </tr>\n",
       "    <tr>\n",
       "      <th>USP</th>\n",
       "      <td>3.264706</td>\n",
       "      <td>3.911765</td>\n",
       "    </tr>\n",
       "    <tr>\n",
       "      <th>USP/SC</th>\n",
       "      <td>5.063492</td>\n",
       "      <td>2.746032</td>\n",
       "    </tr>\n",
       "    <tr>\n",
       "      <th>Unicamp</th>\n",
       "      <td>4.121951</td>\n",
       "      <td>4.463415</td>\n",
       "    </tr>\n",
       "  </tbody>\n",
       "</table>\n",
       "</div>"
      ],
      "text/plain": [
       "           Taxa Doutorado  Taxa Mestrado\n",
       "Categoria                               \n",
       "PUC-Rio          4.434783       5.000000\n",
       "PUC/RS           3.956522       5.956522\n",
       "UFF              2.923077       4.307692\n",
       "UFMG             3.702128       5.085106\n",
       "UFPE             5.573529       4.955882\n",
       "UFRGS            2.403846       3.730769\n",
       "UFRJ             2.423077       4.230769\n",
       "USP              3.264706       3.911765\n",
       "USP/SC           5.063492       2.746032\n",
       "Unicamp          4.121951       4.463415"
      ]
     },
     "execution_count": 30,
     "metadata": {},
     "output_type": "execute_result"
    }
   ],
   "source": [
    "taxa_df = pd.DataFrame({'Taxa Mestrado': alunos_mestrado/profs_permanentes,\n",
    "                        'Taxa Doutorado': alunos_doutorado/profs_permanentes}, index=alunos_mestrado.keys())\n",
    "taxa_df.index.name = 'Categoria'\n",
    "\n",
    "taxa_df"
   ]
  },
  {
   "cell_type": "markdown",
   "metadata": {},
   "source": [
    "4) Qual foi a distribuição de alunos de Mestrado/Doutorado pelos professores de cada programa em 2017?"
   ]
  },
  {
   "cell_type": "code",
   "execution_count": 31,
   "metadata": {},
   "outputs": [
    {
     "data": {
      "text/html": [
       "<div>\n",
       "<style scoped>\n",
       "    .dataframe tbody tr th:only-of-type {\n",
       "        vertical-align: middle;\n",
       "    }\n",
       "\n",
       "    .dataframe tbody tr th {\n",
       "        vertical-align: top;\n",
       "    }\n",
       "\n",
       "    .dataframe thead th {\n",
       "        text-align: right;\n",
       "    }\n",
       "</style>\n",
       "<table border=\"1\" class=\"dataframe\">\n",
       "  <thead>\n",
       "    <tr style=\"text-align: right;\">\n",
       "      <th></th>\n",
       "      <th>nome</th>\n",
       "      <th>nivel</th>\n",
       "      <th>ies_sigla</th>\n",
       "    </tr>\n",
       "  </thead>\n",
       "  <tbody>\n",
       "    <tr>\n",
       "      <th>0</th>\n",
       "      <td>ALBERTO BARBOSA RAPOSO</td>\n",
       "      <td>Mestrado</td>\n",
       "      <td>PUC-Rio</td>\n",
       "    </tr>\n",
       "    <tr>\n",
       "      <th>1</th>\n",
       "      <td>ALBERTO BARBOSA RAPOSO</td>\n",
       "      <td>Doutorado</td>\n",
       "      <td>PUC-Rio</td>\n",
       "    </tr>\n",
       "    <tr>\n",
       "      <th>2</th>\n",
       "      <td>ALBERTO BARBOSA RAPOSO</td>\n",
       "      <td>Mestrado</td>\n",
       "      <td>PUC-Rio</td>\n",
       "    </tr>\n",
       "    <tr>\n",
       "      <th>3</th>\n",
       "      <td>ALBERTO BARBOSA RAPOSO</td>\n",
       "      <td>Mestrado</td>\n",
       "      <td>PUC-Rio</td>\n",
       "    </tr>\n",
       "    <tr>\n",
       "      <th>4</th>\n",
       "      <td>ALBERTO BARBOSA RAPOSO</td>\n",
       "      <td>Doutorado</td>\n",
       "      <td>PUC-Rio</td>\n",
       "    </tr>\n",
       "  </tbody>\n",
       "</table>\n",
       "</div>"
      ],
      "text/plain": [
       "                     nome      nivel ies_sigla\n",
       "0  ALBERTO BARBOSA RAPOSO   Mestrado   PUC-Rio\n",
       "1  ALBERTO BARBOSA RAPOSO  Doutorado   PUC-Rio\n",
       "2  ALBERTO BARBOSA RAPOSO   Mestrado   PUC-Rio\n",
       "3  ALBERTO BARBOSA RAPOSO   Mestrado   PUC-Rio\n",
       "4  ALBERTO BARBOSA RAPOSO  Doutorado   PUC-Rio"
      ]
     },
     "execution_count": 31,
     "metadata": {},
     "output_type": "execute_result"
    }
   ],
   "source": [
    "discentes_pos_df = discentes_df[discentes_df.nivel.isin([\"Mestrado\", \"Doutorado\"])]\n",
    "discentes_pos_df = discentes_pos_df[[\"nivel\", \"ies_sigla\",\"orientador\"]]\n",
    "\n",
    "docentes_pos_df = docentes_df[[\"nome\"]]\n",
    "\n",
    "docentes_alunos_df = pd.merge( docentes_pos_df , discentes_pos_df , left_on='nome' , right_on='orientador' )\n",
    "docentes_alunos_df = docentes_alunos_df[[\"nome\", \"nivel\",\"ies_sigla\"]]\n",
    "docentes_alunos_df.head()"
   ]
  },
  {
   "cell_type": "code",
   "execution_count": 32,
   "metadata": {},
   "outputs": [
    {
     "data": {
      "text/html": [
       "<div>\n",
       "<style scoped>\n",
       "    .dataframe tbody tr th:only-of-type {\n",
       "        vertical-align: middle;\n",
       "    }\n",
       "\n",
       "    .dataframe tbody tr th {\n",
       "        vertical-align: top;\n",
       "    }\n",
       "\n",
       "    .dataframe thead th {\n",
       "        text-align: right;\n",
       "    }\n",
       "</style>\n",
       "<table border=\"1\" class=\"dataframe\">\n",
       "  <thead>\n",
       "    <tr style=\"text-align: right;\">\n",
       "      <th></th>\n",
       "      <th>professor</th>\n",
       "      <th>nivel</th>\n",
       "      <th>alunos</th>\n",
       "    </tr>\n",
       "  </thead>\n",
       "  <tbody>\n",
       "    <tr>\n",
       "      <th>0</th>\n",
       "      <td>ABEL GUILHERMINO DA SILVA FILHO</td>\n",
       "      <td>Doutorado</td>\n",
       "      <td>9</td>\n",
       "    </tr>\n",
       "    <tr>\n",
       "      <th>1</th>\n",
       "      <td>ABEL GUILHERMINO DA SILVA FILHO</td>\n",
       "      <td>Mestrado</td>\n",
       "      <td>4</td>\n",
       "    </tr>\n",
       "    <tr>\n",
       "      <th>2</th>\n",
       "      <td>ADENILSO DA SILVA SIMAO</td>\n",
       "      <td>Doutorado</td>\n",
       "      <td>7</td>\n",
       "    </tr>\n",
       "    <tr>\n",
       "      <th>3</th>\n",
       "      <td>ADRIANA SANTAROSA VIVACQUA</td>\n",
       "      <td>Doutorado</td>\n",
       "      <td>1</td>\n",
       "    </tr>\n",
       "    <tr>\n",
       "      <th>4</th>\n",
       "      <td>ADRIANA SANTAROSA VIVACQUA</td>\n",
       "      <td>Mestrado</td>\n",
       "      <td>7</td>\n",
       "    </tr>\n",
       "  </tbody>\n",
       "</table>\n",
       "</div>"
      ],
      "text/plain": [
       "                         professor      nivel  alunos\n",
       "0  ABEL GUILHERMINO DA SILVA FILHO  Doutorado       9\n",
       "1  ABEL GUILHERMINO DA SILVA FILHO   Mestrado       4\n",
       "2          ADENILSO DA SILVA SIMAO  Doutorado       7\n",
       "3       ADRIANA SANTAROSA VIVACQUA  Doutorado       1\n",
       "4       ADRIANA SANTAROSA VIVACQUA   Mestrado       7"
      ]
     },
     "execution_count": 32,
     "metadata": {},
     "output_type": "execute_result"
    }
   ],
   "source": [
    "# Agrupando e contabilizando alunos por professor por nivel\n",
    "docentes_alunos_grouped_df = docentes_alunos_df.groupby(['nome','nivel'],).count().reset_index()\n",
    "docentes_alunos_grouped_df.columns = ['professor','nivel','alunos']\n",
    "\n",
    "docentes_alunos_grouped_df.head()"
   ]
  },
  {
   "cell_type": "code",
   "execution_count": 33,
   "metadata": {},
   "outputs": [],
   "source": [
    "# Transformando linhas do \"nivel\" em colunas de \"nivel\" ( oposto de melt )\n",
    "docentes_alunos_table = docentes_alunos_grouped_df.pivot_table(\n",
    "            index=['professor'], \n",
    "            columns=['nivel'],\n",
    "            values='alunos',\n",
    "            aggfunc=np.sum).fillna(0)\n"
   ]
  },
  {
   "cell_type": "code",
   "execution_count": 34,
   "metadata": {},
   "outputs": [],
   "source": [
    "# Readicionando os professores sem alunos ( foram perdidos no merge )\n",
    "set_docentes_totais = set(docentes_df.nome)\n",
    "set_docentes_comalunos = set(docentes_alunos_df.nome)\n",
    "set_docentes_semalunos = set_docentes_totais - set_docentes_comalunos\n",
    "\n",
    "docentes_semalunos_df = pd.DataFrame( index = list(set_docentes_semalunos) )\n",
    "docentes_semalunos_df.index.name = 'professor'\n",
    "\n",
    "docentes_alunos_table = docentes_alunos_table.append( docentes_semalunos_df ).fillna(0)"
   ]
  },
  {
   "cell_type": "code",
   "execution_count": 35,
   "metadata": {},
   "outputs": [
    {
     "data": {
      "text/html": [
       "<div>\n",
       "<style scoped>\n",
       "    .dataframe tbody tr th:only-of-type {\n",
       "        vertical-align: middle;\n",
       "    }\n",
       "\n",
       "    .dataframe tbody tr th {\n",
       "        vertical-align: top;\n",
       "    }\n",
       "\n",
       "    .dataframe thead th {\n",
       "        text-align: right;\n",
       "    }\n",
       "</style>\n",
       "<table border=\"1\" class=\"dataframe\">\n",
       "  <thead>\n",
       "    <tr style=\"text-align: right;\">\n",
       "      <th></th>\n",
       "      <th>Doutorado</th>\n",
       "      <th>Mestrado</th>\n",
       "      <th>Total</th>\n",
       "    </tr>\n",
       "    <tr>\n",
       "      <th>professor</th>\n",
       "      <th></th>\n",
       "      <th></th>\n",
       "      <th></th>\n",
       "    </tr>\n",
       "  </thead>\n",
       "  <tbody>\n",
       "    <tr>\n",
       "      <th>ABEL GUILHERMINO DA SILVA FILHO</th>\n",
       "      <td>9</td>\n",
       "      <td>4</td>\n",
       "      <td>13</td>\n",
       "    </tr>\n",
       "    <tr>\n",
       "      <th>ADENILSO DA SILVA SIMAO</th>\n",
       "      <td>7</td>\n",
       "      <td>0</td>\n",
       "      <td>7</td>\n",
       "    </tr>\n",
       "    <tr>\n",
       "      <th>ADRIANA SANTAROSA VIVACQUA</th>\n",
       "      <td>1</td>\n",
       "      <td>7</td>\n",
       "      <td>8</td>\n",
       "    </tr>\n",
       "    <tr>\n",
       "      <th>ADRIANO ALONSO VELOSO</th>\n",
       "      <td>5</td>\n",
       "      <td>7</td>\n",
       "      <td>12</td>\n",
       "    </tr>\n",
       "    <tr>\n",
       "      <th>ADRIANO AUGUSTO DE MORAES SARMENTO</th>\n",
       "      <td>0</td>\n",
       "      <td>2</td>\n",
       "      <td>2</td>\n",
       "    </tr>\n",
       "  </tbody>\n",
       "</table>\n",
       "</div>"
      ],
      "text/plain": [
       "                                    Doutorado  Mestrado  Total\n",
       "professor                                                     \n",
       "ABEL GUILHERMINO DA SILVA FILHO             9         4     13\n",
       "ADENILSO DA SILVA SIMAO                     7         0      7\n",
       "ADRIANA SANTAROSA VIVACQUA                  1         7      8\n",
       "ADRIANO ALONSO VELOSO                       5         7     12\n",
       "ADRIANO AUGUSTO DE MORAES SARMENTO          0         2      2"
      ]
     },
     "execution_count": 35,
     "metadata": {},
     "output_type": "execute_result"
    }
   ],
   "source": [
    "# Ajustando valores numericos e adicionando coluna \"TOTAL\"\n",
    "docentes_alunos_table.Doutorado = docentes_alunos_table.Doutorado.astype(int)\n",
    "docentes_alunos_table.Mestrado = docentes_alunos_table.Mestrado.astype(int)\n",
    "\n",
    "docentes_alunos_table['Total'] = docentes_alunos_table['Doutorado'] + docentes_alunos_table['Mestrado']\n",
    "\n",
    "docentes_alunos_table.head()"
   ]
  },
  {
   "cell_type": "code",
   "execution_count": 36,
   "metadata": {},
   "outputs": [
    {
     "data": {
      "text/html": [
       "<div>\n",
       "<style scoped>\n",
       "    .dataframe tbody tr th:only-of-type {\n",
       "        vertical-align: middle;\n",
       "    }\n",
       "\n",
       "    .dataframe tbody tr th {\n",
       "        vertical-align: top;\n",
       "    }\n",
       "\n",
       "    .dataframe thead th {\n",
       "        text-align: right;\n",
       "    }\n",
       "</style>\n",
       "<table border=\"1\" class=\"dataframe\">\n",
       "  <thead>\n",
       "    <tr style=\"text-align: right;\">\n",
       "      <th></th>\n",
       "      <th>Doutorado</th>\n",
       "      <th>Mestrado</th>\n",
       "      <th>Total</th>\n",
       "    </tr>\n",
       "  </thead>\n",
       "  <tbody>\n",
       "    <tr>\n",
       "      <th>count</th>\n",
       "      <td>487.000000</td>\n",
       "      <td>487.000000</td>\n",
       "      <td>487.000000</td>\n",
       "    </tr>\n",
       "    <tr>\n",
       "      <th>mean</th>\n",
       "      <td>3.293634</td>\n",
       "      <td>3.379877</td>\n",
       "      <td>6.673511</td>\n",
       "    </tr>\n",
       "    <tr>\n",
       "      <th>std</th>\n",
       "      <td>2.879261</td>\n",
       "      <td>2.614742</td>\n",
       "      <td>4.269494</td>\n",
       "    </tr>\n",
       "    <tr>\n",
       "      <th>min</th>\n",
       "      <td>0.000000</td>\n",
       "      <td>0.000000</td>\n",
       "      <td>0.000000</td>\n",
       "    </tr>\n",
       "    <tr>\n",
       "      <th>25%</th>\n",
       "      <td>1.000000</td>\n",
       "      <td>1.000000</td>\n",
       "      <td>3.000000</td>\n",
       "    </tr>\n",
       "    <tr>\n",
       "      <th>50%</th>\n",
       "      <td>3.000000</td>\n",
       "      <td>3.000000</td>\n",
       "      <td>7.000000</td>\n",
       "    </tr>\n",
       "    <tr>\n",
       "      <th>75%</th>\n",
       "      <td>5.000000</td>\n",
       "      <td>5.000000</td>\n",
       "      <td>10.000000</td>\n",
       "    </tr>\n",
       "    <tr>\n",
       "      <th>max</th>\n",
       "      <td>16.000000</td>\n",
       "      <td>16.000000</td>\n",
       "      <td>23.000000</td>\n",
       "    </tr>\n",
       "  </tbody>\n",
       "</table>\n",
       "</div>"
      ],
      "text/plain": [
       "        Doutorado    Mestrado       Total\n",
       "count  487.000000  487.000000  487.000000\n",
       "mean     3.293634    3.379877    6.673511\n",
       "std      2.879261    2.614742    4.269494\n",
       "min      0.000000    0.000000    0.000000\n",
       "25%      1.000000    1.000000    3.000000\n",
       "50%      3.000000    3.000000    7.000000\n",
       "75%      5.000000    5.000000   10.000000\n",
       "max     16.000000   16.000000   23.000000"
      ]
     },
     "execution_count": 36,
     "metadata": {},
     "output_type": "execute_result"
    }
   ],
   "source": [
    "# Sumário \n",
    "docentes_alunos_table.describe()"
   ]
  },
  {
   "cell_type": "code",
   "execution_count": 37,
   "metadata": {},
   "outputs": [
    {
     "data": {
      "text/html": [
       "<div>\n",
       "<style scoped>\n",
       "    .dataframe tbody tr th:only-of-type {\n",
       "        vertical-align: middle;\n",
       "    }\n",
       "\n",
       "    .dataframe tbody tr th {\n",
       "        vertical-align: top;\n",
       "    }\n",
       "\n",
       "    .dataframe thead th {\n",
       "        text-align: right;\n",
       "    }\n",
       "</style>\n",
       "<table border=\"1\" class=\"dataframe\">\n",
       "  <thead>\n",
       "    <tr style=\"text-align: right;\">\n",
       "      <th></th>\n",
       "      <th>Doutorado</th>\n",
       "      <th>Mestrado</th>\n",
       "      <th>Total</th>\n",
       "      <th>ies_sigla</th>\n",
       "    </tr>\n",
       "    <tr>\n",
       "      <th>professor</th>\n",
       "      <th></th>\n",
       "      <th></th>\n",
       "      <th></th>\n",
       "      <th></th>\n",
       "    </tr>\n",
       "  </thead>\n",
       "  <tbody>\n",
       "    <tr>\n",
       "      <th>JONICE DE OLIVEIRA SAMPAIO</th>\n",
       "      <td>7</td>\n",
       "      <td>16</td>\n",
       "      <td>23</td>\n",
       "      <td>UFRJ</td>\n",
       "    </tr>\n",
       "    <tr>\n",
       "      <th>SILVIO ROMERO DE LEMOS MEIRA</th>\n",
       "      <td>16</td>\n",
       "      <td>4</td>\n",
       "      <td>20</td>\n",
       "      <td>UFPE</td>\n",
       "    </tr>\n",
       "    <tr>\n",
       "      <th>HELIO PEDRINI</th>\n",
       "      <td>6</td>\n",
       "      <td>13</td>\n",
       "      <td>19</td>\n",
       "      <td>Unicamp</td>\n",
       "    </tr>\n",
       "    <tr>\n",
       "      <th>PAULO ROMERO MARTINS MACIEL</th>\n",
       "      <td>11</td>\n",
       "      <td>8</td>\n",
       "      <td>19</td>\n",
       "      <td>UFPE</td>\n",
       "    </tr>\n",
       "    <tr>\n",
       "      <th>RICARDO DA SILVA TORRES</th>\n",
       "      <td>12</td>\n",
       "      <td>7</td>\n",
       "      <td>19</td>\n",
       "      <td>Unicamp</td>\n",
       "    </tr>\n",
       "  </tbody>\n",
       "</table>\n",
       "</div>"
      ],
      "text/plain": [
       "                              Doutorado  Mestrado  Total ies_sigla\n",
       "professor                                                         \n",
       "JONICE DE OLIVEIRA SAMPAIO            7        16     23      UFRJ\n",
       "SILVIO ROMERO DE LEMOS MEIRA         16         4     20      UFPE\n",
       "HELIO PEDRINI                         6        13     19   Unicamp\n",
       "PAULO ROMERO MARTINS MACIEL          11         8     19      UFPE\n",
       "RICARDO DA SILVA TORRES              12         7     19   Unicamp"
      ]
     },
     "execution_count": 37,
     "metadata": {},
     "output_type": "execute_result"
    }
   ],
   "source": [
    "# Adiciona o programa que cada professior pertence\n",
    "\n",
    "docentes_alunos_table = pd.merge( \n",
    "    docentes_alunos_table, \n",
    "    discentes_categ_df[['nome','ies_sigla']],\n",
    "    left_index =True,\n",
    "    right_on='nome' )\n",
    "\n",
    "docentes_alunos_table = docentes_alunos_table.set_index('nome')\n",
    "docentes_alunos_table.index.name = 'professor'\n",
    "\n",
    "docentes_alunos_table = docentes_alunos_table.sort_values( 'Total' , ascending=False )\n",
    "\n",
    "# Verificando quem são os professores com mais alunos\n",
    "docentes_alunos_table.head()"
   ]
  },
  {
   "cell_type": "code",
   "execution_count": 38,
   "metadata": {},
   "outputs": [
    {
     "data": {
      "text/html": [
       "<div>\n",
       "<style scoped>\n",
       "    .dataframe tbody tr th:only-of-type {\n",
       "        vertical-align: middle;\n",
       "    }\n",
       "\n",
       "    .dataframe tbody tr th {\n",
       "        vertical-align: top;\n",
       "    }\n",
       "\n",
       "    .dataframe thead th {\n",
       "        text-align: right;\n",
       "    }\n",
       "</style>\n",
       "<table border=\"1\" class=\"dataframe\">\n",
       "  <thead>\n",
       "    <tr style=\"text-align: right;\">\n",
       "      <th></th>\n",
       "      <th>Doutorado</th>\n",
       "      <th>Mestrado</th>\n",
       "      <th>Total</th>\n",
       "      <th>ies_sigla</th>\n",
       "    </tr>\n",
       "    <tr>\n",
       "      <th>professor</th>\n",
       "      <th></th>\n",
       "      <th></th>\n",
       "      <th></th>\n",
       "      <th></th>\n",
       "    </tr>\n",
       "  </thead>\n",
       "  <tbody>\n",
       "    <tr>\n",
       "      <th>CRISTINA NADER VASCONCELOS</th>\n",
       "      <td>0</td>\n",
       "      <td>1</td>\n",
       "      <td>1</td>\n",
       "      <td>UFF</td>\n",
       "    </tr>\n",
       "    <tr>\n",
       "      <th>MAURICIO KISCHINHEVSKY</th>\n",
       "      <td>1</td>\n",
       "      <td>0</td>\n",
       "      <td>1</td>\n",
       "      <td>UFF</td>\n",
       "    </tr>\n",
       "    <tr>\n",
       "      <th>CRISTIANO COELHO DE ARAUJO</th>\n",
       "      <td>1</td>\n",
       "      <td>0</td>\n",
       "      <td>1</td>\n",
       "      <td>UFPE</td>\n",
       "    </tr>\n",
       "    <tr>\n",
       "      <th>LOANA TITO NOGUEIRA</th>\n",
       "      <td>1</td>\n",
       "      <td>0</td>\n",
       "      <td>1</td>\n",
       "      <td>UFF</td>\n",
       "    </tr>\n",
       "    <tr>\n",
       "      <th>GISELI RABELLO LOPES</th>\n",
       "      <td>0</td>\n",
       "      <td>1</td>\n",
       "      <td>1</td>\n",
       "      <td>UFRJ</td>\n",
       "    </tr>\n",
       "  </tbody>\n",
       "</table>\n",
       "</div>"
      ],
      "text/plain": [
       "                            Doutorado  Mestrado  Total ies_sigla\n",
       "professor                                                       \n",
       "CRISTINA NADER VASCONCELOS          0         1      1       UFF\n",
       "MAURICIO KISCHINHEVSKY              1         0      1       UFF\n",
       "CRISTIANO COELHO DE ARAUJO          1         0      1      UFPE\n",
       "LOANA TITO NOGUEIRA                 1         0      1       UFF\n",
       "GISELI RABELLO LOPES                0         1      1      UFRJ"
      ]
     },
     "execution_count": 38,
     "metadata": {},
     "output_type": "execute_result"
    }
   ],
   "source": [
    "# Verificando quem são os professores com menos alunos\n",
    "docentes_alunos_table.tail()"
   ]
  },
  {
   "cell_type": "code",
   "execution_count": 39,
   "metadata": {},
   "outputs": [],
   "source": [
    "# Funcao de plotar um grafico\n",
    "def multiPlotAlunosPorProfessor( df_alunosPorProfessor , xmax , ymax ):\n",
    "    # Prepara o grafico\n",
    "    subDim = (2,5)\n",
    "    fig, axarr = plt.subplots( subDim[0], subDim[1], figsize=(16, 10) , sharex = True , sharey=True )\n",
    "    \n",
    "    fig.text(0.5, 0.04, 'Quantidade de Professores', ha='center' , fontsize=18)\n",
    "    fig.text(0.04, 0.5, 'Quantidade de Alunos', va='center', rotation='vertical', fontsize=18)\n",
    "    \n",
    "\n",
    "    # DataFrame de suporte\n",
    "    index_df = pd.DataFrame( index = list(i for i in range(25)) )\n",
    "    index_df[\"qtd_alunos\"] = index_df.index\n",
    "    \n",
    "    # plota os sub graficos\n",
    "    row = 0\n",
    "    col = 0\n",
    "    for ies_sigla in df_alunosPorProfessor.ies_sigla.unique():\n",
    "        # Filtra o DataSet\n",
    "        df_plot = df_alunosPorProfessor[ df_alunosPorProfessor.ies_sigla == ies_sigla ]\n",
    "        \n",
    "        # Eixo X: Quantidade de alunos, Eixo Y: Quantidade de Professores\n",
    "        df_plot = df_plot['Total'].reset_index()\n",
    "        df_plot = df_plot.groupby('Total').count().reset_index()\n",
    "        df_plot.columns = [\"qtd_alunos\",\"qtd_professores\"]\n",
    "        \n",
    "        df_plot = pd.merge( \n",
    "            index_df, \n",
    "            df_plot,\n",
    "            how = \"left\",\n",
    "            left_on =\"qtd_alunos\",\n",
    "            right_on = \"qtd_alunos\" )\n",
    "        \n",
    "        df_plot = df_plot.set_index(\"qtd_alunos\")\n",
    "\n",
    "        # Define o titulo\n",
    "        axarr[row][col].set_title(ies_sigla)\n",
    "        df_plot.plot.barh(ax=axarr[row][col])\n",
    "\n",
    "        axarr[row][col].set_xlabel(\"\")\n",
    "        axarr[row][col].set_ylabel(\"\")\n",
    "        \n",
    "        plt.xlim(0,12)\n",
    "        plt.ylim(0,24)\n",
    "        \n",
    "        # Controle de posicao\n",
    "        col += 1\n",
    "        if col >= subDim[1]:\n",
    "            row += 1\n",
    "            col = 0\n",
    "            \n",
    "    plt.subplots_adjust(hspace=0.4)\n",
    "    plt.show()\n"
   ]
  },
  {
   "cell_type": "code",
   "execution_count": 40,
   "metadata": {},
   "outputs": [
    {
     "data": {
      "image/png": "[encoded data removed]",
      "text/plain": [
       "<matplotlib.figure.Figure at 0x212d1c06dd8>"
      ]
     },
     "metadata": {},
     "output_type": "display_data"
    }
   ],
   "source": [
    "multiPlotAlunosPorProfessor( docentes_alunos_table , 8 , 20 )\n"
   ]
  },
  {
   "cell_type": "code",
   "execution_count": 41,
   "metadata": {},
   "outputs": [
    {
     "data": {
      "text/html": [
       "<div>\n",
       "<style scoped>\n",
       "    .dataframe tbody tr th:only-of-type {\n",
       "        vertical-align: middle;\n",
       "    }\n",
       "\n",
       "    .dataframe tbody tr th {\n",
       "        vertical-align: top;\n",
       "    }\n",
       "\n",
       "    .dataframe thead th {\n",
       "        text-align: right;\n",
       "    }\n",
       "</style>\n",
       "<table border=\"1\" class=\"dataframe\">\n",
       "  <thead>\n",
       "    <tr style=\"text-align: right;\">\n",
       "      <th></th>\n",
       "      <th>professor</th>\n",
       "    </tr>\n",
       "    <tr>\n",
       "      <th>Total</th>\n",
       "      <th></th>\n",
       "    </tr>\n",
       "  </thead>\n",
       "  <tbody>\n",
       "    <tr>\n",
       "      <th>1</th>\n",
       "      <td>27</td>\n",
       "    </tr>\n",
       "    <tr>\n",
       "      <th>2</th>\n",
       "      <td>46</td>\n",
       "    </tr>\n",
       "    <tr>\n",
       "      <th>3</th>\n",
       "      <td>27</td>\n",
       "    </tr>\n",
       "    <tr>\n",
       "      <th>4</th>\n",
       "      <td>38</td>\n",
       "    </tr>\n",
       "    <tr>\n",
       "      <th>5</th>\n",
       "      <td>44</td>\n",
       "    </tr>\n",
       "    <tr>\n",
       "      <th>6</th>\n",
       "      <td>29</td>\n",
       "    </tr>\n",
       "    <tr>\n",
       "      <th>7</th>\n",
       "      <td>42</td>\n",
       "    </tr>\n",
       "    <tr>\n",
       "      <th>8</th>\n",
       "      <td>40</td>\n",
       "    </tr>\n",
       "    <tr>\n",
       "      <th>9</th>\n",
       "      <td>42</td>\n",
       "    </tr>\n",
       "    <tr>\n",
       "      <th>10</th>\n",
       "      <td>31</td>\n",
       "    </tr>\n",
       "    <tr>\n",
       "      <th>11</th>\n",
       "      <td>28</td>\n",
       "    </tr>\n",
       "    <tr>\n",
       "      <th>12</th>\n",
       "      <td>20</td>\n",
       "    </tr>\n",
       "    <tr>\n",
       "      <th>13</th>\n",
       "      <td>18</td>\n",
       "    </tr>\n",
       "    <tr>\n",
       "      <th>14</th>\n",
       "      <td>6</td>\n",
       "    </tr>\n",
       "    <tr>\n",
       "      <th>15</th>\n",
       "      <td>8</td>\n",
       "    </tr>\n",
       "    <tr>\n",
       "      <th>16</th>\n",
       "      <td>3</td>\n",
       "    </tr>\n",
       "    <tr>\n",
       "      <th>17</th>\n",
       "      <td>4</td>\n",
       "    </tr>\n",
       "    <tr>\n",
       "      <th>19</th>\n",
       "      <td>3</td>\n",
       "    </tr>\n",
       "    <tr>\n",
       "      <th>20</th>\n",
       "      <td>1</td>\n",
       "    </tr>\n",
       "    <tr>\n",
       "      <th>23</th>\n",
       "      <td>1</td>\n",
       "    </tr>\n",
       "  </tbody>\n",
       "</table>\n",
       "</div>"
      ],
      "text/plain": [
       "       professor\n",
       "Total           \n",
       "1             27\n",
       "2             46\n",
       "3             27\n",
       "4             38\n",
       "5             44\n",
       "6             29\n",
       "7             42\n",
       "8             40\n",
       "9             42\n",
       "10            31\n",
       "11            28\n",
       "12            20\n",
       "13            18\n",
       "14             6\n",
       "15             8\n",
       "16             3\n",
       "17             4\n",
       "19             3\n",
       "20             1\n",
       "23             1"
      ]
     },
     "execution_count": 41,
     "metadata": {},
     "output_type": "execute_result"
    }
   ],
   "source": [
    "# Ideia: Eixo X: Quantidade de alunos, Eixo Y: Quantidade de Professores\n",
    "\n",
    "qtd_professores_por_alunos = docentes_alunos_table['Total'].reset_index()\n",
    "qtd_professores_por_alunos = qtd_professores_por_alunos.groupby('Total').count()\n",
    "\n",
    "qtd_professores_por_alunos"
   ]
  },
  {
   "cell_type": "code",
   "execution_count": 42,
   "metadata": {},
   "outputs": [
    {
     "data": {
      "image/png": "[encoded data removed]",
      "text/plain": [
       "<matplotlib.figure.Figure at 0x212d1f46f60>"
      ]
     },
     "metadata": {},
     "output_type": "display_data"
    }
   ],
   "source": [
    "fig, ax = plt.subplots()\n",
    "\n",
    "\n",
    "plt.barh( qtd_professores_por_alunos.index , qtd_professores_por_alunos.professor  )\n",
    "plt.yticks( qtd_professores_por_alunos.index , qtd_professores_por_alunos.index )\n",
    "\n",
    "for i, v in enumerate(qtd_professores_por_alunos.index ):\n",
    "    ax.text( qtd_professores_por_alunos.iloc[i]['professor'] + 0.5 ,\n",
    "            v, \n",
    "            str(qtd_professores_por_alunos.iloc[i]['professor']), \n",
    "            color='red', \n",
    "            fontweight='regular',\n",
    "            va='center')\n",
    "\n",
    "plt.title( \"Distribuição de Alunos por Professor\")\n",
    "\n",
    "plt.xlabel(\"Qtd Professores\")\n",
    "plt.ylabel(\"Qtd Alunos\")\n",
    "\n",
    "fig.set_size_inches(12, 7)\n",
    "\n",
    "plt.show()"
   ]
  },
  {
   "cell_type": "markdown",
   "metadata": {},
   "source": [
    "## Trabalhos de Conclusão\n",
    "5) Quantos alunos de Mestrado/Doutorado defenderam suas dissertações/teses em 2017 (arquivo trabalhos.csv)?"
   ]
  },
  {
   "cell_type": "code",
   "execution_count": 43,
   "metadata": {},
   "outputs": [
    {
     "data": {
      "text/html": [
       "<div>\n",
       "<style scoped>\n",
       "    .dataframe tbody tr th:only-of-type {\n",
       "        vertical-align: middle;\n",
       "    }\n",
       "\n",
       "    .dataframe tbody tr th {\n",
       "        vertical-align: top;\n",
       "    }\n",
       "\n",
       "    .dataframe thead th {\n",
       "        text-align: right;\n",
       "    }\n",
       "</style>\n",
       "<table border=\"1\" class=\"dataframe\">\n",
       "  <thead>\n",
       "    <tr style=\"text-align: right;\">\n",
       "      <th></th>\n",
       "      <th>abstract</th>\n",
       "      <th>anexo</th>\n",
       "      <th>area</th>\n",
       "      <th>autor</th>\n",
       "      <th>biblioteca</th>\n",
       "      <th>data_defesa</th>\n",
       "      <th>idioma</th>\n",
       "      <th>ies</th>\n",
       "      <th>keywords</th>\n",
       "      <th>linha</th>\n",
       "      <th>...</th>\n",
       "      <th>paginas</th>\n",
       "      <th>palavras_chave</th>\n",
       "      <th>programa</th>\n",
       "      <th>projeto_pesquisa</th>\n",
       "      <th>resumo</th>\n",
       "      <th>tipo</th>\n",
       "      <th>titulo</th>\n",
       "      <th>trabalho_id</th>\n",
       "      <th>volume</th>\n",
       "      <th>ies_sigla</th>\n",
       "    </tr>\n",
       "  </thead>\n",
       "  <tbody>\n",
       "    <tr>\n",
       "      <th>0</th>\n",
       "      <td>Spatial concentrations (or spatial clusters) o...</td>\n",
       "      <td>Marcos P. Roriz_2017_Completo.pdf</td>\n",
       "      <td>REDES DE COMPUTADORES E SISTEMAS DISTRIBUÍDOS</td>\n",
       "      <td>MARCOS PAULINO RORIZ JUNIOR</td>\n",
       "      <td>PONTIFÍCIA UNIVERSIDADE CATÓLICA DO RIO DE JAN...</td>\n",
       "      <td>22/03/2017</td>\n",
       "      <td>INGLES</td>\n",
       "      <td>PONTIFÍCIA UNIVERSIDADE CATÓLICA DO RIO DE JAN...</td>\n",
       "      <td>b'Spatial Clustering;Stream Clustering;Real-ti...</td>\n",
       "      <td>REDES MÓVEIS, COMPUTAÇÃO UBÍQUA E COMPUTAÇÃO A...</td>\n",
       "      <td>...</td>\n",
       "      <td>121.0</td>\n",
       "      <td>Aglomeração Espacial;Aglomeração em Fluxo de D...</td>\n",
       "      <td>INFORMÁTICA (31005012004P9)</td>\n",
       "      <td>-</td>\n",
       "      <td>Clusters (ou concentrações) de objetos móveis,...</td>\n",
       "      <td>TESE</td>\n",
       "      <td>DG2CEP: An On-line Algorithm for Real-time Det...</td>\n",
       "      <td>5013040</td>\n",
       "      <td>1</td>\n",
       "      <td>PUC-Rio</td>\n",
       "    </tr>\n",
       "    <tr>\n",
       "      <th>1</th>\n",
       "      <td>Quotation Extraction consists of identifying q...</td>\n",
       "      <td>Rafael dos Reis_2017_Completo.pdf</td>\n",
       "      <td>OTIMIZAÇÃO E RACIOCÍNIO AUTOMÁTICO</td>\n",
       "      <td>RAFAEL DOS REIS SILVA</td>\n",
       "      <td>PONTIFÍCIA UNIVERSIDADE CATÓLICA DO RIO DE JAN...</td>\n",
       "      <td>08/02/2017</td>\n",
       "      <td>INGLES</td>\n",
       "      <td>PONTIFÍCIA UNIVERSIDADE CATÓLICA DO RIO DE JAN...</td>\n",
       "      <td>b'Machine Learning;Natural Language Processing...</td>\n",
       "      <td>APRENDIZADO DE MÁQUINA, RACIOCÍNIO HEURÍSTICO ...</td>\n",
       "      <td>...</td>\n",
       "      <td>59.0</td>\n",
       "      <td>Processamento de Linguagem Natural;Extração de...</td>\n",
       "      <td>INFORMÁTICA (31005012004P9)</td>\n",
       "      <td>-</td>\n",
       "      <td>A Extração de Citações consiste na identificaç...</td>\n",
       "      <td>DISSERTAÇÃO</td>\n",
       "      <td>Direct and Indirect Quotation Extraction for P...</td>\n",
       "      <td>5013130</td>\n",
       "      <td>1</td>\n",
       "      <td>PUC-Rio</td>\n",
       "    </tr>\n",
       "    <tr>\n",
       "      <th>2</th>\n",
       "      <td>The classification of objects in real contexts...</td>\n",
       "      <td>Luis Marcelo Vital_2017_Completo.pdf</td>\n",
       "      <td>OTIMIZAÇÃO E RACIOCÍNIO AUTOMÁTICO</td>\n",
       "      <td>LUIS MARCELO VITAL ABREU FONSECA</td>\n",
       "      <td>PONTIFÍCIA UNIVERSIDADE CATÓLICA DO RIO DE JAN...</td>\n",
       "      <td>07/03/2017</td>\n",
       "      <td>PORTUGUES</td>\n",
       "      <td>PONTIFÍCIA UNIVERSIDADE CATÓLICA DO RIO DE JAN...</td>\n",
       "      <td>b'Machine Learning;Image Processing;Convolutio...</td>\n",
       "      <td>APRENDIZADO DE MÁQUINA, RACIOCÍNIO HEURÍSTICO ...</td>\n",
       "      <td>...</td>\n",
       "      <td>96.0</td>\n",
       "      <td>Aprendizado de Máquina;Processamento de Imagen...</td>\n",
       "      <td>INFORMÁTICA (31005012004P9)</td>\n",
       "      <td>-</td>\n",
       "      <td>A classificação de imagens em contexto real é ...</td>\n",
       "      <td>DISSERTAÇÃO</td>\n",
       "      <td>Classificação de Objetos em Contexto Real por ...</td>\n",
       "      <td>5013137</td>\n",
       "      <td>1</td>\n",
       "      <td>PUC-Rio</td>\n",
       "    </tr>\n",
       "    <tr>\n",
       "      <th>3</th>\n",
       "      <td>Quotation Extraction and Attribution is the ta...</td>\n",
       "      <td>Luis Felipe Miller 2017_Completo.pdf</td>\n",
       "      <td>OTIMIZAÇÃO E RACIOCÍNIO AUTOMÁTICO</td>\n",
       "      <td>LUIS FELIPE MULLER DE OLIVEIRA HENRIQUES</td>\n",
       "      <td>PONTIFÍCIA UNIVERSIDADE CATÓLICA DO RIO DE JAN...</td>\n",
       "      <td>08/03/2017</td>\n",
       "      <td>INGLES</td>\n",
       "      <td>PONTIFÍCIA UNIVERSIDADE CATÓLICA DO RIO DE JAN...</td>\n",
       "      <td>b'Machine learning;Natural language processing...</td>\n",
       "      <td>-</td>\n",
       "      <td>...</td>\n",
       "      <td>68.0</td>\n",
       "      <td>Aprendizado de máquina;Processamento de lingua...</td>\n",
       "      <td>INFORMÁTICA (31005012004P9)</td>\n",
       "      <td>-</td>\n",
       "      <td>A Extração e Atribuição de Citações é a tarefa...</td>\n",
       "      <td>DISSERTAÇÃO</td>\n",
       "      <td>Deep Architecture for Quotation Extraction</td>\n",
       "      <td>5017265</td>\n",
       "      <td>1</td>\n",
       "      <td>PUC-Rio</td>\n",
       "    </tr>\n",
       "    <tr>\n",
       "      <th>4</th>\n",
       "      <td>Driving is a daily task that allows individual...</td>\n",
       "      <td>Igor Oliveira_2017_Completo.pdf</td>\n",
       "      <td>REDES DE COMPUTADORES E SISTEMAS DISTRIBUÍDOS</td>\n",
       "      <td>IGOR OLIVEIRA VASCONCELOS</td>\n",
       "      <td>PONTIFÍCIA UNIVERSIDADE CATÓLICA DO RIO DE JAN...</td>\n",
       "      <td>31/03/2017</td>\n",
       "      <td>PORTUGUES</td>\n",
       "      <td>PONTIFÍCIA UNIVERSIDADE CATÓLICA DO RIO DE JAN...</td>\n",
       "      <td>b'Online anomaly detection;complex event proce...</td>\n",
       "      <td>PROJETO E IMPLEMENTAÇÃO DE MIDDLEWARE</td>\n",
       "      <td>...</td>\n",
       "      <td>102.0</td>\n",
       "      <td>Detecção online de anomalia;processamento de e...</td>\n",
       "      <td>INFORMÁTICA (31005012004P9)</td>\n",
       "      <td>-</td>\n",
       "      <td>Dirigir é uma tarefa diária que permite uma lo...</td>\n",
       "      <td>TESE</td>\n",
       "      <td>Detecção móvel e online de anomalia em múltipl...</td>\n",
       "      <td>5017316</td>\n",
       "      <td>1</td>\n",
       "      <td>PUC-Rio</td>\n",
       "    </tr>\n",
       "  </tbody>\n",
       "</table>\n",
       "<p>5 rows × 21 columns</p>\n",
       "</div>"
      ],
      "text/plain": [
       "                                            abstract  \\\n",
       "0  Spatial concentrations (or spatial clusters) o...   \n",
       "1  Quotation Extraction consists of identifying q...   \n",
       "2  The classification of objects in real contexts...   \n",
       "3  Quotation Extraction and Attribution is the ta...   \n",
       "4  Driving is a daily task that allows individual...   \n",
       "\n",
       "                                  anexo  \\\n",
       "0     Marcos P. Roriz_2017_Completo.pdf   \n",
       "1     Rafael dos Reis_2017_Completo.pdf   \n",
       "2  Luis Marcelo Vital_2017_Completo.pdf   \n",
       "3  Luis Felipe Miller 2017_Completo.pdf   \n",
       "4       Igor Oliveira_2017_Completo.pdf   \n",
       "\n",
       "                                            area  \\\n",
       "0  REDES DE COMPUTADORES E SISTEMAS DISTRIBUÍDOS   \n",
       "1             OTIMIZAÇÃO E RACIOCÍNIO AUTOMÁTICO   \n",
       "2             OTIMIZAÇÃO E RACIOCÍNIO AUTOMÁTICO   \n",
       "3             OTIMIZAÇÃO E RACIOCÍNIO AUTOMÁTICO   \n",
       "4  REDES DE COMPUTADORES E SISTEMAS DISTRIBUÍDOS   \n",
       "\n",
       "                                      autor  \\\n",
       "0               MARCOS PAULINO RORIZ JUNIOR   \n",
       "1                     RAFAEL DOS REIS SILVA   \n",
       "2          LUIS MARCELO VITAL ABREU FONSECA   \n",
       "3  LUIS FELIPE MULLER DE OLIVEIRA HENRIQUES   \n",
       "4                 IGOR OLIVEIRA VASCONCELOS   \n",
       "\n",
       "                                          biblioteca data_defesa     idioma  \\\n",
       "0  PONTIFÍCIA UNIVERSIDADE CATÓLICA DO RIO DE JAN...  22/03/2017     INGLES   \n",
       "1  PONTIFÍCIA UNIVERSIDADE CATÓLICA DO RIO DE JAN...  08/02/2017     INGLES   \n",
       "2  PONTIFÍCIA UNIVERSIDADE CATÓLICA DO RIO DE JAN...  07/03/2017  PORTUGUES   \n",
       "3  PONTIFÍCIA UNIVERSIDADE CATÓLICA DO RIO DE JAN...  08/03/2017     INGLES   \n",
       "4  PONTIFÍCIA UNIVERSIDADE CATÓLICA DO RIO DE JAN...  31/03/2017  PORTUGUES   \n",
       "\n",
       "                                                 ies  \\\n",
       "0  PONTIFÍCIA UNIVERSIDADE CATÓLICA DO RIO DE JAN...   \n",
       "1  PONTIFÍCIA UNIVERSIDADE CATÓLICA DO RIO DE JAN...   \n",
       "2  PONTIFÍCIA UNIVERSIDADE CATÓLICA DO RIO DE JAN...   \n",
       "3  PONTIFÍCIA UNIVERSIDADE CATÓLICA DO RIO DE JAN...   \n",
       "4  PONTIFÍCIA UNIVERSIDADE CATÓLICA DO RIO DE JAN...   \n",
       "\n",
       "                                            keywords  \\\n",
       "0  b'Spatial Clustering;Stream Clustering;Real-ti...   \n",
       "1  b'Machine Learning;Natural Language Processing...   \n",
       "2  b'Machine Learning;Image Processing;Convolutio...   \n",
       "3  b'Machine learning;Natural language processing...   \n",
       "4  b'Online anomaly detection;complex event proce...   \n",
       "\n",
       "                                               linha    ...    paginas  \\\n",
       "0  REDES MÓVEIS, COMPUTAÇÃO UBÍQUA E COMPUTAÇÃO A...    ...      121.0   \n",
       "1  APRENDIZADO DE MÁQUINA, RACIOCÍNIO HEURÍSTICO ...    ...       59.0   \n",
       "2  APRENDIZADO DE MÁQUINA, RACIOCÍNIO HEURÍSTICO ...    ...       96.0   \n",
       "3                                                  -    ...       68.0   \n",
       "4              PROJETO E IMPLEMENTAÇÃO DE MIDDLEWARE    ...      102.0   \n",
       "\n",
       "                                      palavras_chave  \\\n",
       "0  Aglomeração Espacial;Aglomeração em Fluxo de D...   \n",
       "1  Processamento de Linguagem Natural;Extração de...   \n",
       "2  Aprendizado de Máquina;Processamento de Imagen...   \n",
       "3  Aprendizado de máquina;Processamento de lingua...   \n",
       "4  Detecção online de anomalia;processamento de e...   \n",
       "\n",
       "                      programa projeto_pesquisa  \\\n",
       "0  INFORMÁTICA (31005012004P9)                -   \n",
       "1  INFORMÁTICA (31005012004P9)                -   \n",
       "2  INFORMÁTICA (31005012004P9)                -   \n",
       "3  INFORMÁTICA (31005012004P9)                -   \n",
       "4  INFORMÁTICA (31005012004P9)                -   \n",
       "\n",
       "                                              resumo         tipo  \\\n",
       "0  Clusters (ou concentrações) de objetos móveis,...         TESE   \n",
       "1  A Extração de Citações consiste na identificaç...  DISSERTAÇÃO   \n",
       "2  A classificação de imagens em contexto real é ...  DISSERTAÇÃO   \n",
       "3  A Extração e Atribuição de Citações é a tarefa...  DISSERTAÇÃO   \n",
       "4  Dirigir é uma tarefa diária que permite uma lo...         TESE   \n",
       "\n",
       "                                              titulo trabalho_id  volume  \\\n",
       "0  DG2CEP: An On-line Algorithm for Real-time Det...     5013040       1   \n",
       "1  Direct and Indirect Quotation Extraction for P...     5013130       1   \n",
       "2  Classificação de Objetos em Contexto Real por ...     5013137       1   \n",
       "3         Deep Architecture for Quotation Extraction     5017265       1   \n",
       "4  Detecção móvel e online de anomalia em múltipl...     5017316       1   \n",
       "\n",
       "  ies_sigla  \n",
       "0   PUC-Rio  \n",
       "1   PUC-Rio  \n",
       "2   PUC-Rio  \n",
       "3   PUC-Rio  \n",
       "4   PUC-Rio  \n",
       "\n",
       "[5 rows x 21 columns]"
      ]
     },
     "execution_count": 43,
     "metadata": {},
     "output_type": "execute_result"
    }
   ],
   "source": [
    "trabalhos_df.head()"
   ]
  },
  {
   "cell_type": "code",
   "execution_count": 44,
   "metadata": {},
   "outputs": [],
   "source": [
    "trabalhos_categ_df = trabalhos_df.copy() \n",
    "\n",
    "trabalhos_categ_df['categoria'] = trabalhos_categ_df.apply(\n",
    "    lambda row: 'Mestrado' if row['tipo'] == 'DISSERTAÇÃO' else 'Doutorado', axis=1\n",
    ")"
   ]
  },
  {
   "cell_type": "code",
   "execution_count": 45,
   "metadata": {},
   "outputs": [
    {
     "data": {
      "text/plain": [
       "Mestrado     357\n",
       "Doutorado    285\n",
       "Name: categoria, dtype: int64"
      ]
     },
     "execution_count": 45,
     "metadata": {},
     "output_type": "execute_result"
    }
   ],
   "source": [
    "trabalhos_categ_df.categoria.value_counts()"
   ]
  },
  {
   "cell_type": "code",
   "execution_count": 46,
   "metadata": {},
   "outputs": [
    {
     "data": {
      "image/png": "[encoded data removed]",
      "text/plain": [
       "<matplotlib.figure.Figure at 0x212d1f0c860>"
      ]
     },
     "metadata": {},
     "output_type": "display_data"
    }
   ],
   "source": [
    "plot = trabalhos_categ_df.categoria.value_counts().plot(kind='bar')\n",
    "\n",
    "for idx, value in enumerate(list(trabalhos_categ_df.categoria.value_counts())): \n",
    "    plot.annotate(value,(idx, value), xytext=(-8, 0), textcoords='offset points')"
   ]
  },
  {
   "cell_type": "markdown",
   "metadata": {},
   "source": [
    "6) Como os trabalhos de Mestrado/Doutorado defendidos em 2017 foram distribuídos pelas áreas de pesquisa dos programas?"
   ]
  },
  {
   "cell_type": "code",
   "execution_count": 47,
   "metadata": {},
   "outputs": [
    {
     "data": {
      "text/plain": [
       "['-',\n",
       " 'ALGORITMOS E OTIMIZAÇÃO',\n",
       " 'ARQUITETURA DE COMPUTADORES E SISTEMAS DIGITAIS',\n",
       " 'BANCO DE DADOS',\n",
       " 'BANCOS DE DADOS',\n",
       " 'CIENCIA DA COMPUTACAO',\n",
       " 'CIÊNCIA DA COMPUTAÇÃO',\n",
       " 'CIÊNCIAS  DE COMPUTAÇÃO E MATEMÁTICA COMPUTACIONAL',\n",
       " 'COMPUTAÇÃO CIENTÍFICA E SISTEMAS DE POTÊNCIA',\n",
       " 'COMPUTAÇÃO GRÁFICA',\n",
       " 'COMPUTAÇÃO INTELIGENTE',\n",
       " 'COMPUTAÇÃO VISUAL',\n",
       " 'Ciência de Dados e Engenharia de Software',\n",
       " 'Computação Visual',\n",
       " 'ENGENHARIA DA COMPUTAÇÃO',\n",
       " 'ENGENHARIA DA INFORMAÇÃO',\n",
       " 'ENGENHARIA DE SISTEMAS E INFORMAÇÃO',\n",
       " 'ENGENHARIA DE SOFTWARE',\n",
       " 'ENGENHARIA DE SOFTWARE E LINGUAGENS DE PROGRAMAÇÃO',\n",
       " 'HIPERTEXTO E MULTIMÍDIA',\n",
       " 'INTELIGÊNCIA COMPUTACIONAL',\n",
       " 'INTERAÇÃO HUMANO-COMPUTADOR',\n",
       " 'Inteligência Artificial',\n",
       " 'LINGUAGENS DE PROGRAMAÇÃO',\n",
       " 'OTIMIZAÇÃO E RACIOCÍNIO AUTOMÁTICO',\n",
       " 'Projeto de Sistemas Eletrônicos e Computacionais',\n",
       " 'REDES DE COMPUTADORES E SISTEMAS DISTRIBUIDOS',\n",
       " 'REDES DE COMPUTADORES E SISTEMAS DISTRIBUÍDOS',\n",
       " 'Redes de Computadores',\n",
       " 'SISTEMAS DE COMPUTAÇÃO',\n",
       " 'Sistemas de Computação',\n",
       " 'TEORIA DA COMPUTAÇÃO',\n",
       " 'Teoria da Computação']"
      ]
     },
     "execution_count": 47,
     "metadata": {},
     "output_type": "execute_result"
    }
   ],
   "source": [
    "# Inspecionando os dados\n",
    "q06_inspect = trabalhos_df[trabalhos_df.tipo.isin([\"TESE\", \"DISSERTAÇÃO\"])]\n",
    "q06_inspect = q06_inspect[[\"tipo\", \"area\"]]\n",
    "\n",
    "sorted( q06_inspect.area.unique() )"
   ]
  },
  {
   "cell_type": "code",
   "execution_count": 48,
   "metadata": {},
   "outputs": [
    {
     "data": {
      "text/plain": [
       "['-',\n",
       " 'ALGORITMOS E OTIMIZAÇÃO',\n",
       " 'ARQUITETURA DE COMPUTADORES E SISTEMAS DIGITAIS',\n",
       " 'BANCOS DE DADOS',\n",
       " 'CIÊNCIA DA COMPUTAÇÃO',\n",
       " 'CIÊNCIAS  DE COMPUTAÇÃO E MATEMÁTICA COMPUTACIONAL',\n",
       " 'COMPUTAÇÃO CIENTÍFICA E SISTEMAS DE POTÊNCIA',\n",
       " 'COMPUTAÇÃO GRÁFICA',\n",
       " 'COMPUTAÇÃO INTELIGENTE',\n",
       " 'COMPUTAÇÃO VISUAL',\n",
       " 'Ciência de Dados e Engenharia de Software',\n",
       " 'ENGENHARIA DA COMPUTAÇÃO',\n",
       " 'ENGENHARIA DA INFORMAÇÃO',\n",
       " 'ENGENHARIA DE SISTEMAS E INFORMAÇÃO',\n",
       " 'ENGENHARIA DE SOFTWARE',\n",
       " 'ENGENHARIA DE SOFTWARE E LINGUAGENS DE PROGRAMAÇÃO',\n",
       " 'HIPERTEXTO E MULTIMÍDIA',\n",
       " 'INTELIGÊNCIA COMPUTACIONAL',\n",
       " 'INTERAÇÃO HUMANO-COMPUTADOR',\n",
       " 'Inteligência Artificial',\n",
       " 'LINGUAGENS DE PROGRAMAÇÃO',\n",
       " 'OTIMIZAÇÃO E RACIOCÍNIO AUTOMÁTICO',\n",
       " 'Projeto de Sistemas Eletrônicos e Computacionais',\n",
       " 'REDES DE COMPUTADORES E SISTEMAS DISTRIBUÍDOS',\n",
       " 'Redes de Computadores',\n",
       " 'SISTEMAS DE COMPUTAÇÃO',\n",
       " 'TEORIA DA COMPUTAÇÃO']"
      ]
     },
     "execution_count": 48,
     "metadata": {},
     "output_type": "execute_result"
    }
   ],
   "source": [
    "# Removendo erros de tipagem!\n",
    "areaRenameDict = {\n",
    "    'BANCO DE DADOS': 'BANCOS DE DADOS',\n",
    "    'CIENCIA DA COMPUTACAO': 'CIÊNCIA DA COMPUTAÇÃO',\n",
    "    'Teoria da Computação': 'TEORIA DA COMPUTAÇÃO',\n",
    "    'Computação Visual': 'COMPUTAÇÃO VISUAL',\n",
    "    'REDES DE COMPUTADORES E SISTEMAS DISTRIBUIDOS': 'REDES DE COMPUTADORES E SISTEMAS DISTRIBUÍDOS',\n",
    "    'Sistemas de Computação': 'SISTEMAS DE COMPUTAÇÃO'\n",
    "}\n",
    "\n",
    "q06_inspect.replace( {'area': areaRenameDict } , inplace=True ) \n",
    "    \n",
    "sorted( q06_inspect.area.unique() )"
   ]
  },
  {
   "cell_type": "code",
   "execution_count": 49,
   "metadata": {},
   "outputs": [],
   "source": [
    "# Preparando os dados\n",
    "q06_trabalhos_programa = q06_inspect[[\"tipo\", \"area\"]]\n",
    "q06_trabalhos_programa = q06_trabalhos_programa.sort_index()\n",
    "\n",
    "q06_trabalhos_tese = q06_trabalhos_programa[q06_trabalhos_programa.tipo == \"TESE\"]\n",
    "q06_trabalhos_tese = q06_trabalhos_tese.groupby('area').count()\n",
    "q06_trabalhos_tese.columns = ['teses']\n",
    "\n",
    "q06_trabalhos_dissertacao = q06_trabalhos_programa[q06_trabalhos_programa.tipo == \"DISSERTAÇÃO\"]\n",
    "q06_trabalhos_dissertacao = q06_trabalhos_dissertacao.groupby('area').count()\n",
    "q06_trabalhos_dissertacao.columns = ['dissertacoes']"
   ]
  },
  {
   "cell_type": "code",
   "execution_count": 50,
   "metadata": {},
   "outputs": [
    {
     "data": {
      "text/html": [
       "<div>\n",
       "<style scoped>\n",
       "    .dataframe tbody tr th:only-of-type {\n",
       "        vertical-align: middle;\n",
       "    }\n",
       "\n",
       "    .dataframe tbody tr th {\n",
       "        vertical-align: top;\n",
       "    }\n",
       "\n",
       "    .dataframe thead th {\n",
       "        text-align: right;\n",
       "    }\n",
       "</style>\n",
       "<table border=\"1\" class=\"dataframe\">\n",
       "  <thead>\n",
       "    <tr style=\"text-align: right;\">\n",
       "      <th></th>\n",
       "      <th>dissertacoes</th>\n",
       "      <th>teses</th>\n",
       "    </tr>\n",
       "    <tr>\n",
       "      <th>area</th>\n",
       "      <th></th>\n",
       "      <th></th>\n",
       "    </tr>\n",
       "  </thead>\n",
       "  <tbody>\n",
       "    <tr>\n",
       "      <th>-</th>\n",
       "      <td>4</td>\n",
       "      <td>1</td>\n",
       "    </tr>\n",
       "    <tr>\n",
       "      <th>ALGORITMOS E OTIMIZAÇÃO</th>\n",
       "      <td>4</td>\n",
       "      <td>5</td>\n",
       "    </tr>\n",
       "    <tr>\n",
       "      <th>ARQUITETURA DE COMPUTADORES E SISTEMAS DIGITAIS</th>\n",
       "      <td>1</td>\n",
       "      <td>2</td>\n",
       "    </tr>\n",
       "    <tr>\n",
       "      <th>BANCOS DE DADOS</th>\n",
       "      <td>10</td>\n",
       "      <td>6</td>\n",
       "    </tr>\n",
       "    <tr>\n",
       "      <th>CIÊNCIA DA COMPUTAÇÃO</th>\n",
       "      <td>143</td>\n",
       "      <td>54</td>\n",
       "    </tr>\n",
       "    <tr>\n",
       "      <th>CIÊNCIAS  DE COMPUTAÇÃO E MATEMÁTICA COMPUTACIONAL</th>\n",
       "      <td>27</td>\n",
       "      <td>43</td>\n",
       "    </tr>\n",
       "    <tr>\n",
       "      <th>COMPUTAÇÃO CIENTÍFICA E SISTEMAS DE POTÊNCIA</th>\n",
       "      <td>0</td>\n",
       "      <td>1</td>\n",
       "    </tr>\n",
       "    <tr>\n",
       "      <th>COMPUTAÇÃO GRÁFICA</th>\n",
       "      <td>6</td>\n",
       "      <td>0</td>\n",
       "    </tr>\n",
       "    <tr>\n",
       "      <th>COMPUTAÇÃO INTELIGENTE</th>\n",
       "      <td>14</td>\n",
       "      <td>21</td>\n",
       "    </tr>\n",
       "    <tr>\n",
       "      <th>COMPUTAÇÃO VISUAL</th>\n",
       "      <td>13</td>\n",
       "      <td>10</td>\n",
       "    </tr>\n",
       "    <tr>\n",
       "      <th>Ciência de Dados e Engenharia de Software</th>\n",
       "      <td>11</td>\n",
       "      <td>1</td>\n",
       "    </tr>\n",
       "    <tr>\n",
       "      <th>ENGENHARIA DA COMPUTAÇÃO</th>\n",
       "      <td>4</td>\n",
       "      <td>1</td>\n",
       "    </tr>\n",
       "    <tr>\n",
       "      <th>ENGENHARIA DA INFORMAÇÃO</th>\n",
       "      <td>17</td>\n",
       "      <td>5</td>\n",
       "    </tr>\n",
       "    <tr>\n",
       "      <th>ENGENHARIA DE SISTEMAS E INFORMAÇÃO</th>\n",
       "      <td>9</td>\n",
       "      <td>8</td>\n",
       "    </tr>\n",
       "    <tr>\n",
       "      <th>ENGENHARIA DE SOFTWARE</th>\n",
       "      <td>2</td>\n",
       "      <td>3</td>\n",
       "    </tr>\n",
       "    <tr>\n",
       "      <th>ENGENHARIA DE SOFTWARE E LINGUAGENS DE PROGRAMAÇÃO</th>\n",
       "      <td>17</td>\n",
       "      <td>16</td>\n",
       "    </tr>\n",
       "    <tr>\n",
       "      <th>HIPERTEXTO E MULTIMÍDIA</th>\n",
       "      <td>0</td>\n",
       "      <td>2</td>\n",
       "    </tr>\n",
       "    <tr>\n",
       "      <th>INTELIGÊNCIA COMPUTACIONAL</th>\n",
       "      <td>3</td>\n",
       "      <td>2</td>\n",
       "    </tr>\n",
       "    <tr>\n",
       "      <th>INTERAÇÃO HUMANO-COMPUTADOR</th>\n",
       "      <td>1</td>\n",
       "      <td>1</td>\n",
       "    </tr>\n",
       "    <tr>\n",
       "      <th>Inteligência Artificial</th>\n",
       "      <td>5</td>\n",
       "      <td>7</td>\n",
       "    </tr>\n",
       "    <tr>\n",
       "      <th>LINGUAGENS DE PROGRAMAÇÃO</th>\n",
       "      <td>0</td>\n",
       "      <td>1</td>\n",
       "    </tr>\n",
       "    <tr>\n",
       "      <th>OTIMIZAÇÃO E RACIOCÍNIO AUTOMÁTICO</th>\n",
       "      <td>7</td>\n",
       "      <td>2</td>\n",
       "    </tr>\n",
       "    <tr>\n",
       "      <th>Projeto de Sistemas Eletrônicos e Computacionais</th>\n",
       "      <td>3</td>\n",
       "      <td>5</td>\n",
       "    </tr>\n",
       "    <tr>\n",
       "      <th>REDES DE COMPUTADORES E SISTEMAS DISTRIBUÍDOS</th>\n",
       "      <td>18</td>\n",
       "      <td>15</td>\n",
       "    </tr>\n",
       "    <tr>\n",
       "      <th>Redes de Computadores</th>\n",
       "      <td>6</td>\n",
       "      <td>5</td>\n",
       "    </tr>\n",
       "    <tr>\n",
       "      <th>SISTEMAS DE COMPUTAÇÃO</th>\n",
       "      <td>25</td>\n",
       "      <td>14</td>\n",
       "    </tr>\n",
       "    <tr>\n",
       "      <th>TEORIA DA COMPUTAÇÃO</th>\n",
       "      <td>7</td>\n",
       "      <td>7</td>\n",
       "    </tr>\n",
       "  </tbody>\n",
       "</table>\n",
       "</div>"
      ],
      "text/plain": [
       "                                                    dissertacoes  teses\n",
       "area                                                                   \n",
       "-                                                              4      1\n",
       "ALGORITMOS E OTIMIZAÇÃO                                        4      5\n",
       "ARQUITETURA DE COMPUTADORES E SISTEMAS DIGITAIS                1      2\n",
       "BANCOS DE DADOS                                               10      6\n",
       "CIÊNCIA DA COMPUTAÇÃO                                        143     54\n",
       "CIÊNCIAS  DE COMPUTAÇÃO E MATEMÁTICA COMPUTACIONAL            27     43\n",
       "COMPUTAÇÃO CIENTÍFICA E SISTEMAS DE POTÊNCIA                   0      1\n",
       "COMPUTAÇÃO GRÁFICA                                             6      0\n",
       "COMPUTAÇÃO INTELIGENTE                                        14     21\n",
       "COMPUTAÇÃO VISUAL                                             13     10\n",
       "Ciência de Dados e Engenharia de Software                     11      1\n",
       "ENGENHARIA DA COMPUTAÇÃO                                       4      1\n",
       "ENGENHARIA DA INFORMAÇÃO                                      17      5\n",
       "ENGENHARIA DE SISTEMAS E INFORMAÇÃO                            9      8\n",
       "ENGENHARIA DE SOFTWARE                                         2      3\n",
       "ENGENHARIA DE SOFTWARE E LINGUAGENS DE PROGRAMAÇÃO            17     16\n",
       "HIPERTEXTO E MULTIMÍDIA                                        0      2\n",
       "INTELIGÊNCIA COMPUTACIONAL                                     3      2\n",
       "INTERAÇÃO HUMANO-COMPUTADOR                                    1      1\n",
       "Inteligência Artificial                                        5      7\n",
       "LINGUAGENS DE PROGRAMAÇÃO                                      0      1\n",
       "OTIMIZAÇÃO E RACIOCÍNIO AUTOMÁTICO                             7      2\n",
       "Projeto de Sistemas Eletrônicos e Computacionais               3      5\n",
       "REDES DE COMPUTADORES E SISTEMAS DISTRIBUÍDOS                 18     15\n",
       "Redes de Computadores                                          6      5\n",
       "SISTEMAS DE COMPUTAÇÃO                                        25     14\n",
       "TEORIA DA COMPUTAÇÃO                                           7      7"
      ]
     },
     "execution_count": 50,
     "metadata": {},
     "output_type": "execute_result"
    }
   ],
   "source": [
    "# Une os dataframes em um unico dataframe. Motivo: certificar-se de q todas as entradas existem para todas a areas.\n",
    "q06_trabalhos = q06_trabalhos_tese.append(q06_trabalhos_dissertacao)\n",
    "q06_trabalhos = q06_trabalhos.fillna(0)\n",
    "q06_trabalhos = q06_trabalhos.sort_index()\n",
    "\n",
    "q06_trabalhos = q06_trabalhos.groupby(level=0).sum()\n",
    "q06_trabalhos.dissertacoes = q06_trabalhos.dissertacoes.astype(int)\n",
    "q06_trabalhos.teses = q06_trabalhos.teses.astype(int)\n",
    "\n",
    "q06_trabalhos"
   ]
  },
  {
   "cell_type": "code",
   "execution_count": 51,
   "metadata": {},
   "outputs": [
    {
     "data": {
      "image/png": "[encoded data removed]",
      "text/plain": [
       "<matplotlib.figure.Figure at 0x212d20f60b8>"
      ]
     },
     "metadata": {},
     "output_type": "display_data"
    }
   ],
   "source": [
    "fig, ax = plt.subplots()\n",
    "\n",
    "width = 0.35\n",
    "\n",
    "ind = np.arange(len(q06_trabalhos.index))\n",
    "\n",
    "plt1 = ax.barh(ind-width/2, q06_trabalhos.dissertacoes, width)\n",
    "plt2 = ax.barh(ind+width/2, q06_trabalhos.teses, width)\n",
    "\n",
    "# Etiquetas Mestrado\n",
    "for i, v in enumerate( q06_trabalhos.dissertacoes ):\n",
    "    ax.text( v + 0.5 ,\n",
    "            i - 0.2, \n",
    "            v, \n",
    "            color='blue', \n",
    "            fontweight='regular',\n",
    "            va='center')\n",
    "\n",
    "# Etiquetas Doutorado\n",
    "for i, v in enumerate( q06_trabalhos.teses ):\n",
    "    ax.text( v + 0.5 ,\n",
    "            i + 0.2, \n",
    "            v, \n",
    "            color='brown', \n",
    "            fontweight='regular',\n",
    "            va='center')\n",
    "\n",
    "\n",
    "ax.set_yticks(ind)\n",
    "ax.set_yticklabels(q06_trabalhos.index)\n",
    "\n",
    "plt.legend([plt1[0], plt2[0]], ['Mestrado', 'Doutorado'])\n",
    "\n",
    "fig.set_size_inches(10, 16)\n",
    "\n",
    "plt.show()"
   ]
  },
  {
   "cell_type": "markdown",
   "metadata": {},
   "source": [
    "7) Como as defesas de Mestrado/Doutorado foram distribuídas ao longo do ano de 2017?"
   ]
  },
  {
   "cell_type": "code",
   "execution_count": 52,
   "metadata": {},
   "outputs": [],
   "source": [
    "trabalhos_categ_df[\"data_defesa\"] = pd.to_datetime(trabalhos_categ_df[\"data_defesa\"])\n",
    "trabalhos_categ_df = trabalhos_categ_df[[\"data_defesa\", \"categoria\"]]"
   ]
  },
  {
   "cell_type": "code",
   "execution_count": 53,
   "metadata": {},
   "outputs": [
    {
     "data": {
      "text/plain": [
       "data_defesa\n",
       "1.0     12\n",
       "2.0     34\n",
       "3.0     72\n",
       "4.0     29\n",
       "5.0     18\n",
       "6.0     26\n",
       "7.0     33\n",
       "8.0     38\n",
       "9.0     24\n",
       "10.0    18\n",
       "11.0    28\n",
       "12.0    25\n",
       "Name: data_defesa, dtype: int64"
      ]
     },
     "execution_count": 53,
     "metadata": {},
     "output_type": "execute_result"
    }
   ],
   "source": [
    "# Mestrado\n",
    "trabalhos_mestrado = trabalhos_categ_df[trabalhos_categ_df.categoria == \"Mestrado\"].data_defesa.groupby(\n",
    "    trabalhos_categ_df[\"data_defesa\"].dt.month).count()\n",
    "\n",
    "trabalhos_mestrado"
   ]
  },
  {
   "cell_type": "code",
   "execution_count": 54,
   "metadata": {},
   "outputs": [
    {
     "data": {
      "text/plain": [
       "data_defesa\n",
       "1.0      9\n",
       "2.0     21\n",
       "3.0     27\n",
       "4.0      9\n",
       "5.0     17\n",
       "6.0     19\n",
       "7.0     15\n",
       "8.0     31\n",
       "9.0     22\n",
       "10.0    20\n",
       "11.0    19\n",
       "12.0    29\n",
       "Name: data_defesa, dtype: int64"
      ]
     },
     "execution_count": 54,
     "metadata": {},
     "output_type": "execute_result"
    }
   ],
   "source": [
    "# Doutorao\n",
    "trabalhos_doutorado = trabalhos_categ_df[trabalhos_categ_df.categoria == \"Doutorado\"].data_defesa.groupby(\n",
    "    trabalhos_categ_df[\"data_defesa\"].dt.month).count()\n",
    "\n",
    "trabalhos_doutorado"
   ]
  },
  {
   "cell_type": "code",
   "execution_count": 55,
   "metadata": {},
   "outputs": [
    {
     "data": {
      "image/png": "[encoded data removed]",
      "text/plain": [
       "<matplotlib.figure.Figure at 0x212d20be9b0>"
      ]
     },
     "metadata": {},
     "output_type": "display_data"
    }
   ],
   "source": [
    "fig, ax = plt.subplots()\n",
    "\n",
    "width = 0.35\n",
    "\n",
    "ind = np.arange(len(trabalhos_categ_df.data_defesa.groupby(\n",
    "    trabalhos_categ_df[\"data_defesa\"].dt.month).count().keys()))\n",
    "\n",
    "plt1 = ax.bar(ind-width/2, trabalhos_mestrado, width)\n",
    "\n",
    "plt2 = ax.bar(ind+width/2, trabalhos_doutorado, width)\n",
    "\n",
    "# Etiquetas Mestrado\n",
    "for i, v in enumerate(trabalhos_mestrado):\n",
    "    ax.text(i-0.5,\n",
    "            v + 1, \n",
    "            v, \n",
    "            color='blue', \n",
    "            fontweight='regular',\n",
    "            va='center')\n",
    "\n",
    "# Etiquetas Doutorado\n",
    "for i, v in enumerate(trabalhos_doutorado):\n",
    "    ax.text(i,\n",
    "            v + 1, \n",
    "            v, \n",
    "            color='brown', \n",
    "            fontweight='regular',\n",
    "            va='center')\n",
    "\n",
    "ax.set_xticks(ind)\n",
    "ax.set_xticklabels(ind+1)\n",
    "\n",
    "plt.legend([plt1[0], plt2[0]], ['Mestrado', 'Doutorado'])\n",
    "\n",
    "plt.show()"
   ]
  },
  {
   "cell_type": "markdown",
   "metadata": {},
   "source": [
    "## Discentes x Trabalhos de Conclusão\n",
    "8) Qual fração de alunos de Mestrado/Doutorado (do total em cada programa) defendeu em 2017?"
   ]
  },
  {
   "cell_type": "code",
   "execution_count": 56,
   "metadata": {},
   "outputs": [],
   "source": [
    "# Obtendo total de alunos por programa\n",
    "q08_alunos_programa_mestrado = discentes_df[discentes_df.nivel.isin([\"Mestrado\"])]\n",
    "q08_alunos_programa_mestrado = q08_alunos_programa_mestrado[['ies_sigla','nivel']]\n",
    "q08_alunos_programa_mestrado = q08_alunos_programa_mestrado.groupby('ies_sigla').count()\n",
    "q08_alunos_programa_mestrado.columns = ['alunos']\n",
    "q08_alunos_programa_mestrado = q08_alunos_programa_mestrado.sort_index().reset_index()\n",
    "\n",
    "q08_alunos_programa_doutorado = discentes_df[discentes_df.nivel.isin([\"Doutorado\"])]\n",
    "q08_alunos_programa_doutorado = q08_alunos_programa_doutorado[['ies_sigla','nivel']]\n",
    "q08_alunos_programa_doutorado = q08_alunos_programa_doutorado.groupby('ies_sigla').count()\n",
    "q08_alunos_programa_doutorado.columns = ['alunos']\n",
    "q08_alunos_programa_doutorado = q08_alunos_programa_doutorado.sort_index().reset_index()"
   ]
  },
  {
   "cell_type": "code",
   "execution_count": null,
   "metadata": {},
   "outputs": [],
   "source": [
    "# Preparando os dados dos trabalhos\n",
    "q08_trabalhos_programa = trabalhos_df[trabalhos_df.tipo.isin([\"TESE\", \"DISSERTAÇÃO\"])]\n",
    "q08_trabalhos_programa = q08_trabalhos_programa[[\"tipo\", \"ies_sigla\"]]\n",
    "\n",
    "q08_trabalhos_tese = q08_trabalhos_programa[q08_trabalhos_programa.tipo == \"TESE\"]\n",
    "q08_trabalhos_tese = q08_trabalhos_tese.groupby('ies_sigla').count()\n",
    "q08_trabalhos_tese.columns = ['trabalhos']\n",
    "q08_trabalhos_tese = q08_trabalhos_tese.sort_index().reset_index()\n",
    "\n",
    "q08_trabalhos_dissertacao = q08_trabalhos_programa[q08_trabalhos_programa.tipo == \"DISSERTAÇÃO\"]\n",
    "q08_trabalhos_dissertacao = q08_trabalhos_dissertacao.groupby('ies_sigla').count()\n",
    "q08_trabalhos_dissertacao.columns = ['trabalhos']\n",
    "q08_trabalhos_dissertacao = q08_trabalhos_dissertacao.sort_index().reset_index()\n"
   ]
  },
  {
   "cell_type": "code",
   "execution_count": null,
   "metadata": {},
   "outputs": [],
   "source": [
    "# Atualizado para valores relativos ( fracao )\n",
    "q08_trabalhos_dissertacao['alunos'] = q08_alunos_programa_mestrado.alunos\n",
    "q08_trabalhos_dissertacao['fracao'] = q08_trabalhos_dissertacao.trabalhos / q08_alunos_programa_mestrado.alunos\n",
    "\n",
    "q08_trabalhos_tese['alunos'] = q08_alunos_programa_doutorado.alunos\n",
    "q08_trabalhos_tese['fracao'] = q08_trabalhos_tese.trabalhos / q08_alunos_programa_doutorado.alunos\n"
   ]
  },
  {
   "cell_type": "code",
   "execution_count": null,
   "metadata": {},
   "outputs": [],
   "source": [
    "q08_trabalhos_dissertacao"
   ]
  },
  {
   "cell_type": "code",
   "execution_count": null,
   "metadata": {},
   "outputs": [],
   "source": [
    "q08_trabalhos_tese"
   ]
  },
  {
   "cell_type": "code",
   "execution_count": null,
   "metadata": {},
   "outputs": [],
   "source": [
    "fig, ax = plt.subplots()\n",
    "\n",
    "width = 0.35\n",
    "\n",
    "ind = np.arange(len(q08_trabalhos_tese.index))\n",
    "\n",
    "plt1 = ax.barh(ind-width/2, q08_trabalhos_dissertacao.fracao, width)\n",
    "plt2 = ax.barh(ind+width/2, q08_trabalhos_tese.fracao, width)\n",
    "\n",
    "# Etiquetas Mestrado\n",
    "for i, v in enumerate( q08_trabalhos_dissertacao.fracao ):\n",
    "    ax.text( v,\n",
    "            i - 0.2, \n",
    "            \" {:.2f}\".format(v), \n",
    "            color='blue', \n",
    "            fontweight='regular',\n",
    "            va='center',\n",
    "            ha='left',\n",
    "            )\n",
    "\n",
    "# Etiquetas Doutorado\n",
    "for i, v in enumerate( q08_trabalhos_tese.fracao ):\n",
    "    ax.text( v,\n",
    "            i + 0.2, \n",
    "            \" {:.2f}\".format(v), \n",
    "            color='brown', \n",
    "            fontweight='regular',\n",
    "            va='center',\n",
    "            ha='left' )\n",
    "               \n",
    "\n",
    "\n",
    "ax.set_yticks(ind)\n",
    "ax.set_yticklabels(q08_trabalhos_tese.ies_sigla)\n",
    "\n",
    "plt.legend([plt1[0], plt2[0]], ['Mestrado', 'Doutorado'])\n",
    "\n",
    "fig.set_size_inches(10, 7)\n",
    "\n",
    "plt.show()"
   ]
  },
  {
   "cell_type": "markdown",
   "metadata": {},
   "source": [
    "## Produção\n",
    "9) Quantos artigos de periódico/trabalhos em anais foram publicados por cada programa em 2017?"
   ]
  },
  {
   "cell_type": "code",
   "execution_count": null,
   "metadata": {},
   "outputs": [],
   "source": [
    "pd.options.display.max_columns = 40\n",
    "producao_df.head()"
   ]
  },
  {
   "cell_type": "code",
   "execution_count": null,
   "metadata": {},
   "outputs": [],
   "source": [
    "# Cria dataframe para anais e outro pra periodicos\n",
    "producao_anais_df = producao_df[producao_df.subtipo == 'TRABALHO EM ANAIS']\n",
    "producao_periodicos_df = producao_df[producao_df.subtipo == 'ARTIGO EM PERIÓDICO']"
   ]
  },
  {
   "cell_type": "code",
   "execution_count": null,
   "metadata": {
    "scrolled": true
   },
   "outputs": [],
   "source": [
    "trabalhos_anais = producao_anais_df.ies_sigla.value_counts().sort_index()\n",
    "trabalhos_anais"
   ]
  },
  {
   "cell_type": "code",
   "execution_count": null,
   "metadata": {},
   "outputs": [],
   "source": [
    "artigos_periodicos = producao_periodicos_df.ies_sigla.value_counts().sort_index()\n",
    "artigos_periodicos"
   ]
  },
  {
   "cell_type": "code",
   "execution_count": null,
   "metadata": {},
   "outputs": [],
   "source": [
    "fig, ax = plt.subplots()\n",
    "\n",
    "width = 0.35\n",
    "\n",
    "ind = np.arange(len(artigos_periodicos.keys()))\n",
    "\n",
    "plt1 = ax.barh(ind-width/2, artigos_periodicos, width)\n",
    "\n",
    "plt2 = ax.barh(ind+width/2, trabalhos_anais, width)\n",
    "\n",
    "# Etiquetas artigos de periodicos\n",
    "for i, v in enumerate( artigos_periodicos ):\n",
    "    ax.text( v,\n",
    "            i - 0.2, \n",
    "            v, \n",
    "            color='blue', \n",
    "            fontweight='regular',\n",
    "            va='center',\n",
    "            ha='left',\n",
    "            )\n",
    "\n",
    "# Etiquetas trabalhos em anais\n",
    "for i, v in enumerate( trabalhos_anais ):\n",
    "    ax.text( v,\n",
    "            i + 0.2, \n",
    "            v, \n",
    "            color='brown', \n",
    "            fontweight='regular',\n",
    "            va='center',\n",
    "            ha='left' )\n",
    "\n",
    "ax.set_yticks(ind)\n",
    "ax.set_yticklabels(artigos_periodicos.keys())\n",
    "\n",
    "plt.legend([plt1[0], plt2[0]], ['artigos de periodicos', 'trabalhos em anais'])\n",
    "\n",
    "plt.show()"
   ]
  },
  {
   "cell_type": "markdown",
   "metadata": {},
   "source": [
    "10) Qual é a taxa de artigos de periódico/trabalhos em anais por número de docentes permanentes de cada programa em 2017?"
   ]
  },
  {
   "cell_type": "code",
   "execution_count": null,
   "metadata": {},
   "outputs": [],
   "source": [
    "# Docentes Permanentes por Programa\n",
    "q10_docentes = docentes_df[docentes_df.categoria.isin([\"PERMANENTE\"])]\n",
    "q10_docentes = q10_docentes[[\"nome\"]]\n",
    "\n",
    "q10_discentes = discentes_df[[\"ies_sigla\",\"orientador\"]]\n",
    "\n",
    "q10_docentes = pd.merge( docentes_pos_df , discentes_pos_df , left_on='nome' , right_on='orientador' )\n",
    "q10_docentes = q10_docentes[[\"nome\", \"ies_sigla\"]]\n",
    "q10_docentes.head()\n",
    "\n",
    "q10_docentes_programa = q10_discentes.groupby('ies_sigla').count()\n",
    "q10_docentes_programa.columns = ['docentes']\n",
    "\n",
    "q10_docentes_programa"
   ]
  },
  {
   "cell_type": "code",
   "execution_count": null,
   "metadata": {},
   "outputs": [],
   "source": [
    "# Artigos em anais\n",
    "q10_anais = producao_df[producao_df.subtipo.isin(['TRABALHO EM ANAIS'])]\n",
    "q10_anais = q10_anais[['ies_sigla','paper_id']]\n",
    "\n",
    "q10_anais['ies_sigla'] = q10_anais.apply(\n",
    "    lambda row: row['ies_sigla'].replace(' (', '('), axis=1 )\n",
    "\n",
    "q10_anais = q10_anais.groupby('ies_sigla').count()\n",
    "q10_anais.columns = ['papers']\n",
    "\n",
    "q10_anais"
   ]
  },
  {
   "cell_type": "code",
   "execution_count": null,
   "metadata": {},
   "outputs": [],
   "source": [
    "# Une os dataframes em um unico dataframe. Motivo: certificar-se de q todas as entradas existem para todas os programas.\n",
    "q10_estatisticas = q10_docentes_programa.append(q10_anais)\n",
    "q10_estatisticas = q10_estatisticas.fillna(0)\n",
    "q10_estatisticas = q10_estatisticas.sort_index()\n",
    "\n",
    "q10_estatisticas = q10_estatisticas.groupby(level=0).sum()\n",
    "q10_estatisticas.docentes = q10_estatisticas.docentes.astype(int)\n",
    "q10_estatisticas.papers = q10_estatisticas.papers.astype(int)\n",
    "\n",
    "q10_estatisticas['taxa'] = q10_estatisticas['papers'] / q10_estatisticas['docentes']\n",
    "\n",
    "q10_estatisticas.index.name = \"programa\"\n",
    "\n",
    "q10_estatisticas = q10_estatisticas.sort_values( ['taxa'] , ascending  = False )\n",
    "\n",
    "q10_estatisticas"
   ]
  },
  {
   "cell_type": "code",
   "execution_count": null,
   "metadata": {},
   "outputs": [],
   "source": [
    "# Plotando resultados\n",
    "subDim = (2,5)\n",
    "fig, ax = plt.subplots( figsize=(16, 6) )\n",
    "\n",
    "# Etiquetas\n",
    "for i, v in enumerate( q10_estatisticas.taxa ):\n",
    "    ax.text( v,\n",
    "            i, \n",
    "            \" {:.2f}\".format(v), \n",
    "            color='red', \n",
    "            fontweight='regular',\n",
    "            va='center',\n",
    "            ha='left',\n",
    "            )\n",
    "\n",
    "# Plota as Barras\n",
    "sns.barplot(\n",
    "    y=q10_estatisticas.index,\n",
    "    x=\"taxa\",\n",
    "    data=q10_estatisticas,\n",
    "    palette= \"winter\",\n",
    "    ax=ax)\n",
    "\n"
   ]
  },
  {
   "cell_type": "markdown",
   "metadata": {},
   "source": [
    "11) Qual fração de artigos de periódico/trabalhos em anais publicados em 2017 teve a coautoria de discentes?\n"
   ]
  },
  {
   "cell_type": "code",
   "execution_count": null,
   "metadata": {},
   "outputs": [],
   "source": [
    "# trabalhos em anais com coautoria/ total trabalhos em anais\n",
    "producao_anais_df[producao_anais_df.num_discentes > 0].shape[0]/producao_anais_df.shape[0]"
   ]
  },
  {
   "cell_type": "code",
   "execution_count": null,
   "metadata": {},
   "outputs": [],
   "source": [
    "# artigos de periodicos com coautoria/ total artigos de periodicos\n",
    "producao_periodicos_df[producao_periodicos_df.num_discentes > 0].shape[0]/producao_periodicos_df.shape[0]"
   ]
  },
  {
   "cell_type": "markdown",
   "metadata": {},
   "source": [
    "12) Qual fração de artigos de periódico/trabalhos em anais publicados em 2017 teve a coautoria de participantes externos?"
   ]
  },
  {
   "cell_type": "code",
   "execution_count": null,
   "metadata": {},
   "outputs": [],
   "source": [
    "# trabalhos em anais com coautoria/ total trabalhos em anais\n",
    "producao_anais_df[producao_anais_df.num_externos > 0].shape[0]/producao_anais_df.shape[0]"
   ]
  },
  {
   "cell_type": "code",
   "execution_count": null,
   "metadata": {},
   "outputs": [],
   "source": [
    "# artigos de periodicos com coautoria/ total artigos de periodicos\n",
    "producao_periodicos_df[producao_periodicos_df.num_externos > 0].shape[0]/producao_periodicos_df.shape[0]"
   ]
  },
  {
   "cell_type": "markdown",
   "metadata": {},
   "source": [
    "## Produção x Qualis\n",
    "13) Qual é a distribuição de artigos de periódico publicados em 2017, por estrato do Qualis?"
   ]
  },
  {
   "cell_type": "code",
   "execution_count": null,
   "metadata": {},
   "outputs": [],
   "source": [
    "qualis_df.head()"
   ]
  },
  {
   "cell_type": "code",
   "execution_count": null,
   "metadata": {},
   "outputs": [],
   "source": [
    "qualis_df.Estrato.unique()"
   ]
  },
  {
   "cell_type": "code",
   "execution_count": null,
   "metadata": {},
   "outputs": [],
   "source": [
    "producao_periodicos_issn_df = producao_periodicos_df[['issn']]\n",
    "qualis_producao_df = pd.merge(producao_periodicos_issn_df, qualis_df, left_on='issn', right_on='ISSN')\n",
    "qualis_producao_df = qualis_producao_df[['ISSN','Estrato']]\n",
    "qualis_producao_df = qualis_producao_df.drop_duplicates( ['ISSN'] )\n",
    "qualis_producao_df.head()"
   ]
  },
  {
   "cell_type": "code",
   "execution_count": null,
   "metadata": {},
   "outputs": [],
   "source": [
    "estratos = qualis_producao_df.Estrato.value_counts().sort_index()\n",
    "estratos"
   ]
  },
  {
   "cell_type": "code",
   "execution_count": null,
   "metadata": {},
   "outputs": [],
   "source": [
    "plot = estratos.plot('bar', title='Distribuição de artigos de periódico por estrato')\n",
    "\n",
    "for idx, value in enumerate(list(estratos)): \n",
    "    plot.annotate(value,(idx, value), xytext=(-8, 0), textcoords='offset points')"
   ]
  },
  {
   "cell_type": "markdown",
   "metadata": {},
   "source": [
    "14) Considerando os pesos dos artigos de cada estrato do índice restrito ({'A1': 1, 'A2': 0.85, 'B1': 0.70}), qual o índice restrito relativo de cada programa, considerando apenas os artigos em periódicos, e dividido pelo número de docentes permanentes (ordenado do maior para o menor)?\n"
   ]
  },
  {
   "cell_type": "code",
   "execution_count": null,
   "metadata": {},
   "outputs": [],
   "source": [
    "# Obtendo Periodicos por programa com seus Estratos\n",
    "q14_periodicos = producao_periodicos_df[['issn','ies_sigla']]\n",
    "q14_producao_qualis = pd.merge(q14_periodicos, qualis_df, left_on='issn', right_on='ISSN')\n",
    "q14_producao_qualis = q14_producao_qualis[['ies_sigla','ISSN','Estrato']]\n",
    "q14_producao_qualis = q14_producao_qualis.drop_duplicates( ['ISSN'] )\n",
    "q14_producao_qualis.head()"
   ]
  },
  {
   "cell_type": "code",
   "execution_count": null,
   "metadata": {},
   "outputs": [],
   "source": [
    "# Agrupando por programa e estrato\n",
    "q14_programa_estrato = q14_producao_qualis.groupby(['ies_sigla','Estrato'],).count().reset_index()\n",
    "q14_programa_estrato.columns = ['programa','estrato','periodicos']\n",
    "\n",
    "q14_programa_estrato.head()"
   ]
  },
  {
   "cell_type": "code",
   "execution_count": null,
   "metadata": {},
   "outputs": [],
   "source": [
    "# Funcao que aplica o calculo\n",
    "def fatorPonderado( row ):\n",
    "    periodicos = row['periodicos']\n",
    "    fator = fatorPonderado_peso_por_estratos[row['estrato']]\n",
    "    docentes = fatorPonderado_docentes_por_prograna[row['programa']]\n",
    "    return periodicos * fator / docentes"
   ]
  },
  {
   "cell_type": "code",
   "execution_count": null,
   "metadata": {},
   "outputs": [],
   "source": [
    "# Dict de docentes permantes por programa\n",
    "q14_docentes_permanentes_dict = dict(profs_permanentes )\n"
   ]
  },
  {
   "cell_type": "code",
   "execution_count": null,
   "metadata": {},
   "outputs": [],
   "source": [
    "# Dicionario de Pesos\n",
    "q14_pesos_dict = {'A1': 1.0, 'A2': 0.85, 'B1': 0.70, 'B2': 0.0, 'B3': 0.0, 'B4': 0.0, 'B5': 0.0, 'C ': 0.0}\n"
   ]
  },
  {
   "cell_type": "code",
   "execution_count": null,
   "metadata": {},
   "outputs": [],
   "source": [
    "# Calcula o DF ponderado\n",
    "fatorPonderado_peso_por_estratos = q14_pesos_dict\n",
    "fatorPonderado_docentes_por_prograna = q14_docentes_permanentes_dict\n",
    "\n",
    "q14_programa_ponderado = q14_programa_estrato.copy()\n",
    "q14_programa_ponderado['fator_ponderado'] = q14_programa_ponderado.apply( fatorPonderado , axis = 1)\n",
    "q14_programa_ponderado.drop( 'periodicos' , axis = 1 , inplace = True )\n",
    "q14_programa_ponderado.head()"
   ]
  },
  {
   "cell_type": "code",
   "execution_count": null,
   "metadata": {},
   "outputs": [],
   "source": [
    "# Funcao de plotar um grafico\n",
    "def multiPlotEstratos( df_ponderado ):\n",
    "    # Prepara o grafico\n",
    "    subDim = (2,5)\n",
    "    fig, axarr = plt.subplots( subDim[0], subDim[1], figsize=(16, 6) , sharey=True )\n",
    "    \n",
    "    fig.text(0.5, 0.04, 'Indice Restrito Relativo', ha='center' , fontsize=18)\n",
    "    fig.text(0.04, 0.5, 'Estrato', va='center', rotation='vertical', fontsize=18)\n",
    "    \n",
    "    # Obem fator maximo\n",
    "    xmax = max(df_ponderado.fator_ponderado)\n",
    "\n",
    "    # plota os sub graficos\n",
    "    row = 0\n",
    "    col = 0\n",
    "    for programa in df_ponderado.programa.unique():\n",
    "        # Filtra o DataSet\n",
    "        df_plot = df_ponderado[ df_ponderado.programa == programa ]\n",
    "        \n",
    "        # Define o titulo\n",
    "        axarr[row][col].set_title(programa)\n",
    "        \n",
    "        # Plota as Barras\n",
    "        sns.barplot(\n",
    "            y=\"estrato\",\n",
    "            x=\"fator_ponderado\",\n",
    "            data=df_plot,\n",
    "            palette= \"Set2\",\n",
    "            ax=axarr[row][col] )\n",
    "        \n",
    "        # Esconde Labels\n",
    "        axarr[row][col].set_xlabel(\"\")\n",
    "        axarr[row][col].set_ylabel(\"\")\n",
    "        \n",
    "        # Ajusta eixo X para ficar igual em todos\n",
    "        axarr[row][col].set_xlim([0,xmax+0.1])\n",
    "        \n",
    "        axarr[row][col].set_xlabel(\"\")\n",
    "        # Controle de posicao\n",
    "        col += 1\n",
    "        if col >= subDim[1]:\n",
    "            row += 1\n",
    "            col = 0\n",
    "            \n",
    "    plt.subplots_adjust(hspace=0.4)\n"
   ]
  },
  {
   "cell_type": "code",
   "execution_count": null,
   "metadata": {},
   "outputs": [],
   "source": [
    "multiPlotEstratos(q14_programa_ponderado)"
   ]
  },
  {
   "cell_type": "markdown",
   "metadata": {},
   "source": [
    "**15)** Considerando os pesos dos artigos de cada estrato do índice geral ({'A1': 1, 'A2': 0.85, 'B1': 0.70, 'B2': 0.50, 'B3': 0.20, 'B4': 0.10, 'B5': 0.05, 'C': 0.0}), qual o índice geral relativo de cada programa, considerando apenas os artigos em periódicos, e dividido pelo número de docentes permanentes (ordenado do maior para o menor)?"
   ]
  },
  {
   "cell_type": "code",
   "execution_count": null,
   "metadata": {},
   "outputs": [],
   "source": [
    "# Dicionario de Pesos\n",
    "q15_pesos = {'A1': 1.0, 'A2': 0.85, 'B1': 0.70, 'B2': 0.50, 'B3': 0.20, 'B4': 0.10, 'B5': 0.05, 'C ': 0.0}"
   ]
  },
  {
   "cell_type": "code",
   "execution_count": null,
   "metadata": {},
   "outputs": [],
   "source": [
    "# Calcula o DF ponderado\n",
    "fatorPonderado_peso_por_estratos = q15_pesos\n",
    "fatorPonderado_docentes_por_prograna = q14_docentes_permanentes_dict\n",
    "\n",
    "q15_programa_ponderado = q14_programa_estrato.copy()\n",
    "q15_programa_ponderado['fator_ponderado'] = q15_programa_ponderado.apply( fatorPonderado , axis = 1)\n",
    "q15_programa_ponderado.drop( 'periodicos' , axis = 1 , inplace = True )\n",
    "q15_programa_ponderado.head()"
   ]
  },
  {
   "cell_type": "code",
   "execution_count": null,
   "metadata": {},
   "outputs": [],
   "source": [
    "# Plota Resultados\n",
    "multiPlotEstratos(q15_programa_ponderado)"
   ]
  },
  {
   "cell_type": "markdown",
   "metadata": {},
   "source": [
    "**15) Extra 1)** Soma dos valores de cada estrado - já ponderado pelos pesos e docentes - por programa"
   ]
  },
  {
   "cell_type": "code",
   "execution_count": null,
   "metadata": {},
   "outputs": [],
   "source": [
    "q15e1_programa_ponderado = q15_programa_ponderado.groupby(['programa']).sum().reset_index()\n",
    "\n",
    "q15e1_programa_ponderado = q15e1_programa_ponderado.sort_values( ['fator_ponderado'] , ascending  = False )\n",
    "\n",
    "q15e1_programa_ponderado"
   ]
  },
  {
   "cell_type": "code",
   "execution_count": null,
   "metadata": {},
   "outputs": [],
   "source": [
    "# Plotando resultados\n",
    "subDim = (2,5)\n",
    "fig, ax = plt.subplots( figsize=(16, 6) )\n",
    "\n",
    "# Etiquetas nas barras\n",
    "for i, v in enumerate( q15e1_programa_ponderado.programa ):\n",
    "    ax.text( q15e1_programa_ponderado.iloc[i].fator_ponderado,\n",
    "            i, \n",
    "            \" {:.2f}\".format( q15e1_programa_ponderado.iloc[i].fator_ponderado ), \n",
    "            color='red', \n",
    "            fontweight='regular',\n",
    "            va='center',\n",
    "            ha='left',\n",
    "            )\n",
    "\n",
    "# Plota as Barras\n",
    "sns.barplot(\n",
    "    y=\"programa\",\n",
    "    x=\"fator_ponderado\",\n",
    "    data=q15e1_programa_ponderado,\n",
    "    palette= \"winter\",\n",
    "    ax=ax)\n",
    "\n"
   ]
  },
  {
   "cell_type": "code",
   "execution_count": null,
   "metadata": {},
   "outputs": [],
   "source": []
  }
 ],
 "metadata": {
  "kernelspec": {
   "display_name": "Python 3",
   "language": "python",
   "name": "python3"
  },
  "language_info": {
   "codemirror_mode": {
    "name": "ipython",
    "version": 3
   },
   "file_extension": ".py",
   "mimetype": "text/x-python",
   "name": "python",
   "nbconvert_exporter": "python",
   "pygments_lexer": "ipython3",
   "version": "3.6.4"
  }
 },
 "nbformat": 4,
 "nbformat_minor": 2
}
