{
 "cells": [
  {
   "cell_type": "code",
   "execution_count": 1,
   "metadata": {},
   "outputs": [],
   "source": [
    "# Rafael Augusto Gaseta França - 1421436\n",
    "# Pedro Ferreira Alves Pinto - 1320981"
   ]
  },
  {
   "cell_type": "markdown",
   "metadata": {},
   "source": [
    "### Questões a explorar:\n",
    "\n",
    "1. A diferença de horas trabalhadas entre americanos e não americanos é significativa?\n",
    "\n",
    "* A proporção entre a salarios abaixo e acima de 50k entre os sexos muda quando se considera tambem a raça?\n",
    "\n",
    "* Homens e mulheres apos o casamento, ou seja, divorciados, separados ou viuvos, trabalham mais do que os casados?\n",
    "Obs.: Exemplos de categorias: \"Homem - Separado\", \"Mulher - Casado\"\n",
    "\n",
    "* A proporção entre o nivel de escolaridade ( education ) e o salário se mantém constante através dos diferentes tipos de emprego ( empreendedor, empresa privada, governamental, etc )?"
   ]
  },
  {
   "cell_type": "code",
   "execution_count": 2,
   "metadata": {},
   "outputs": [],
   "source": [
    "import urllib\n",
    "import matplotlib\n",
    "import matplotlib.pyplot as plt\n",
    "\n",
    "%matplotlib inline"
   ]
  },
  {
   "cell_type": "code",
   "execution_count": 3,
   "metadata": {},
   "outputs": [
    {
     "name": "stdout",
     "output_type": "stream",
     "text": [
      "skipped data (error? blank line?): b'\\n'\n"
     ]
    }
   ],
   "source": [
    "\n",
    "\n",
    "# Data source:\n",
    "# https://archive.ics.uci.edu/ml/datasets/Adult\n",
    "\n",
    "url = 'https://archive.ics.uci.edu/ml/machine-learning-databases/adult/adult.data'\n",
    "\n",
    "data_raw=[]\n",
    "\n",
    "addedLines = 0\n",
    "skippedLines = 0\n",
    "\n",
    "for line in urllib.request.urlopen(url):\n",
    "    # from bytes-like object to string\n",
    "    lined = line.decode()\n",
    "    # separa cada linha em campos (separados por vírgula)\n",
    "    field_lst = str(lined).split(', ')\n",
    "    \n",
    "    # inclui no data frame se o número de atributos for o esperado\n",
    "    if len(field_lst)==15:\n",
    "        data_raw.append(field_lst[0:15])\n",
    "        addedLines += 1\n",
    "    else:\n",
    "        skippedLines += 1\n",
    "        print('skipped data (error? blank line?):', line)"
   ]
  },
  {
   "cell_type": "code",
   "execution_count": 4,
   "metadata": {},
   "outputs": [
    {
     "name": "stdout",
     "output_type": "stream",
     "text": [
      "Added Lines: 32561\n",
      "Skipped Lines: 1\n"
     ]
    }
   ],
   "source": [
    "print( \"Added Lines: \" + str(addedLines) )\n",
    "print( \"Skipped Lines: \" + str(skippedLines) )"
   ]
  },
  {
   "cell_type": "code",
   "execution_count": 5,
   "metadata": {},
   "outputs": [
    {
     "data": {
      "text/html": [
       "<div>\n",
       "<style scoped>\n",
       "    .dataframe tbody tr th:only-of-type {\n",
       "        vertical-align: middle;\n",
       "    }\n",
       "\n",
       "    .dataframe tbody tr th {\n",
       "        vertical-align: top;\n",
       "    }\n",
       "\n",
       "    .dataframe thead th {\n",
       "        text-align: right;\n",
       "    }\n",
       "</style>\n",
       "<table border=\"1\" class=\"dataframe\">\n",
       "  <thead>\n",
       "    <tr style=\"text-align: right;\">\n",
       "      <th></th>\n",
       "      <th>0</th>\n",
       "      <th>1</th>\n",
       "      <th>2</th>\n",
       "      <th>3</th>\n",
       "      <th>4</th>\n",
       "      <th>5</th>\n",
       "      <th>6</th>\n",
       "      <th>7</th>\n",
       "      <th>8</th>\n",
       "      <th>9</th>\n",
       "      <th>10</th>\n",
       "      <th>11</th>\n",
       "      <th>12</th>\n",
       "      <th>13</th>\n",
       "      <th>14</th>\n",
       "    </tr>\n",
       "  </thead>\n",
       "  <tbody>\n",
       "    <tr>\n",
       "      <th>0</th>\n",
       "      <td>39</td>\n",
       "      <td>State-gov</td>\n",
       "      <td>77516</td>\n",
       "      <td>Bachelors</td>\n",
       "      <td>13</td>\n",
       "      <td>Never-married</td>\n",
       "      <td>Adm-clerical</td>\n",
       "      <td>Not-in-family</td>\n",
       "      <td>White</td>\n",
       "      <td>Male</td>\n",
       "      <td>2174</td>\n",
       "      <td>0</td>\n",
       "      <td>40</td>\n",
       "      <td>United-States</td>\n",
       "      <td>&lt;=50K\\n</td>\n",
       "    </tr>\n",
       "    <tr>\n",
       "      <th>1</th>\n",
       "      <td>50</td>\n",
       "      <td>Self-emp-not-inc</td>\n",
       "      <td>83311</td>\n",
       "      <td>Bachelors</td>\n",
       "      <td>13</td>\n",
       "      <td>Married-civ-spouse</td>\n",
       "      <td>Exec-managerial</td>\n",
       "      <td>Husband</td>\n",
       "      <td>White</td>\n",
       "      <td>Male</td>\n",
       "      <td>0</td>\n",
       "      <td>0</td>\n",
       "      <td>13</td>\n",
       "      <td>United-States</td>\n",
       "      <td>&lt;=50K\\n</td>\n",
       "    </tr>\n",
       "    <tr>\n",
       "      <th>2</th>\n",
       "      <td>38</td>\n",
       "      <td>Private</td>\n",
       "      <td>215646</td>\n",
       "      <td>HS-grad</td>\n",
       "      <td>9</td>\n",
       "      <td>Divorced</td>\n",
       "      <td>Handlers-cleaners</td>\n",
       "      <td>Not-in-family</td>\n",
       "      <td>White</td>\n",
       "      <td>Male</td>\n",
       "      <td>0</td>\n",
       "      <td>0</td>\n",
       "      <td>40</td>\n",
       "      <td>United-States</td>\n",
       "      <td>&lt;=50K\\n</td>\n",
       "    </tr>\n",
       "    <tr>\n",
       "      <th>3</th>\n",
       "      <td>53</td>\n",
       "      <td>Private</td>\n",
       "      <td>234721</td>\n",
       "      <td>11th</td>\n",
       "      <td>7</td>\n",
       "      <td>Married-civ-spouse</td>\n",
       "      <td>Handlers-cleaners</td>\n",
       "      <td>Husband</td>\n",
       "      <td>Black</td>\n",
       "      <td>Male</td>\n",
       "      <td>0</td>\n",
       "      <td>0</td>\n",
       "      <td>40</td>\n",
       "      <td>United-States</td>\n",
       "      <td>&lt;=50K\\n</td>\n",
       "    </tr>\n",
       "    <tr>\n",
       "      <th>4</th>\n",
       "      <td>28</td>\n",
       "      <td>Private</td>\n",
       "      <td>338409</td>\n",
       "      <td>Bachelors</td>\n",
       "      <td>13</td>\n",
       "      <td>Married-civ-spouse</td>\n",
       "      <td>Prof-specialty</td>\n",
       "      <td>Wife</td>\n",
       "      <td>Black</td>\n",
       "      <td>Female</td>\n",
       "      <td>0</td>\n",
       "      <td>0</td>\n",
       "      <td>40</td>\n",
       "      <td>Cuba</td>\n",
       "      <td>&lt;=50K\\n</td>\n",
       "    </tr>\n",
       "  </tbody>\n",
       "</table>\n",
       "</div>"
      ],
      "text/plain": [
       "   0                 1       2          3   4                   5   \\\n",
       "0  39         State-gov   77516  Bachelors  13       Never-married   \n",
       "1  50  Self-emp-not-inc   83311  Bachelors  13  Married-civ-spouse   \n",
       "2  38           Private  215646    HS-grad   9            Divorced   \n",
       "3  53           Private  234721       11th   7  Married-civ-spouse   \n",
       "4  28           Private  338409  Bachelors  13  Married-civ-spouse   \n",
       "\n",
       "                  6              7      8       9     10 11  12  \\\n",
       "0       Adm-clerical  Not-in-family  White    Male  2174  0  40   \n",
       "1    Exec-managerial        Husband  White    Male     0  0  13   \n",
       "2  Handlers-cleaners  Not-in-family  White    Male     0  0  40   \n",
       "3  Handlers-cleaners        Husband  Black    Male     0  0  40   \n",
       "4     Prof-specialty           Wife  Black  Female     0  0  40   \n",
       "\n",
       "              13       14  \n",
       "0  United-States  <=50K\\n  \n",
       "1  United-States  <=50K\\n  \n",
       "2  United-States  <=50K\\n  \n",
       "3  United-States  <=50K\\n  \n",
       "4           Cuba  <=50K\\n  "
      ]
     },
     "execution_count": 5,
     "metadata": {},
     "output_type": "execute_result"
    }
   ],
   "source": [
    "# cria dataframe pandas com dados\n",
    "\n",
    "import pandas as pd\n",
    "df = pd.DataFrame(data_raw)\n",
    "df.head()"
   ]
  },
  {
   "cell_type": "code",
   "execution_count": 6,
   "metadata": {},
   "outputs": [
    {
     "data": {
      "text/plain": [
       "(32561, 15)"
      ]
     },
     "execution_count": 6,
     "metadata": {},
     "output_type": "execute_result"
    }
   ],
   "source": [
    "df.shape"
   ]
  },
  {
   "cell_type": "code",
   "execution_count": 7,
   "metadata": {},
   "outputs": [],
   "source": [
    "# define colunas conforme definição do data set\n",
    "\n",
    "df.columns = ['age', 'type_employer', 'fnlwgt', 'education', \n",
    "                \"education_num\",\"marital\", \"occupation\", \"relationship\", \"race\",\"sex\",\n",
    "                \"capital_gain\", \"capital_loss\", \"hr_per_week\",\"country\",\"income\"]"
   ]
  },
  {
   "cell_type": "code",
   "execution_count": 8,
   "metadata": {},
   "outputs": [
    {
     "data": {
      "text/html": [
       "<div>\n",
       "<style scoped>\n",
       "    .dataframe tbody tr th:only-of-type {\n",
       "        vertical-align: middle;\n",
       "    }\n",
       "\n",
       "    .dataframe tbody tr th {\n",
       "        vertical-align: top;\n",
       "    }\n",
       "\n",
       "    .dataframe thead th {\n",
       "        text-align: right;\n",
       "    }\n",
       "</style>\n",
       "<table border=\"1\" class=\"dataframe\">\n",
       "  <thead>\n",
       "    <tr style=\"text-align: right;\">\n",
       "      <th></th>\n",
       "      <th>age</th>\n",
       "      <th>type_employer</th>\n",
       "      <th>fnlwgt</th>\n",
       "      <th>education</th>\n",
       "      <th>education_num</th>\n",
       "      <th>marital</th>\n",
       "      <th>occupation</th>\n",
       "      <th>relationship</th>\n",
       "      <th>race</th>\n",
       "      <th>sex</th>\n",
       "      <th>capital_gain</th>\n",
       "      <th>capital_loss</th>\n",
       "      <th>hr_per_week</th>\n",
       "      <th>country</th>\n",
       "      <th>income</th>\n",
       "    </tr>\n",
       "  </thead>\n",
       "  <tbody>\n",
       "    <tr>\n",
       "      <th>0</th>\n",
       "      <td>39</td>\n",
       "      <td>State-gov</td>\n",
       "      <td>77516</td>\n",
       "      <td>Bachelors</td>\n",
       "      <td>13</td>\n",
       "      <td>Never-married</td>\n",
       "      <td>Adm-clerical</td>\n",
       "      <td>Not-in-family</td>\n",
       "      <td>White</td>\n",
       "      <td>Male</td>\n",
       "      <td>2174</td>\n",
       "      <td>0</td>\n",
       "      <td>40</td>\n",
       "      <td>United-States</td>\n",
       "      <td>&lt;=50K\\n</td>\n",
       "    </tr>\n",
       "    <tr>\n",
       "      <th>1</th>\n",
       "      <td>50</td>\n",
       "      <td>Self-emp-not-inc</td>\n",
       "      <td>83311</td>\n",
       "      <td>Bachelors</td>\n",
       "      <td>13</td>\n",
       "      <td>Married-civ-spouse</td>\n",
       "      <td>Exec-managerial</td>\n",
       "      <td>Husband</td>\n",
       "      <td>White</td>\n",
       "      <td>Male</td>\n",
       "      <td>0</td>\n",
       "      <td>0</td>\n",
       "      <td>13</td>\n",
       "      <td>United-States</td>\n",
       "      <td>&lt;=50K\\n</td>\n",
       "    </tr>\n",
       "    <tr>\n",
       "      <th>2</th>\n",
       "      <td>38</td>\n",
       "      <td>Private</td>\n",
       "      <td>215646</td>\n",
       "      <td>HS-grad</td>\n",
       "      <td>9</td>\n",
       "      <td>Divorced</td>\n",
       "      <td>Handlers-cleaners</td>\n",
       "      <td>Not-in-family</td>\n",
       "      <td>White</td>\n",
       "      <td>Male</td>\n",
       "      <td>0</td>\n",
       "      <td>0</td>\n",
       "      <td>40</td>\n",
       "      <td>United-States</td>\n",
       "      <td>&lt;=50K\\n</td>\n",
       "    </tr>\n",
       "    <tr>\n",
       "      <th>3</th>\n",
       "      <td>53</td>\n",
       "      <td>Private</td>\n",
       "      <td>234721</td>\n",
       "      <td>11th</td>\n",
       "      <td>7</td>\n",
       "      <td>Married-civ-spouse</td>\n",
       "      <td>Handlers-cleaners</td>\n",
       "      <td>Husband</td>\n",
       "      <td>Black</td>\n",
       "      <td>Male</td>\n",
       "      <td>0</td>\n",
       "      <td>0</td>\n",
       "      <td>40</td>\n",
       "      <td>United-States</td>\n",
       "      <td>&lt;=50K\\n</td>\n",
       "    </tr>\n",
       "    <tr>\n",
       "      <th>4</th>\n",
       "      <td>28</td>\n",
       "      <td>Private</td>\n",
       "      <td>338409</td>\n",
       "      <td>Bachelors</td>\n",
       "      <td>13</td>\n",
       "      <td>Married-civ-spouse</td>\n",
       "      <td>Prof-specialty</td>\n",
       "      <td>Wife</td>\n",
       "      <td>Black</td>\n",
       "      <td>Female</td>\n",
       "      <td>0</td>\n",
       "      <td>0</td>\n",
       "      <td>40</td>\n",
       "      <td>Cuba</td>\n",
       "      <td>&lt;=50K\\n</td>\n",
       "    </tr>\n",
       "  </tbody>\n",
       "</table>\n",
       "</div>"
      ],
      "text/plain": [
       "   age     type_employer  fnlwgt  education  education_num  \\\n",
       "0   39         State-gov   77516  Bachelors             13   \n",
       "1   50  Self-emp-not-inc   83311  Bachelors             13   \n",
       "2   38           Private  215646    HS-grad              9   \n",
       "3   53           Private  234721       11th              7   \n",
       "4   28           Private  338409  Bachelors             13   \n",
       "\n",
       "              marital         occupation   relationship   race     sex  \\\n",
       "0       Never-married       Adm-clerical  Not-in-family  White    Male   \n",
       "1  Married-civ-spouse    Exec-managerial        Husband  White    Male   \n",
       "2            Divorced  Handlers-cleaners  Not-in-family  White    Male   \n",
       "3  Married-civ-spouse  Handlers-cleaners        Husband  Black    Male   \n",
       "4  Married-civ-spouse     Prof-specialty           Wife  Black  Female   \n",
       "\n",
       "   capital_gain  capital_loss  hr_per_week        country   income  \n",
       "0          2174             0           40  United-States  <=50K\\n  \n",
       "1             0             0           13  United-States  <=50K\\n  \n",
       "2             0             0           40  United-States  <=50K\\n  \n",
       "3             0             0           40  United-States  <=50K\\n  \n",
       "4             0             0           40           Cuba  <=50K\\n  "
      ]
     },
     "execution_count": 8,
     "metadata": {},
     "output_type": "execute_result"
    }
   ],
   "source": [
    "# ajusta os tipos das colunas numéricas\n",
    "\n",
    "def str_to_int(c):\n",
    "    if isinstance(c, int):\n",
    "        return c\n",
    "    else:\n",
    "        try:\n",
    "            return int(c)\n",
    "        except:\n",
    "            return None\n",
    "  \n",
    "\n",
    "df.age = df.age.apply(str_to_int)\n",
    "df.fnlwgt = df.fnlwgt.apply(str_to_int)\n",
    "df.education_num = df.education_num.apply(str_to_int)\n",
    "df.capital_gain = df.capital_gain.apply(str_to_int)\n",
    "df.capital_loss = df.capital_loss.apply(str_to_int)\n",
    "df.hr_per_week = df.hr_per_week.apply(str_to_int)\n",
    "df.head()"
   ]
  },
  {
   "cell_type": "code",
   "execution_count": 9,
   "metadata": {},
   "outputs": [
    {
     "name": "stdout",
     "output_type": "stream",
     "text": [
      "<class 'pandas.core.frame.DataFrame'>\n",
      "RangeIndex: 32561 entries, 0 to 32560\n",
      "Data columns (total 15 columns):\n",
      "age              32561 non-null int64\n",
      "type_employer    32561 non-null object\n",
      "fnlwgt           32561 non-null int64\n",
      "education        32561 non-null object\n",
      "education_num    32561 non-null int64\n",
      "marital          32561 non-null object\n",
      "occupation       32561 non-null object\n",
      "relationship     32561 non-null object\n",
      "race             32561 non-null object\n",
      "sex              32561 non-null object\n",
      "capital_gain     32561 non-null int64\n",
      "capital_loss     32561 non-null int64\n",
      "hr_per_week      32561 non-null int64\n",
      "country          32561 non-null object\n",
      "income           32561 non-null object\n",
      "dtypes: int64(6), object(9)\n",
      "memory usage: 3.7+ MB\n"
     ]
    },
    {
     "data": {
      "text/plain": [
       "(None,\n",
       "                 age        fnlwgt  education_num  capital_gain  capital_loss  \\\n",
       " count  32561.000000  3.256100e+04   32561.000000  32561.000000  32561.000000   \n",
       " mean      38.581647  1.897784e+05      10.080679   1077.648844     87.303830   \n",
       " std       13.640433  1.055500e+05       2.572720   7385.292085    402.960219   \n",
       " min       17.000000  1.228500e+04       1.000000      0.000000      0.000000   \n",
       " 25%       28.000000  1.178270e+05       9.000000      0.000000      0.000000   \n",
       " 50%       37.000000  1.783560e+05      10.000000      0.000000      0.000000   \n",
       " 75%       48.000000  2.370510e+05      12.000000      0.000000      0.000000   \n",
       " max       90.000000  1.484705e+06      16.000000  99999.000000   4356.000000   \n",
       " \n",
       "         hr_per_week  \n",
       " count  32561.000000  \n",
       " mean      40.437456  \n",
       " std       12.347429  \n",
       " min        1.000000  \n",
       " 25%       40.000000  \n",
       " 50%       40.000000  \n",
       " 75%       45.000000  \n",
       " max       99.000000  )"
      ]
     },
     "execution_count": 9,
     "metadata": {},
     "output_type": "execute_result"
    }
   ],
   "source": [
    "df.info(), df.describe()"
   ]
  },
  {
   "cell_type": "code",
   "execution_count": 10,
   "metadata": {},
   "outputs": [],
   "source": [
    "# Questao 1.1 - Criando nova coluna que classifica o pais entre \"United-States\", \"Developed\" e \"Developing\"\n",
    "\n",
    "def countryFilter_A( row ):\n",
    "    if row['country'] == \"United-States\":\n",
    "        return \"United-States\"\n",
    "    \n",
    "    if row['country'] == \"Canada\" or \\\n",
    "        row['country'] == \"England\" or \\\n",
    "        row['country'] == \"France\" or \\\n",
    "        row['country'] == \"Germany\" or \\\n",
    "        row['country'] == \"Greece\" or \\\n",
    "        row['country'] == \"Holand-Netherlands\" or \\\n",
    "        row['country'] == \"Ireland\" or \\\n",
    "        row['country'] == \"Italy\" or \\\n",
    "        row['country'] == \"Japan\" or \\\n",
    "        row['country'] == \"Outlying-US(Guam-USVI-etc)\" or \\\n",
    "        row['country'] == \"Portugal\":\n",
    "        return \"Developed\"\n",
    "    \n",
    "    else:\n",
    "        return \"Developing\"\n",
    "        \n",
    "\n",
    "df['country_type'] = df.apply (lambda row: countryFilter_A (row),axis=1)\n"
   ]
  },
  {
   "cell_type": "code",
   "execution_count": 11,
   "metadata": {},
   "outputs": [
    {
     "data": {
      "text/plain": [
       "country_type\n",
       "Developed          617\n",
       "Developing        2774\n",
       "United-States    29170\n",
       "dtype: int64"
      ]
     },
     "execution_count": 11,
     "metadata": {},
     "output_type": "execute_result"
    }
   ],
   "source": [
    "# Checando quantidades\n",
    "\n",
    "df_hours_per_week_country = df.groupby('country_type').size()\n",
    "df_hours_per_week_country"
   ]
  },
  {
   "cell_type": "code",
   "execution_count": 12,
   "metadata": {},
   "outputs": [],
   "source": [
    "# Questao 1.2 - Sub Data Frames para plotagem\n",
    "\n",
    "df_hrs_per_week_unitedstates = df[df.country_type == 'United-States']\n",
    "df_hrs_per_week_developing = df[df.country_type == 'Developing']\n",
    "df_hrs_per_week_developed = df[df.country_type == 'Developed']"
   ]
  },
  {
   "cell_type": "code",
   "execution_count": 13,
   "metadata": {},
   "outputs": [
    {
     "data": {
      "image/png": "[encoded data removed]",
      "text/plain": [
       "<matplotlib.figure.Figure at 0x7f744bd46a20>"
      ]
     },
     "metadata": {},
     "output_type": "display_data"
    }
   ],
   "source": [
    "# Questao 1.3 - Box Plot\n",
    "\n",
    "fig, ax = plt.subplots(figsize=(10,6))\n",
    "\n",
    "boxPlot_hours_country = ax.boxplot([df_hrs_per_week_unitedstates.hr_per_week.values , \n",
    "           df_hrs_per_week_developing.hr_per_week.values,\n",
    "           df_hrs_per_week_developed.hr_per_week.values ], \n",
    "           widths=0.5,\n",
    "           sym='gD',\n",
    "           labels=['United-States', 'Developing', 'Developed'],\n",
    "           vert=False)\n",
    "\n",
    "plt.setp(boxPlot_hours_country['fliers'],   markersize=3, markeredgecolor='#ff0000', alpha=0.2)\n",
    "plt.setp(boxPlot_hours_country['caps'],     color='#4466CC')\n",
    "plt.setp(boxPlot_hours_country['boxes'],    color='#4466CC')\n",
    "plt.setp(boxPlot_hours_country['whiskers'], color='#4466CC')\n",
    "plt.setp(boxPlot_hours_country['medians'], color='#ffb200', linestyle='-',linewidth=2.5 )\n",
    "\n",
    "\n",
    "\n",
    "ax.set_title('Work hours per week X Country of origin')\n",
    "\n",
    "pass\n"
   ]
  },
  {
   "cell_type": "code",
   "execution_count": 14,
   "metadata": {},
   "outputs": [
    {
     "data": {
      "text/html": [
       "<div>\n",
       "<style scoped>\n",
       "    .dataframe tbody tr th:only-of-type {\n",
       "        vertical-align: middle;\n",
       "    }\n",
       "\n",
       "    .dataframe tbody tr th {\n",
       "        vertical-align: top;\n",
       "    }\n",
       "\n",
       "    .dataframe thead tr th {\n",
       "        text-align: left;\n",
       "    }\n",
       "\n",
       "    .dataframe thead tr:last-of-type th {\n",
       "        text-align: right;\n",
       "    }\n",
       "</style>\n",
       "<table border=\"1\" class=\"dataframe\">\n",
       "  <thead>\n",
       "    <tr>\n",
       "      <th></th>\n",
       "      <th colspan=\"2\" halign=\"left\">hr_per_week</th>\n",
       "    </tr>\n",
       "    <tr>\n",
       "      <th></th>\n",
       "      <th>count</th>\n",
       "      <th>mean</th>\n",
       "    </tr>\n",
       "    <tr>\n",
       "      <th>country_type</th>\n",
       "      <th></th>\n",
       "      <th></th>\n",
       "    </tr>\n",
       "  </thead>\n",
       "  <tbody>\n",
       "    <tr>\n",
       "      <th>Developed</th>\n",
       "      <td>617</td>\n",
       "      <td>41.820097</td>\n",
       "    </tr>\n",
       "    <tr>\n",
       "      <th>Developing</th>\n",
       "      <td>2774</td>\n",
       "      <td>40.021629</td>\n",
       "    </tr>\n",
       "    <tr>\n",
       "      <th>United-States</th>\n",
       "      <td>29170</td>\n",
       "      <td>40.447755</td>\n",
       "    </tr>\n",
       "  </tbody>\n",
       "</table>\n",
       "</div>"
      ],
      "text/plain": [
       "              hr_per_week           \n",
       "                    count       mean\n",
       "country_type                        \n",
       "Developed             617  41.820097\n",
       "Developing           2774  40.021629\n",
       "United-States       29170  40.447755"
      ]
     },
     "execution_count": 14,
     "metadata": {},
     "output_type": "execute_result"
    }
   ],
   "source": [
    "# Questao 1.4 - Metricas \n",
    "\n",
    "df_hours_per_week_country = df.groupby('country_type').agg( {'hr_per_week':['count','mean'] } )\n",
    "df_hours_per_week_country\n"
   ]
  },
  {
   "cell_type": "markdown",
   "metadata": {},
   "source": [
    "### Questão 1, Conclusão\n",
    "\n",
    "**Questão**: A diferença de horas trabalhadas entre americanos e não americanos é significativa?\n",
    "\n",
    "**Conclusão**: A diferença da média das horas trabalhadas é muito baixa, tendendo ligeiramente para cima nos estrangeiros. A variação na quantidade de horas trabalhadas dos estrangeiros é maior, mas vale ressaltar que a quantidade de dados presentes para estrangeiros também é menor."
   ]
  },
  {
   "cell_type": "code",
   "execution_count": 15,
   "metadata": {},
   "outputs": [
    {
     "data": {
      "text/html": [
       "<div>\n",
       "<style scoped>\n",
       "    .dataframe tbody tr th:only-of-type {\n",
       "        vertical-align: middle;\n",
       "    }\n",
       "\n",
       "    .dataframe tbody tr th {\n",
       "        vertical-align: top;\n",
       "    }\n",
       "\n",
       "    .dataframe thead th {\n",
       "        text-align: right;\n",
       "    }\n",
       "</style>\n",
       "<table border=\"1\" class=\"dataframe\">\n",
       "  <thead>\n",
       "    <tr style=\"text-align: right;\">\n",
       "      <th></th>\n",
       "      <th>income</th>\n",
       "      <th>&lt;=50K</th>\n",
       "      <th>&gt;50K</th>\n",
       "    </tr>\n",
       "    <tr>\n",
       "      <th>race</th>\n",
       "      <th>sex</th>\n",
       "      <th></th>\n",
       "      <th></th>\n",
       "    </tr>\n",
       "  </thead>\n",
       "  <tbody>\n",
       "    <tr>\n",
       "      <th rowspan=\"2\" valign=\"top\">Amer-Indian-Eskimo</th>\n",
       "      <th>Female</th>\n",
       "      <td>107</td>\n",
       "      <td>12</td>\n",
       "    </tr>\n",
       "    <tr>\n",
       "      <th>Male</th>\n",
       "      <td>168</td>\n",
       "      <td>24</td>\n",
       "    </tr>\n",
       "    <tr>\n",
       "      <th rowspan=\"2\" valign=\"top\">Asian-Pac-Islander</th>\n",
       "      <th>Female</th>\n",
       "      <td>303</td>\n",
       "      <td>43</td>\n",
       "    </tr>\n",
       "    <tr>\n",
       "      <th>Male</th>\n",
       "      <td>460</td>\n",
       "      <td>233</td>\n",
       "    </tr>\n",
       "    <tr>\n",
       "      <th rowspan=\"2\" valign=\"top\">Black</th>\n",
       "      <th>Female</th>\n",
       "      <td>1465</td>\n",
       "      <td>90</td>\n",
       "    </tr>\n",
       "    <tr>\n",
       "      <th>Male</th>\n",
       "      <td>1272</td>\n",
       "      <td>297</td>\n",
       "    </tr>\n",
       "    <tr>\n",
       "      <th rowspan=\"2\" valign=\"top\">Other</th>\n",
       "      <th>Female</th>\n",
       "      <td>103</td>\n",
       "      <td>6</td>\n",
       "    </tr>\n",
       "    <tr>\n",
       "      <th>Male</th>\n",
       "      <td>143</td>\n",
       "      <td>19</td>\n",
       "    </tr>\n",
       "    <tr>\n",
       "      <th rowspan=\"2\" valign=\"top\">White</th>\n",
       "      <th>Female</th>\n",
       "      <td>7614</td>\n",
       "      <td>1028</td>\n",
       "    </tr>\n",
       "    <tr>\n",
       "      <th>Male</th>\n",
       "      <td>13085</td>\n",
       "      <td>6089</td>\n",
       "    </tr>\n",
       "  </tbody>\n",
       "</table>\n",
       "</div>"
      ],
      "text/plain": [
       "income                     <=50K\\n  >50K\\n\n",
       "race               sex                    \n",
       "Amer-Indian-Eskimo Female      107      12\n",
       "                   Male        168      24\n",
       "Asian-Pac-Islander Female      303      43\n",
       "                   Male        460     233\n",
       "Black              Female     1465      90\n",
       "                   Male       1272     297\n",
       "Other              Female      103       6\n",
       "                   Male        143      19\n",
       "White              Female     7614    1028\n",
       "                   Male      13085    6089"
      ]
     },
     "execution_count": 15,
     "metadata": {},
     "output_type": "execute_result"
    }
   ],
   "source": [
    "# Questao 2.1 - Preparando Dados\n",
    "\n",
    "df_sex_race_income = df.groupby(['race','sex','income']).size()\n",
    "df_sex_race_income = df_sex_race_income.unstack(['income' ]).fillna(0)\n",
    "df_sex_race_income\n"
   ]
  },
  {
   "cell_type": "code",
   "execution_count": 16,
   "metadata": {},
   "outputs": [
    {
     "data": {
      "text/html": [
       "<div>\n",
       "<style scoped>\n",
       "    .dataframe tbody tr th:only-of-type {\n",
       "        vertical-align: middle;\n",
       "    }\n",
       "\n",
       "    .dataframe tbody tr th {\n",
       "        vertical-align: top;\n",
       "    }\n",
       "\n",
       "    .dataframe thead th {\n",
       "        text-align: right;\n",
       "    }\n",
       "</style>\n",
       "<table border=\"1\" class=\"dataframe\">\n",
       "  <thead>\n",
       "    <tr style=\"text-align: right;\">\n",
       "      <th></th>\n",
       "      <th>income</th>\n",
       "      <th>&lt;= 50k factor</th>\n",
       "      <th>&gt; 50k factor</th>\n",
       "    </tr>\n",
       "    <tr>\n",
       "      <th>race</th>\n",
       "      <th>sex</th>\n",
       "      <th></th>\n",
       "      <th></th>\n",
       "    </tr>\n",
       "  </thead>\n",
       "  <tbody>\n",
       "    <tr>\n",
       "      <th rowspan=\"2\" valign=\"top\">Amer-Indian-Eskimo</th>\n",
       "      <th>Female</th>\n",
       "      <td>89.915966</td>\n",
       "      <td>10.084034</td>\n",
       "    </tr>\n",
       "    <tr>\n",
       "      <th>Male</th>\n",
       "      <td>87.500000</td>\n",
       "      <td>12.500000</td>\n",
       "    </tr>\n",
       "    <tr>\n",
       "      <th rowspan=\"2\" valign=\"top\">Asian-Pac-Islander</th>\n",
       "      <th>Female</th>\n",
       "      <td>87.572254</td>\n",
       "      <td>12.427746</td>\n",
       "    </tr>\n",
       "    <tr>\n",
       "      <th>Male</th>\n",
       "      <td>66.378066</td>\n",
       "      <td>33.621934</td>\n",
       "    </tr>\n",
       "    <tr>\n",
       "      <th rowspan=\"2\" valign=\"top\">Black</th>\n",
       "      <th>Female</th>\n",
       "      <td>94.212219</td>\n",
       "      <td>5.787781</td>\n",
       "    </tr>\n",
       "    <tr>\n",
       "      <th>Male</th>\n",
       "      <td>81.070746</td>\n",
       "      <td>18.929254</td>\n",
       "    </tr>\n",
       "    <tr>\n",
       "      <th rowspan=\"2\" valign=\"top\">Other</th>\n",
       "      <th>Female</th>\n",
       "      <td>94.495413</td>\n",
       "      <td>5.504587</td>\n",
       "    </tr>\n",
       "    <tr>\n",
       "      <th>Male</th>\n",
       "      <td>88.271605</td>\n",
       "      <td>11.728395</td>\n",
       "    </tr>\n",
       "    <tr>\n",
       "      <th rowspan=\"2\" valign=\"top\">White</th>\n",
       "      <th>Female</th>\n",
       "      <td>88.104605</td>\n",
       "      <td>11.895395</td>\n",
       "    </tr>\n",
       "    <tr>\n",
       "      <th>Male</th>\n",
       "      <td>68.243455</td>\n",
       "      <td>31.756545</td>\n",
       "    </tr>\n",
       "  </tbody>\n",
       "</table>\n",
       "</div>"
      ],
      "text/plain": [
       "income                     <= 50k factor  > 50k factor\n",
       "race               sex                                \n",
       "Amer-Indian-Eskimo Female      89.915966     10.084034\n",
       "                   Male        87.500000     12.500000\n",
       "Asian-Pac-Islander Female      87.572254     12.427746\n",
       "                   Male        66.378066     33.621934\n",
       "Black              Female      94.212219      5.787781\n",
       "                   Male        81.070746     18.929254\n",
       "Other              Female      94.495413      5.504587\n",
       "                   Male        88.271605     11.728395\n",
       "White              Female      88.104605     11.895395\n",
       "                   Male        68.243455     31.756545"
      ]
     },
     "execution_count": 16,
     "metadata": {},
     "output_type": "execute_result"
    }
   ],
   "source": [
    "# Questao 2.2 - Calculando proporcoes\n",
    "\n",
    "def incomeProportion_A1( row ):\n",
    "    return 100 * row['<=50K\\n'] / ( row['<=50K\\n'] + row['>50K\\n'] )\n",
    "\n",
    "def incomeProportion_A2( row ):\n",
    "    return 100 * row['>50K\\n'] / ( row['<=50K\\n'] + row['>50K\\n'] )\n",
    "\n",
    "\n",
    "df_sex_race_income['<= 50k factor'] = df_sex_race_income.apply (lambda row: incomeProportion_A1 (row),axis=1)\n",
    "df_sex_race_income['> 50k factor'] = df_sex_race_income.apply (lambda row: incomeProportion_A2 (row),axis=1)\n",
    "\n",
    "df_sex_race_income = df_sex_race_income.drop(['<=50K\\n', '>50K\\n'], axis=1)\n",
    "\n",
    "df_sex_race_income\n"
   ]
  },
  {
   "cell_type": "code",
   "execution_count": 17,
   "metadata": {},
   "outputs": [
    {
     "data": {
      "text/plain": [
       "<matplotlib.axes._subplots.AxesSubplot at 0x7f744bd86240>"
      ]
     },
     "execution_count": 17,
     "metadata": {},
     "output_type": "execute_result"
    },
    {
     "data": {
      "image/png": "[encoded data removed]",
      "text/plain": [
       "<matplotlib.figure.Figure at 0x7f744bd2da90>"
      ]
     },
     "metadata": {},
     "output_type": "display_data"
    }
   ],
   "source": [
    "# Questao 2.2 - Calculando proporcoes\n",
    "\n",
    "df_sex_race_income.plot(kind='barh', stacked=True)"
   ]
  },
  {
   "cell_type": "markdown",
   "metadata": {},
   "source": [
    "### Questão 2, Conclusão\n",
    "\n",
    "**Questão**: A proporção entre a salarios abaixo e acima de 50k entre os sexos muda quando se considera tambem a raça?\n",
    "\n",
    "Esboço: No geral, mulheres possuem uma renda menor do que dos homens. Essa fator é agravado ainda mais por por acumulação quando consideramos o fator raciais, onde podemos observar que negros no geral ganham menos, e mulheres negras ganham menos do que mulheres brancas."
   ]
  },
  {
   "cell_type": "code",
   "execution_count": 34,
   "metadata": {},
   "outputs": [
    {
     "data": {
      "text/html": [
       "<div>\n",
       "<style scoped>\n",
       "    .dataframe tbody tr th:only-of-type {\n",
       "        vertical-align: middle;\n",
       "    }\n",
       "\n",
       "    .dataframe tbody tr th {\n",
       "        vertical-align: top;\n",
       "    }\n",
       "\n",
       "    .dataframe thead th {\n",
       "        text-align: right;\n",
       "    }\n",
       "</style>\n",
       "<table border=\"1\" class=\"dataframe\">\n",
       "  <thead>\n",
       "    <tr style=\"text-align: right;\">\n",
       "      <th></th>\n",
       "      <th>marital</th>\n",
       "      <th>sex</th>\n",
       "      <th>hr_per_week</th>\n",
       "    </tr>\n",
       "  </thead>\n",
       "  <tbody>\n",
       "    <tr>\n",
       "      <th>0</th>\n",
       "      <td>Never-married</td>\n",
       "      <td>Male</td>\n",
       "      <td>40</td>\n",
       "    </tr>\n",
       "    <tr>\n",
       "      <th>1</th>\n",
       "      <td>Married-civ-spouse</td>\n",
       "      <td>Male</td>\n",
       "      <td>13</td>\n",
       "    </tr>\n",
       "    <tr>\n",
       "      <th>2</th>\n",
       "      <td>Divorced</td>\n",
       "      <td>Male</td>\n",
       "      <td>40</td>\n",
       "    </tr>\n",
       "    <tr>\n",
       "      <th>3</th>\n",
       "      <td>Married-civ-spouse</td>\n",
       "      <td>Male</td>\n",
       "      <td>40</td>\n",
       "    </tr>\n",
       "    <tr>\n",
       "      <th>4</th>\n",
       "      <td>Married-civ-spouse</td>\n",
       "      <td>Female</td>\n",
       "      <td>40</td>\n",
       "    </tr>\n",
       "  </tbody>\n",
       "</table>\n",
       "</div>"
      ],
      "text/plain": [
       "              marital     sex  hr_per_week\n",
       "0       Never-married    Male           40\n",
       "1  Married-civ-spouse    Male           13\n",
       "2            Divorced    Male           40\n",
       "3  Married-civ-spouse    Male           40\n",
       "4  Married-civ-spouse  Female           40"
      ]
     },
     "execution_count": 34,
     "metadata": {},
     "output_type": "execute_result"
    }
   ],
   "source": [
    "# Questao 3\n",
    "\n",
    "df_marital = df[['marital','sex', 'hr_per_week']]\n",
    "df_marital.head()"
   ]
  },
  {
   "cell_type": "code",
   "execution_count": 35,
   "metadata": {},
   "outputs": [
    {
     "data": {
      "text/plain": [
       "(32561, 3)"
      ]
     },
     "execution_count": 35,
     "metadata": {},
     "output_type": "execute_result"
    }
   ],
   "source": [
    "df_marital.shape"
   ]
  },
  {
   "cell_type": "code",
   "execution_count": 36,
   "metadata": {},
   "outputs": [
    {
     "data": {
      "text/plain": [
       "(21878, 3)"
      ]
     },
     "execution_count": 36,
     "metadata": {},
     "output_type": "execute_result"
    }
   ],
   "source": [
    "df_marital = df_marital[df_marital['marital'] != 'Never-married']\n",
    "df_marital.shape"
   ]
  },
  {
   "cell_type": "code",
   "execution_count": 39,
   "metadata": {},
   "outputs": [
    {
     "name": "stderr",
     "output_type": "stream",
     "text": [
      "/home/pedalv/miniconda3/envs/jupyter/lib/python3.6/site-packages/pandas/core/indexing.py:194: SettingWithCopyWarning: \n",
      "A value is trying to be set on a copy of a slice from a DataFrame\n",
      "\n",
      "See the caveats in the documentation: http://pandas.pydata.org/pandas-docs/stable/indexing.html#indexing-view-versus-copy\n",
      "  self._setitem_with_indexer(indexer, value)\n"
     ]
    },
    {
     "data": {
      "text/html": [
       "<div>\n",
       "<style scoped>\n",
       "    .dataframe tbody tr th:only-of-type {\n",
       "        vertical-align: middle;\n",
       "    }\n",
       "\n",
       "    .dataframe tbody tr th {\n",
       "        vertical-align: top;\n",
       "    }\n",
       "\n",
       "    .dataframe thead th {\n",
       "        text-align: right;\n",
       "    }\n",
       "</style>\n",
       "<table border=\"1\" class=\"dataframe\">\n",
       "  <thead>\n",
       "    <tr style=\"text-align: right;\">\n",
       "      <th></th>\n",
       "      <th>marital</th>\n",
       "      <th>sex</th>\n",
       "      <th>hr_per_week</th>\n",
       "    </tr>\n",
       "  </thead>\n",
       "  <tbody>\n",
       "    <tr>\n",
       "      <th>1</th>\n",
       "      <td>married</td>\n",
       "      <td>Male</td>\n",
       "      <td>13</td>\n",
       "    </tr>\n",
       "    <tr>\n",
       "      <th>2</th>\n",
       "      <td>pos-married</td>\n",
       "      <td>Male</td>\n",
       "      <td>40</td>\n",
       "    </tr>\n",
       "    <tr>\n",
       "      <th>3</th>\n",
       "      <td>married</td>\n",
       "      <td>Male</td>\n",
       "      <td>40</td>\n",
       "    </tr>\n",
       "    <tr>\n",
       "      <th>4</th>\n",
       "      <td>married</td>\n",
       "      <td>Female</td>\n",
       "      <td>40</td>\n",
       "    </tr>\n",
       "    <tr>\n",
       "      <th>5</th>\n",
       "      <td>married</td>\n",
       "      <td>Female</td>\n",
       "      <td>40</td>\n",
       "    </tr>\n",
       "  </tbody>\n",
       "</table>\n",
       "</div>"
      ],
      "text/plain": [
       "       marital     sex  hr_per_week\n",
       "1      married    Male           13\n",
       "2  pos-married    Male           40\n",
       "3      married    Male           40\n",
       "4      married  Female           40\n",
       "5      married  Female           40"
      ]
     },
     "execution_count": 39,
     "metadata": {},
     "output_type": "execute_result"
    }
   ],
   "source": [
    "df_marital['marital'].loc[df_marital['marital'].isin(\n",
    "    ['Married-AF-spouse', 'Married-civ-spouse', 'Married-spouse-absent'])] = 'married'\n",
    "df_marital['marital'].loc[df_marital['marital'] != 'married'] = 'pos-married'\n",
    "df_marital.head()"
   ]
  },
  {
   "cell_type": "code",
   "execution_count": 85,
   "metadata": {},
   "outputs": [],
   "source": [
    "df_married = df_marital[df_marital.marital == 'married']\n",
    "df_pos_married = df_marital[df_marital.marital == 'pos-married']\n",
    "df_married_men = df_married[df_married.sex == 'Male']\n",
    "df_not_married_men = df_pos_married[df_pos_married.sex == 'Male']\n",
    "df_married_women = df_married[df_married.sex == 'Female']\n",
    "df_not_married_women = df_pos_married[df_pos_married.sex == 'Female']"
   ]
  },
  {
   "cell_type": "code",
   "execution_count": 87,
   "metadata": {},
   "outputs": [
    {
     "data": {
      "image/png": "[encoded data removed]",
      "text/plain": [
       "<matplotlib.figure.Figure at 0x7f7417a920f0>"
      ]
     },
     "metadata": {},
     "output_type": "display_data"
    }
   ],
   "source": [
    "fig, ax = plt.subplots(figsize=(10,6))\n",
    "\n",
    "boxPlot_hours_marital = ax.boxplot([\n",
    "    df_married_men.hr_per_week.values, \n",
    "    df_not_married_men.hr_per_week.values,\n",
    "    df_married_women.hr_per_week.values, \n",
    "    df_not_married_women.hr_per_week.values\n",
    "], \n",
    "    widths=0.5,\n",
    "    sym='gD',\n",
    "    labels=['Married Men', 'Pos-Married Men', 'Married Women', 'Pos-Married Women'],\n",
    "    vert=False\n",
    ")\n",
    "\n",
    "plt.setp(boxPlot_hours_marital['fliers'],   markersize=3, markeredgecolor='#ff0000', alpha=0.2)\n",
    "plt.setp(boxPlot_hours_marital['caps'],     color='#4466CC')\n",
    "plt.setp(boxPlot_hours_marital['boxes'],    color='#4466CC')\n",
    "plt.setp(boxPlot_hours_marital['whiskers'], color='#4466CC')\n",
    "plt.setp(boxPlot_hours_marital['medians'], color='#ffb200', linestyle='-',linewidth=2.5 )\n",
    "\n",
    "ax.set_title('Work hours per week X Marital')\n",
    "\n",
    "plt.show()"
   ]
  },
  {
   "cell_type": "code",
   "execution_count": null,
   "metadata": {},
   "outputs": [],
   "source": []
  }
 ],
 "metadata": {
  "kernelspec": {
   "display_name": "Python 3",
   "language": "python",
   "name": "python3"
  },
  "language_info": {
   "codemirror_mode": {
    "name": "ipython",
    "version": 3
   },
   "file_extension": ".py",
   "mimetype": "text/x-python",
   "name": "python",
   "nbconvert_exporter": "python",
   "pygments_lexer": "ipython3",
   "version": "3.6.4"
  }
 },
 "nbformat": 4,
 "nbformat_minor": 2
}
