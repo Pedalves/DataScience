{
 "cells": [
  {
   "cell_type": "code",
   "execution_count": 1,
   "metadata": {},
   "outputs": [],
   "source": [
    "import re\n",
    "import email as email_lib\n",
    "import pandas as pd"
   ]
  },
  {
   "cell_type": "markdown",
   "metadata": {},
   "source": [
    "# Carregando o arquivo"
   ]
  },
  {
   "cell_type": "code",
   "execution_count": 2,
   "metadata": {},
   "outputs": [],
   "source": [
    "textFile = open(\"fradulent_emails.txt\", \"r\").read()"
   ]
  },
  {
   "cell_type": "markdown",
   "metadata": {},
   "source": [
    "# Criando uma divisão inicial do arquivo\n",
    "Aparentemente, a maioria dos dados dos emails iniciam-se com \"From\" no inicio da linha, e, na mesma linha, existe uma data"
   ]
  },
  {
   "cell_type": "code",
   "execution_count": 3,
   "metadata": {},
   "outputs": [
    {
     "name": "stdout",
     "output_type": "stream",
     "text": [
      "E-Mails encontrados: 3978\n"
     ]
    }
   ],
   "source": [
    "emails_level_1 = re.split(\"\\nFrom .*?\\d{2}:\\d{2}:\\d{2}.*\", textFile)\n",
    "\n",
    "# Checando quantidade\n",
    "print( \"E-Mails encontrados: \" +str(len(emails_level_1)) )"
   ]
  },
  {
   "cell_type": "markdown",
   "metadata": {},
   "source": [
    "# Estudando se dentro do primeira divisão existem ainda emails que não foram separados\n",
    "\n",
    "Vamos tentar utilizar algum meta-dado do header como identificador"
   ]
  },
  {
   "cell_type": "code",
   "execution_count": 4,
   "metadata": {},
   "outputs": [],
   "source": [
    "# Função para fazer a checagem\n",
    "\n",
    "def checkSubEmail( identifier , emailList ):\n",
    "    candidateSubs = list()\n",
    "    \n",
    "    regexPattern = \"\\n\" + identifier\n",
    "\n",
    "    for email in emailList:\n",
    "        reResult = re.findall(regexPattern, email)\n",
    "\n",
    "        if len(reResult) > 1:\n",
    "            candidateSubs.append( email )\n",
    "            \n",
    "    return candidateSubs"
   ]
  },
  {
   "cell_type": "code",
   "execution_count": 5,
   "metadata": {},
   "outputs": [],
   "source": [
    "# Função para facilitar o debug\n",
    "def debug_checkSubEmail( identifier , emailList ):\n",
    "    candidateSubs = checkSubEmail( identifier , emailList)\n",
    "    print( 'Subdividindo por \"' +str(identifier) +'\":\\n\\tCandidatos a sub emails: ' + str(len( candidateSubs ) ) +\"\\n\" )\n",
    "    return"
   ]
  },
  {
   "cell_type": "markdown",
   "metadata": {},
   "source": [
    "### Utilizando as funções acima, estudamos o que pode ser um sub separador de emails"
   ]
  },
  {
   "cell_type": "code",
   "execution_count": 6,
   "metadata": {},
   "outputs": [
    {
     "name": "stdout",
     "output_type": "stream",
     "text": [
      "Subdividindo por \"Subject:\":\n",
      "\tCandidatos a sub emails: 25\n",
      "\n",
      "Subdividindo por \"From:\":\n",
      "\tCandidatos a sub emails: 149\n",
      "\n",
      "Subdividindo por \"Status:\":\n",
      "\tCandidatos a sub emails: 1\n",
      "\n",
      "Subdividindo por \"Return-Path:\":\n",
      "\tCandidatos a sub emails: 60\n",
      "\n",
      "Subdividindo por \"Message-Id:\":\n",
      "\tCandidatos a sub emails: 10\n",
      "\n"
     ]
    }
   ],
   "source": [
    "debug_checkSubEmail( \"Subject:\" , emails_level_1 )\n",
    "debug_checkSubEmail( \"From:\" , emails_level_1 )\n",
    "debug_checkSubEmail( \"Status:\" , emails_level_1 )\n",
    "debug_checkSubEmail( \"Return-Path:\" , emails_level_1 )\n",
    "debug_checkSubEmail( \"Message-Id:\" , emails_level_1 )"
   ]
  },
  {
   "cell_type": "markdown",
   "metadata": {},
   "source": [
    "# Análise\n",
    "\n",
    "### Após uma inspeção amostral dos casos acima, percebemos que em muitos casos trata-se de uma mensagem originada em outro sistema que foi enviada por email, por isso headers parecidos ( dois exemplos a seguir )\n",
    "\n",
    "Nesses exemplos, perecebemos uma outra estrutura em comum, o \"Content-Type: text/plain;\""
   ]
  },
  {
   "cell_type": "code",
   "execution_count": 7,
   "metadata": {},
   "outputs": [
    {
     "name": "stdout",
     "output_type": "stream",
     "text": [
      "\n",
      "Return-Path: <apache@nsi25.miniserver.de>\n",
      "X-Sieve: CMU Sieve 2.3\n",
      "Date: Tue, 9 Jan 2007 23:04:09 -0500\n",
      "Message-Id: <200701100404.l0A449IR029401@brazil.mail.UM>\n",
      "Subject: I WILL ASSIST YOU GET YOUR FUNDS\n",
      "From: DAVID MARK <\"CENTRALBANK_ FOREGINREMINTANCE.COM\"@nsi25.miniserver.de>\n",
      "Reply-To: david02_mark@sify.com\n",
      "MIME-Version: 1.0\n",
      "Status: O\n",
      "\n",
      "Content-Type: text/plain\n",
      "\n",
      "Message-Id: <20070110035833.DA5848D1DFD@nsi25.miniserver.de>\n",
      "Date: Wed, 10 Jan 2007 04:58:33 +0100 (CET)\n",
      "Content-Transfer-Encoding: quoted-printable\n",
      "\n",
      "=0D\n",
      "FROM: =0D\n",
      "DR DAVID  MARK     PRIVATE AND CONFIDENTIAL=0D\n",
      "      # 3 Onyeama Street, Zone 2 =0D\n",
      "      Wuse Abuja.                =0D\n",
      " =0D\n",
      "My Dear, =0D\n",
      "=0D\n",
      "I know that this letter will come to you with a great suprise, my name =0D\n",
      "is DR =0D\n",
      "DR DAVID  MARK chairman consultative monetary panel, and this is in =0D\n",
      "regards to your outstanding payment.=0D\n",
      " =0D\n",
      "I took my time to carrying out a proper verification exercise on this =0D\n",
      "subject matter and all the complications, which was created by some =0D\n",
      "selfish officials who have various interests on the transaction. which =0D\n",
      "I =0D\n",
      "discovered that despite all efforts put in for you to be able to have =0D\n",
      "what rightfully belong to you, all effort being made could not yield =0D\n",
      "any =0D\n",
      "result.=0D\n",
      " =0D\n",
      "In a summary, this is my proposal I have contacted a friend of mine who =0D\n",
      "is a politician and a lawyer by profession he is contesting for a =0D\n",
      "Governor in one of the state here in my country. I was able to talk to =0D\n",
      "him  =0D\n",
      "regarding to your project and he promise to assist and make sure you =0D\n",
      "get your payment realeased to you.=0D\n",
      " =0D\n",
      "Finally, if this is ok by you I can be reach on Telephone =0D\n",
      "Number:+234-8033830 577 Email:david02_mark@sify.com] as soon as I =0D\n",
      "have your =0D\n",
      "confirmation toward this subject I will arrange for a meeting with the =0D\n",
      "parties =0D\n",
      "concerned, then get back to you and you will be deeply amazed on how =0D\n",
      "soon =0D\n",
      "this transaction will come to an end.=0D\n",
      " =0D\n",
      "Note that you must be carried along on each and every step to actualize =0D\n",
      "this transaction. When i hear from you we can talk more on how  to =0D\n",
      "proceed and what gets to us.=0D\n",
      " =0D\n",
      "Best regards=0D\n",
      " =0D\n",
      "DR DAVID  MARK=0D\n",
      "CHAIRMAN =0D\n",
      "\n",
      "\n",
      "\n",
      "\n",
      "\n"
     ]
    }
   ],
   "source": [
    "subs = checkSubEmail( \"Message-Id:\" , emails_level_1 )\n",
    "print(subs[1])"
   ]
  },
  {
   "cell_type": "code",
   "execution_count": 8,
   "metadata": {},
   "outputs": [
    {
     "name": "stdout",
     "output_type": "stream",
     "text": [
      "\n",
      "Return-Path: <mailman-bounces@krusty.si.UM>\n",
      "X-Original-To: ilist-owner@lists.si.UM\n",
      "Delivered-To: ilist-owner@lists.si.UM\n",
      "\tTue, 18 May 2004 17:17:00 -0400 (EDT)\n",
      "Subject: Ilist post from drallo_wd4@yahoo.com requires approval\n",
      "From: ilist-owner@krusty.si.UM\n",
      "To: ilist-owner@krusty.si.UM\n",
      "MIME-Version: 1.0\n",
      "Content-Type: multipart/mixed; boundary=\"===============1062096546==\"\n",
      "Message-ID: <mailman.23.1084915016.1197.ilist@lists.si.UM>\n",
      "Date: Tue, 18 May 2004 17:16:56 -0400\n",
      "Precedence: bulk\n",
      "X-BeenThere: ilist@lists.si.UM\n",
      "X-Mailman-Version: 2.1.3\n",
      "List-Id: <ilist.lists.si.UM>\n",
      "X-List-Administrivia: yes\n",
      "Sender: mailman-bounces@krusty.si.UM\n",
      "Errors-To: mailman-bounces@krusty.si.UM\n",
      "Status: RO\n",
      "\n",
      "--===============1062096546==\n",
      "Content-Type: text/plain; charset=\"us-ascii\"\n",
      "MIME-Version: 1.0\n",
      "Content-Transfer-Encoding: 7bit\n",
      "\n",
      "As list administrator, your authorization is requested for the\n",
      "following mailing list posting:\n",
      "\n",
      "    List:    Ilist@lists.si.UM\n",
      "    From:    drallo_wd4@yahoo.com\n",
      "    Subject: urgent response needed\n",
      "    Reason:  Post by non-member to a members-only list\n",
      "\n",
      "At your convenience, visit:\n",
      "\n",
      "    http://lists.si.UM/mailman/admindb/ilist\n",
      "        \n",
      "to approve or deny the request.\n",
      "\n",
      "--===============1062096546==\n",
      "Content-Type: message/rfc822\n",
      "MIME-Version: 1.0\n",
      "\n",
      "Return-Path: <drallo_wd4@yahoo.com>\n",
      "X-Original-To: ilist@krusty.si.UM\n",
      "Delivered-To: ilist@si.UM\n",
      "Message-ID: <20040518211651.47848.qmail@web41206.mail.yahoo.com>\n",
      "From: =?iso-8859-1?q?william=20drallo?= <drallo_wd4@yahoo.com>\n",
      "Subject: urgent response needed\n",
      "To: drallo_wd4@yahoo.com\n",
      "MIME-Version: 1.0\n",
      "Content-Type: text/plain; charset=iso-8859-1\n",
      "Content-Transfer-Encoding: 8bit\n",
      "\n",
      "                     MR WILLIAM DRALLO\n",
      "                     BANQUE TOGOLAISE DE\n",
      "                     DEVELOPPEMENT.\n",
      "                     LOME-TOGO\n",
      "\n",
      "I AM THE MANAGER BILL AND EXCHANGE OF THE FOREIGN\n",
      "REMITTANCE DEPARTMENT OF BANQUE TOGOLAISE DE\n",
      "DEVELOPPEMENT.\n",
      "\n",
      "I am writing you, following the impressive information\n",
      "about your profile through the website. Therefore, I\n",
      "believed that you shall posess the capability and\n",
      "reliability to champion this opportunity with me.\n",
      "\n",
      "In my department, we discovered an abandoned sum of 14\n",
      "million US dollars (Fourteen million US dollars), in\n",
      "an account that belongs to one of our foreign\n",
      "customers who died along with his entire family in\n",
      "December,2002 in a plane crash. Since we got the urgly\n",
      "information about his death, we have been expecting\n",
      "his next of Kin to come over and claim his money\n",
      "because we can not release it unless somebody applies\n",
      "for it as next of Kin or relation to the deceased as\n",
      "indicated in our banking and financial policies but\n",
      "unfortunately we learnt that his supposed next of kin\n",
      "or relation died along side with him in the accident\n",
      "leaving no body behind to claim the money.It is\n",
      "therefore upon this discovery that I and other\n",
      "officials in my department now decided to make\n",
      "this business proposal to you and release the money to\n",
      "you as the next of kin or relation to the deceased for\n",
      "safety and subsequent disbursement since nobody is\n",
      "coming for it and we don\u0012t want this money to go into\n",
      "the Bank treasury as unclaimed bills. The Banking law\n",
      "and guideline here stipulates that if such money\n",
      "remained unclaimed after five years, the money will be\n",
      "transferred  into the Bank treasury as unclaimed fund.\n",
      "\n",
      "The request for a foreigner as next of kin in this\n",
      "business is occasioned by the fact that the customer\n",
      "was a foreigner and an indigene cannot stand as next\n",
      "of kin to the deceased family.\n",
      "\n",
      "We agreed that 20% of this money will be for you as\n",
      "foreign partner, in respect to the provision of a\n",
      "foreign account, 5% will be set aside for expenses\n",
      "incurred during this transaction and 75 % would be for\n",
      "me and my colleagues. Thereafter, I and my colleagues\n",
      "will visit your country for disbursement according to\n",
      "the percentages indicated.\n",
      "\n",
      "To enable the immediate transfer of this fund to you\n",
      "as arranged above, you must apply first to the Bank as\n",
      "the relation or next of kin to the deceased indicating\n",
      "your private telephone and fax numbers for easy and\n",
      "effective communication and location where\n",
      "the money will be remitted.\n",
      "\n",
      "Upon receipt of your reply, I will send to you by fax\n",
      "or e-mail the text of the application. I will not fail\n",
      "to bring to your notice that this transaction is hitch\n",
      "free and that you should not entertain any atom of\n",
      "fear as all required arrangements have been made for\n",
      "the transfer.\n",
      "\n",
      "You should contact me on my E-MAIL as soon as you\n",
      "receive this letter. I decided to contact you as we\n",
      "have products of interest in your part of the world\n",
      "where we can invest our own percentage to avoid\n",
      "peoples awareness as we are civil servants. With your\n",
      "acceptance and cooperation, we can conclude this\n",
      "operation within ten working days. Please keep this\n",
      "very confidential.\n",
      "\n",
      "May God be with you.\n",
      "\n",
      "Yours faithfully,\n",
      "\n",
      "William Drallo.\n",
      "\n",
      "\n",
      "\n",
      "\n",
      "\t\n",
      "\t\t\n",
      "__________________________________\n",
      "Do you Yahoo!?\n",
      "SBC Yahoo! - Internet access at a great low price.\n",
      "http://promo.yahoo.com/sbc/\n",
      "\n",
      "--===============1062096546==\n",
      "Content-Type: message/rfc822\n",
      "MIME-Version: 1.0\n",
      "\n",
      "Content-Type: text/plain; charset=\"us-ascii\"\n",
      "MIME-Version: 1.0\n",
      "Content-Transfer-Encoding: 7bit\n",
      "Subject: confirm e6ebf5685c02c92c31a97d55eb8f8b7032907268\n",
      "Sender: ilist-request@lists.si.UM\n",
      "From: ilist-request@lists.si.UM\n",
      "\n",
      "If you reply to this message, keeping the Subject: header intact,\n",
      "Mailman will discard the held message.  Do this if the message is\n",
      "spam.  If you reply to this message and include an Approved: header\n",
      "with the list password in it, the message will be approved for posting\n",
      "to the list.  The Approved: header can also appear in the first line\n",
      "of the body of the reply.\n",
      "--===============1062096546==--\n",
      "\n"
     ]
    }
   ],
   "source": [
    "subs = checkSubEmail( \"Subject:\" , emails_level_1 )\n",
    "print(subs[1])"
   ]
  },
  {
   "cell_type": "markdown",
   "metadata": {},
   "source": [
    "# Conclusão Parcial\n",
    "\n",
    "### Não é claro que devemos dividir ainda mais estes emails. Então vamos testar 2 resultados: apenas no nivel já calculado, e subdividindo um pouco mais"
   ]
  },
  {
   "cell_type": "code",
   "execution_count": 9,
   "metadata": {},
   "outputs": [],
   "source": [
    "# funcao para extrair o DataFrame que queremos\n",
    "\n",
    "def findEmailSubject( emailRaw ):\n",
    "    result = re.search(\"\\nSubject:(?P<subject>.*)\", emailRaw)\n",
    "\n",
    "    if result is not None:\n",
    "        s_subject =  result.group(\"subject\").strip()\n",
    "\n",
    "    else:\n",
    "        s_subject = None\n",
    "        \n",
    "    return s_subject\n",
    "\n",
    "\n",
    "def findEmailBody( emailRaw ):\n",
    "    full_email = email_lib.message_from_string( emailRaw )\n",
    "    body = full_email.get_payload()\n",
    "\n",
    "    # Mantem apenas o que aparece depois da primeira instância de \"Status:\"\n",
    "    result = re.search(\"\\nStatus:[^\\n]*(?P<content>.*)\", body , re.DOTALL )\n",
    "    if result is not None:\n",
    "        content =  result.group(\"content\").strip()\n",
    "\n",
    "    else:\n",
    "        # Caso essa busca tenha falhado... Mantem o email inteiro\n",
    "        content = body.strip()\n",
    "        \n",
    "    return content\n",
    "\n",
    "\n",
    "def buildEmailsDF( emailsRaw ):\n",
    "    # Constroi a lista de dicionarios\n",
    "    emails = list()\n",
    "    for item in emailsRaw:\n",
    "        emails_dict = {}\n",
    "\n",
    "        # Step 1: encontra o Subject\n",
    "        emails_dict[\"subject\"] = findEmailSubject(item)\n",
    "\n",
    "        # Step 2: encontra o corpo do email\n",
    "        emails_dict[\"content\"] = findEmailBody(item)\n",
    "        \n",
    "        # Armazena\n",
    "        emails.append(emails_dict)\n",
    "        \n",
    "    # Constroi o dataframe\n",
    "    emails_df = pd.DataFrame(emails)\n",
    "\n",
    "    return emails_df"
   ]
  },
  {
   "cell_type": "markdown",
   "metadata": {},
   "source": [
    "# Caso 1: Sem Sub Divisões"
   ]
  },
  {
   "cell_type": "code",
   "execution_count": 10,
   "metadata": {},
   "outputs": [
    {
     "data": {
      "text/html": [
       "<div>\n",
       "<style scoped>\n",
       "    .dataframe tbody tr th:only-of-type {\n",
       "        vertical-align: middle;\n",
       "    }\n",
       "\n",
       "    .dataframe tbody tr th {\n",
       "        vertical-align: top;\n",
       "    }\n",
       "\n",
       "    .dataframe thead th {\n",
       "        text-align: right;\n",
       "    }\n",
       "</style>\n",
       "<table border=\"1\" class=\"dataframe\">\n",
       "  <thead>\n",
       "    <tr style=\"text-align: right;\">\n",
       "      <th></th>\n",
       "      <th>content</th>\n",
       "      <th>subject</th>\n",
       "    </tr>\n",
       "  </thead>\n",
       "  <tbody>\n",
       "    <tr>\n",
       "      <th>0</th>\n",
       "      <td>FROM:MR. JAMES NGOLA.\\nCONFIDENTIAL TEL: 233-2...</td>\n",
       "      <td>URGENT BUSINESS ASSISTANCE AND PARTNERSHIP</td>\n",
       "    </tr>\n",
       "    <tr>\n",
       "      <th>1</th>\n",
       "      <td>Dear Friend,\\n\\nI am Mr. Ben Suleman a custom ...</td>\n",
       "      <td>URGENT ASSISTANCE /RELATIONSHIP (P)</td>\n",
       "    </tr>\n",
       "    <tr>\n",
       "      <th>2</th>\n",
       "      <td>FROM HIS ROYAL MAJESTY (HRM) CROWN RULER OF EL...</td>\n",
       "      <td>GOOD DAY TO YOU</td>\n",
       "    </tr>\n",
       "    <tr>\n",
       "      <th>3</th>\n",
       "      <td>FROM HIS ROYAL MAJESTY (HRM) CROWN RULER OF EL...</td>\n",
       "      <td>GOOD DAY TO YOU</td>\n",
       "    </tr>\n",
       "    <tr>\n",
       "      <th>4</th>\n",
       "      <td>Dear sir, \\n \\nIt is with a heart full of hope...</td>\n",
       "      <td>I Need Your Assistance.</td>\n",
       "    </tr>\n",
       "  </tbody>\n",
       "</table>\n",
       "</div>"
      ],
      "text/plain": [
       "                                             content  \\\n",
       "0  FROM:MR. JAMES NGOLA.\\nCONFIDENTIAL TEL: 233-2...   \n",
       "1  Dear Friend,\\n\\nI am Mr. Ben Suleman a custom ...   \n",
       "2  FROM HIS ROYAL MAJESTY (HRM) CROWN RULER OF EL...   \n",
       "3  FROM HIS ROYAL MAJESTY (HRM) CROWN RULER OF EL...   \n",
       "4  Dear sir, \\n \\nIt is with a heart full of hope...   \n",
       "\n",
       "                                      subject  \n",
       "0  URGENT BUSINESS ASSISTANCE AND PARTNERSHIP  \n",
       "1         URGENT ASSISTANCE /RELATIONSHIP (P)  \n",
       "2                             GOOD DAY TO YOU  \n",
       "3                             GOOD DAY TO YOU  \n",
       "4                     I Need Your Assistance.  "
      ]
     },
     "execution_count": 10,
     "metadata": {},
     "output_type": "execute_result"
    }
   ],
   "source": [
    "caso1_df = buildEmailsDF( emails_level_1 )\n",
    "caso1_df.head()"
   ]
  },
  {
   "cell_type": "markdown",
   "metadata": {},
   "source": [
    "### Exemplos de content"
   ]
  },
  {
   "cell_type": "code",
   "execution_count": 11,
   "metadata": {},
   "outputs": [
    {
     "name": "stdout",
     "output_type": "stream",
     "text": [
      "FROM:MR. JAMES NGOLA.\n",
      "CONFIDENTIAL TEL: 233-27-587908.\n",
      "E-MAIL: (james_ngola2002@maktoob.com).\n",
      "\n",
      "URGENT BUSINESS ASSISTANCE AND PARTNERSHIP.\n",
      "\n",
      "\n",
      "DEAR FRIEND,\n",
      "\n",
      "I AM ( DR.) JAMES NGOLA, THE PERSONAL ASSISTANCE TO THE LATE CONGOLESE (PRESIDENT LAURENT KABILA) WHO WAS ASSASSINATED BY HIS BODY GUARD ON 16TH JAN. 2001.\n",
      "\n",
      "\n",
      "THE INCIDENT OCCURRED IN OUR PRESENCE WHILE WE WERE HOLDING MEETING WITH HIS EXCELLENCY OVER THE FINANCIAL RETURNS FROM THE DIAMOND SALES IN THE AREAS CONTROLLED BY (D.R.C.) DEMOCRATIC REPUBLIC OF CONGO FORCES AND THEIR FOREIGN ALLIES ANGOLA AND ZIMBABWE, HAVING RECEIVED THE PREVIOUS DAY (USD$100M) ONE HUNDRED MILLION UNITED STATES DOLLARS, CASH IN THREE DIPLOMATIC BOXES ROUTED THROUGH ZIMBABWE.\n",
      "\n",
      "MY PURPOSE OF WRITING YOU THIS LETTER IS TO SOLICIT FOR YOUR ASSISTANCE AS TO BE A COVER TO THE FUND AND ALSO COLLABORATION IN MOVING THE SAID FUND INTO YOUR BANK ACCOUNT THE SUM OF (USD$25M) TWENTY FIVE MILLION UNITED STATES DOLLARS ONLY, WHICH I DEPOSITED WITH A SECURITY COMPANY IN GHANA, IN A DIPLOMATIC BOX AS GOLDS WORTH (USD$25M) TWENTY FIVE MILLION UNITED STATES DOLLARS ONLY FOR SAFE KEEPING IN A SECURITY VAULT FOR ANY FURTHER INVESTMENT PERHAPS IN YOUR COUNTRY. \n",
      "\n",
      "YOU WERE INTRODUCED TO ME BY A RELIABLE FRIEND OF MINE WHO IS A TRAVELLER,AND ALSO A MEMBER OF CHAMBER OF COMMERCE AS A RELIABLE AND TRUSTWORTHY PERSON WHOM I CAN RELY ON AS FOREIGN PARTNER, EVEN THOUGH THE NATURE OF THE TRANSACTION WAS NOT REVEALED TO HIM FOR SECURITY REASONS.\n",
      "\n",
      "\n",
      "THE (USD$25M) WAS PART OF A PROCEEDS FROM DIAMOND TRADE MEANT FOR THE LATE PRESIDENT LAURENT KABILA WHICH WAS DELIVERED THROUGH ZIMBABWE IN DIPLOMATIC BOXES. THE BOXES WERE KEPT UNDER MY CUSTODY BEFORE THE SAD EVENT THAT TOOK THE LIFE OF (MR. PRESIDENT).THE CONFUSION THAT ENSUED AFTER THE ASSASSINATION AND THE SPORADIC SHOOTING AMONG THE FACTIONS, I HAVE TO RUN AWAY FROM THE COUNTRY FOR MY DEAR LIFE AS I AM NOT A SOLDIER BUT A CIVIL SERVANT I CROSSED RIVER CONGO TO OTHER SIDE OF CONGO LIBREVILLE FROM THERE I MOVED TO THE THIRD COUNTRY GHANA WHERE I AM PRESENTLY TAKING REFUGE. \n",
      "\n",
      "AS A MATTER OF FACT, WHAT I URGENTLY NEEDED FROM YOU IS YOUR ASSISTANCE IN MOVING THIS MONEY INTO YOUR ACCOUNT IN YOUR COUNTRY FOR INVESTMENT WITHOUT RAISING EYEBROW. FOR YOUR ASSISTANCE I WILL GIVE YOU 20% OF THE TOTAL SUM AS YOUR OWN SHARE WHEN THE MONEY GETS TO YOUR ACCOUNT, WHILE 75% WILL BE FOR ME, OF WHICH WITH YOUR KIND ADVICE I HOPE TO INVEST IN PROFITABLE VENTURE IN YOUR COUNTRY IN OTHER TO SETTLE DOWN FOR MEANINGFUL LIFE, AS I AM TIRED OF LIVING IN A WAR ENVIRONMENT. \n",
      "\n",
      "THE REMAINING 5% WILL BE USED TO OFFSET ANY COST INCURRED IN THE CAUSE OF MOVING THE MONEY TO YOUR ACCOUNT. IF THE PROPOSAL IS ACCEPTABLE TO YOU PLEASE CONTACT ME IMMEDIATELY THROUGH THE ABOVE TELEPHONE AND E-MAIL, TO ENABLE ME ARRANGE FACE TO FACE MEETING WITH YOU IN GHANA FOR THE CLEARANCE OF THE FUNDS BEFORE TRANSFRING IT TO YOUR BANK ACCOUNT AS SEEING IS BELIEVING. \n",
      "\n",
      "FINALLY, IT IS IMPORTANT ALSO THAT I LET YOU UNDERSTAND THAT THERE IS NO RISK INVOLVED WHATSOEVER AS THE MONEY HAD NO RECORD IN KINSHASA FOR IT WAS MEANT FOR THE PERSONAL USE OF (MR. PRESIDEND ) BEFORE THE NEFARIOUS INCIDENT OCCURRED, AND ALSO I HAVE ALL THE NECESSARY DOCUMENTS AS REGARDS TO THE FUNDS INCLUDING THE (CERTIFICATE OF DEPOSIT), AS I AM THE DEPOSITOR OF THE CONSIGNMENT.\n",
      "\n",
      "\n",
      "LOOKING FORWARD TO YOUR URGENT RESPONSE.\n",
      "\n",
      "YOUR SINCERELY,\n",
      "\n",
      "MR. JAMES NGOLA.\n"
     ]
    }
   ],
   "source": [
    "print( caso1_df[\"content\"][0] )"
   ]
  },
  {
   "cell_type": "code",
   "execution_count": 12,
   "metadata": {},
   "outputs": [
    {
     "name": "stdout",
     "output_type": "stream",
     "text": [
      "Dear Friend,\n",
      "\n",
      "I am Mr. Ben Suleman a custom officer and work as Assistant controller of the Customs and Excise department Of the Federal Ministry of Internal Affairs stationed at the Murtala Mohammed International Airport, Ikeja, Lagos-Nigeria.\n",
      "\n",
      "After the sudden death of the former Head of state of Nigeria General Sanni Abacha on June 8th 1998 his aides and immediate members of his family were arrested while trying to escape from Nigeria in a Chartered jet to Saudi Arabia with 6 trunk boxes Marked \"Diplomatic Baggage\". Acting on a tip-off as they attempted to board the Air Craft,my officials carried out a thorough search on the air craft and discovered that the 6 trunk boxes contained foreign currencies amounting to US$197,570,000.00(One Hundred and  Ninety-Seven Million Five Hundred Seventy Thousand United States Dollars).\n",
      "\n",
      "I declared only (5) five boxes to the government and withheld one (1) in my custody containing the sum of (US$30,000,000.00) Thirty Million United States Dollars Only, which has been disguised to prevent their being discovered during transportation process.Due to several media reports on the late head of state about all the money him and his co-government officials stole from our government treasury amounting\n",
      "to US$55 Billion Dollars (ref:ngrguardiannews.com) of July 2nd 1999. Even the London times of July 1998 reported that General Abacha has over US$3.Billion dollars in one account overseas. We decided to conceal this one (1)box till the situation is calm and quite on the issue. The box was thus deposited with a security company here in Nigeria and tagged as \"Precious Stones and Jewellry\" in other that its\n",
      "content will not be discovered. Now that all is calm, we (myself and two of my colleagues in the operations team) are now ready to move this box out of the country through a diplomatic arrangement which is the safest means. \n",
      "\n",
      "However as government officials the Civil Service Code of Conduct does not allow us by law to operate any foreign account or own foreign investment and the amount of money that can be found in our account\n",
      "cannot be more than our salary on the average, thus our handicapp and our need for your assistance to help collect and keep safely in your account this money.\n",
      "\n",
      "Therefore we want you to assist us in moving this money out of Nigeria. We shall definitely compensate you handsomely for the assistance. We can do this by instructing the Security Company here in Nigeria to\n",
      "move the consignment to their affiliate branch office outside Nigeria through diplomatic means and the consignment will be termed as Precious Stones and Jewelleries\" which you bought during your visit to Nigeria and is being transfered to your country from here for safe keeping. Then we can arrange to meet at the destination country to take the delivery of the consignment. You will thereafter open an account there and lodge the Money there and gradually instruct remittance to your Country. \n",
      "\n",
      "This business is 100% risk free for you so please treat this matter with utmost confidentiality .If you indicate your interest to assist us please just e-mail me for more Explanation on how we plan to execute the transaction.\n",
      "\n",
      "Expecting your response urgently.\n",
      "\n",
      "Best regards,\n",
      "\n",
      "Mr. Ben Suleman\n"
     ]
    }
   ],
   "source": [
    "print( caso1_df[\"content\"][1] )"
   ]
  },
  {
   "cell_type": "markdown",
   "metadata": {},
   "source": [
    "# Caso 2: SubDivindo por \"Content-Type: text/plain;\""
   ]
  },
  {
   "cell_type": "code",
   "execution_count": 13,
   "metadata": {},
   "outputs": [],
   "source": [
    "# funcao para extrair o DataFrame que queremos\n",
    "\n",
    "def findSubEmails( emailRaw ):\n",
    "    emails_dict = {}\n",
    "    \n",
    "    # Step 1: encontra o Subject\n",
    "    emails_dict[\"subject\"] = findEmailSubject( emailRaw )\n",
    "\n",
    "    # Step 2: encontra o corpo\n",
    "    full_email = email_lib.message_from_string( emailRaw )\n",
    "    body = full_email.get_payload()\n",
    "\n",
    "    # Tenta manter apenas o que aparece depois da primeira instância de \"Status:\"\n",
    "    result = re.search(\"\\nStatus:[^\\n]*(?P<content>.*)\", body , re.DOTALL )\n",
    "    if result is not None:\n",
    "        emails_dict[\"content\"] = result.group(\"content\").strip()\n",
    "        return emails_dict\n",
    "\n",
    "    # Tenta entender onde termina os headers, ou seja, primeira linha sem \":\"\n",
    "    result = re.search(\"\\n[^:]*\\n(?P<content>.*)\", body , re.DOTALL )\n",
    "    if result is not None:\n",
    "        emails_dict[\"content\"] = result.group(\"content\").strip()\n",
    "        return emails_dict\n",
    "    \n",
    "    # Caso tudo mais falhe, retonar o corpo como é\n",
    "    emails_dict[\"content\"] = body.strip()  \n",
    "    return emails_dict\n",
    "\n",
    "\n",
    "def buildEmailsDF_2( emailsRaw ):\n",
    "    # Constroi a lista de dicionarios\n",
    "    emails = list()\n",
    "    for item in emailsRaw:\n",
    "        emails_dict = {}\n",
    "        emails.append(emails_dict)\n",
    "\n",
    "        # Step 1: encontra o Subject\n",
    "        emails_dict[\"subject\"] = findEmailSubject(item)\n",
    "\n",
    "        # Step 2: encontra o corpo do email\n",
    "        emailContent = findEmailBody(item)\n",
    "\n",
    "        # Step 3: O corpo contem o \"Content-Type: text/plain;\" ?\n",
    "        subEmails = re.split( \"Content-Type: .*?text/plain.*\" , emailContent )\n",
    "        \n",
    "        if len(subEmails) == 1:\n",
    "            emails_dict[\"content\"] = emailContent\n",
    "        else:\n",
    "            emails_dict[\"content\"] = subEmails[0]\n",
    "            \n",
    "            # Sub Divide o email\n",
    "            for i in range(1,len(subEmails)):\n",
    "                sub_emails_dict = findSubEmails( subEmails[i] )\n",
    "                emails.append( sub_emails_dict )\n",
    "            \n",
    "    # Constroi o dataframe\n",
    "    emails_df = pd.DataFrame(emails)\n",
    "\n",
    "    return emails_df"
   ]
  },
  {
   "cell_type": "markdown",
   "metadata": {},
   "source": [
    "### Caso 2: Resultado"
   ]
  },
  {
   "cell_type": "code",
   "execution_count": 14,
   "metadata": {},
   "outputs": [
    {
     "data": {
      "text/html": [
       "<div>\n",
       "<style scoped>\n",
       "    .dataframe tbody tr th:only-of-type {\n",
       "        vertical-align: middle;\n",
       "    }\n",
       "\n",
       "    .dataframe tbody tr th {\n",
       "        vertical-align: top;\n",
       "    }\n",
       "\n",
       "    .dataframe thead th {\n",
       "        text-align: right;\n",
       "    }\n",
       "</style>\n",
       "<table border=\"1\" class=\"dataframe\">\n",
       "  <thead>\n",
       "    <tr style=\"text-align: right;\">\n",
       "      <th></th>\n",
       "      <th>content</th>\n",
       "      <th>subject</th>\n",
       "    </tr>\n",
       "  </thead>\n",
       "  <tbody>\n",
       "    <tr>\n",
       "      <th>0</th>\n",
       "      <td>FROM:MR. JAMES NGOLA.\\nCONFIDENTIAL TEL: 233-2...</td>\n",
       "      <td>URGENT BUSINESS ASSISTANCE AND PARTNERSHIP</td>\n",
       "    </tr>\n",
       "    <tr>\n",
       "      <th>1</th>\n",
       "      <td>Dear Friend,\\n\\nI am Mr. Ben Suleman a custom ...</td>\n",
       "      <td>URGENT ASSISTANCE /RELATIONSHIP (P)</td>\n",
       "    </tr>\n",
       "    <tr>\n",
       "      <th>2</th>\n",
       "      <td>FROM HIS ROYAL MAJESTY (HRM) CROWN RULER OF EL...</td>\n",
       "      <td>GOOD DAY TO YOU</td>\n",
       "    </tr>\n",
       "    <tr>\n",
       "      <th>3</th>\n",
       "      <td>FROM HIS ROYAL MAJESTY (HRM) CROWN RULER OF EL...</td>\n",
       "      <td>GOOD DAY TO YOU</td>\n",
       "    </tr>\n",
       "    <tr>\n",
       "      <th>4</th>\n",
       "      <td>Dear sir, \\n \\nIt is with a heart full of hope...</td>\n",
       "      <td>I Need Your Assistance.</td>\n",
       "    </tr>\n",
       "  </tbody>\n",
       "</table>\n",
       "</div>"
      ],
      "text/plain": [
       "                                             content  \\\n",
       "0  FROM:MR. JAMES NGOLA.\\nCONFIDENTIAL TEL: 233-2...   \n",
       "1  Dear Friend,\\n\\nI am Mr. Ben Suleman a custom ...   \n",
       "2  FROM HIS ROYAL MAJESTY (HRM) CROWN RULER OF EL...   \n",
       "3  FROM HIS ROYAL MAJESTY (HRM) CROWN RULER OF EL...   \n",
       "4  Dear sir, \\n \\nIt is with a heart full of hope...   \n",
       "\n",
       "                                      subject  \n",
       "0  URGENT BUSINESS ASSISTANCE AND PARTNERSHIP  \n",
       "1         URGENT ASSISTANCE /RELATIONSHIP (P)  \n",
       "2                             GOOD DAY TO YOU  \n",
       "3                             GOOD DAY TO YOU  \n",
       "4                     I Need Your Assistance.  "
      ]
     },
     "execution_count": 14,
     "metadata": {},
     "output_type": "execute_result"
    }
   ],
   "source": [
    "caso2_df = buildEmailsDF_2( emails_level_1 )\n",
    "caso2_df.head()"
   ]
  },
  {
   "cell_type": "markdown",
   "metadata": {},
   "source": [
    "### Checando as diferenças de tamanho"
   ]
  },
  {
   "cell_type": "code",
   "execution_count": 15,
   "metadata": {},
   "outputs": [
    {
     "name": "stdout",
     "output_type": "stream",
     "text": [
      "Tamanho do DataFrame SEM subdivisoes: 3978\n",
      "Tamanho do DataFrame COM subdivisoes: 4846\n"
     ]
    }
   ],
   "source": [
    "print( \"Tamanho do DataFrame SEM subdivisoes: \" +str(caso1_df.shape[0]) )\n",
    "print( \"Tamanho do DataFrame COM subdivisoes: \" +str(caso2_df.shape[0]) )"
   ]
  },
  {
   "cell_type": "markdown",
   "metadata": {},
   "source": [
    "# Inspecionando um caso onde ocorreu a SubDivisão"
   ]
  },
  {
   "cell_type": "code",
   "execution_count": 16,
   "metadata": {},
   "outputs": [],
   "source": [
    "# Do exemplo encontrado anteriormente...\n",
    "subs = checkSubEmail( \"Subject:\" , emails_level_1 )\n",
    "emails_check = list()\n",
    "emails_check.append( subs[1] )\n",
    "\n",
    "# Realiza as operações\n",
    "check_df_1 = buildEmailsDF( emails_check )\n",
    "check_df_2 = buildEmailsDF_2( emails_check )"
   ]
  },
  {
   "cell_type": "markdown",
   "metadata": {},
   "source": [
    "### SEM subdivisão\n",
    "Lembrando que pegamos apenas 1 email para exemplo"
   ]
  },
  {
   "cell_type": "code",
   "execution_count": 17,
   "metadata": {},
   "outputs": [
    {
     "data": {
      "text/plain": [
       "(1, 2)"
      ]
     },
     "execution_count": 17,
     "metadata": {},
     "output_type": "execute_result"
    }
   ],
   "source": [
    "check_df_1.shape"
   ]
  },
  {
   "cell_type": "code",
   "execution_count": 18,
   "metadata": {},
   "outputs": [
    {
     "name": "stdout",
     "output_type": "stream",
     "text": [
      "--===============1062096546==\n",
      "Content-Type: text/plain; charset=\"us-ascii\"\n",
      "MIME-Version: 1.0\n",
      "Content-Transfer-Encoding: 7bit\n",
      "\n",
      "As list administrator, your authorization is requested for the\n",
      "following mailing list posting:\n",
      "\n",
      "    List:    Ilist@lists.si.UM\n",
      "    From:    drallo_wd4@yahoo.com\n",
      "    Subject: urgent response needed\n",
      "    Reason:  Post by non-member to a members-only list\n",
      "\n",
      "At your convenience, visit:\n",
      "\n",
      "    http://lists.si.UM/mailman/admindb/ilist\n",
      "        \n",
      "to approve or deny the request.\n",
      "\n",
      "--===============1062096546==\n",
      "Content-Type: message/rfc822\n",
      "MIME-Version: 1.0\n",
      "\n",
      "Return-Path: <drallo_wd4@yahoo.com>\n",
      "X-Original-To: ilist@krusty.si.UM\n",
      "Delivered-To: ilist@si.UM\n",
      "Message-ID: <20040518211651.47848.qmail@web41206.mail.yahoo.com>\n",
      "From: =?iso-8859-1?q?william=20drallo?= <drallo_wd4@yahoo.com>\n",
      "Subject: urgent response needed\n",
      "To: drallo_wd4@yahoo.com\n",
      "MIME-Version: 1.0\n",
      "Content-Type: text/plain; charset=iso-8859-1\n",
      "Content-Transfer-Encoding: 8bit\n",
      "\n",
      "                     MR WILLIAM DRALLO\n",
      "                     BANQUE TOGOLAISE DE\n",
      "                     DEVELOPPEMENT.\n",
      "                     LOME-TOGO\n",
      "\n",
      "I AM THE MANAGER BILL AND EXCHANGE OF THE FOREIGN\n",
      "REMITTANCE DEPARTMENT OF BANQUE TOGOLAISE DE\n",
      "DEVELOPPEMENT.\n",
      "\n",
      "I am writing you, following the impressive information\n",
      "about your profile through the website. Therefore, I\n",
      "believed that you shall posess the capability and\n",
      "reliability to champion this opportunity with me.\n",
      "\n",
      "In my department, we discovered an abandoned sum of 14\n",
      "million US dollars (Fourteen million US dollars), in\n",
      "an account that belongs to one of our foreign\n",
      "customers who died along with his entire family in\n",
      "December,2002 in a plane crash. Since we got the urgly\n",
      "information about his death, we have been expecting\n",
      "his next of Kin to come over and claim his money\n",
      "because we can not release it unless somebody applies\n",
      "for it as next of Kin or relation to the deceased as\n",
      "indicated in our banking and financial policies but\n",
      "unfortunately we learnt that his supposed next of kin\n",
      "or relation died along side with him in the accident\n",
      "leaving no body behind to claim the money.It is\n",
      "therefore upon this discovery that I and other\n",
      "officials in my department now decided to make\n",
      "this business proposal to you and release the money to\n",
      "you as the next of kin or relation to the deceased for\n",
      "safety and subsequent disbursement since nobody is\n",
      "coming for it and we don\u0012t want this money to go into\n",
      "the Bank treasury as unclaimed bills. The Banking law\n",
      "and guideline here stipulates that if such money\n",
      "remained unclaimed after five years, the money will be\n",
      "transferred  into the Bank treasury as unclaimed fund.\n",
      "\n",
      "The request for a foreigner as next of kin in this\n",
      "business is occasioned by the fact that the customer\n",
      "was a foreigner and an indigene cannot stand as next\n",
      "of kin to the deceased family.\n",
      "\n",
      "We agreed that 20% of this money will be for you as\n",
      "foreign partner, in respect to the provision of a\n",
      "foreign account, 5% will be set aside for expenses\n",
      "incurred during this transaction and 75 % would be for\n",
      "me and my colleagues. Thereafter, I and my colleagues\n",
      "will visit your country for disbursement according to\n",
      "the percentages indicated.\n",
      "\n",
      "To enable the immediate transfer of this fund to you\n",
      "as arranged above, you must apply first to the Bank as\n",
      "the relation or next of kin to the deceased indicating\n",
      "your private telephone and fax numbers for easy and\n",
      "effective communication and location where\n",
      "the money will be remitted.\n",
      "\n",
      "Upon receipt of your reply, I will send to you by fax\n",
      "or e-mail the text of the application. I will not fail\n",
      "to bring to your notice that this transaction is hitch\n",
      "free and that you should not entertain any atom of\n",
      "fear as all required arrangements have been made for\n",
      "the transfer.\n",
      "\n",
      "You should contact me on my E-MAIL as soon as you\n",
      "receive this letter. I decided to contact you as we\n",
      "have products of interest in your part of the world\n",
      "where we can invest our own percentage to avoid\n",
      "peoples awareness as we are civil servants. With your\n",
      "acceptance and cooperation, we can conclude this\n",
      "operation within ten working days. Please keep this\n",
      "very confidential.\n",
      "\n",
      "May God be with you.\n",
      "\n",
      "Yours faithfully,\n",
      "\n",
      "William Drallo.\n",
      "\n",
      "\n",
      "\n",
      "\n",
      "\t\n",
      "\t\t\n",
      "__________________________________\n",
      "Do you Yahoo!?\n",
      "SBC Yahoo! - Internet access at a great low price.\n",
      "http://promo.yahoo.com/sbc/\n",
      "\n",
      "--===============1062096546==\n",
      "Content-Type: message/rfc822\n",
      "MIME-Version: 1.0\n",
      "\n",
      "Content-Type: text/plain; charset=\"us-ascii\"\n",
      "MIME-Version: 1.0\n",
      "Content-Transfer-Encoding: 7bit\n",
      "Subject: confirm e6ebf5685c02c92c31a97d55eb8f8b7032907268\n",
      "Sender: ilist-request@lists.si.UM\n",
      "From: ilist-request@lists.si.UM\n",
      "\n",
      "If you reply to this message, keeping the Subject: header intact,\n",
      "Mailman will discard the held message.  Do this if the message is\n",
      "spam.  If you reply to this message and include an Approved: header\n",
      "with the list password in it, the message will be approved for posting\n",
      "to the list.  The Approved: header can also appear in the first line\n",
      "of the body of the reply.\n",
      "--===============1062096546==--\n"
     ]
    }
   ],
   "source": [
    "# Visualizando o antes\n",
    "print(check_df_1['content'][0])"
   ]
  },
  {
   "cell_type": "markdown",
   "metadata": {},
   "source": [
    "### COM subdivisão\n",
    "Lembrando que pegamos apenas 1 email para exemplo, que agora foi dividido em 4"
   ]
  },
  {
   "cell_type": "code",
   "execution_count": 19,
   "metadata": {},
   "outputs": [
    {
     "data": {
      "text/plain": [
       "(4, 2)"
      ]
     },
     "execution_count": 19,
     "metadata": {},
     "output_type": "execute_result"
    }
   ],
   "source": [
    "check_df_2.shape"
   ]
  },
  {
   "cell_type": "code",
   "execution_count": 20,
   "metadata": {},
   "outputs": [
    {
     "name": "stdout",
     "output_type": "stream",
     "text": [
      "--===============1062096546==\n",
      "\n"
     ]
    }
   ],
   "source": [
    "print(check_df_2['content'][0])"
   ]
  },
  {
   "cell_type": "code",
   "execution_count": 21,
   "metadata": {},
   "outputs": [
    {
     "name": "stdout",
     "output_type": "stream",
     "text": [
      "following mailing list posting:\n",
      "\n",
      "    List:    Ilist@lists.si.UM\n",
      "    From:    drallo_wd4@yahoo.com\n",
      "    Subject: urgent response needed\n",
      "    Reason:  Post by non-member to a members-only list\n",
      "\n",
      "At your convenience, visit:\n",
      "\n",
      "    http://lists.si.UM/mailman/admindb/ilist\n",
      "        \n",
      "to approve or deny the request.\n",
      "\n",
      "--===============1062096546==\n",
      "Content-Type: message/rfc822\n",
      "MIME-Version: 1.0\n",
      "\n",
      "Return-Path: <drallo_wd4@yahoo.com>\n",
      "X-Original-To: ilist@krusty.si.UM\n",
      "Delivered-To: ilist@si.UM\n",
      "Message-ID: <20040518211651.47848.qmail@web41206.mail.yahoo.com>\n",
      "From: =?iso-8859-1?q?william=20drallo?= <drallo_wd4@yahoo.com>\n",
      "Subject: urgent response needed\n",
      "To: drallo_wd4@yahoo.com\n",
      "MIME-Version: 1.0\n"
     ]
    }
   ],
   "source": [
    "print(check_df_2['content'][1])"
   ]
  },
  {
   "cell_type": "code",
   "execution_count": 22,
   "metadata": {},
   "outputs": [
    {
     "name": "stdout",
     "output_type": "stream",
     "text": [
      "http://promo.yahoo.com/sbc/\n",
      "\n",
      "--===============1062096546==\n",
      "Content-Type: message/rfc822\n",
      "MIME-Version: 1.0\n"
     ]
    }
   ],
   "source": [
    "print(check_df_2['content'][2])"
   ]
  },
  {
   "cell_type": "code",
   "execution_count": 23,
   "metadata": {},
   "outputs": [
    {
     "name": "stdout",
     "output_type": "stream",
     "text": [
      "If you reply to this message, keeping the Subject: header intact,\n",
      "Mailman will discard the held message.  Do this if the message is\n",
      "spam.  If you reply to this message and include an Approved: header\n",
      "with the list password in it, the message will be approved for posting\n",
      "to the list.  The Approved: header can also appear in the first line\n",
      "of the body of the reply.\n",
      "--===============1062096546==--\n"
     ]
    }
   ],
   "source": [
    "print(check_df_2['content'][3])"
   ]
  },
  {
   "cell_type": "markdown",
   "metadata": {},
   "source": [
    "# Conclusão\n",
    "\n",
    "### A subdivisão por \"Content-Type: text/plain;\" não parece uma boa ideia. Pode ser que exista uma padrão melhor para subdividir os emails, e queriamos apenas explorar como fazer isso com REs.\n",
    "\n",
    "# Melhor resultado: CASO 1"
   ]
  },
  {
   "cell_type": "code",
   "execution_count": null,
   "metadata": {},
   "outputs": [],
   "source": []
  }
 ],
 "metadata": {
  "kernelspec": {
   "display_name": "Python 3",
   "language": "python",
   "name": "python3"
  },
  "language_info": {
   "codemirror_mode": {
    "name": "ipython",
    "version": 3
   },
   "file_extension": ".py",
   "mimetype": "text/x-python",
   "name": "python",
   "nbconvert_exporter": "python",
   "pygments_lexer": "ipython3",
   "version": "3.6.4"
  }
 },
 "nbformat": 4,
 "nbformat_minor": 2
}
