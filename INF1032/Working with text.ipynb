{
 "cells": [
  {
   "cell_type": "markdown",
   "metadata": {},
   "source": [
    "Working with text\n",
    "=================\n",
    "\n",
    "This is a version of the tutorial \"Working with text\" (https://de.dariah.eu/tatom/working_with_text.html) in the form of an interactive IPython notebook. This document is \"live\"; any code example can be edited and executed in the browser. To see this in action, change some part of the code in the *cell* below and then click on the play button above."
   ]
  },
  {
   "cell_type": "code",
   "execution_count": 1,
   "metadata": {},
   "outputs": [
    {
     "name": "stdout",
     "output_type": "stream",
     "text": [
      "working\n",
      "with\n",
      "text\n"
     ]
    }
   ],
   "source": [
    "list_of_strings = ['working', 'with', 'text']\n",
    "for s in list_of_strings:\n",
    "    print(s)"
   ]
  },
  {
   "cell_type": "markdown",
   "metadata": {},
   "source": [
    "Creating a document-term matrix\n",
    "-------------------------------\n",
    "\n",
    "Word frequencies and document-term matrices are typical units of\n",
    "analysis when working with text collections. It may come as a surprise\n",
    "that reducing a book to a list of word frequencies retains useful\n",
    "information, but practice has shown this to be the case. Treating texts\n",
    "as a list of word frequencies (a vector) also makes available a range of\n",
    "mathematical tools developed for [studying and manipulating\n",
    "vectors](http://en.wikipedia.org/wiki/Euclidean_vector#History).\n",
    "\n",
    "> **Note**: Turning texts into unordered lists (or \"bags\") of words is easy in\n",
    "> Python. [Python Programming for the\n",
    "> Humanities](http://fbkarsdorp.github.io/python-course/) includes a\n",
    "> chapter entitled [Text\n",
    "> Processing](http://nbviewer.ipython.org/urls/raw.github.com/fbkarsdorp/python-course/master/Chapter%203%20-%20Text%20Preprocessing.ipynb)\n",
    "> that describes the steps in detail.\n",
    "\n",
    "This document assumes some prior exposure to text analysis so we will\n",
    "gather word frequencies (or term frequencies) derived from the lists of\n",
    "words appearing in texts into a document-term matrix using the\n",
    "[CountVectorizer](http://scikit-learn.sourceforge.net/dev/modules/generated/sklearn.feature_extraction.text.CountVectorizer.html)\n",
    "class from the [scikit-learn](http://scikit-learn.sourceforge.net/)\n",
    "package. (For those familiar with R and the\n",
    "[tm](http://cran.r-project.org/web/packages/tm/) package, this function\n",
    "performs the same operation as `DocumentTermMatrix` and takes\n",
    "recognizably similar arguments.)\n",
    "\n",
    "First we need to import the functions and classes we intend to use,\n",
    "along with our customary abbreviation for functions in the `numpy`\n",
    "package."
   ]
  },
  {
   "cell_type": "code",
   "execution_count": 2,
   "metadata": {},
   "outputs": [],
   "source": [
    "import numpy as np  # a conventional alias\n",
    "from sklearn.feature_extraction.text import CountVectorizer"
   ]
  },
  {
   "cell_type": "markdown",
   "metadata": {},
   "source": [
    "Now we use the\n",
    "[CountVectorizer](http://scikit-learn.sourceforge.net/dev/modules/generated/sklearn.feature_extraction.text.CountVectorizer.html)\n",
    "class to create a document-term matrix. `CountVectorizer` is highly\n",
    "customizable. For example, a list of \"stop words\" can be specified with\n",
    "the ``stop_words`` parameter. Other important parameters include:\n",
    "\n",
    "-   `lowercase` (default `True`) convert all text to lowercase before\n",
    "    tokenizing\n",
    "-   `min_df` (default `1`) remove from the vocabulary terms that occur\n",
    "    in fewer than `min_df` documents–with a large corpus this may be set\n",
    "    to `5` to eliminate rare words\n",
    "-   `vocabulary` ignore words that do not appear in the list (or\n",
    "    iterable) assigned to parameter `vocabulary`\n",
    "-   `strip_accents` remove accents\n",
    "-   `token_pattern` (default `u'(?u)\\b\\w\\w+\\b'`) regular expression\n",
    "    identifying tokens–by default words that consist of a single\n",
    "    character (e.g., 'a', '2') are ignored, setting `token_pattern` to\n",
    "    `'(?u)\\b\\w+\\b'` will include these tokens\n",
    "-   `tokenizer` (default unused) use a custom function for tokenizing\n",
    "\n",
    "For this example we will use texts by Jane Austen and Charlotte Brontë. These\n",
    "texts are available in the *Datasets* section of the collected tutorials.\n"
   ]
  },
  {
   "cell_type": "code",
   "execution_count": 25,
   "metadata": {},
   "outputs": [],
   "source": [
    "filenames = ['data/austen-brontë/Austen_Emma.txt',           \n",
    "             'data/austen-brontë/Austen_Pride.txt',          \n",
    "             'data/austen-brontë/Austen_Sense.txt',          \n",
    "             'data/austen-brontë/CBronte_Jane.txt',          \n",
    "             'data/austen-brontë/CBronte_Professor.txt',     \n",
    "             'data/austen-brontë/CBronte_Villette.txt']      \n",
    "                                                             \n",
    "vectorizer = CountVectorizer(input='filename')               \n",
    "dtm = vectorizer.fit_transform(filenames)  # a sparse matrix \n",
    "vocab_list = vectorizer.get_feature_names()"
   ]
  },
  {
   "cell_type": "markdown",
   "metadata": {},
   "source": [
    "Now we have a document-term matrix and a vocabulary list. Before we can\n",
    "query the matrix and find out, for example, how many times the word\n",
    "'house' occurs in *Emma* (the first text in `filenames`), we need to\n",
    "convert this matrix from its current format, a [sparse\n",
    "matrix](http://docs.scipy.org/doc/scipy/reference/sparse.html), into a\n",
    "normal NumPy array. We will also convert `vocab`, a list of vocabulary,\n",
    "to an array of strings, as an array supports a greater variety of\n",
    "operations.\n"
   ]
  },
  {
   "cell_type": "code",
   "execution_count": 26,
   "metadata": {},
   "outputs": [],
   "source": [
    "# for reference, note the current class of `dtm`  \n",
    "type(dtm)                                         \n",
    "dtm = dtm.toarray()  # convert to a regular array \n",
    "vocab = np.array(vocab_list)"
   ]
  },
  {
   "cell_type": "markdown",
   "metadata": {},
   "source": [
    "> **Note:** A sparse matrix is used to store matrices that contain a significant\n",
    "> number of entries that are zero. Typically, a sparse matrix only\n",
    "> records non-zero entries. To understand why this matters so much\n",
    "> that `CountVectorizer` returns a sparse matrix by default,\n",
    "> consider a 4000 by 50000 matrix that is 60% zeros. In Python an\n",
    "> integer takes up 4 bytes, so using a sparse matrix saves almost\n",
    "> 500M, which is a significant amount of computer memory. (Remember\n",
    "> that arrays are usually stored in memory, not on disk).\n",
    "\n",
    "Querying the document-term matrix and the vocabulary is straightforward.\n",
    "For example, here are two ways of finding how many times the word\n",
    "'house' occurs in the first text, *Emma*:\n"
   ]
  },
  {
   "cell_type": "code",
   "execution_count": 5,
   "metadata": {},
   "outputs": [
    {
     "data": {
      "text/plain": [
       "array([95], dtype=int64)"
      ]
     },
     "execution_count": 5,
     "metadata": {},
     "output_type": "execute_result"
    }
   ],
   "source": [
    "# the first file, indexed by 0 in Python, is *Emma*                 \n",
    "filenames[0] == 'data/austen-brontë/Austen_Emma.txt'                \n",
    "                                                                    \n",
    "# use the standard Python list method index(...)                    \n",
    "house_idx = vocab_list.index('house')                               \n",
    "dtm[0, house_idx]                                                   \n",
    "                                                                    \n",
    "# alternatively, use NumPy indexing                                 \n",
    "# in R this would be essentially the same, dtm[1, vocab == 'house'] \n",
    "dtm[0, vocab == 'house']                                         "
   ]
  },
  {
   "cell_type": "code",
   "execution_count": 6,
   "metadata": {},
   "outputs": [
    {
     "data": {
      "text/plain": [
       "'house'"
      ]
     },
     "execution_count": 6,
     "metadata": {},
     "output_type": "execute_result"
    }
   ],
   "source": [
    "# verify that this is the result we anticipated\n",
    "vocab[house_idx]"
   ]
  },
  {
   "cell_type": "markdown",
   "metadata": {},
   "source": [
    "Sandbox\n",
    "=======\n",
    "Feel free to experiment with the document-term matrix `dtm` in the code cells below."
   ]
  },
  {
   "cell_type": "code",
   "execution_count": 7,
   "metadata": {},
   "outputs": [
    {
     "name": "stdout",
     "output_type": "stream",
     "text": [
      "(6, 22854)\n",
      "data/austen-brontë/Austen_Emma.txt\n",
      "data/austen-brontë/Austen_Pride.txt\n",
      "data/austen-brontë/Austen_Sense.txt\n",
      "data/austen-brontë/CBronte_Jane.txt\n",
      "data/austen-brontë/CBronte_Professor.txt\n",
      "data/austen-brontë/CBronte_Villette.txt\n"
     ]
    }
   ],
   "source": [
    "print(dtm.shape)\n",
    "for fn in filenames:\n",
    "    print(fn)"
   ]
  },
  {
   "cell_type": "code",
   "execution_count": 8,
   "metadata": {},
   "outputs": [
    {
     "name": "stdout",
     "output_type": "stream",
     "text": [
      "22854\n"
     ]
    },
    {
     "data": {
      "text/plain": [
       "array(['abuse', 'abused', 'abuses', 'abusing', 'abusive', 'abyss',\n",
       "       'acacia', 'acacias', 'academician', 'academicians', 'accede',\n",
       "       'acceded', 'acceding', 'accelerate', 'accelerated', 'accent',\n",
       "       'accented', 'accents', 'accentuated', 'accept', 'acceptable',\n",
       "       'acceptably', 'acceptance', 'accepted', 'accepting', 'accepts',\n",
       "       'access', 'accessible', 'accession', 'accessory', 'accident',\n",
       "       'accidental', 'accidentally', 'accidently', 'accidents',\n",
       "       'accommodate', 'accommodated', 'accommodating', 'accommodation',\n",
       "       'accommodations', 'accompanied', 'accompanies', 'accompaniment',\n",
       "       'accompaniments', 'accompany', 'accompanying', 'accompli',\n",
       "       'accomplices', 'accomplish', 'accomplished'], dtype='<U20')"
      ]
     },
     "execution_count": 8,
     "metadata": {},
     "output_type": "execute_result"
    }
   ],
   "source": [
    "print(len(vocab))\n",
    "vocab[500:550]  # look at some of the vocabulary"
   ]
  },
  {
   "cell_type": "markdown",
   "metadata": {},
   "source": [
    "### Calculating distance matrix \"by hand\""
   ]
  },
  {
   "cell_type": "code",
   "execution_count": 9,
   "metadata": {},
   "outputs": [
    {
     "data": {
      "text/plain": [
       "array([[   0. , 3856.3, 4182.8, 5119.7, 7113.3, 5280.2],\n",
       "       [3856.3,    0. , 1922.6, 6313.1, 4126.2, 6381.2],\n",
       "       [4182.8, 1922.6,    0. , 6657.4, 4045.3, 6650.3],\n",
       "       [5119.7, 6313.1, 6657.4,    0. , 8363.8, 2591.5],\n",
       "       [7113.3, 4126.2, 4045.3, 8363.8,    0. , 8484.1],\n",
       "       [5280.2, 6381.2, 6650.3, 2591.5, 8484.1,    0. ]])"
      ]
     },
     "execution_count": 9,
     "metadata": {},
     "output_type": "execute_result"
    }
   ],
   "source": [
    "n, _ = dtm.shape\n",
    "\n",
    "dist = np.zeros((n, n))\n",
    "\n",
    "for i in range(n):\n",
    "    for j in range(n):\n",
    "        x, y = dtm[i, :], dtm[j, :]\n",
    "        dist[i, j] = np.sqrt(np.sum((x - y)**2))\n",
    "\n",
    "np.round(dist, 1)"
   ]
  },
  {
   "cell_type": "markdown",
   "metadata": {},
   "source": [
    "### Euclidean distance"
   ]
  },
  {
   "cell_type": "code",
   "execution_count": 10,
   "metadata": {},
   "outputs": [
    {
     "data": {
      "text/plain": [
       "array([[   0. , 3856.3, 4182.8, 5119.7, 7113.3, 5280.2],\n",
       "       [3856.3,    0. , 1922.6, 6313.1, 4126.2, 6381.2],\n",
       "       [4182.8, 1922.6,    0. , 6657.4, 4045.3, 6650.3],\n",
       "       [5119.7, 6313.1, 6657.4,    0. , 8363.8, 2591.5],\n",
       "       [7113.3, 4126.2, 4045.3, 8363.8,    0. , 8484.1],\n",
       "       [5280.2, 6381.2, 6650.3, 2591.5, 8484.1,    0. ]])"
      ]
     },
     "execution_count": 10,
     "metadata": {},
     "output_type": "execute_result"
    }
   ],
   "source": [
    "from sklearn.metrics.pairwise import euclidean_distances\n",
    "\n",
    "dist = euclidean_distances(dtm)\n",
    "\n",
    "np.round(dist, 1)"
   ]
  },
  {
   "cell_type": "code",
   "execution_count": 11,
   "metadata": {},
   "outputs": [
    {
     "name": "stdout",
     "output_type": "stream",
     "text": [
      "data/austen-brontë/Austen_Pride.txt\n",
      "data/austen-brontë/CBronte_Jane.txt\n",
      "Distance between 1 and 3: 6313.08\n"
     ]
    }
   ],
   "source": [
    "print(filenames[1])\n",
    "\n",
    "print(filenames[3])\n",
    "\n",
    "print(\"Distance between 1 and 3: %.2f\" % dist[1, 3])"
   ]
  },
  {
   "cell_type": "markdown",
   "metadata": {},
   "source": [
    "### Cosine similarity"
   ]
  },
  {
   "cell_type": "code",
   "execution_count": 12,
   "metadata": {},
   "outputs": [
    {
     "data": {
      "text/plain": [
       "array([[-0.  ,  0.02,  0.03,  0.05,  0.06,  0.05],\n",
       "       [ 0.02, -0.  ,  0.02,  0.05,  0.04,  0.04],\n",
       "       [ 0.03,  0.02, -0.  ,  0.06,  0.05,  0.05],\n",
       "       [ 0.05,  0.05,  0.06,  0.  ,  0.02,  0.01],\n",
       "       [ 0.06,  0.04,  0.05,  0.02, -0.  ,  0.01],\n",
       "       [ 0.05,  0.04,  0.05,  0.01,  0.01,  0.  ]])"
      ]
     },
     "execution_count": 12,
     "metadata": {},
     "output_type": "execute_result"
    }
   ],
   "source": [
    "from sklearn.metrics.pairwise import cosine_similarity\n",
    "\n",
    "dist = 1 - cosine_similarity(dtm)\n",
    "\n",
    "np.round(dist, 2)"
   ]
  },
  {
   "cell_type": "markdown",
   "metadata": {},
   "source": [
    "### Normalization"
   ]
  },
  {
   "cell_type": "code",
   "execution_count": 13,
   "metadata": {},
   "outputs": [
    {
     "data": {
      "text/plain": [
       "array([[1.  , 0.98, 0.97, 0.95, 0.94, 0.95],\n",
       "       [0.98, 1.  , 0.98, 0.95, 0.96, 0.96],\n",
       "       [0.97, 0.98, 1.  , 0.94, 0.95, 0.95],\n",
       "       [0.95, 0.95, 0.94, 1.  , 0.98, 0.99],\n",
       "       [0.94, 0.96, 0.95, 0.98, 1.  , 0.99],\n",
       "       [0.95, 0.96, 0.95, 0.99, 0.99, 1.  ]])"
      ]
     },
     "execution_count": 13,
     "metadata": {},
     "output_type": "execute_result"
    }
   ],
   "source": [
    "norms = np.sqrt(np.sum(dtm * dtm, axis=1, keepdims=True))\n",
    "\n",
    "dtm_normed = dtm / norms\n",
    "\n",
    "similarities = np.dot(dtm_normed, dtm_normed.T)\n",
    "\n",
    "np.round(similarities, 2)"
   ]
  },
  {
   "cell_type": "markdown",
   "metadata": {},
   "source": [
    "### MDS projection in 2D"
   ]
  },
  {
   "cell_type": "code",
   "execution_count": 14,
   "metadata": {},
   "outputs": [],
   "source": [
    "import os\n",
    "import matplotlib.pyplot as plt\n",
    "from sklearn.manifold import MDS\n",
    "\n",
    "mds = MDS(n_components=2, dissimilarity=\"precomputed\", random_state=1)\n",
    "\n",
    "pos = mds.fit_transform(dist)"
   ]
  },
  {
   "cell_type": "code",
   "execution_count": 15,
   "metadata": {},
   "outputs": [
    {
     "data": {
      "image/png": "[encoded data removed]",
      "text/plain": [
       "<matplotlib.figure.Figure at 0x7fa2cd66cc18>"
      ]
     },
     "metadata": {},
     "output_type": "display_data"
    }
   ],
   "source": [
    "xs, ys = pos[:, 0], pos[:, 1]\n",
    "\n",
    "names = [os.path.basename(fn).replace('.txt', '') for fn in filenames]\n",
    "\n",
    "for x, y, name in zip(xs, ys, names):\n",
    "    color = 'orange' if \"Austen\" in name else 'skyblue'\n",
    "    plt.scatter(x, y, c=color)\n",
    "    plt.text(x, y, name)\n",
    "\n",
    "plt.show()"
   ]
  },
  {
   "cell_type": "markdown",
   "metadata": {},
   "source": [
    "### MDS projection in 3D"
   ]
  },
  {
   "cell_type": "code",
   "execution_count": 16,
   "metadata": {},
   "outputs": [],
   "source": [
    "mds = MDS(n_components=3, dissimilarity=\"precomputed\", random_state=1)\n",
    "\n",
    "pos = mds.fit_transform(dist)"
   ]
  },
  {
   "cell_type": "code",
   "execution_count": 17,
   "metadata": {},
   "outputs": [
    {
     "data": {
      "image/png": "[encoded data removed]",
      "text/plain": [
       "<matplotlib.figure.Figure at 0x7fa2cd66c940>"
      ]
     },
     "metadata": {},
     "output_type": "display_data"
    }
   ],
   "source": [
    "from mpl_toolkits.mplot3d import Axes3D\n",
    "\n",
    "fig = plt.figure()\n",
    "\n",
    "ax = fig.add_subplot(111, projection='3d')\n",
    "\n",
    "ax.scatter(pos[:, 0], pos[:, 1], pos[:, 2])\n",
    "\n",
    "for x, y, z, s in zip(pos[:, 0], pos[:, 1], pos[:, 2], names):\n",
    "    ax.text(x, y, z, s)\n",
    "\n",
    "plt.show()"
   ]
  },
  {
   "cell_type": "markdown",
   "metadata": {},
   "source": [
    "### Clustering texts based on distance"
   ]
  },
  {
   "cell_type": "code",
   "execution_count": 18,
   "metadata": {},
   "outputs": [
    {
     "data": {
      "image/png": "[encoded data removed]",
      "text/plain": [
       "<matplotlib.figure.Figure at 0x7fa2cd6704a8>"
      ]
     },
     "metadata": {},
     "output_type": "display_data"
    }
   ],
   "source": [
    "from scipy.cluster.hierarchy import ward, dendrogram\n",
    "\n",
    "linkage_matrix = ward(dist)\n",
    "\n",
    "dendrogram(linkage_matrix, orientation=\"right\", labels=names)\n",
    "\n",
    "plt.tight_layout()\n",
    "\n",
    "plt.show()"
   ]
  }
 ],
 "metadata": {
  "kernelspec": {
   "display_name": "Python 3",
   "language": "python",
   "name": "python3"
  },
  "language_info": {
   "codemirror_mode": {
    "name": "ipython",
    "version": 3
   },
   "file_extension": ".py",
   "mimetype": "text/x-python",
   "name": "python",
   "nbconvert_exporter": "python",
   "pygments_lexer": "ipython3",
   "version": "3.6.4"
  }
 },
 "nbformat": 4,
 "nbformat_minor": 1
}
