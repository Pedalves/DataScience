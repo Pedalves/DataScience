{
 "cells": [
  {
   "cell_type": "code",
   "execution_count": null,
   "metadata": {
    "collapsed": true
   },
   "outputs": [],
   "source": [
    "import pandas as pd\n",
    "import numpy as np\n",
    "import matplotlib.pyplot as plt\n",
    "import seaborn as sns\n",
    "\n",
    "from time import time"
   ]
  },
  {
   "cell_type": "code",
   "execution_count": null,
   "metadata": {
    "collapsed": true
   },
   "outputs": [],
   "source": [
    "from sklearn import metrics\n",
    "from sklearn.cluster import KMeans\n",
    "from sklearn.datasets import load_digits\n",
    "from sklearn.decomposition import PCA\n",
    "from sklearn.preprocessing import scale"
   ]
  },
  {
   "cell_type": "code",
   "execution_count": null,
   "metadata": {},
   "outputs": [],
   "source": [
    "dfClara = pd.read_csv('in.data/xclara.csv')\n",
    "print(dfClara.shape)\n",
    "print(dfClara.columns)\n",
    "dfClara.head()"
   ]
  },
  {
   "cell_type": "code",
   "execution_count": null,
   "metadata": {},
   "outputs": [],
   "source": [
    "fig,ax = plt.subplots()\n",
    "plt.scatter(x=dfClara.V1, y=dfClara.V2, marker='.', s=10, alpha=0.3)\n",
    "ax.set_xlabel('V1')\n",
    "ax.set_ylabel('V2')\n",
    "ax.set_title('xclara dataset')\n",
    "plt.show()"
   ]
  },
  {
   "cell_type": "code",
   "execution_count": null,
   "metadata": {
    "collapsed": true
   },
   "outputs": [],
   "source": [
    "np.random.seed(1001001)\n",
    "\n",
    "def eval_k_means(estimator, name, data, k):\n",
    "    t0 = time()\n",
    "    estimator.fit(data)\n",
    "    print('%-10s, k=%d: sil=%0.4f' % (name, k, metrics.silhouette_score(data, estimator.labels_,\n",
    "                                      metric='euclidean',\n",
    "                                      sample_size=sample_size)))"
   ]
  },
  {
   "cell_type": "code",
   "execution_count": null,
   "metadata": {},
   "outputs": [],
   "source": [
    "# standardize data\n",
    "data = scale(dfClara)\n",
    "\n",
    "#\n",
    "sample_size=150\n",
    "\n",
    "# \n",
    "best_sil = -999\n",
    "\n",
    "for init in ['k-means++', 'random']:\n",
    "    for k in range(3,8):\n",
    "        estimator = KMeans(init=init, n_clusters=k, n_init=10, max_iter=100)\n",
    "        estimator.fit(data)\n",
    "        sil = metrics.silhouette_score(data, estimator.labels_,\n",
    "                                          metric='euclidean',\n",
    "                                          sample_size=sample_size)\n",
    "        print('%-10s, k=%d: sil=%0.4f' % (init, k, sil))\n",
    "        if sil > best_sil:\n",
    "            best_estimator = estimator\n",
    "            best_sil = sil\n",
    "\n",
    "print('better estimator silhouette: %0.4f (%d clusters, %s)' % (best_sil, best_estimator.n_clusters, best_estimator.init))\n",
    "dfClara['label'] = best_estimator.labels_"
   ]
  },
  {
   "cell_type": "code",
   "execution_count": null,
   "metadata": {},
   "outputs": [],
   "source": [
    "fig,ax = plt.subplots()\n",
    "plt.scatter(x=dfClara.V1, y=dfClara.V2, marker='.', c=dfClara.label, cmap='tab20b', s=10, alpha=0.3)\n",
    "ax.set_xlabel('V1')\n",
    "ax.set_ylabel('V2')\n",
    "ax.set_title('xclara dataset')\n",
    "plt.show()"
   ]
  },
  {
   "cell_type": "markdown",
   "metadata": {},
   "source": [
    "#  Drinks dataset"
   ]
  },
  {
   "cell_type": "code",
   "execution_count": null,
   "metadata": {},
   "outputs": [],
   "source": [
    "dfDrinks = pd.read_csv('in.data/drinks.csv')\n",
    "print(dfDrinks.shape)\n",
    "print(dfDrinks.columns)\n",
    "dfDrinks.head()"
   ]
  },
  {
   "cell_type": "code",
   "execution_count": null,
   "metadata": {},
   "outputs": [],
   "source": [
    "dfDrinks.set_index(['country'], inplace=True)\n",
    "dfDrinks.head()"
   ]
  },
  {
   "cell_type": "code",
   "execution_count": null,
   "metadata": {},
   "outputs": [],
   "source": [
    "dfDrinks.describe()"
   ]
  },
  {
   "cell_type": "code",
   "execution_count": null,
   "metadata": {},
   "outputs": [],
   "source": [
    "sns.pairplot(dfDrinks)\n",
    "plt.show()"
   ]
  },
  {
   "cell_type": "code",
   "execution_count": null,
   "metadata": {},
   "outputs": [],
   "source": [
    "np.random.seed(1001001)\n",
    "\n",
    "def eval_k_means(estimator, name, data, k):\n",
    "    t0 = time()\n",
    "    estimator.fit(data)\n",
    "    print('%-10s, k=%d: sil=%0.4f' % (name, k, metrics.silhouette_score(data, estimator.labels_,\n",
    "                                      metric='euclidean',\n",
    "                                      sample_size=sample_size)))\n",
    "\n",
    "# standardize data\n",
    "data = scale(dfDrinks)\n",
    "\n",
    "#\n",
    "sample_size=150\n",
    "\n",
    "# \n",
    "best_sil = -999\n",
    "\n",
    "for init in ['k-means++', 'random']:\n",
    "    for k in range(3,8):\n",
    "        estimator = KMeans(init=init, n_clusters=k, n_init=10, max_iter=100)\n",
    "        estimator.fit(data)\n",
    "        sil = metrics.silhouette_score(data, estimator.labels_,\n",
    "                                          metric='euclidean',\n",
    "                                          sample_size=sample_size)\n",
    "        print('%-10s, k=%d: sil=%0.4f' % (init, k, sil))\n",
    "        if sil > best_sil:\n",
    "            best_estimator = estimator\n",
    "            best_sil = sil\n",
    "\n",
    "print('better estimator silhouette: %0.4f (%d clusters, %s)' % (best_sil, best_estimator.n_clusters, best_estimator.init))\n",
    "dfDrinks['label'] = best_estimator.labels_"
   ]
  },
  {
   "cell_type": "code",
   "execution_count": null,
   "metadata": {},
   "outputs": [],
   "source": [
    "sns.pairplot(data=dfDrinks, vars=['beer_servings', 'spirit_servings', 'wine_servings', 'total_litres_of_pure_alcohol'], hue='label')\n",
    "plt.show()"
   ]
  },
  {
   "cell_type": "markdown",
   "metadata": {},
   "source": [
    "# K-means vs. Spectral clustering"
   ]
  },
  {
   "cell_type": "code",
   "execution_count": null,
   "metadata": {},
   "outputs": [],
   "source": [
    "from sklearn import datasets\n",
    "from sklearn.cluster import SpectralClustering, AgglomerativeClustering\n",
    "from sklearn.neighbors import kneighbors_graph\n",
    "\n",
    "def fit_kmeans(df, k):\n",
    "    X,y = df\n",
    "    model = KMeans(init='random', n_clusters=k, n_init=10, max_iter=100)\n",
    "    labels = model.fit_predict(X,y)\n",
    "    df1 = pd.DataFrame(X)\n",
    "    df1['y'] = y\n",
    "    df1['label'] = labels\n",
    "    return df1\n",
    "\n",
    "def fit_agglomerative(df, k):\n",
    "    X,y = df\n",
    "    connectivity = kneighbors_graph(X, n_neighbors=10, include_self=False)\n",
    "    # make connectivity symmetric\n",
    "    connectivity = 0.5 * (connectivity + connectivity.T)    \n",
    "    model = AgglomerativeClustering(n_clusters=k, linkage=\"average\", affinity=\"cityblock\", connectivity=connectivity)\n",
    "    labels = model.fit_predict(X,y)\n",
    "    df1 = pd.DataFrame(X)\n",
    "    df1['y'] = y\n",
    "    df1['label'] = labels\n",
    "    return df1\n",
    "\n",
    "def fit_spectral(df, k):\n",
    "    X,y = df\n",
    "    model = SpectralClustering(n_clusters=k, affinity='nearest_neighbors', assign_labels='kmeans')\n",
    "    labels = model.fit_predict(X,y)\n",
    "    df1 = pd.DataFrame(X)\n",
    "    df1['y'] = y\n",
    "    df1['label'] = labels\n",
    "    return df1\n",
    "\n",
    "    \n",
    "n_samples = 1500\n",
    "\n",
    "noisy_circles = datasets.make_circles(n_samples=n_samples, factor=.5, noise=.05)\n",
    "noisy_moons = datasets.make_moons(n_samples=n_samples, noise=.05)\n",
    "blobs = datasets.make_blobs(n_samples=n_samples, random_state=4)\n",
    "\n",
    "dfS1 = fit_spectral(noisy_circles, k=2)\n",
    "dfS2 = fit_spectral(noisy_moons, k=2)\n",
    "dfS3 = fit_spectral(blobs, k=2)\n",
    "\n",
    "dfK1 = fit_kmeans(noisy_circles, k=2)\n",
    "dfK2 = fit_kmeans(noisy_moons, k=2)\n",
    "dfK3 = fit_kmeans(blobs, k=2)\n",
    "\n",
    "dfA1 = fit_agglomerative(noisy_circles, k=2)\n",
    "dfA2 = fit_agglomerative(noisy_moons, k=2)\n",
    "dfA3 = fit_agglomerative(blobs, k=2)\n",
    "\n"
   ]
  },
  {
   "cell_type": "code",
   "execution_count": null,
   "metadata": {},
   "outputs": [],
   "source": [
    "fig, (ax1, ax2, ax3) = plt.subplots(nrows=1, ncols=3, figsize=(20,5))\n",
    "ax1.scatter(dfS1[0], dfS1[1], c=dfS1.label)\n",
    "ax1.set_title('circles')\n",
    "ax2.scatter(dfS2[0], dfS2[1], c=dfS2.label)\n",
    "ax2.set_title('moons')\n",
    "ax3.scatter(dfS3[0], dfS3[1], c=dfS3.label)\n",
    "ax3.set_title('blobs')\n",
    "plt.suptitle('Spectral', y=0.98)\n",
    "\n",
    "fig, (ax4, ax5, ax6) = plt.subplots(nrows=1, ncols=3, figsize=(20,5))\n",
    "ax4.scatter(dfA1[0], dfA1[1], c=dfA1.label)\n",
    "ax4.set_title('circles')\n",
    "ax5.scatter(dfA2[0], dfA2[1], c=dfA2.label)\n",
    "ax5.set_title('moons')\n",
    "ax6.scatter(dfA3[0], dfA3[1], c=dfA3.label)\n",
    "ax6.set_title('blobs')\n",
    "plt.suptitle('Agglomerative', y=0.98)\n",
    "\n",
    "fig, (ax1, ax2, ax3) = plt.subplots(nrows=1, ncols=3, figsize=(20,5))\n",
    "ax1.scatter(dfK1[0], dfK1[1], c=dfK1.label)\n",
    "ax1.set_title('circles')\n",
    "ax2.scatter(dfK2[0], dfK2[1], c=dfK2.label)\n",
    "ax2.set_title('moons')\n",
    "ax3.scatter(dfK3[0], dfK3[1], c=dfK3.label)\n",
    "ax4.set_title('blobs')\n",
    "plt.suptitle('K-means', y=0.98)\n",
    "plt.show()"
   ]
  },
  {
   "cell_type": "code",
   "execution_count": null,
   "metadata": {
    "collapsed": true
   },
   "outputs": [],
   "source": []
  }
 ],
 "metadata": {
  "kernelspec": {
   "display_name": "Python 3",
   "language": "python",
   "name": "python3"
  },
  "language_info": {
   "codemirror_mode": {
    "name": "ipython",
    "version": 3
   },
   "file_extension": ".py",
   "mimetype": "text/x-python",
   "name": "python",
   "nbconvert_exporter": "python",
   "pygments_lexer": "ipython3",
   "version": "3.6.3"
  }
 },
 "nbformat": 4,
 "nbformat_minor": 2
}
