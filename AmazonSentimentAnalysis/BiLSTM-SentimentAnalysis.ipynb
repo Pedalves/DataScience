{
 "cells": [
  {
   "cell_type": "code",
   "execution_count": 1,
   "metadata": {},
   "outputs": [
    {
     "name": "stdout",
     "output_type": "stream",
     "text": [
      "Requirement already satisfied: tqdm in /home/pedalv/miniconda3/envs/jupyter/lib/python3.6/site-packages (4.23.2)\n",
      "\u001b[33mYou are using pip version 10.0.0, however version 10.0.1 is available.\n",
      "You should consider upgrading via the 'pip install --upgrade pip' command.\u001b[0m\n",
      "Requirement already satisfied: nltk in /home/pedalv/miniconda3/envs/jupyter/lib/python3.6/site-packages (3.2.5)\n",
      "Requirement already satisfied: six in /home/pedalv/miniconda3/envs/jupyter/lib/python3.6/site-packages (from nltk) (1.11.0)\n",
      "\u001b[33mYou are using pip version 10.0.0, however version 10.0.1 is available.\n",
      "You should consider upgrading via the 'pip install --upgrade pip' command.\u001b[0m\n",
      "Requirement already satisfied: tensorflow in /home/pedalv/miniconda3/envs/jupyter/lib/python3.6/site-packages (1.8.0)\n",
      "Requirement already satisfied: gast>=0.2.0 in /home/pedalv/miniconda3/envs/jupyter/lib/python3.6/site-packages (from tensorflow) (0.2.0)\n",
      "Requirement already satisfied: six>=1.10.0 in /home/pedalv/miniconda3/envs/jupyter/lib/python3.6/site-packages (from tensorflow) (1.11.0)\n",
      "Requirement already satisfied: wheel>=0.26 in /home/pedalv/miniconda3/envs/jupyter/lib/python3.6/site-packages (from tensorflow) (0.30.0)\n",
      "Requirement already satisfied: tensorboard<1.9.0,>=1.8.0 in /home/pedalv/miniconda3/envs/jupyter/lib/python3.6/site-packages (from tensorflow) (1.8.0)\n",
      "Requirement already satisfied: termcolor>=1.1.0 in /home/pedalv/miniconda3/envs/jupyter/lib/python3.6/site-packages (from tensorflow) (1.1.0)\n",
      "Requirement already satisfied: absl-py>=0.1.6 in /home/pedalv/miniconda3/envs/jupyter/lib/python3.6/site-packages (from tensorflow) (0.1.10)\n",
      "Requirement already satisfied: protobuf>=3.4.0 in /home/pedalv/miniconda3/envs/jupyter/lib/python3.6/site-packages (from tensorflow) (3.5.1)\n",
      "Requirement already satisfied: numpy>=1.13.3 in /home/pedalv/miniconda3/envs/jupyter/lib/python3.6/site-packages (from tensorflow) (1.14.0)\n",
      "Requirement already satisfied: grpcio>=1.8.6 in /home/pedalv/miniconda3/envs/jupyter/lib/python3.6/site-packages (from tensorflow) (1.11.0)\n",
      "Requirement already satisfied: astor>=0.6.0 in /home/pedalv/miniconda3/envs/jupyter/lib/python3.6/site-packages (from tensorflow) (0.6.2)\n",
      "Requirement already satisfied: markdown>=2.6.8 in /home/pedalv/miniconda3/envs/jupyter/lib/python3.6/site-packages (from tensorboard<1.9.0,>=1.8.0->tensorflow) (2.6.11)\n",
      "Requirement already satisfied: html5lib==0.9999999 in /home/pedalv/miniconda3/envs/jupyter/lib/python3.6/site-packages (from tensorboard<1.9.0,>=1.8.0->tensorflow) (0.9999999)\n",
      "Requirement already satisfied: bleach==1.5.0 in /home/pedalv/miniconda3/envs/jupyter/lib/python3.6/site-packages (from tensorboard<1.9.0,>=1.8.0->tensorflow) (1.5.0)\n",
      "Requirement already satisfied: werkzeug>=0.11.10 in /home/pedalv/miniconda3/envs/jupyter/lib/python3.6/site-packages (from tensorboard<1.9.0,>=1.8.0->tensorflow) (0.14.1)\n",
      "Requirement already satisfied: setuptools in /home/pedalv/miniconda3/envs/jupyter/lib/python3.6/site-packages (from protobuf>=3.4.0->tensorflow) (38.4.0)\n",
      "\u001b[33mYou are using pip version 10.0.0, however version 10.0.1 is available.\n",
      "You should consider upgrading via the 'pip install --upgrade pip' command.\u001b[0m\n",
      "Requirement already satisfied: gensim in /home/pedalv/miniconda3/envs/jupyter/lib/python3.6/site-packages (3.4.0)\n",
      "Requirement already satisfied: six>=1.5.0 in /home/pedalv/miniconda3/envs/jupyter/lib/python3.6/site-packages (from gensim) (1.11.0)\n",
      "Requirement already satisfied: numpy>=1.11.3 in /home/pedalv/miniconda3/envs/jupyter/lib/python3.6/site-packages (from gensim) (1.14.0)\n",
      "Requirement already satisfied: scipy>=0.18.1 in /home/pedalv/miniconda3/envs/jupyter/lib/python3.6/site-packages (from gensim) (1.0.0)\n",
      "Requirement already satisfied: smart-open>=1.2.1 in /home/pedalv/miniconda3/envs/jupyter/lib/python3.6/site-packages (from gensim) (1.5.7)\n",
      "Requirement already satisfied: requests in /home/pedalv/miniconda3/envs/jupyter/lib/python3.6/site-packages (from smart-open>=1.2.1->gensim) (2.18.4)\n",
      "Requirement already satisfied: bz2file in /home/pedalv/miniconda3/envs/jupyter/lib/python3.6/site-packages (from smart-open>=1.2.1->gensim) (0.98)\n",
      "Requirement already satisfied: boto3 in /home/pedalv/miniconda3/envs/jupyter/lib/python3.6/site-packages (from smart-open>=1.2.1->gensim) (1.7.4)\n",
      "Requirement already satisfied: boto>=2.32 in /home/pedalv/miniconda3/envs/jupyter/lib/python3.6/site-packages (from smart-open>=1.2.1->gensim) (2.48.0)\n",
      "Requirement already satisfied: urllib3<1.23,>=1.21.1 in /home/pedalv/miniconda3/envs/jupyter/lib/python3.6/site-packages (from requests->smart-open>=1.2.1->gensim) (1.22)\n",
      "Requirement already satisfied: idna<2.7,>=2.5 in /home/pedalv/miniconda3/envs/jupyter/lib/python3.6/site-packages (from requests->smart-open>=1.2.1->gensim) (2.6)\n",
      "Requirement already satisfied: certifi>=2017.4.17 in /home/pedalv/miniconda3/envs/jupyter/lib/python3.6/site-packages (from requests->smart-open>=1.2.1->gensim) (2018.1.18)\n",
      "Requirement already satisfied: chardet<3.1.0,>=3.0.2 in /home/pedalv/miniconda3/envs/jupyter/lib/python3.6/site-packages (from requests->smart-open>=1.2.1->gensim) (3.0.4)\n",
      "Requirement already satisfied: jmespath<1.0.0,>=0.7.1 in /home/pedalv/miniconda3/envs/jupyter/lib/python3.6/site-packages (from boto3->smart-open>=1.2.1->gensim) (0.9.3)\n",
      "Requirement already satisfied: s3transfer<0.2.0,>=0.1.10 in /home/pedalv/miniconda3/envs/jupyter/lib/python3.6/site-packages (from boto3->smart-open>=1.2.1->gensim) (0.1.13)\n",
      "Requirement already satisfied: botocore<1.11.0,>=1.10.4 in /home/pedalv/miniconda3/envs/jupyter/lib/python3.6/site-packages (from boto3->smart-open>=1.2.1->gensim) (1.10.4)\n",
      "Requirement already satisfied: docutils>=0.10 in /home/pedalv/miniconda3/envs/jupyter/lib/python3.6/site-packages (from botocore<1.11.0,>=1.10.4->boto3->smart-open>=1.2.1->gensim) (0.14)\n",
      "Requirement already satisfied: python-dateutil<2.7.0,>=2.1 in /home/pedalv/miniconda3/envs/jupyter/lib/python3.6/site-packages (from botocore<1.11.0,>=1.10.4->boto3->smart-open>=1.2.1->gensim) (2.6.1)\n",
      "\u001b[33mYou are using pip version 10.0.0, however version 10.0.1 is available.\n",
      "You should consider upgrading via the 'pip install --upgrade pip' command.\u001b[0m\n",
      "Requirement already satisfied: bz2file in /home/pedalv/miniconda3/envs/jupyter/lib/python3.6/site-packages (0.98)\n",
      "\u001b[33mYou are using pip version 10.0.0, however version 10.0.1 is available.\n",
      "You should consider upgrading via the 'pip install --upgrade pip' command.\u001b[0m\n"
     ]
    }
   ],
   "source": [
    "!pip install tqdm\n",
    "!pip install nltk\n",
    "!pip install tensorflow\n",
    "!pip install gensim\n",
    "!pip install bz2file"
   ]
  },
  {
   "cell_type": "code",
   "execution_count": 32,
   "metadata": {},
   "outputs": [],
   "source": [
    "import pandas as pd\n",
    "import bz2\n",
    "import numpy as np \n",
    "import re\n",
    "import nltk\n",
    "import gensim.models.word2vec as word2vec\n",
    "import tqdm\n",
    "import multiprocessing\n",
    "import os\n",
    "import matplotlib.pyplot as plt\n",
    "\n",
    "%matplotlib inline"
   ]
  },
  {
   "cell_type": "code",
   "execution_count": 3,
   "metadata": {},
   "outputs": [],
   "source": [
    "# existe uma api do proprio kaggle para download de seus datasets, entretanto é preciso configuracao de credencial \n",
    "# oque nao seria viavel dentro de um notebook, pedimos entao que por favor faça o download do dataset e bote na\n",
    "# pasta do projeto\n",
    "\n",
    "# https://www.kaggle.com/bittlingmayer/amazonreviews/downloads/amazonreviews.zip/2\n",
    "\n",
    "import zipfile\n",
    "zip_ref = zipfile.ZipFile('amazonreviews.zip', 'r')\n",
    "zip_ref.extractall()\n",
    "zip_ref.close()"
   ]
  },
  {
   "cell_type": "code",
   "execution_count": 4,
   "metadata": {},
   "outputs": [],
   "source": [
    "train_file = bz2.BZ2File('train.ft.txt.bz2')\n",
    "test_file = bz2.BZ2File('test.ft.txt.bz2')"
   ]
  },
  {
   "cell_type": "code",
   "execution_count": 5,
   "metadata": {},
   "outputs": [],
   "source": [
    "train_file_lines = train_file.readlines()\n",
    "test_file_lines = test_file.readlines()\n",
    "\n",
    "train_file_lines = [x.decode('utf-8') for x in train_file_lines]\n",
    "test_file_lines = [x.decode('utf-8') for x in test_file_lines]"
   ]
  },
  {
   "cell_type": "code",
   "execution_count": 6,
   "metadata": {},
   "outputs": [
    {
     "data": {
      "text/plain": [
       "'__label__2 Stuning even for the non-gamer: This sound track was beautiful! It paints the senery in your mind so well I would recomend it even to people who hate vid. game music! I have played the game Chrono Cross but out of all of the games I have ever played it has the best music! It backs away from crude keyboarding and takes a fresher step with grate guitars and soulful orchestras. It would impress anyone who cares to listen! ^_^\\n'"
      ]
     },
     "execution_count": 6,
     "metadata": {},
     "output_type": "execute_result"
    }
   ],
   "source": [
    "train_file_lines[0]"
   ]
  },
  {
   "cell_type": "markdown",
   "metadata": {},
   "source": [
    "Utilizamos um tamanho reduzido do dataset devido ao altissimo valor de memoria allocada e tempo de processamento para o dataset completo"
   ]
  },
  {
   "cell_type": "code",
   "execution_count": 8,
   "metadata": {},
   "outputs": [
    {
     "name": "stderr",
     "output_type": "stream",
     "text": [
      " 80%|███████▉  | 399118/500000 [00:09<00:02, 39973.68it/s]/home/pedalv/miniconda3/envs/jupyter/lib/python3.6/site-packages/tqdm/_monitor.py:89: TqdmSynchronisationWarning: Set changed size during iteration (see https://github.com/tqdm/tqdm/issues/481)\n",
      "  TqdmSynchronisationWarning)\n",
      "100%|██████████| 500000/500000 [00:13<00:00, 38093.57it/s]\n"
     ]
    }
   ],
   "source": [
    "temp = []\n",
    "corpus_raw = u\"\"\n",
    "for line in tqdm.tqdm(train_file_lines[:500000]):\n",
    "    text = re.sub('__label__', '', line)\n",
    "    sentiment = int(text[0]) - 1\n",
    "    clean_text = re.sub(\"[^a-zA-Z]\",\" \", text[1:])\n",
    "    \n",
    "    corpus_raw += text[1:]\n",
    "    \n",
    "    temp.append([clean_text, sentiment])"
   ]
  },
  {
   "cell_type": "code",
   "execution_count": 9,
   "metadata": {},
   "outputs": [
    {
     "data": {
      "text/html": [
       "<div>\n",
       "<style scoped>\n",
       "    .dataframe tbody tr th:only-of-type {\n",
       "        vertical-align: middle;\n",
       "    }\n",
       "\n",
       "    .dataframe tbody tr th {\n",
       "        vertical-align: top;\n",
       "    }\n",
       "\n",
       "    .dataframe thead th {\n",
       "        text-align: right;\n",
       "    }\n",
       "</style>\n",
       "<table border=\"1\" class=\"dataframe\">\n",
       "  <thead>\n",
       "    <tr style=\"text-align: right;\">\n",
       "      <th></th>\n",
       "      <th>Review</th>\n",
       "      <th>Sentiment</th>\n",
       "    </tr>\n",
       "  </thead>\n",
       "  <tbody>\n",
       "    <tr>\n",
       "      <th>0</th>\n",
       "      <td>Stuning even for the non gamer  This sound tr...</td>\n",
       "      <td>1</td>\n",
       "    </tr>\n",
       "    <tr>\n",
       "      <th>1</th>\n",
       "      <td>The best soundtrack ever to anything   I m re...</td>\n",
       "      <td>1</td>\n",
       "    </tr>\n",
       "    <tr>\n",
       "      <th>2</th>\n",
       "      <td>Amazing   This soundtrack is my favorite musi...</td>\n",
       "      <td>1</td>\n",
       "    </tr>\n",
       "    <tr>\n",
       "      <th>3</th>\n",
       "      <td>Excellent Soundtrack  I truly like this sound...</td>\n",
       "      <td>1</td>\n",
       "    </tr>\n",
       "    <tr>\n",
       "      <th>4</th>\n",
       "      <td>Remember  Pull Your Jaw Off The Floor After H...</td>\n",
       "      <td>1</td>\n",
       "    </tr>\n",
       "  </tbody>\n",
       "</table>\n",
       "</div>"
      ],
      "text/plain": [
       "                                              Review  Sentiment\n",
       "0   Stuning even for the non gamer  This sound tr...          1\n",
       "1   The best soundtrack ever to anything   I m re...          1\n",
       "2   Amazing   This soundtrack is my favorite musi...          1\n",
       "3   Excellent Soundtrack  I truly like this sound...          1\n",
       "4   Remember  Pull Your Jaw Off The Floor After H...          1"
      ]
     },
     "execution_count": 9,
     "metadata": {},
     "output_type": "execute_result"
    }
   ],
   "source": [
    "df = pd.DataFrame(temp, columns=['Review', 'Sentiment'])\n",
    "df.head()"
   ]
  },
  {
   "cell_type": "markdown",
   "metadata": {},
   "source": [
    "Conferimos se nosso dataset se encontra balanceado, ou seja, um numero similar entre reviews negativos e positivos"
   ]
  },
  {
   "cell_type": "code",
   "execution_count": 10,
   "metadata": {},
   "outputs": [
    {
     "data": {
      "text/plain": [
       "<matplotlib.axes._subplots.AxesSubplot at 0x7f24ccc5f978>"
      ]
     },
     "execution_count": 10,
     "metadata": {},
     "output_type": "execute_result"
    },
    {
     "data": {
      "image/png": "[encoded data removed]",
      "text/plain": [
       "<matplotlib.figure.Figure at 0x7f2559be4898>"
      ]
     },
     "metadata": {},
     "output_type": "display_data"
    }
   ],
   "source": [
    "df['Sentiment'].value_counts().plot(kind='bar', color=['blue', 'red'])"
   ]
  },
  {
   "cell_type": "code",
   "execution_count": 11,
   "metadata": {},
   "outputs": [
    {
     "data": {
      "text/html": [
       "<div>\n",
       "<style scoped>\n",
       "    .dataframe tbody tr th:only-of-type {\n",
       "        vertical-align: middle;\n",
       "    }\n",
       "\n",
       "    .dataframe tbody tr th {\n",
       "        vertical-align: top;\n",
       "    }\n",
       "\n",
       "    .dataframe thead th {\n",
       "        text-align: right;\n",
       "    }\n",
       "</style>\n",
       "<table border=\"1\" class=\"dataframe\">\n",
       "  <thead>\n",
       "    <tr style=\"text-align: right;\">\n",
       "      <th></th>\n",
       "      <th>Sentiment</th>\n",
       "    </tr>\n",
       "  </thead>\n",
       "  <tbody>\n",
       "    <tr>\n",
       "      <th>count</th>\n",
       "      <td>500000.000000</td>\n",
       "    </tr>\n",
       "    <tr>\n",
       "      <th>mean</th>\n",
       "      <td>0.505564</td>\n",
       "    </tr>\n",
       "    <tr>\n",
       "      <th>std</th>\n",
       "      <td>0.499970</td>\n",
       "    </tr>\n",
       "    <tr>\n",
       "      <th>min</th>\n",
       "      <td>0.000000</td>\n",
       "    </tr>\n",
       "    <tr>\n",
       "      <th>25%</th>\n",
       "      <td>0.000000</td>\n",
       "    </tr>\n",
       "    <tr>\n",
       "      <th>50%</th>\n",
       "      <td>1.000000</td>\n",
       "    </tr>\n",
       "    <tr>\n",
       "      <th>75%</th>\n",
       "      <td>1.000000</td>\n",
       "    </tr>\n",
       "    <tr>\n",
       "      <th>max</th>\n",
       "      <td>1.000000</td>\n",
       "    </tr>\n",
       "  </tbody>\n",
       "</table>\n",
       "</div>"
      ],
      "text/plain": [
       "           Sentiment\n",
       "count  500000.000000\n",
       "mean        0.505564\n",
       "std         0.499970\n",
       "min         0.000000\n",
       "25%         0.000000\n",
       "50%         1.000000\n",
       "75%         1.000000\n",
       "max         1.000000"
      ]
     },
     "execution_count": 11,
     "metadata": {},
     "output_type": "execute_result"
    }
   ],
   "source": [
    "df.describe()"
   ]
  },
  {
   "cell_type": "markdown",
   "metadata": {},
   "source": [
    "# Train Word2Vec"
   ]
  },
  {
   "cell_type": "markdown",
   "metadata": {},
   "source": [
    "O word2vec vetoriza cada palavra do corpus levando em consideração o contexto no qual é usada, deste modo palavras de contexto parecidos são espacialmente próximas"
   ]
  },
  {
   "cell_type": "code",
   "execution_count": 12,
   "metadata": {},
   "outputs": [
    {
     "data": {
      "text/plain": [
       "' Stuning even for the non-gamer: This sound track was beautiful! It paints the senery in your mind so well I would recomend it even to people who hate vid. game music! I have played the game Chrono Cross but out of all of the games I have ever played it has the best music! It backs away from crude keyboarding and takes a fresher step with grate guitars and soulful orchestras. It would impress anyo'"
      ]
     },
     "execution_count": 12,
     "metadata": {},
     "output_type": "execute_result"
    }
   ],
   "source": [
    "corpus_raw[0:400]"
   ]
  },
  {
   "cell_type": "markdown",
   "metadata": {},
   "source": [
    "Precisamos separar as sentecas para que nosso modelo Word2Vec entenda o contexto das palavras"
   ]
  },
  {
   "cell_type": "code",
   "execution_count": 13,
   "metadata": {},
   "outputs": [],
   "source": [
    "tokenizer = nltk.data.load('tokenizers/punkt/english.pickle')\n",
    "\n",
    "raw_sentences = tokenizer.tokenize(corpus_raw)\n",
    "del corpus_raw"
   ]
  },
  {
   "cell_type": "code",
   "execution_count": 14,
   "metadata": {},
   "outputs": [
    {
     "data": {
      "text/plain": [
       "2442780"
      ]
     },
     "execution_count": 14,
     "metadata": {},
     "output_type": "execute_result"
    }
   ],
   "source": [
    "len(raw_sentences)"
   ]
  },
  {
   "cell_type": "code",
   "execution_count": 15,
   "metadata": {},
   "outputs": [
    {
     "data": {
      "text/plain": [
       "[' Stuning even for the non-gamer: This sound track was beautiful!',\n",
       " 'It paints the senery in your mind so well I would recomend it even to people who hate vid.']"
      ]
     },
     "execution_count": 15,
     "metadata": {},
     "output_type": "execute_result"
    }
   ],
   "source": [
    "raw_sentences[0:2]"
   ]
  },
  {
   "cell_type": "markdown",
   "metadata": {},
   "source": [
    "Vamos fazer uma função para gerar uma lista de palavras para o input de nosso modelo de Word2Vec e para limpar o texto de tudo que não seja palavra, como por exemplo pontuação e números"
   ]
  },
  {
   "cell_type": "code",
   "execution_count": 16,
   "metadata": {},
   "outputs": [],
   "source": [
    "def sentence_to_wordlist(raw):\n",
    "    clean = re.sub(\"[^a-zA-Z]\",\" \", raw)\n",
    "    words = clean.split()\n",
    "    return words"
   ]
  },
  {
   "cell_type": "code",
   "execution_count": 17,
   "metadata": {},
   "outputs": [
    {
     "name": "stderr",
     "output_type": "stream",
     "text": [
      " 52%|█████▏    | 1272601/2442780 [00:09<00:09, 127577.19it/s]/home/pedalv/miniconda3/envs/jupyter/lib/python3.6/site-packages/tqdm/_monitor.py:89: TqdmSynchronisationWarning: Set changed size during iteration (see https://github.com/tqdm/tqdm/issues/481)\n",
      "  TqdmSynchronisationWarning)\n",
      "100%|██████████| 2442780/2442780 [00:19<00:00, 128443.61it/s]"
     ]
    },
    {
     "name": "stdout",
     "output_type": "stream",
     "text": [
      "[['Stuning', 'even', 'for', 'the', 'non', 'gamer', 'This', 'sound', 'track', 'was', 'beautiful'], ['It', 'paints', 'the', 'senery', 'in', 'your', 'mind', 'so', 'well', 'I', 'would', 'recomend', 'it', 'even', 'to', 'people', 'who', 'hate', 'vid']]\n"
     ]
    },
    {
     "name": "stderr",
     "output_type": "stream",
     "text": [
      "\n"
     ]
    }
   ],
   "source": [
    "sentences = []\n",
    "\n",
    "for raw_sentence in tqdm.tqdm(raw_sentences):\n",
    "    if len(raw_sentence) > 0:\n",
    "        sentences.append(sentence_to_wordlist(raw_sentence))\n",
    "        \n",
    "del raw_sentences\n",
    "print(sentences[0:2])"
   ]
  },
  {
   "cell_type": "code",
   "execution_count": 18,
   "metadata": {},
   "outputs": [
    {
     "name": "stdout",
     "output_type": "stream",
     "text": [
      "The corpus contains 40,763,261 tokens\n"
     ]
    }
   ],
   "source": [
    "token_count = sum([len(sentence) for sentence in sentences])\n",
    "print(\"The corpus contains {0:,} tokens\".format(token_count))"
   ]
  },
  {
   "cell_type": "code",
   "execution_count": 19,
   "metadata": {},
   "outputs": [],
   "source": [
    "# quantidade de features para cada palavra\n",
    "num_features = 50"
   ]
  },
  {
   "cell_type": "code",
   "execution_count": 20,
   "metadata": {},
   "outputs": [],
   "source": [
    "min_word_count = 3\n",
    "num_workers = multiprocessing.cpu_count()\n",
    "context_size = 7\n",
    "downsampling = 1e-3\n",
    "\n",
    "word2vec_model = word2vec.Word2Vec(\n",
    "    sg=1,\n",
    "    workers=num_workers,\n",
    "    size=num_features,\n",
    "    min_count=min_word_count,\n",
    "    window=context_size,\n",
    "    sample=downsampling\n",
    ")\n",
    "\n",
    "word2vec_model.build_vocab(sentences)"
   ]
  },
  {
   "cell_type": "code",
   "execution_count": 21,
   "metadata": {},
   "outputs": [
    {
     "name": "stdout",
     "output_type": "stream",
     "text": [
      "Word2Vec vocabulary length: 2442780\n"
     ]
    }
   ],
   "source": [
    "print(\"Word2Vec vocabulary length:\", word2vec_model.corpus_count)"
   ]
  },
  {
   "cell_type": "code",
   "execution_count": 22,
   "metadata": {},
   "outputs": [
    {
     "data": {
      "text/plain": [
       "(155756008, 203816305)"
      ]
     },
     "execution_count": 22,
     "metadata": {},
     "output_type": "execute_result"
    }
   ],
   "source": [
    "word2vec_model.train(sentences=sentences, total_examples=word2vec_model.corpus_count, epochs=word2vec_model.epochs)"
   ]
  },
  {
   "cell_type": "markdown",
   "metadata": {},
   "source": [
    "Para evitar perda de tempo futuramente, salvamos o modelo treinado"
   ]
  },
  {
   "cell_type": "code",
   "execution_count": null,
   "metadata": {},
   "outputs": [],
   "source": [
    "if not os.path.exists(\"trained\"):\n",
    "    os.makedirs(\"trained\")\n",
    "\n",
    "word2vec_model.save(os.path.join(\"trained\", \"word2vec.w2v\"))"
   ]
  },
  {
   "cell_type": "markdown",
   "metadata": {},
   "source": [
    "# Load Word2Vec"
   ]
  },
  {
   "cell_type": "markdown",
   "metadata": {},
   "source": [
    "Caso já exista um modelo localmente, não existe a necessidade de um novo treinamento"
   ]
  },
  {
   "cell_type": "code",
   "execution_count": 23,
   "metadata": {},
   "outputs": [],
   "source": [
    "word2vec_model = word2vec.Word2Vec.load(os.path.join(\"trained\", \"word2vec.w2v\"))"
   ]
  },
  {
   "cell_type": "markdown",
   "metadata": {},
   "source": [
    "Uma grande vantagem em utilizar o Word2Vec é que palavras que são utilizadas em contextos parecidos sem encontram espacialmente próximas, para confirmar isso veremos a similaridade de algumas palavras "
   ]
  },
  {
   "cell_type": "code",
   "execution_count": 27,
   "metadata": {},
   "outputs": [],
   "source": [
    "# vamos plotar um tamanho com o numero reduzido de palavras para facilitar a visualizacao\n",
    "vocab = list(word2vec_model.wv.vocab)\n",
    "plotX = word2vec_model.wv[vocab[:200]]"
   ]
  },
  {
   "cell_type": "code",
   "execution_count": 28,
   "metadata": {},
   "outputs": [],
   "source": [
    "from sklearn.manifold import TSNE\n",
    "\n",
    "tsne = TSNE(n_components=2)\n",
    "X_tsne = tsne.fit_transform(plotX)"
   ]
  },
  {
   "cell_type": "code",
   "execution_count": 30,
   "metadata": {},
   "outputs": [],
   "source": [
    "plot_df = pd.DataFrame(X_tsne, index=vocab[:200], columns=['x', 'y'])"
   ]
  },
  {
   "cell_type": "code",
   "execution_count": 35,
   "metadata": {},
   "outputs": [
    {
     "data": {
      "image/png": "[encoded data removed]",
      "text/plain": [
       "<matplotlib.figure.Figure at 0x7f23a1ac9d68>"
      ]
     },
     "metadata": {},
     "output_type": "display_data"
    }
   ],
   "source": [
    "fig = plt.figure()\n",
    "ax = fig.add_subplot(1, 1, 1)\n",
    "\n",
    "ax.scatter(plot_df['x'], plot_df['y'])\n",
    "for word, pos in plot_df.iterrows():\n",
    "    ax.annotate(word, pos)"
   ]
  },
  {
   "cell_type": "markdown",
   "metadata": {},
   "source": [
    "é possivel visualizar no canto superior esquerdo que has se encontra próximo de have, oque faz sentido"
   ]
  },
  {
   "cell_type": "code",
   "execution_count": 24,
   "metadata": {},
   "outputs": [
    {
     "data": {
      "text/plain": [
       "[('religious', 0.9126484990119934),\n",
       " ('feminism', 0.8984538316726685),\n",
       " ('beliefs', 0.8751451969146729),\n",
       " ('philosophy', 0.8727445602416992),\n",
       " ('Judaism', 0.8704853057861328),\n",
       " ('Christianity', 0.8699238300323486),\n",
       " ('pagan', 0.8640955686569214),\n",
       " ('polygamy', 0.8609815835952759),\n",
       " ('dogma', 0.8601607084274292),\n",
       " ('christianity', 0.8583727478981018)]"
      ]
     },
     "execution_count": 24,
     "metadata": {},
     "output_type": "execute_result"
    }
   ],
   "source": [
    "word2vec_model.wv.most_similar(\"religion\")"
   ]
  },
  {
   "cell_type": "code",
   "execution_count": 25,
   "metadata": {},
   "outputs": [
    {
     "data": {
      "text/plain": [
       "[('great', 0.9000533819198608),\n",
       " ('decent', 0.8518530130386353),\n",
       " ('geat', 0.8289124369621277),\n",
       " ('ok', 0.8229893445968628),\n",
       " ('iffy', 0.8221654891967773),\n",
       " ('gret', 0.8092708587646484),\n",
       " ('okay', 0.8062528371810913),\n",
       " ('grat', 0.8022298812866211),\n",
       " ('nice', 0.8007925748825073),\n",
       " ('goog', 0.7991256713867188)]"
      ]
     },
     "execution_count": 25,
     "metadata": {},
     "output_type": "execute_result"
    }
   ],
   "source": [
    "word2vec_model.wv.most_similar(\"good\")"
   ]
  },
  {
   "cell_type": "code",
   "execution_count": 26,
   "metadata": {},
   "outputs": [
    {
     "data": {
      "text/plain": [
       "[('horrible', 0.8662967681884766),\n",
       " ('terrible', 0.8544621467590332),\n",
       " ('awful', 0.8308203816413879),\n",
       " ('horrable', 0.8215155601501465),\n",
       " ('sucky', 0.819815993309021),\n",
       " ('lousy', 0.8187485933303833),\n",
       " ('dumb', 0.8101130127906799),\n",
       " ('crappy', 0.802151083946228),\n",
       " ('stupid', 0.8013467192649841),\n",
       " ('terriable', 0.8011031150817871)]"
      ]
     },
     "execution_count": 26,
     "metadata": {},
     "output_type": "execute_result"
    }
   ],
   "source": [
    "word2vec_model.wv.most_similar(\"bad\")"
   ]
  },
  {
   "cell_type": "markdown",
   "metadata": {},
   "source": [
    "# Model Preparation\n",
    "\n",
    "Aqui vamos tokenizar as palavras de nosso dataset, ou seja, dar um id unico para cada palavra, para podermos substituir pelo vetor de features correspondente"
   ]
  },
  {
   "cell_type": "code",
   "execution_count": 13,
   "metadata": {},
   "outputs": [],
   "source": [
    "import tensorflow as tf"
   ]
  },
  {
   "cell_type": "code",
   "execution_count": 17,
   "metadata": {},
   "outputs": [],
   "source": [
    "max_words = 200000\n",
    "n_features = 50\n",
    "n_classes = 2"
   ]
  },
  {
   "cell_type": "code",
   "execution_count": 59,
   "metadata": {},
   "outputs": [],
   "source": [
    "tokenizer = tf.keras.preprocessing.text.Tokenizer(num_words=max_words)\n",
    "tokenizer.fit_on_texts(df['Review'].astype(str))\n",
    "\n",
    "sequence = tokenizer.texts_to_sequences(df['Review'].astype(str))"
   ]
  },
  {
   "cell_type": "code",
   "execution_count": 60,
   "metadata": {},
   "outputs": [
    {
     "data": {
      "text/html": [
       "<div>\n",
       "<style scoped>\n",
       "    .dataframe tbody tr th:only-of-type {\n",
       "        vertical-align: middle;\n",
       "    }\n",
       "\n",
       "    .dataframe tbody tr th {\n",
       "        vertical-align: top;\n",
       "    }\n",
       "\n",
       "    .dataframe thead th {\n",
       "        text-align: right;\n",
       "    }\n",
       "</style>\n",
       "<table border=\"1\" class=\"dataframe\">\n",
       "  <thead>\n",
       "    <tr style=\"text-align: right;\">\n",
       "      <th></th>\n",
       "      <th>Review</th>\n",
       "      <th>Sentiment</th>\n",
       "      <th>Token</th>\n",
       "    </tr>\n",
       "  </thead>\n",
       "  <tbody>\n",
       "    <tr>\n",
       "      <th>0</th>\n",
       "      <td>Stuning even for the non gamer  This sound tr...</td>\n",
       "      <td>1</td>\n",
       "      <td>[51986, 75, 11, 1, 631, 8543, 8, 180, 440, 13,...</td>\n",
       "    </tr>\n",
       "    <tr>\n",
       "      <th>1</th>\n",
       "      <td>The best soundtrack ever to anything   I m re...</td>\n",
       "      <td>1</td>\n",
       "      <td>[1, 80, 964, 115, 5, 252, 2, 100, 139, 4, 173,...</td>\n",
       "    </tr>\n",
       "    <tr>\n",
       "      <th>2</th>\n",
       "      <td>Amazing   This soundtrack is my favorite musi...</td>\n",
       "      <td>1</td>\n",
       "      <td>[313, 8, 964, 9, 23, 261, 114, 7, 28, 56, 841,...</td>\n",
       "    </tr>\n",
       "    <tr>\n",
       "      <th>3</th>\n",
       "      <td>Excellent Soundtrack  I truly like this sound...</td>\n",
       "      <td>1</td>\n",
       "      <td>[186, 964, 2, 421, 31, 8, 964, 3, 2, 259, 300,...</td>\n",
       "    </tr>\n",
       "    <tr>\n",
       "      <th>4</th>\n",
       "      <td>Remember  Pull Your Jaw Off The Floor After H...</td>\n",
       "      <td>1</td>\n",
       "      <td>[564, 1238, 63, 8065, 134, 1, 1404, 86, 1118, ...</td>\n",
       "    </tr>\n",
       "  </tbody>\n",
       "</table>\n",
       "</div>"
      ],
      "text/plain": [
       "                                              Review  Sentiment  \\\n",
       "0   Stuning even for the non gamer  This sound tr...          1   \n",
       "1   The best soundtrack ever to anything   I m re...          1   \n",
       "2   Amazing   This soundtrack is my favorite musi...          1   \n",
       "3   Excellent Soundtrack  I truly like this sound...          1   \n",
       "4   Remember  Pull Your Jaw Off The Floor After H...          1   \n",
       "\n",
       "                                               Token  \n",
       "0  [51986, 75, 11, 1, 631, 8543, 8, 180, 440, 13,...  \n",
       "1  [1, 80, 964, 115, 5, 252, 2, 100, 139, 4, 173,...  \n",
       "2  [313, 8, 964, 9, 23, 261, 114, 7, 28, 56, 841,...  \n",
       "3  [186, 964, 2, 421, 31, 8, 964, 3, 2, 259, 300,...  \n",
       "4  [564, 1238, 63, 8065, 134, 1, 1404, 86, 1118, ...  "
      ]
     },
     "execution_count": 60,
     "metadata": {},
     "output_type": "execute_result"
    }
   ],
   "source": [
    "df[\"Token\"] = sequence\n",
    "df.head()"
   ]
  },
  {
   "cell_type": "code",
   "execution_count": 20,
   "metadata": {},
   "outputs": [],
   "source": [
    "vocab_size = min(max_words, len(tokenizer.word_index))+1\n",
    "\n",
    "embedding_matrix = np.zeros((vocab_size, n_features)).astype(np.float32)\n",
    "for word, i in tokenizer.word_index.items():\n",
    "    if word in word2vec_model.wv.vocab:\n",
    "        embedding_matrix[i] = word2vec_model.wv[word]"
   ]
  },
  {
   "cell_type": "code",
   "execution_count": 21,
   "metadata": {},
   "outputs": [],
   "source": [
    "def get_input_features(sentence):\n",
    "    sentence_word_ids = np.array([x for x in sentence])\n",
    "\n",
    "    n_words = len(sentence)        \n",
    "    sentence_word_ids = sentence_word_ids.reshape((n_words,1))\n",
    "    \n",
    "    return sentence_word_ids\n"
   ]
  },
  {
   "cell_type": "markdown",
   "metadata": {},
   "source": [
    "# Model\n",
    "\n",
    "\n",
    "A LSTM foi utilizada por 2 principais motivos. O primeiro diz respeito ao fato de LSTM ser uma RNN, o que permite uma entrada de tamanho variável, o que é perfeito para tratar perguntas de tamanhos diferentes. O segundo motivo, e mais importante, é o fato da LSTM guardar uma memória do que foi previamente passado como input, ou seja, a ordem das palavras importa, ‘cachorro mordeu o homem’ não é igual a ‘homem mordeu o cachorro’. \n",
    "\n",
    "Para esse modelo em específico estamos usando um BiLSTM(LSTM bidireconal), ou seja, 2 LSTMs, uma sendo alimentada do inicio da frase até o final('the', 'dog', 'is', 'blue') e outra sendo allimentada do final até o inicio(blue, is, the, dog)\n",
    "\n",
    "A BiLSTM é um metodo muito conhecido para NLP, vários modelos que são estado da arte em tarefas compartilhadas de NLP a utilizam, como por exemplo o chunking.\n"
   ]
  },
  {
   "cell_type": "code",
   "execution_count": 180,
   "metadata": {},
   "outputs": [],
   "source": [
    "tf.reset_default_graph()\n",
    "\n",
    "t_state = tf.placeholder(tf.int32)\n",
    "\n",
    "# índices das palavras\n",
    "t_x_words = tf.placeholder(tf.int32, shape=(None,1))\n",
    "\n",
    "hidden_features = 100\n",
    "mid = 30\n",
    "\n",
    "# geramos os paramteros do modelo\n",
    "with tf.variable_scope(\"model\"):\n",
    "    # parâmetros de embedding\n",
    "    t_embedding = tf.convert_to_tensor(embedding_matrix)\n",
    "    \n",
    "    # parâmetros da camada escondida\n",
    "    t_W_mid = tf.Variable(np.random.normal(0,1.0/np.sqrt(mid),(hidden_features,mid)).astype(np.float32))\n",
    "    t_b_mid = tf.Variable(np.zeros(mid).astype(np.float32))\n",
    "    \n",
    "    # parâmetros que computam 0 sentimento\n",
    "    t_W_out = tf.Variable(np.random.normal(0,1.0/np.sqrt(hidden_features),\n",
    "                                          (mid, n_classes)).astype(np.float32))\n",
    "    t_b_out = tf.Variable(np.zeros((1, n_classes)).astype(np.float32))\n",
    "\n",
    "# Recuperamos os embeddings de cada palavra\n",
    "t_word_features = tf.gather_nd(t_embedding, t_x_words)\n",
    "\n",
    "\n",
    "### RNN\n",
    "lstmcellf = tf.nn.rnn_cell.LSTMCell(num_units=hidden_features/2, state_is_tuple=True)\n",
    "lstmcellb = tf.nn.rnn_cell.LSTMCell(num_units=hidden_features/2, state_is_tuple=True)\n",
    "\n",
    "with tf.variable_scope(\"Bilstm\"):\n",
    "    state_size = hidden_features\n",
    "    \n",
    "    t_tok_features_shp = tf.reshape(t_word_features,(1, t_state, n_features))\n",
    "\n",
    "    h1, last_states =tf.nn.bidirectional_dynamic_rnn(\n",
    "        cell_fw=lstmcellf,\n",
    "        cell_bw=lstmcellb,\n",
    "        dtype=tf.float32,\n",
    "        inputs=t_tok_features_shp)\n",
    "\n",
    "    t_hidden = tf.concat((h1[0][0],h1[1][0]),axis=1)\n",
    "    \n",
    "t_scores_mid = tf.nn.relu(tf.matmul(t_hidden, t_W_mid) + t_b_mid)\n",
    "t_score = tf.reduce_sum(t_scores_mid, axis=0)\n",
    "\n",
    "t_score = tf.expand_dims(t_score, 0)\n",
    "\n",
    "t_out = tf.matmul(t_score, t_W_out) + t_b_out\n",
    "\n",
    "# índices corretos das classes dos intervalos corretos\n",
    "t_y_class = tf.placeholder(tf.int32)\n",
    "\n",
    "loss = tf.reduce_mean(tf.nn.softmax_cross_entropy_with_logits(labels=tf.one_hot(t_y_class, n_classes), \n",
    "                                                              logits=t_out))\n",
    "\n",
    "# # gradiente descendente no custo\n",
    "optimizer = tf.train.AdamOptimizer().minimize(loss)"
   ]
  },
  {
   "cell_type": "markdown",
   "metadata": {},
   "source": [
    "Vamos fazer agora uma função para prever o sentimento de uma review"
   ]
  },
  {
   "cell_type": "code",
   "execution_count": 181,
   "metadata": {},
   "outputs": [],
   "source": [
    "def pred(sess,x_words):\n",
    "    pred = sess.run(t_out, feed_dict={\n",
    "        t_state:len(x_words),\n",
    "        t_x_words:x_words,\n",
    "    })\n",
    "    \n",
    "    return np.argmax(pred, axis=1)[0]"
   ]
  },
  {
   "cell_type": "code",
   "execution_count": 182,
   "metadata": {},
   "outputs": [
    {
     "data": {
      "text/plain": [
       "0"
      ]
     },
     "execution_count": 182,
     "metadata": {},
     "output_type": "execute_result"
    }
   ],
   "source": [
    "sess = tf.Session()\n",
    "sess.run(tf.global_variables_initializer())\n",
    "\n",
    "pred(sess, x_words)"
   ]
  },
  {
   "cell_type": "markdown",
   "metadata": {},
   "source": [
    "Vamos dividir o dataset entre treino e teste"
   ]
  },
  {
   "cell_type": "code",
   "execution_count": 183,
   "metadata": {},
   "outputs": [],
   "source": [
    "from sklearn.model_selection import train_test_split\n",
    "X_train, X_test, Y_train, Y_test = train_test_split(df.Token, df.Sentiment, test_size = 0.1, random_state = 0)"
   ]
  },
  {
   "cell_type": "code",
   "execution_count": 184,
   "metadata": {},
   "outputs": [],
   "source": [
    "def pred_validation(X, Y):\n",
    "    preds = []\n",
    "    \n",
    "    for sentence_id in tqdm.tqdm(np.arange(len(X))):\n",
    "        x_words = get_input_features(X[sentence_id])\n",
    "        preds.append(pred(sess, x_words))\n",
    "\n",
    "    return np.mean(Y == preds)"
   ]
  },
  {
   "cell_type": "markdown",
   "metadata": {},
   "source": [
    "Vamos treinar o modelo em uma pequena porcentagem do dataset, para conferir se ele esta aprendendo"
   ]
  },
  {
   "cell_type": "code",
   "execution_count": 188,
   "metadata": {},
   "outputs": [
    {
     "name": "stderr",
     "output_type": "stream",
     "text": [
      "100%|██████████| 500/500 [00:05<00:00, 91.38it/s]\n"
     ]
    },
    {
     "name": "stdout",
     "output_type": "stream",
     "text": [
      "0.568\n"
     ]
    },
    {
     "name": "stderr",
     "output_type": "stream",
     "text": [
      "100%|██████████| 500/500 [00:05<00:00, 87.42it/s]\n"
     ]
    },
    {
     "name": "stdout",
     "output_type": "stream",
     "text": [
      "0.684\n"
     ]
    },
    {
     "name": "stderr",
     "output_type": "stream",
     "text": [
      "100%|██████████| 500/500 [00:05<00:00, 92.82it/s]\n"
     ]
    },
    {
     "name": "stdout",
     "output_type": "stream",
     "text": [
      "0.762\n"
     ]
    },
    {
     "name": "stderr",
     "output_type": "stream",
     "text": [
      "100%|██████████| 500/500 [00:05<00:00, 92.35it/s]\n"
     ]
    },
    {
     "name": "stdout",
     "output_type": "stream",
     "text": [
      "0.822\n"
     ]
    },
    {
     "name": "stderr",
     "output_type": "stream",
     "text": [
      "100%|██████████| 500/500 [00:05<00:00, 96.05it/s]\n"
     ]
    },
    {
     "name": "stdout",
     "output_type": "stream",
     "text": [
      "0.846\n"
     ]
    },
    {
     "name": "stderr",
     "output_type": "stream",
     "text": [
      "100%|██████████| 500/500 [00:05<00:00, 92.25it/s] \n"
     ]
    },
    {
     "name": "stdout",
     "output_type": "stream",
     "text": [
      "0.86\n"
     ]
    },
    {
     "name": "stderr",
     "output_type": "stream",
     "text": [
      "100%|██████████| 500/500 [00:05<00:00, 92.25it/s]\n"
     ]
    },
    {
     "name": "stdout",
     "output_type": "stream",
     "text": [
      "0.868\n"
     ]
    },
    {
     "name": "stderr",
     "output_type": "stream",
     "text": [
      "100%|██████████| 500/500 [00:05<00:00, 90.86it/s]\n"
     ]
    },
    {
     "name": "stdout",
     "output_type": "stream",
     "text": [
      "0.884\n"
     ]
    },
    {
     "name": "stderr",
     "output_type": "stream",
     "text": [
      "100%|██████████| 500/500 [00:05<00:00, 95.38it/s] \n"
     ]
    },
    {
     "name": "stdout",
     "output_type": "stream",
     "text": [
      "0.892\n"
     ]
    },
    {
     "name": "stderr",
     "output_type": "stream",
     "text": [
      "100%|██████████| 500/500 [00:05<00:00, 91.22it/s]\n"
     ]
    },
    {
     "name": "stdout",
     "output_type": "stream",
     "text": [
      "0.906\n"
     ]
    },
    {
     "name": "stderr",
     "output_type": "stream",
     "text": [
      "100%|██████████| 500/500 [00:05<00:00, 90.37it/s]\n"
     ]
    },
    {
     "name": "stdout",
     "output_type": "stream",
     "text": [
      "0.916\n"
     ]
    },
    {
     "name": "stderr",
     "output_type": "stream",
     "text": [
      "100%|██████████| 500/500 [00:05<00:00, 97.15it/s] \n"
     ]
    },
    {
     "name": "stdout",
     "output_type": "stream",
     "text": [
      "0.934\n"
     ]
    },
    {
     "name": "stderr",
     "output_type": "stream",
     "text": [
      "100%|██████████| 500/500 [00:05<00:00, 92.01it/s]\n"
     ]
    },
    {
     "name": "stdout",
     "output_type": "stream",
     "text": [
      "0.93\n"
     ]
    },
    {
     "name": "stderr",
     "output_type": "stream",
     "text": [
      "100%|██████████| 500/500 [00:05<00:00, 89.81it/s]\n"
     ]
    },
    {
     "name": "stdout",
     "output_type": "stream",
     "text": [
      "0.94\n"
     ]
    },
    {
     "name": "stderr",
     "output_type": "stream",
     "text": [
      "100%|██████████| 500/500 [00:05<00:00, 98.87it/s] \n"
     ]
    },
    {
     "name": "stdout",
     "output_type": "stream",
     "text": [
      "0.942\n"
     ]
    },
    {
     "name": "stderr",
     "output_type": "stream",
     "text": [
      "100%|██████████| 500/500 [00:05<00:00, 93.72it/s] \n"
     ]
    },
    {
     "name": "stdout",
     "output_type": "stream",
     "text": [
      "0.95\n"
     ]
    },
    {
     "name": "stderr",
     "output_type": "stream",
     "text": [
      "100%|██████████| 500/500 [00:05<00:00, 92.32it/s] \n"
     ]
    },
    {
     "name": "stdout",
     "output_type": "stream",
     "text": [
      "0.964\n"
     ]
    },
    {
     "name": "stderr",
     "output_type": "stream",
     "text": [
      "100%|██████████| 500/500 [00:05<00:00, 94.37it/s]\n"
     ]
    },
    {
     "name": "stdout",
     "output_type": "stream",
     "text": [
      "0.966\n"
     ]
    },
    {
     "name": "stderr",
     "output_type": "stream",
     "text": [
      "100%|██████████| 500/500 [00:05<00:00, 83.49it/s]\n"
     ]
    },
    {
     "name": "stdout",
     "output_type": "stream",
     "text": [
      "0.964\n"
     ]
    },
    {
     "name": "stderr",
     "output_type": "stream",
     "text": [
      "100%|██████████| 500/500 [00:05<00:00, 92.76it/s]\n"
     ]
    },
    {
     "name": "stdout",
     "output_type": "stream",
     "text": [
      "0.95\n"
     ]
    }
   ],
   "source": [
    "import tqdm\n",
    "\n",
    "sess = tf.Session()\n",
    "sess.run(tf.global_variables_initializer())\n",
    "\n",
    "n_epochs = 20\n",
    "\n",
    "for epoch in range(n_epochs):\n",
    "    preds = []\n",
    "    for sentence_id in tqdm.tqdm(np.arange(len(X_test.values[:500]))):\n",
    "        x_words = get_input_features(X_test.values[sentence_id])\n",
    "        y_class = Y_test.values[sentence_id]\n",
    "        \n",
    "        _, epoch_pred = sess.run([optimizer, t_out], feed_dict={\n",
    "            t_state:len(x_words),\n",
    "            t_x_words:x_words,\n",
    "            t_y_class:y_class})\n",
    "        \n",
    "        preds.append(np.argmax(epoch_pred, axis=1)[0])\n",
    "    print(np.mean(Y_test.values[:500] == preds))"
   ]
  },
  {
   "cell_type": "markdown",
   "metadata": {},
   "source": [
    "Podemos ver que o modelo esta de fato aprendendo, uma vez que a acuracia sobe com o passar das epocas e vai se aproximando do 100%"
   ]
  },
  {
   "cell_type": "markdown",
   "metadata": {},
   "source": [
    "## Training on full training samples\n",
    "\n",
    "Agora utilizamos o dataset inteiro para o resultado real"
   ]
  },
  {
   "cell_type": "code",
   "execution_count": 193,
   "metadata": {},
   "outputs": [
    {
     "name": "stderr",
     "output_type": "stream",
     "text": [
      "  0%|          | 950/450000 [00:09<1:18:34, 95.25it/s]/home/pedalv/miniconda3/envs/jupyter/lib/python3.6/site-packages/tqdm/_monitor.py:89: TqdmSynchronisationWarning: Set changed size during iteration (see https://github.com/tqdm/tqdm/issues/481)\n",
      "  TqdmSynchronisationWarning)\n",
      "100%|██████████| 450000/450000 [1:17:03<00:00, 97.33it/s]\n",
      "100%|██████████| 50000/50000 [02:58<00:00, 279.52it/s]\n"
     ]
    },
    {
     "name": "stdout",
     "output_type": "stream",
     "text": [
      "Train acc: 0.9198444444444445  Validation acc: 0.92796\n"
     ]
    },
    {
     "name": "stderr",
     "output_type": "stream",
     "text": [
      "100%|██████████| 450000/450000 [1:15:46<00:00, 98.98it/s]\n",
      "100%|██████████| 50000/50000 [02:56<00:00, 283.07it/s]\n"
     ]
    },
    {
     "name": "stdout",
     "output_type": "stream",
     "text": [
      "Train acc: 0.9333466666666667  Validation acc: 0.93102\n"
     ]
    },
    {
     "name": "stderr",
     "output_type": "stream",
     "text": [
      "100%|██████████| 450000/450000 [1:15:45<00:00, 98.99it/s]\n",
      "100%|██████████| 50000/50000 [02:56<00:00, 282.62it/s]\n"
     ]
    },
    {
     "name": "stdout",
     "output_type": "stream",
     "text": [
      "Train acc: 0.9362466666666667  Validation acc: 0.93334\n"
     ]
    },
    {
     "name": "stderr",
     "output_type": "stream",
     "text": [
      "100%|██████████| 450000/450000 [1:15:46<00:00, 98.97it/s]\n",
      "100%|██████████| 50000/50000 [02:56<00:00, 282.66it/s]\n"
     ]
    },
    {
     "name": "stdout",
     "output_type": "stream",
     "text": [
      "Train acc: 0.9373844444444445  Validation acc: 0.93638\n"
     ]
    },
    {
     "name": "stderr",
     "output_type": "stream",
     "text": [
      "100%|██████████| 450000/450000 [1:15:49<00:00, 98.91it/s]\n",
      "100%|██████████| 50000/50000 [02:56<00:00, 282.77it/s]\n",
      "  0%|          | 10/450000 [00:00<1:21:20, 92.21it/s]"
     ]
    },
    {
     "name": "stdout",
     "output_type": "stream",
     "text": [
      "Train acc: 0.9380644444444445  Validation acc: 0.93496\n"
     ]
    },
    {
     "name": "stderr",
     "output_type": "stream",
     "text": [
      "100%|██████████| 450000/450000 [1:16:04<00:00, 98.58it/s]\n",
      "100%|██████████| 50000/50000 [02:57<00:00, 280.92it/s]\n",
      "  0%|          | 10/450000 [00:00<1:21:22, 92.17it/s]"
     ]
    },
    {
     "name": "stdout",
     "output_type": "stream",
     "text": [
      "Train acc: 0.9383511111111111  Validation acc: 0.93402\n"
     ]
    },
    {
     "name": "stderr",
     "output_type": "stream",
     "text": [
      "100%|██████████| 450000/450000 [1:16:10<00:00, 98.46it/s]\n",
      "100%|██████████| 50000/50000 [02:58<00:00, 280.50it/s]\n",
      "  0%|          | 10/450000 [00:00<1:23:18, 90.03it/s]"
     ]
    },
    {
     "name": "stdout",
     "output_type": "stream",
     "text": [
      "Train acc: 0.9387022222222222  Validation acc: 0.93502\n"
     ]
    },
    {
     "name": "stderr",
     "output_type": "stream",
     "text": [
      "100%|██████████| 450000/450000 [1:15:50<00:00, 98.88it/s]\n",
      "100%|██████████| 50000/50000 [02:57<00:00, 282.31it/s]\n",
      "  0%|          | 9/450000 [00:00<1:25:41, 87.52it/s]"
     ]
    },
    {
     "name": "stdout",
     "output_type": "stream",
     "text": [
      "Train acc: 0.9387244444444445  Validation acc: 0.93508\n"
     ]
    },
    {
     "name": "stderr",
     "output_type": "stream",
     "text": [
      "100%|██████████| 450000/450000 [1:15:50<00:00, 98.88it/s]\n",
      "100%|██████████| 50000/50000 [02:57<00:00, 282.16it/s]\n",
      "  0%|          | 10/450000 [00:00<1:23:54, 89.38it/s]"
     ]
    },
    {
     "name": "stdout",
     "output_type": "stream",
     "text": [
      "Train acc: 0.93826  Validation acc: 0.9272\n"
     ]
    },
    {
     "name": "stderr",
     "output_type": "stream",
     "text": [
      "100%|██████████| 450000/450000 [1:15:55<00:00, 98.78it/s]\n",
      "100%|██████████| 50000/50000 [02:57<00:00, 281.96it/s]"
     ]
    },
    {
     "name": "stdout",
     "output_type": "stream",
     "text": [
      "Train acc: 0.9380111111111111  Validation acc: 0.93402\n"
     ]
    },
    {
     "name": "stderr",
     "output_type": "stream",
     "text": [
      "\n"
     ]
    }
   ],
   "source": [
    "sess = tf.Session()\n",
    "sess.run(tf.global_variables_initializer())\n",
    "\n",
    "n_epochs = 10\n",
    "best = 0\n",
    "\n",
    "saver = tf.train.Saver()\n",
    "\n",
    "for epoch in range(n_epochs):\n",
    "    preds = []\n",
    "    for sentence_id in tqdm.tqdm(np.arange(len(X_train))):\n",
    "        x_words = get_input_features(X_train.values[sentence_id])\n",
    "        y_class = Y_train.values[sentence_id]\n",
    "        \n",
    "        _, epoch_pred = sess.run([optimizer, t_out], feed_dict={\n",
    "            t_state:len(x_words),\n",
    "            t_x_words:x_words,\n",
    "            t_y_class:y_class})\n",
    "        \n",
    "        preds.append(np.argmax(epoch_pred, axis=1)[0])\n",
    "    train_acc = np.mean(Y_train.values == preds)\n",
    "    acc = pred_validation(X_test.values, Y_test.values)\n",
    "    print('Train acc: {}  Validation acc: {}'.format(train_acc, acc))\n",
    "    \n",
    "    if acc > best:\n",
    "        best = acc\n",
    "        save_path = saver.save(sess, \"/tmp/model.ckpt\")\n",
    "    "
   ]
  },
  {
   "cell_type": "markdown",
   "metadata": {},
   "source": [
    "Rodamos o modelo em 10 epocas, o que levou aproximadamente 7 horas. O nosso melhor resultado foi na época 4 com acurácia de 93.7384% no treino e 93.638% no teste, as demais épocas nao perderam muito para esta, as anteriores variaram em torno de 93.3%, as seguintes variaram em torno de 93.5% no teste enquanto o treino continuava a decorar.\n",
    "Como esperado nosso resultado foi muito mais elevado do que a decision tree, que obteve 76.43% no teste."
   ]
  }
 ],
 "metadata": {
  "kernelspec": {
   "display_name": "Python 3",
   "language": "python",
   "name": "python3"
  },
  "language_info": {
   "codemirror_mode": {
    "name": "ipython",
    "version": 3
   },
   "file_extension": ".py",
   "mimetype": "text/x-python",
   "name": "python",
   "nbconvert_exporter": "python",
   "pygments_lexer": "ipython3",
   "version": "3.6.4"
  }
 },
 "nbformat": 4,
 "nbformat_minor": 2
}
